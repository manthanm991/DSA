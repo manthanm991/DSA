{
 "cells": [
  {
   "cell_type": "markdown",
   "metadata": {},
   "source": [
    "Problem statement\n",
    "The n-th term of Fibonacci series F(n), where F(n) is a function, is calculated using the following formula -\n",
    "\n",
    "    F(n) = F(n - 1) + F(n - 2),     Where, F(1) = 1, F(2) = 1\n",
    "\n",
    "Provided 'n' you have to find out the n-th Fibonacci Number. Handle edges cases like when 'n' = 1 or 'n' = 2 by using conditionals like if else and return what's expected.\n",
    "\n",
    "\"Indexing is start from 1\"\n",
    "\n",
    "Example :<br>\n",
    "Input: 6<br>\n",
    "Output: 8<br>\n",
    "Explanation: The number is ‘6’ so we have to find the “6th” Fibonacci number.<br>\n",
    "So by using the given formula of the Fibonacci series, we get the series:<br>\n",
    "[ 1, 1, 2, 3, 5, 8, 13, 21]<br>\n",
    "So the “6th” element is “8” hence we get the output.\n",
    "\n",
    "Detailed explanation ( Input/output format, Notes, Images )<br>\n",
    "Sample Input 1: 6<br>\n",
    "Sample Output 1: 8<br>\n",
    "Explanation of sample input 1 :<br>\n",
    "The number is ‘6’ so we have to find the “6th” Fibonacci number.<br>\n",
    "So by using the given formula of the Fibonacci series, we get the series:<br>\n",
    "[ 1, 1, 2, 3, 5, 8, 13, 21]<br>\n",
    "So the “6th” element is “8” hence we get the output.\n",
    "\n",
    "Expected time complexity : The expected time complexity is O(n).<br>\n",
    "\n",
    "Constraints: 1 <= 'n' <= 10000<br>\n",
    "Where ‘n’ represents the number for which we have to find its equivalent Fibonacci number.\n",
    "\n",
    "Time Limit: 1 second"
   ]
  },
  {
   "cell_type": "code",
   "execution_count": 1,
   "metadata": {},
   "outputs": [
    {
     "name": "stdout",
     "output_type": "stream",
     "text": [
      "8\n"
     ]
    }
   ],
   "source": [
    "def find_nth_fibonacci(n):\n",
    "    F1, F2 = 1, 1\n",
    "    if n == 1 or n == 2:\n",
    "        return 1\n",
    "    for _ in range(3, n + 1):\n",
    "        F1, F2 = F2, F1 + F2\n",
    "    return F2\n",
    "\n",
    "n = int(input())\n",
    "print(find_nth_fibonacci(n))"
   ]
  }
 ],
 "metadata": {
  "kernelspec": {
   "display_name": "Python 3",
   "language": "python",
   "name": "python3"
  },
  "language_info": {
   "codemirror_mode": {
    "name": "ipython",
    "version": 3
   },
   "file_extension": ".py",
   "mimetype": "text/x-python",
   "name": "python",
   "nbconvert_exporter": "python",
   "pygments_lexer": "ipython3",
   "version": "3.12.2"
  }
 },
 "nbformat": 4,
 "nbformat_minor": 2
}
