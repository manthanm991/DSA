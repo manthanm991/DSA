{
 "cells": [
  {
   "cell_type": "markdown",
   "metadata": {},
   "source": [
    "While loop is another loop like for loop but unlike for loop it only checks for one condition.<br>\n",
    "Here, we will use a while loop and print a number n's table in reverse order.\n",
    "\n",
    "Examples:<br>\n",
    "Input: n = 1<br>\n",
    "Output: 10 9 8 7 6 5 4 3 2 1\n",
    "\n",
    "Input: n = 2<br>\n",
    "Output: 20 18 16 14 12 10 8 6 4 2\n",
    "\n",
    "Constraints: 1 <= n<= 1000"
   ]
  },
  {
   "cell_type": "code",
   "execution_count": 13,
   "metadata": {},
   "outputs": [
    {
     "name": "stdout",
     "output_type": "stream",
     "text": [
      "20 18 16 14 12 10 8 6 4 2 "
     ]
    }
   ],
   "source": [
    "def revTable(n):\n",
    "    i=10\n",
    "    while i>0:\n",
    "        print(n*i,end=\" \")\n",
    "        i -= 1\n",
    "revTable(2)"
   ]
  }
 ],
 "metadata": {
  "kernelspec": {
   "display_name": "Python 3",
   "language": "python",
   "name": "python3"
  },
  "language_info": {
   "codemirror_mode": {
    "name": "ipython",
    "version": 3
   },
   "file_extension": ".py",
   "mimetype": "text/x-python",
   "name": "python",
   "nbconvert_exporter": "python",
   "pygments_lexer": "ipython3",
   "version": "3.12.2"
  }
 },
 "nbformat": 4,
 "nbformat_minor": 2
}
