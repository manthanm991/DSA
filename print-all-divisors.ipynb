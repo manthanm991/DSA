{
 "cells": [
  {
   "cell_type": "markdown",
   "metadata": {},
   "source": [
    "Problem Statement: Given an integer N, return all divisors of N.\n",
    "\n",
    "A divisor of an integer N is a positive integer that divides N without leaving a remainder. In other words, if N is divisible by another integer without any remainder, then that integer is considered a divisor of N.\n",
    "\n",
    "Example 1:<br>\n",
    "Input:N = 36<br>\n",
    "Output:[1, 2, 3, 4, 6, 9, 12, 18, 36]<br>\n",
    "Explanation: The divisors of 36 are 1, 2, 3, 4, 6, 9, 12, 18, 36.\n",
    "\n",
    "Example 2:<br>\n",
    "Input:N =12<br>\n",
    "Output: [1, 2, 3, 4, 6, 12]<br>\n",
    "Explanation: The divisors of 12 are 1, 2, 3, 4, 6, 12.<br>"
   ]
  },
  {
   "cell_type": "code",
   "execution_count": 2,
   "metadata": {},
   "outputs": [
    {
     "name": "stdout",
     "output_type": "stream",
     "text": [
      "[1, 2, 3, 4, 6, 12]\n"
     ]
    }
   ],
   "source": [
    "# n = int(input())\n",
    "n = 12\n",
    "arr=[]\n",
    "def numDivisors(n):\n",
    "    for i in range(1,n+1):\n",
    "        if n % i == 0:\n",
    "            arr.append(i)\n",
    "    return arr\n",
    "print(numDivisors(n))"
   ]
  },
  {
   "cell_type": "markdown",
   "metadata": {},
   "source": [
    "#### Code360\n",
    "Problem statement<br>\n",
    "You are given an integer ‘n’.\n",
    "\n",
    "Function ‘sumOfDivisors(n)’ is defined as the sum of all divisors of ‘n’.\n",
    "\n",
    "Find the sum of ‘sumOfDivisors(i)’ for all ‘i’ from 1 to ‘n’.\n",
    "\n",
    "Example:<br>\n",
    "Input: ‘n’  = 5<br>\n",
    "Output: 21<br>\n",
    "Explanation:<br>\n",
    "We need to find the sum of ‘sumOfDivisors(i)’ for all ‘i’ from 1 to 5. <br>\n",
    "‘sumOfDivisors(1)’ = 1<br>\n",
    "‘sumOfDivisors(2)’ = 2 + 1 = 3<br>\n",
    "‘sumOfDivisors(3)’ = 3 + 1 = 4<br>\n",
    "‘sumOfDivisors(4)’ = 4 + 2 +1 = 7 <br>\n",
    "‘sumOfDivisors(5)’ = 5 + 1 = 6<br>\n",
    "Therefore our answer is sumOfDivisors(1) + sumOfDivisors(2) + sumOfDivisors(3) + sumOfDivisors(4) + sumOfDivisors(5) = 1 + 3 + 4 + 7 + 6 = 21.\n",
    "\n",
    "Detailed explanation ( Input/output format, Notes, Images )<br>\n",
    "Sample Input 1: 3<br>\n",
    "Sample Output 1: 8<br>\n",
    "Explanation of sample output 1:<br>\n",
    "We need to find sumOfDivisors(1) + sumOfDivisors(2) +sumOfDivisors(3).<br>\n",
    "sumOfDivisors(1) = 1<br>\n",
    "sumOfDivisors(2) = 2 + 1 = 3<br>\n",
    "sumOfDivisors(3) = 3 + 1 = 4<br>\n",
    "Therefore, the answer is sumOfDivisors(1) + sumOfDivisors(2) + sumOfDivisors(3) = 1 + 3 + 4 = 8.\n",
    "\n",
    "Sample Input 2: 10<br>\n",
    "Sample Output 2: 87\n",
    "\n",
    "Expected Time Complexity: Try to solve this in O(sqrt(‘n’)).<br>\n",
    "Constraints: 1 <= ‘n’ <= 3*10^4<br>\n",
    "Time Limit: 1 sec"
   ]
  },
  {
   "cell_type": "code",
   "execution_count": 3,
   "metadata": {},
   "outputs": [
    {
     "name": "stdout",
     "output_type": "stream",
     "text": [
      "8\n"
     ]
    }
   ],
   "source": [
    "def sumOfAllDivisors(n: int) -> int:\n",
    "    divisors_sum = [0] * (n + 1)\n",
    "    for i in range(1, n + 1):\n",
    "        for j in range(i, n + 1, i):\n",
    "            divisors_sum[j] += i\n",
    "    total_sum = sum(divisors_sum)\n",
    "    return total_sum\n",
    "print(sumOfAllDivisors(3))"
   ]
  },
  {
   "cell_type": "markdown",
   "metadata": {},
   "source": [
    "#### GFG\n",
    "### Sum 1 to n Divisors\n",
    "\n",
    "Given a positive integer n, The task is to find the value of Σi F(i) where i is from 1 to n and function F(i) is defined as the sum of all divisors of i.\n",
    "\n",
    "Input: n = 4<br>\n",
    "Output: 15<br>\n",
    "Explanation:<br>\n",
    "F(1) = 1<br>\n",
    "F(2) = 1 + 2 = 3<br>\n",
    "F(3) = 1 + 3 = 4<br>\n",
    "F(4) = 1 + 2 + 4 = 7<br>\n",
    "So, F(1) + F(2) + F(3) + F(4)<br>\n",
    "    = 1 + 3 + 4 + 7 = 15\n",
    "\n",
    "Input: n = 5<br>\n",
    "Output: 21<br>\n",
    "Explanation:<br>\n",
    "F(1) = 1<br>\n",
    "F(2) = 1 + 2 = 3<br>\n",
    "F(3) = 1 + 3 = 4<br>\n",
    "F(4) = 1 + 2 + 4 = 7<br>\n",
    "F(5) = 1 + 5 = 6<br>\n",
    "So,  F(1) + F(2) + F(3) + F(4) + F(5)<br>\n",
    "    = 1 + 3 + 4 + 7 + 6 = 21\n",
    "\n",
    "Input: n = 1<br>\n",
    "Output: 1<br>\n",
    "Explanation:<br>\n",
    "F(1) = 1<br>\n",
    "So,  F(1) = 1\n",
    "\n",
    "Constraints: 1 <= n <= 105"
   ]
  },
  {
   "cell_type": "code",
   "execution_count": 4,
   "metadata": {},
   "outputs": [],
   "source": [
    "class SolutionGFG:\n",
    "    def sumOfDivisors(self, n):\n",
    "        divisors_sum = [0] * (n + 1)\n",
    "        for i in range(1, n + 1):\n",
    "            for j in range(i, n + 1, i):\n",
    "                divisors_sum[j] += i\n",
    "        total_sum = sum(divisors_sum)\n",
    "        return total_sum"
   ]
  }
 ],
 "metadata": {
  "kernelspec": {
   "display_name": "Python 3",
   "language": "python",
   "name": "python3"
  },
  "language_info": {
   "codemirror_mode": {
    "name": "ipython",
    "version": 3
   },
   "file_extension": ".py",
   "mimetype": "text/x-python",
   "name": "python",
   "nbconvert_exporter": "python",
   "pygments_lexer": "ipython3",
   "version": "3.12.2"
  }
 },
 "nbformat": 4,
 "nbformat_minor": 2
}
