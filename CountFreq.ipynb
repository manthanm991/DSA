{
 "cells": [
  {
   "cell_type": "markdown",
   "metadata": {},
   "source": [
    "Problem statement: Given an array, we have found the number of occurrences of each element in the array.\n",
    "\n",
    "Example 1:<br>\n",
    "Input: arr[] = {10,5,10,15,10,5};<br>\n",
    "Output: 10  3<br>\n",
    "        5  2 <br>\n",
    "        15  1<br>\n",
    "Explanation: 10 occurs 3 times in the array, 5 occurs 2 times in the array, 15 occurs 1 time in the array\n",
    "\n",
    "Example 2:<br>\n",
    "Input: arr[] = {2,2,3,4,4,2};<br>\n",
    "Output: 2  3<br>\n",
    "        3  1<br>\n",
    "        4  2<br>\n",
    "Explanation: 2 occurs 3 times in the array, 3 occurs 1 time in the array, 4 occurs 2 time in the array"
   ]
  },
  {
   "cell_type": "code",
   "execution_count": 1,
   "metadata": {},
   "outputs": [
    {
     "name": "stdout",
     "output_type": "stream",
     "text": [
      "{10: 3, 5: 2, 15: 1}\n"
     ]
    }
   ],
   "source": [
    "\n",
    "def hashFreqCount_1(arr):\n",
    "    hash ={}\n",
    "    for num in arr:\n",
    "        hash[num] = hash.get(num,0)+1\n",
    "    return hash\n",
    "\n",
    "arr = [10,5,10,15,10,5]\n",
    "print(hashFreqCount_1(arr))"
   ]
  },
  {
   "cell_type": "markdown",
   "metadata": {},
   "source": [
    "You are given an array arr[] containing positive integers. The elements in the array arr[] range from 1 to n (where n is the size of the array), and some numbers may be repeated or absent. Your task is to count the frequency of all numbers in the range 1 to n and return an array of size n such that result[i] represents the frequency of the number i (1-based indexing).\n",
    "\n",
    "Examples:<br>\n",
    "Input: arr[] = [2, 3, 2, 3, 5]<br>\n",
    "Output: [0, 2, 2, 0, 1]<br>\n",
    "Explanation: We have: 1 occurring 0 times, 2 occurring 2 times, 3 occurring 2 times, 4 occurring 0 times, and 5 occurring 1 time.\n",
    "\n",
    "Input: arr[] = [3, 3, 3, 3]<br>\n",
    "Output: [0, 0, 4, 0]<br>\n",
    "Explanation: We have: 1 occurring 0 times, 2 occurring 0 times, 3 occurring 4 times, and 4 occurring 0 times.\n",
    "\n",
    "Input: arr[] = [1]<br>\n",
    "Output: [1]<br>\n",
    "Explanation: We have: 1 occurring 1 time, and there are no other numbers between 1 and the size of the array.\n",
    "\n",
    "Constraints:<br>\n",
    "1 ≤ arr.size() ≤ 10^6<br>\n",
    "1 ≤ arr[i] ≤ arr.size()"
   ]
  },
  {
   "cell_type": "code",
   "execution_count": 2,
   "metadata": {},
   "outputs": [
    {
     "name": "stdout",
     "output_type": "stream",
     "text": [
      "[0, 2, 2, 0, 1]\n",
      "[0, 0, 4, 0]\n",
      "[1]\n"
     ]
    }
   ],
   "source": [
    "def gfgFreq_1(arr):\n",
    "    max_ = max(arr)\n",
    "    n= len(arr)\n",
    "    dictSize = max(n, max_)\n",
    "    hash_arr = {}\n",
    "    for i in range(1, dictSize+1):\n",
    "        hash_arr[i]= 0\n",
    "    for i in arr:\n",
    "        if i in hash_arr:\n",
    "            hash_arr[i] += 1\n",
    "    result = list(hash_arr.values())\n",
    "    return result\n",
    "\n",
    "arr = [2,3,2,3,5]\n",
    "arr1 = [3,3,3,3]\n",
    "arr2 = [1]\n",
    "print(gfgFreq_1(arr))\n",
    "print(gfgFreq_1(arr1))\n",
    "print(gfgFreq_1(arr2))"
   ]
  },
  {
   "cell_type": "markdown",
   "metadata": {},
   "source": [
    "Problem Statement: Given an array of size N. Find the highest and lowest frequency element.\n",
    "\n",
    "Example 1:<br>\n",
    "Input: array[] = {10,5,10,15,10,5};<br>\n",
    "Output: 10 15<br>\n",
    "Explanation: The frequency of 10 is 3, i.e. the highest and the frequency of 15 is 1 i.e. the lowest.\n",
    "\n",
    "Example 2:<br>\n",
    "Input: array[] = {2,2,3,4,4,2};<br>\n",
    "Output: 2 3<br>\n",
    "Explanation: The frequency of 2 is 3, i.e. the highest and the frequency of 3 is 1 i.e. the lowest."
   ]
  },
  {
   "cell_type": "code",
   "execution_count": 4,
   "metadata": {},
   "outputs": [
    {
     "name": "stdout",
     "output_type": "stream",
     "text": [
      "(10, 15)\n",
      "(2, 3)\n"
     ]
    }
   ],
   "source": [
    "def soln(arr):\n",
    "    hash_ = {}\n",
    "    for num in arr:\n",
    "        hash_[num] = hash_.get(num,0)+1\n",
    "    maxValue, minValue = float('-inf'), float('inf')\n",
    "    maxKey, minKey = None, None\n",
    "    for k, v in hash_.items():\n",
    "        if v > maxValue:\n",
    "            maxValue, maxKey = v, k\n",
    "        if v < minValue:\n",
    "            minValue, minKey = v, k\n",
    "    return maxKey, minKey\n",
    "\n",
    "arr = [10,5,10,15,10,5]\n",
    "arr1 = [2,2,3,4,4,2]\n",
    "print(soln(arr))\n",
    "print(soln(arr1))"
   ]
  }
 ],
 "metadata": {
  "kernelspec": {
   "display_name": "Python 3",
   "language": "python",
   "name": "python3"
  },
  "language_info": {
   "codemirror_mode": {
    "name": "ipython",
    "version": 3
   },
   "file_extension": ".py",
   "mimetype": "text/x-python",
   "name": "python",
   "nbconvert_exporter": "python",
   "pygments_lexer": "ipython3",
   "version": "3.12.2"
  }
 },
 "nbformat": 4,
 "nbformat_minor": 2
}
