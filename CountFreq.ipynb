{
 "cells": [
  {
   "cell_type": "markdown",
   "metadata": {},
   "source": [
    "Problem statement: Given an array, we have found the number of occurrences of each element in the array.\n",
    "\n",
    "Example 1:<br>\n",
    "Input: arr[] = {10,5,10,15,10,5};<br>\n",
    "Output: 10  3<br>\n",
    "        5  2 <br>\n",
    "        15  1<br>\n",
    "Explanation: 10 occurs 3 times in the array, 5 occurs 2 times in the array, 15 occurs 1 time in the array\n",
    "\n",
    "Example 2:<br>\n",
    "Input: arr[] = {2,2,3,4,4,2};<br>\n",
    "Output: 2  3<br>\n",
    "        3  1<br>\n",
    "        4  2<br>\n",
    "Explanation: 2 occurs 3 times in the array, 3 occurs 1 time in the array, 4 occurs 2 time in the array"
   ]
  },
  {
   "cell_type": "code",
   "execution_count": 1,
   "metadata": {},
   "outputs": [
    {
     "name": "stdout",
     "output_type": "stream",
     "text": [
      "{10: 3, 5: 2, 15: 1}\n"
     ]
    }
   ],
   "source": [
    "\n",
    "def hashFreqCount_1(arr):\n",
    "    hash ={}\n",
    "    for num in arr:\n",
    "        hash[num] = hash.get(num,0)+1\n",
    "    return hash\n",
    "\n",
    "arr = [10,5,10,15,10,5]\n",
    "print(hashFreqCount_1(arr))"
   ]
  }
 ],
 "metadata": {
  "kernelspec": {
   "display_name": "Python 3",
   "language": "python",
   "name": "python3"
  },
  "language_info": {
   "codemirror_mode": {
    "name": "ipython",
    "version": 3
   },
   "file_extension": ".py",
   "mimetype": "text/x-python",
   "name": "python",
   "nbconvert_exporter": "python",
   "pygments_lexer": "ipython3",
   "version": "3.12.2"
  }
 },
 "nbformat": 4,
 "nbformat_minor": 2
}
