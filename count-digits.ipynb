{
 "cells": [
  {
   "cell_type": "markdown",
   "metadata": {},
   "source": [
    "# Count digits in a number"
   ]
  },
  {
   "cell_type": "markdown",
   "metadata": {},
   "source": [
    "Problem Statement: Given an integer N, return the number of digits in N.\n",
    "\n",
    "Examples\n",
    "\n",
    "Example 1:<br>\n",
    "Input:N = 12345<br>\n",
    "Output:5<br>\n",
    "Explanation:  The number 12345 has 5 digits.\n",
    "\n",
    "Example 2:<br>\n",
    "Input:N = 7789<br>\n",
    "Output: 4<br>\n",
    "Explanation: The number 7789 has 4 digits."
   ]
  },
  {
   "cell_type": "code",
   "execution_count": 2,
   "metadata": {},
   "outputs": [
    {
     "name": "stdout",
     "output_type": "stream",
     "text": [
      "5\n",
      "4\n"
     ]
    }
   ],
   "source": [
    "# n = int(input())\n",
    "n = 12345 \n",
    "arr =[]\n",
    "for i in str(n):\n",
    "    arr.append(i)\n",
    "print(len(arr))\n",
    "\n",
    "def countDigits(n):\n",
    "    cnt = 0\n",
    "    while n > 0:\n",
    "        cnt = cnt + 1\n",
    "        n = n // 10\n",
    "    return cnt\n",
    "print(countDigits(7789))"
   ]
  },
  {
   "cell_type": "markdown",
   "metadata": {},
   "source": [
    "## Problem Statement\n",
    "You are given a number `n`.  \n",
    "Find the number of digits of `n` that evenly divide `n`.  \n",
    "\n",
    "Note:  A digit evenly divides `n` if it leaves no remainder when dividing `n`.  \n",
    "\n",
    "Example:\n",
    "Input: `n = 336`  \n",
    "Output: `3`  \n",
    "Explanation: 336 is divisible by both `3` and `6`. Since `3` occurs twice, it is counted two times.  \n",
    "\n",
    "Function Details  \n",
    "Input: `n` (1 <= `n` <= 10^9)  \n",
    "Output:  An integer representing the count of digits that evenly divide `n`.  \n",
    "\n",
    "Sample Input 1: `35`\n",
    "Sample Output 1: `1`  \n",
    "Explanation of Sample Output 1: `35` is only divisible by `5`, hence the answer is `1`.  \n",
    "Sample Input 2:  `373`  \n",
    "Sample Output 2: `0`\n",
    "Explanation of Sample Output 2:  There’s no digit in `373` that evenly divides it. Hence the output is `0`.  \n",
    "\n",
    "Constraints:  \n",
    "1. `1 <= n <= 10^9`  \n",
    "2. Time Limit: 1 second  \n",
    "3. Expected Time Complexity: O(log(n))"
   ]
  },
  {
   "cell_type": "code",
   "execution_count": 6,
   "metadata": {},
   "outputs": [
    {
     "name": "stdout",
     "output_type": "stream",
     "text": [
      "1\n"
     ]
    }
   ],
   "source": [
    "# n= int(input())\n",
    "n = 35\n",
    "count = 0\n",
    "arr =[]\n",
    "for i in str(n):\n",
    "    arr.append(int(i))\n",
    "for i in range(len(arr)):\n",
    "    if arr[i] != 0 and n%arr[i]==0:\n",
    "        count += 1\n",
    "print(count)"
   ]
  },
  {
   "cell_type": "markdown",
   "metadata": {},
   "source": [
    "Given a positive integer n, count the number of digits in n that divide n evenly (i.e., without leaving a remainder). Return the total number of such digits.\n",
    "\n",
    "A digit d of n divides n evenly if the remainder when n is divided by d is 0 (n % d == 0).\n",
    "Digits of n should be checked individually. If a digit is 0, it should be ignored because division by 0 is undefined.\n",
    "\n",
    "Examples :<br>\n",
    "Input: n = 12<br>\n",
    "Output: 2<br>\n",
    "Explanation: 1, 2 when both divide 12 leaves remainder 0.\n",
    "\n",
    "Input: n = 2446<br>\n",
    "Output: 1<br>\n",
    "Explanation: Here among 2, 4, 6 only 2 divides 2446 evenly while 4 and 6 do not.\n",
    "\n",
    "Input: n = 23<br>\n",
    "Output: 0<br>\n",
    "Explanation: 2 and 3, none of them divide 23 evenly.\n",
    "\n",
    "Constraints: 1<= n <=105"
   ]
  },
  {
   "cell_type": "code",
   "execution_count": 7,
   "metadata": {},
   "outputs": [],
   "source": [
    "class Solution:\n",
    "    def evenlyDivides(self, n):\n",
    "        # code here\n",
    "        count = 0\n",
    "        arr =[]\n",
    "        for i in str(n):\n",
    "            arr.append(int(i))\n",
    "        for i in range(len(arr)):\n",
    "            if arr[i] != 0 and n%arr[i]==0:\n",
    "                count += 1"
   ]
  }
 ],
 "metadata": {
  "kernelspec": {
   "display_name": "Python 3",
   "language": "python",
   "name": "python3"
  },
  "language_info": {
   "codemirror_mode": {
    "name": "ipython",
    "version": 3
   },
   "file_extension": ".py",
   "mimetype": "text/x-python",
   "name": "python",
   "nbconvert_exporter": "python",
   "pygments_lexer": "ipython3",
   "version": "3.12.2"
  }
 },
 "nbformat": 4,
 "nbformat_minor": 2
}
