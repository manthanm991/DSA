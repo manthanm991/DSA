{
 "cells": [
  {
   "cell_type": "markdown",
   "metadata": {},
   "source": [
    "# Count digits in a number"
   ]
  },
  {
   "cell_type": "markdown",
   "metadata": {},
   "source": [
    "Problem Statement: Given an integer N, return the number of digits in N.\n",
    "\n",
    "Examples\n",
    "\n",
    "Example 1:<br>\n",
    "Input:N = 12345<br>\n",
    "Output:5<br>\n",
    "Explanation:  The number 12345 has 5 digits.\n",
    "\n",
    "Example 2:<br>\n",
    "Input:N = 7789<br>\n",
    "Output: 4<br>\n",
    "Explanation: The number 7789 has 4 digits."
   ]
  },
  {
   "cell_type": "code",
   "execution_count": 2,
   "metadata": {},
   "outputs": [
    {
     "name": "stdout",
     "output_type": "stream",
     "text": [
      "5\n",
      "4\n"
     ]
    }
   ],
   "source": [
    "# n = int(input())\n",
    "n = 12345 \n",
    "arr =[]\n",
    "for i in str(n):\n",
    "    arr.append(i)\n",
    "print(len(arr))\n",
    "\n",
    "def countDigits(n):\n",
    "    cnt = 0\n",
    "    while n > 0:\n",
    "        cnt = cnt + 1\n",
    "        n = n // 10\n",
    "    return cnt\n",
    "print(countDigits(7789))"
   ]
  }
 ],
 "metadata": {
  "kernelspec": {
   "display_name": "Python 3",
   "language": "python",
   "name": "python3"
  },
  "language_info": {
   "codemirror_mode": {
    "name": "ipython",
    "version": 3
   },
   "file_extension": ".py",
   "mimetype": "text/x-python",
   "name": "python",
   "nbconvert_exporter": "python",
   "pygments_lexer": "ipython3",
   "version": "3.12.2"
  }
 },
 "nbformat": 4,
 "nbformat_minor": 2
}
