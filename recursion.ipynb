{
 "cells": [
  {
   "cell_type": "markdown",
   "metadata": {},
   "source": [
    "Print Name N times using Recursion"
   ]
  },
  {
   "cell_type": "code",
   "execution_count": 1,
   "metadata": {},
   "outputs": [
    {
     "name": "stdout",
     "output_type": "stream",
     "text": [
      "Manthan Manthan Manthan Manthan Manthan "
     ]
    }
   ],
   "source": [
    "def printName(n):\n",
    "    if n>1:\n",
    "        printName(n-1)\n",
    "    print(\"Manthan\", end=\" \")\n",
    "\n",
    "printName(5)"
   ]
  },
  {
   "cell_type": "markdown",
   "metadata": {},
   "source": [
    "Print GFG n times without the loop.\n",
    "\n",
    "Example:\n",
    "\n",
    "Input: 5\n",
    "\n",
    "Output: GFG GFG GFG GFG GFG\n",
    "\n",
    "Your Task: This is a function problem. You only need to complete the function printGfg() that takes N as parameter and prints N times GFG recursively. Don't print newline, it will be added by the driver code.\n",
    "\n",
    "Expected Time Complexity: O(N).<br>\n",
    "Expected Auxiliary Space: O(N) (Recursive).<br>\n",
    "Constraint:1<=N<=1000"
   ]
  },
  {
   "cell_type": "code",
   "execution_count": 2,
   "metadata": {},
   "outputs": [],
   "source": [
    "class Solution:\n",
    "    def printGfg(self, n):\n",
    "        # Code here\n",
    "        if n>1:\n",
    "            self.printGfg(n-1)\n",
    "        print(\"GFG\",end=\" \")"
   ]
  },
  {
   "cell_type": "code",
   "execution_count": null,
   "metadata": {},
   "outputs": [],
   "source": []
  }
 ],
 "metadata": {
  "kernelspec": {
   "display_name": "Python 3",
   "language": "python",
   "name": "python3"
  },
  "language_info": {
   "codemirror_mode": {
    "name": "ipython",
    "version": 3
   },
   "file_extension": ".py",
   "mimetype": "text/x-python",
   "name": "python",
   "nbconvert_exporter": "python",
   "pygments_lexer": "ipython3",
   "version": "3.12.2"
  }
 },
 "nbformat": 4,
 "nbformat_minor": 2
}
