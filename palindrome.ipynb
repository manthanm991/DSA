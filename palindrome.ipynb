{
 "cells": [
  {
   "cell_type": "markdown",
   "metadata": {},
   "source": [
    "Example 1:<br>\n",
    "Input:N = 4554<br>\n",
    "Output:Palindrome Number<br>\n",
    "Explanation: The reverse of 4554 is 4554 and therefore it is palindrome number\n",
    "\n",
    "Example 2:<br>\n",
    "Input:N = 7789<br>\n",
    "Output: Not Palindrome<br>\n",
    "Explanation: The reverse of number 7789 is 9877 and therefore it is not palindrome"
   ]
  },
  {
   "cell_type": "code",
   "execution_count": 4,
   "metadata": {},
   "outputs": [
    {
     "name": "stdout",
     "output_type": "stream",
     "text": [
      "Palindrome Number\n"
     ]
    }
   ],
   "source": [
    "n = input()\n",
    "if n == n[::-1]:\n",
    "    print(\"Palindrome Number\")\n",
    "else:\n",
    "    print(\"Not Palindrome\")"
   ]
  },
  {
   "cell_type": "markdown",
   "metadata": {},
   "source": [
    "Problem statement\n",
    "Check whether a given number ’n’ is a palindrome number.\n",
    "\n",
    "Note : Palindrome numbers are the numbers that don't change when reversed.\n",
    "You don’t need to print anything. Just implement the given function.\n",
    "\n",
    "Example:<br>\n",
    "Input: 'n' = 51415<br>\n",
    "Output: true<br>\n",
    "Explanation: On reversing, 51415 gives 51415.\n",
    "\n",
    "Detailed explanation ( Input/output format, Notes, Images )<br>\n",
    "Sample Input 1 : 1032<br>\n",
    "Sample Output 1 : false<br>\n",
    "Explanation Of Sample Input 1: 1032, on being reversed, gives 2301, which is a totally different number.\n",
    "\n",
    "Sample Input 2 : 121<br>\n",
    "Sample Output 2 : true<br>\n",
    "Explanation Of Sample Input 2: 121, on being reversed, gives 121, which is the same.\n",
    "\n",
    "Expected time complexity: The expected time complexity is O(log(n)).<br>\n",
    "Constraints : 1 <= n <= 10^9<br>\n",
    "Time Limit: 1 sec<br>"
   ]
  },
  {
   "cell_type": "code",
   "execution_count": 5,
   "metadata": {},
   "outputs": [
    {
     "name": "stdout",
     "output_type": "stream",
     "text": [
      "true\n"
     ]
    }
   ],
   "source": [
    "# n= int(input())\n",
    "n = 4554\n",
    "arr = []\n",
    "for i in str(n):\n",
    "    arr.append(int(i))\n",
    "arr1 = arr[::-1]\n",
    "if arr == arr1:\n",
    "    print(\"true\")\n",
    "else:\n",
    "    print(\"false\")"
   ]
  }
 ],
 "metadata": {
  "kernelspec": {
   "display_name": "Python 3",
   "language": "python",
   "name": "python3"
  },
  "language_info": {
   "codemirror_mode": {
    "name": "ipython",
    "version": 3
   },
   "file_extension": ".py",
   "mimetype": "text/x-python",
   "name": "python",
   "nbconvert_exporter": "python",
   "pygments_lexer": "ipython3",
   "version": "3.12.2"
  }
 },
 "nbformat": 4,
 "nbformat_minor": 2
}
