{
 "cells": [
  {
   "cell_type": "markdown",
   "metadata": {},
   "source": [
    "Problem Statement: Given an array of N integers, write a program to implement the Insertion sorting algorithm.\n",
    "\n",
    "Example 1:<br>\n",
    "Input: N = 6, array[] = {13,46,24,52,20,9}<br>\n",
    "Output: 9,13,20,24,46,52<bbr>\n",
    "Explanation: After sorting the array is: 9,13,20,24,46,52\n",
    "\n",
    "Example 2: <br>\n",
    "Input: N=5, array[] = {5,4,3,2,1}<br>\n",
    "Output: 1,2,3,4,5<br>\n",
    "Explanation: After sorting the array is: 1,2,3,4,5"
   ]
  },
  {
   "cell_type": "code",
   "execution_count": 1,
   "metadata": {},
   "outputs": [
    {
     "name": "stdout",
     "output_type": "stream",
     "text": [
      "[9, 13, 20, 24, 46, 52]\n"
     ]
    }
   ],
   "source": [
    "def insertionSort(arr):\n",
    "    for i in range(len(arr)):\n",
    "        j = i\n",
    "        while j > 0 and arr[j-1] > arr[j]:\n",
    "            arr[j-1], arr[j] = arr[j], arr[j-1]\n",
    "            j -= 1\n",
    "    return arr\n",
    "\n",
    "arr = [13,46,24,52,20,9]\n",
    "print(insertionSort(arr))"
   ]
  },
  {
   "cell_type": "markdown",
   "metadata": {},
   "source": [
    "#### GFG\n",
    "\n",
    "The task is to complete the insertsort() function which is used to implement Insertion Sort.\n",
    "\n",
    "Input: arr[] = [4, 1, 3, 9, 7]<br>\n",
    "Output: [1, 3, 4, 7, 9]<br>\n",
    "Explanation: The sorted array will be [1, 3, 4, 7, 9].\n",
    "\n",
    "Input: arr[] = [10, 9, 8, 7, 6, 5, 4, 3, 2, 1]<br>\n",
    "Output: [1, 2, 3, 4, 5, 6, 7, 8, 9, 10]<br>\n",
    "Explanation: The sorted array will be [1, 2, 3, 4, 5, 6, 7, 8, 9, 10].\n",
    "\n",
    "Input: arr[] = [4, 1, 9]<br>\n",
    "Output: [1, 4, 9]<br>\n",
    "Explanation: The sorted array will be [1, 4, 9].\n",
    "\n",
    "Constraints:<br>\n",
    "1 <= arr.size() <= 1000<br>\n",
    "1 <= arr[i] <= 1000"
   ]
  },
  {
   "cell_type": "code",
   "execution_count": 1,
   "metadata": {},
   "outputs": [],
   "source": [
    "class Solution:\n",
    "    def insertionSort(self, arr):\n",
    "        #code here\n",
    "        for i in range(len(arr)):\n",
    "            j = i\n",
    "            while j>0 and arr[j-1]>arr[j]:\n",
    "                arr[j-1], arr[j] = arr[j], arr[j-1]\n",
    "                j -= 1\n",
    "        return arr"
   ]
  }
 ],
 "metadata": {
  "kernelspec": {
   "display_name": "Python 3",
   "language": "python",
   "name": "python3"
  },
  "language_info": {
   "codemirror_mode": {
    "name": "ipython",
    "version": 3
   },
   "file_extension": ".py",
   "mimetype": "text/x-python",
   "name": "python",
   "nbconvert_exporter": "python",
   "pygments_lexer": "ipython3",
   "version": "3.12.2"
  }
 },
 "nbformat": 4,
 "nbformat_minor": 2
}
