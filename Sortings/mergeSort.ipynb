{
 "cells": [
  {
   "cell_type": "markdown",
   "metadata": {},
   "source": [
    "Problem:  Given an array of size n, sort the array using Merge Sort.\n",
    "\n",
    "Example 1:<br>\n",
    "Input: N=5, arr[]={4,2,1,6,7}<br>\n",
    "Output: 1,2,4,6,7,\n",
    "\n",
    "\n",
    "Example 2:<br>\n",
    "Input: N=7,arr[]={3,2,8,5,1,4,23}<br>\n",
    "Output: 1,2,3,4,5,8,23"
   ]
  },
  {
   "cell_type": "code",
   "execution_count": 1,
   "metadata": {},
   "outputs": [
    {
     "name": "stdout",
     "output_type": "stream",
     "text": [
      "[1, 2, 4, 6, 7]\n"
     ]
    }
   ],
   "source": [
    "def mergeSort(arr):\n",
    "    if len(arr) > 1:\n",
    "        mid = len(arr) // 2\n",
    "        left_half = arr[:mid]\n",
    "        right_half = arr[mid:]\n",
    "        mergeSort(left_half)\n",
    "        mergeSort(right_half)\n",
    "        i = j = k = 0\n",
    "\n",
    "        while i < len(left_half) and j < len(right_half):\n",
    "            if left_half[i] < right_half[j]:\n",
    "                arr[k] = left_half[i]\n",
    "                i += 1\n",
    "            else:\n",
    "                arr[k] = right_half[j]\n",
    "                j += 1\n",
    "            k += 1\n",
    "\n",
    "        while i < len(left_half):\n",
    "            arr[k] = left_half[i]\n",
    "            i += 1\n",
    "            k += 1\n",
    "\n",
    "        while j < len(right_half):\n",
    "            arr[k] = right_half[j]\n",
    "            j += 1\n",
    "            k += 1\n",
    "\n",
    "arr = [4, 2, 1, 6, 7]\n",
    "mergeSort(arr)\n",
    "print(arr)"
   ]
  },
  {
   "cell_type": "code",
   "execution_count": 2,
   "metadata": {},
   "outputs": [
    {
     "name": "stdout",
     "output_type": "stream",
     "text": [
      "[1, 2, 4, 6, 7]\n"
     ]
    }
   ],
   "source": [
    "def mergeSort(arr, low, high):\n",
    "    if low < high:\n",
    "        mid = (low + high) // 2\n",
    "        mergeSort(arr, low, mid)\n",
    "        mergeSort(arr, mid + 1, high)\n",
    "        merge(arr, low, mid, high)\n",
    "        \n",
    "def merge(arr, low, mid, high):\n",
    "    temp = []\n",
    "    left = low\n",
    "    right = mid +1\n",
    "    while left<=mid and right <= high:\n",
    "        if arr[left]<=arr[right]:\n",
    "            temp.append(arr[left])\n",
    "            left += 1\n",
    "        else:\n",
    "            temp.append(arr[right])\n",
    "            right += 1\n",
    "    while left<= mid:\n",
    "        temp.append(arr[left])\n",
    "        left += 1\n",
    "    while right<= high:\n",
    "        temp.append(arr[right])\n",
    "        right += 1\n",
    "    for i in range(low, high+1):\n",
    "        arr[i] = temp[i-low]\n",
    "\n",
    "arr = [4, 2, 1, 6, 7]\n",
    "mergeSort(arr, 0 , len(arr)-1)\n",
    "print(arr)"
   ]
  },
  {
   "cell_type": "markdown",
   "metadata": {},
   "source": [
    "### GFG\n",
    "\n",
    "Given an array arr[], its starting position l and its ending position r. Sort the array using the merge sort algorithm.\n",
    "\n",
    "Examples:\n",
    "\n",
    "Input: arr[] = [4, 1, 3, 9, 7]<br>\n",
    "Output: [1, 3, 4, 7, 9]\n",
    "\n",
    "Input: arr[] = [10, 9, 8, 7, 6, 5, 4, 3, 2, 1]<br>\n",
    "Output: [1, 2, 3, 4, 5, 6, 7, 8, 9, 10]\n",
    "\n",
    "Input: arr[] = [1, 3 , 2]<br>\n",
    "Output: [1, 2, 3]\n",
    "\n",
    "Constraints:<br>\n",
    "1 <= arr.size() <= 105<br>\n",
    "1 <= arr[i] <= 105"
   ]
  },
  {
   "cell_type": "code",
   "execution_count": 3,
   "metadata": {},
   "outputs": [],
   "source": [
    "class Solution: \n",
    "    def mergeSort(self,arr, l, r):\n",
    "        if l >= r:\n",
    "            return\n",
    "        mid = (l + r) // 2\n",
    "        self.mergeSort(arr, l, mid)\n",
    "        self.mergeSort(arr, mid + 1, r)\n",
    "        self.merge(arr, l, mid, r)\n",
    "    \n",
    "    def merge(self, arr, l, mid, r):\n",
    "        temp = []\n",
    "        i, j = l, mid + 1\n",
    "\n",
    "        while i <= mid and j <= r:\n",
    "            if arr[i] <= arr[j]:\n",
    "                temp.append(arr[i])\n",
    "                i += 1\n",
    "            else:\n",
    "                temp.append(arr[j])\n",
    "                j += 1\n",
    "        \n",
    "        while i <= mid:\n",
    "            temp.append(arr[i])\n",
    "            i += 1\n",
    "        while j <= r:\n",
    "            temp.append(arr[j])\n",
    "            j += 1\n",
    "        \n",
    "        for idx in range(len(temp)):\n",
    "            arr[l + idx] = temp[idx]"
   ]
  }
 ],
 "metadata": {
  "kernelspec": {
   "display_name": "Python 3",
   "language": "python",
   "name": "python3"
  },
  "language_info": {
   "codemirror_mode": {
    "name": "ipython",
    "version": 3
   },
   "file_extension": ".py",
   "mimetype": "text/x-python",
   "name": "python",
   "nbconvert_exporter": "python",
   "pygments_lexer": "ipython3",
   "version": "3.12.2"
  }
 },
 "nbformat": 4,
 "nbformat_minor": 2
}
