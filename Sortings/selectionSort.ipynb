{
 "cells": [
  {
   "cell_type": "markdown",
   "metadata": {},
   "source": [
    "Problem Statement: Given an array of N integers, write a program to implement the Selection sorting algorithm.\n",
    "\n",
    "Example 1:<br>\n",
    "Input: N = 6, array[] = {13,46,24,52,20,9}<br>\n",
    "Output: 9,13,20,24,46,52<br>\n",
    "Explanation: After sorting the array is: 9, 13, 20, 24, 46, 52\n",
    "\n",
    "Example 2:<br>\n",
    "Input: N=5, array[] = {5,4,3,2,1}<br>\n",
    "Output: 1,2,3,4,5<br>\n",
    "Explanation: After sorting the array is: 1, 2, 3, 4, 5"
   ]
  },
  {
   "cell_type": "code",
   "execution_count": 1,
   "metadata": {},
   "outputs": [
    {
     "name": "stdout",
     "output_type": "stream",
     "text": [
      "[9, 13, 20, 24, 46, 52]\n",
      "[1, 2, 3, 4, 5]\n"
     ]
    }
   ],
   "source": [
    "def SelectionSort(arr):\n",
    "    for i in range(len(arr)):\n",
    "        min_ = i\n",
    "        for j in range(i + 1, len(arr)):\n",
    "            if (arr[j] < arr[min_]):\n",
    "                min_ = j\n",
    "        temp = arr[min_]\n",
    "        arr[min_] = arr[i]\n",
    "        arr[i] = temp\n",
    "    return arr\n",
    "\n",
    "arr = [13,46,24,52,20,9]\n",
    "arr1 = [5,4,3,2,1]\n",
    "print(SelectionSort(arr))\n",
    "print(SelectionSort(arr1))"
   ]
  },
  {
   "cell_type": "markdown",
   "metadata": {},
   "source": [
    "Given an array arr, use selection sort to sort arr[] in increasing order.\n",
    "\n",
    "Input: arr[] = [4, 1, 3, 9, 7]<br>\n",
    "Output: [1, 3, 4, 7, 9]<br>\n",
    "Explanation: Maintain sorted (in bold) and unsorted subarrays. Select 1. Array becomes 1 4 3 9 7. Select 3. Array becomes 1 3 4 9 7. Select 4. Array becomes 1 3 4 9 7. Select 7. Array becomes 1 3 4 7 9. Select 9. Array becomes 1 3 4 7 9.\n",
    "\n",
    "Input: arr[] = [10, 9, 8, 7, 6, 5, 4, 3, 2, 1]<br>\n",
    "Output: [1, 2, 3, 4, 5, 6, 7, 8, 9, 10]\n",
    "\n",
    "Input: arr[] = [38, 31, 20, 14, 30]<br>\n",
    "Output: [14, 20, 30, 31, 38]\n",
    "\n",
    "Constraints:<br>\n",
    "1 ≤ arr.size() ≤ 103<br>\n",
    "1 ≤ arr[i] ≤ 106"
   ]
  },
  {
   "cell_type": "code",
   "execution_count": 2,
   "metadata": {},
   "outputs": [
    {
     "name": "stdout",
     "output_type": "stream",
     "text": [
      "[1, 3, 4, 7, 9]\n",
      "[1, 2, 3, 4, 5, 6, 7, 8, 9, 10]\n",
      "[14, 20, 30, 31, 38]\n"
     ]
    }
   ],
   "source": [
    "def SelectionSortgfg(arr):\n",
    "    for i in range(len(arr)):\n",
    "        mini_ = i\n",
    "        for j in range(i+1, len(arr)):\n",
    "            if (arr[j]<arr[mini_]):\n",
    "                mini_ = j\n",
    "        temp = arr[mini_]\n",
    "        arr[mini_] = arr[i]\n",
    "        arr[i] = temp\n",
    "    return arr\n",
    "nums = [4,1,3,9,7]\n",
    "nums1 = [10,9,8,7,6,5,4,3,2,1]\n",
    "nums2 = [38,31,20,14,30]\n",
    "print(SelectionSortgfg(nums))\n",
    "print(SelectionSortgfg(nums1))\n",
    "print(SelectionSortgfg(nums2))"
   ]
  }
 ],
 "metadata": {
  "kernelspec": {
   "display_name": "Python 3",
   "language": "python",
   "name": "python3"
  },
  "language_info": {
   "codemirror_mode": {
    "name": "ipython",
    "version": 3
   },
   "file_extension": ".py",
   "mimetype": "text/x-python",
   "name": "python",
   "nbconvert_exporter": "python",
   "pygments_lexer": "ipython3",
   "version": "3.12.2"
  }
 },
 "nbformat": 4,
 "nbformat_minor": 2
}
