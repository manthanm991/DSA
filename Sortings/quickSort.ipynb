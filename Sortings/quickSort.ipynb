{
 "cells": [
  {
   "cell_type": "markdown",
   "metadata": {},
   "source": [
    "Problem Statement:  Given an array of n integers, sort the array using the Quicksort method.\n",
    "\n",
    "Example 1:<br>\n",
    "Input:  N = 5  , Arr[] = {4,1,7,9,3}<br>\n",
    "Output: 1 3 4 7 9<br>\n",
    "Explanation: After sorting the array becomes 1, 3, 4, 7, 9\n",
    "\n",
    "Example 2:<br>\n",
    "Input: N = 8 , Arr[] = {4,6,2,5,7,9,1,3}<br>\n",
    "Output: 1 2 3 4 5 6 7 9<br>\n",
    "Explanation: After sorting the array becomes 1, 3, 4, 7, 9"
   ]
  },
  {
   "cell_type": "code",
   "execution_count": 1,
   "metadata": {},
   "outputs": [
    {
     "name": "stdout",
     "output_type": "stream",
     "text": [
      "[1, 3, 4, 7, 9]\n"
     ]
    }
   ],
   "source": [
    "def QuickSort(arr, low, high):\n",
    "    if low < high:\n",
    "        partition = QuickSort_partition(arr, low, high)\n",
    "        QuickSort(arr, low, partition - 1)\n",
    "        QuickSort(arr, partition + 1, high)\n",
    "\n",
    "def QuickSort_partition(arr, low, high):\n",
    "    pivot = arr[low]\n",
    "    i = low\n",
    "    j = high\n",
    "    while i < j:\n",
    "        while arr[i] <= pivot and i < high:\n",
    "            i += 1\n",
    "        while arr[j] > pivot and j > low:\n",
    "            j -= 1\n",
    "        if i < j:\n",
    "            arr[i], arr[j] = arr[j], arr[i]\n",
    "        \n",
    "    arr[low], arr[j] = arr[j], arr[low]\n",
    "    return j\n",
    "\n",
    "arr = [4,1,3,9,7]\n",
    "QuickSort(arr, 0, len(arr) - 1)\n",
    "print(arr)"
   ]
  },
  {
   "cell_type": "markdown",
   "metadata": {},
   "source": [
    "#### GFG\n",
    "Implement Quick Sort, a Divide and Conquer algorithm, to sort an array, arr[] in ascending order. Given an array, arr[], with starting index low and ending index high, complete the functions partition() and quickSort(). Use the last element as the pivot so that all elements less than or equal to the pivot come before it, and elements greater than the pivot follow it.\n",
    "\n",
    "Note: The low and high are inclusive.\n",
    "\n",
    "Input: arr[] = [4, 1, 3, 9, 7]<br>\n",
    "Output: [1, 3, 4, 7, 9]<br>\n",
    "Explanation: After sorting, all elements are arranged in ascending order.\n",
    "\n",
    "Input: arr[] = [2, 1, 6, 10, 4, 1, 3, 9, 7]<br>\n",
    "Output: [1, 1, 2, 3, 4, 6, 7, 9, 10]<br>\n",
    "Explanation: Duplicate elements (1) are retained in sorted order.\n",
    "\n",
    "Input: arr[] = [5, 5, 5, 5]<br>\n",
    "Output: [5, 5, 5, 5]<br>\n",
    "Explanation: All elements are identical, so the array remains unchanged.\n",
    "\n",
    "Constraints:<br>\n",
    "1 <= arr.size() <= 105<br>\n",
    "1 <= arr[i] <= 105"
   ]
  },
  {
   "cell_type": "code",
   "execution_count": 2,
   "metadata": {},
   "outputs": [],
   "source": [
    "class Solution:\n",
    "    #Function to sort a list using quick sort algorithm.\n",
    "    def quickSort(self,arr,low,high):\n",
    "        # code here\n",
    "        if low<high:\n",
    "            partIndex = self.partition(arr, low, high)\n",
    "            self.quickSort(arr, low, partIndex-1)\n",
    "            self.quickSort(arr, partIndex+1, high)\n",
    "    \n",
    "    def partition(self,arr,low,high):\n",
    "        # code here\n",
    "        pivot = arr[low]\n",
    "        i = low\n",
    "        j = high\n",
    "        while i < j:\n",
    "            while arr[i] <= pivot and i < high:\n",
    "                i += 1\n",
    "            while arr[j] > pivot and j > low:\n",
    "                j -= 1\n",
    "            if i < j:\n",
    "                arr[i], arr[j] = arr[j], arr[i]\n",
    "            \n",
    "        arr[low], arr[j] = arr[j], arr[low]\n",
    "        return j"
   ]
  }
 ],
 "metadata": {
  "kernelspec": {
   "display_name": "Python 3",
   "language": "python",
   "name": "python3"
  },
  "language_info": {
   "codemirror_mode": {
    "name": "ipython",
    "version": 3
   },
   "file_extension": ".py",
   "mimetype": "text/x-python",
   "name": "python",
   "nbconvert_exporter": "python",
   "pygments_lexer": "ipython3",
   "version": "3.12.2"
  }
 },
 "nbformat": 4,
 "nbformat_minor": 2
}
