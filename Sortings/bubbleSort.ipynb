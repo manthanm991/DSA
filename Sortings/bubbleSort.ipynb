{
 "cells": [
  {
   "cell_type": "markdown",
   "metadata": {},
   "source": [
    "Problem Statement: Given an array of N integers, write a program to implement the Bubble Sorting algorithm.\n",
    "\n",
    "Example 1:<br>\n",
    "Input: N = 6, array[] = {13,46,24,52,20,9}<br>\n",
    "Output: 9,13,20,24,46,52<br>\n",
    "Explanation: After sorting we get 9,13,20,24,46,52\n",
    "\n",
    "\n",
    "Input: N = 5, array[] = {5,4,3,2,1}<br>\n",
    "Output: 1,2,3,4,5<br>\n",
    "Explanation: After sorting we get 1,2,3,4,5"
   ]
  },
  {
   "cell_type": "code",
   "execution_count": 1,
   "metadata": {},
   "outputs": [
    {
     "name": "stdout",
     "output_type": "stream",
     "text": [
      "[9, 13, 20, 24, 46, 52]\n"
     ]
    }
   ],
   "source": [
    "def BubbleSort_1(arr):\n",
    "    for i in range(len(arr)):\n",
    "        for j in range(len(arr)-i-1):\n",
    "            if arr[j] > arr[j + 1]:\n",
    "                arr[j], arr[j + 1] = arr[j + 1], arr[j]\n",
    "    return arr\n",
    "\n",
    "\n",
    "arr = [13,46,24,52,20,9]\n",
    "print(BubbleSort_1(arr))"
   ]
  }
 ],
 "metadata": {
  "kernelspec": {
   "display_name": "Python 3",
   "language": "python",
   "name": "python3"
  },
  "language_info": {
   "codemirror_mode": {
    "name": "ipython",
    "version": 3
   },
   "file_extension": ".py",
   "mimetype": "text/x-python",
   "name": "python",
   "nbconvert_exporter": "python",
   "pygments_lexer": "ipython3",
   "version": "3.12.2"
  }
 },
 "nbformat": 4,
 "nbformat_minor": 2
}
