{
 "cells": [
  {
   "cell_type": "markdown",
   "metadata": {},
   "source": [
    "Geek is learning about functions and calling a function with arguments. He learns that passing can take one of two forms: pass by value or pass by reference.\n",
    "\n",
    "Geek wishes to add 1 and 2, respectively, to the parameter passed by value and reference. Help Geek in fulfilling his goal.\n",
    "\n",
    "Example 1:<br>\n",
    "Input:<br>\n",
    "a = 1<br>\n",
    "b = 2<br>\n",
    "Output: 2 4<br>\n",
    "Explanation: 1 was passed by value whereas 2 passed by reference.\n",
    "\n",
    "Example 2:<br>\n",
    "Input:<br>\n",
    "a = 10<br>\n",
    "b = 20<br>\n",
    "Output: 11 22<br>\n",
    "Explanation: 10 was passed by value whereas 20 passed by reference.\n",
    "\n",
    "Constraints: 1 <= a,b <= 105<br>\n",
    "Your Task: You don't need to read input or print anything. Your task is to complete the function passedBy() which takes a and b as input parameters and returns array of two required integers.\n",
    "\n",
    "Expected Time Complexity: O(1)<br>\n",
    "Expected Auxiliary Space: O(1)"
   ]
  },
  {
   "cell_type": "code",
   "execution_count": 1,
   "metadata": {},
   "outputs": [],
   "source": [
    "class Solution:\n",
    "    def passedBy(self, a, b):\n",
    "        a = a+1\n",
    "        b = b+2\n",
    "        return a,b"
   ]
  },
  {
   "cell_type": "code",
   "execution_count": null,
   "metadata": {},
   "outputs": [],
   "source": []
  }
 ],
 "metadata": {
  "kernelspec": {
   "display_name": "Python 3",
   "language": "python",
   "name": "python3"
  },
  "language_info": {
   "codemirror_mode": {
    "name": "ipython",
    "version": 3
   },
   "file_extension": ".py",
   "mimetype": "text/x-python",
   "name": "python",
   "nbconvert_exporter": "python",
   "pygments_lexer": "ipython3",
   "version": "3.12.2"
  }
 },
 "nbformat": 4,
 "nbformat_minor": 2
}
