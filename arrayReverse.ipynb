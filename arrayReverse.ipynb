{
 "cells": [
  {
   "cell_type": "markdown",
   "metadata": {},
   "source": [
    "Problem Statement: You are given an array. The task is to reverse the array and print it. \n",
    "\n",
    "Examples:<br>\n",
    "Example 1:<br>\n",
    "Input: N = 5, arr[] = {5,4,3,2,1}<br>\n",
    "Output: {1,2,3,4,5}<br>\n",
    "Explanation: Since the order of elements gets reversed the first element will occupy the fifth position, the second element occupies the fourth position and so on.\n",
    "\n",
    "Example 2:<br>\n",
    "Input: N=6 arr[] = {10,20,30,40}<br>\n",
    "Output: {40,30,20,10}<br>\n",
    "Explanation: Since the order of elements gets reversed the first element will occupy the fifth position, the second element occupies the fourth position and so on."
   ]
  },
  {
   "cell_type": "code",
   "execution_count": 1,
   "metadata": {},
   "outputs": [
    {
     "name": "stdout",
     "output_type": "stream",
     "text": [
      "[1, 2, 3, 4, 5]\n"
     ]
    }
   ],
   "source": [
    "# Using function\n",
    "def arrayReverse_1(n, arr):\n",
    "    arr.reverse()\n",
    "    return arr\n",
    "print(arrayReverse_1(5, [5,4,3,2,1]))"
   ]
  },
  {
   "cell_type": "code",
   "execution_count": 2,
   "metadata": {},
   "outputs": [
    {
     "name": "stdout",
     "output_type": "stream",
     "text": [
      "[40, 30, 20, 10]\n"
     ]
    }
   ],
   "source": [
    "# using extra array\n",
    "def arrayReverse_2(n, arr):\n",
    "    arr1 = arr[::-1]\n",
    "    return arr1\n",
    "print(arrayReverse_2(6, [10,20,30,40]))"
   ]
  }
 ],
 "metadata": {
  "kernelspec": {
   "display_name": "Python 3",
   "language": "python",
   "name": "python3"
  },
  "language_info": {
   "codemirror_mode": {
    "name": "ipython",
    "version": 3
   },
   "file_extension": ".py",
   "mimetype": "text/x-python",
   "name": "python",
   "nbconvert_exporter": "python",
   "pygments_lexer": "ipython3",
   "version": "3.12.2"
  }
 },
 "nbformat": 4,
 "nbformat_minor": 2
}
