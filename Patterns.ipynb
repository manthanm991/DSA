{
 "cells": [
  {
   "cell_type": "markdown",
   "metadata": {},
   "source": [
    "<figure>\n",
    "<img src=\"Pattern-Images\\P1.png\" width=\"200px\" height=\"200px\">\n",
    "</figure>"
   ]
  },
  {
   "cell_type": "code",
   "execution_count": 1,
   "metadata": {},
   "outputs": [
    {
     "name": "stdout",
     "output_type": "stream",
     "text": [
      "* * * * * \n",
      "* * * * * \n",
      "* * * * * \n",
      "* * * * * \n",
      "* * * * * \n"
     ]
    }
   ],
   "source": [
    "# n = int(input())\n",
    "n = 5\n",
    "for i in range(n):\n",
    "  for j in range(n):\n",
    "    print(\"*\", end=\" \")\n",
    "  print(\"\")"
   ]
  },
  {
   "cell_type": "markdown",
   "metadata": {},
   "source": [
    "<figure>\n",
    "<img src=\"Pattern-Images\\P2.png\" width=\"200px\" height=\"200px\">\n",
    "</figure>"
   ]
  },
  {
   "cell_type": "code",
   "execution_count": 2,
   "metadata": {},
   "outputs": [
    {
     "name": "stdout",
     "output_type": "stream",
     "text": [
      "* \n",
      "* * \n",
      "* * * \n",
      "* * * * \n",
      "* * * * * \n"
     ]
    }
   ],
   "source": [
    "# n = int(input())\n",
    "n = 5\n",
    "for i in range(n):\n",
    "  for j in range(i+1):\n",
    "    print(\"*\", end=\" \")\n",
    "  print(\"\")"
   ]
  },
  {
   "cell_type": "markdown",
   "metadata": {},
   "source": [
    "<figure>\n",
    "<img src=\"Pattern-Images\\P3.png\" width=\"200px\" height=\"200px\">\n",
    "</figure>"
   ]
  },
  {
   "cell_type": "code",
   "execution_count": 3,
   "metadata": {},
   "outputs": [
    {
     "name": "stdout",
     "output_type": "stream",
     "text": [
      "1 \n",
      "1 2 \n",
      "1 2 3 \n",
      "1 2 3 4 \n",
      "1 2 3 4 5 \n"
     ]
    }
   ],
   "source": [
    "# n = int(input())\n",
    "n = 5\n",
    "arr=[]\n",
    "for i in range(1,n+1):\n",
    "  arr.append(i)\n",
    "for i in range(n):\n",
    "  for j in range(i+1):\n",
    "    print(arr[j], end=\" \")\n",
    "  print(\"\")"
   ]
  },
  {
   "cell_type": "markdown",
   "metadata": {},
   "source": [
    "<figure>\n",
    "<img src=\"Pattern-Images\\P4.png\" width=\"200px\" height=\"200px\">\n",
    "</figure>"
   ]
  },
  {
   "cell_type": "code",
   "execution_count": 4,
   "metadata": {},
   "outputs": [
    {
     "name": "stdout",
     "output_type": "stream",
     "text": [
      "1 \n",
      "2 2 \n",
      "3 3 3 \n",
      "4 4 4 4 \n",
      "5 5 5 5 5 \n"
     ]
    }
   ],
   "source": [
    "# n = int(input())\n",
    "n = 5\n",
    "arr=[]\n",
    "for i in range(1,n+1):\n",
    "  arr.append(i)\n",
    "for i in range(n):\n",
    "  for j in range(i+1):\n",
    "    print(arr[i], end=\" \")\n",
    "  print(\"\")"
   ]
  },
  {
   "cell_type": "markdown",
   "metadata": {},
   "source": [
    "<figure>\n",
    "<img src=\"Pattern-Images\\P5.png\" width=\"200px\" height=\"200px\">\n",
    "</figure>"
   ]
  },
  {
   "cell_type": "code",
   "execution_count": 6,
   "metadata": {},
   "outputs": [
    {
     "name": "stdout",
     "output_type": "stream",
     "text": [
      "Method 1\n",
      "* * * * * \n",
      "* * * * \n",
      "* * * \n",
      "* * \n",
      "* \n",
      "Method 2\n",
      "* * * * * \n",
      "* * * * \n",
      "* * * \n",
      "* * \n",
      "* \n",
      "Method 3\n",
      "* * * * *\n",
      "* * * *\n",
      "* * *\n",
      "* *\n",
      "*\n",
      "Method 4\n",
      "* * * * * \n",
      "* * * * \n",
      "* * * \n",
      "* * \n",
      "* \n",
      "Method 5\n",
      "* * * * * \n",
      "* * * * \n",
      "* * * \n",
      "* * \n",
      "* \n"
     ]
    }
   ],
   "source": [
    "print(\"Method 1\")\n",
    "# n = int(input())\n",
    "n = 5\n",
    "i = -4\n",
    "while i<n:\n",
    "  for j in range(n):\n",
    "    print(\"*\", end=\" \")\n",
    "  n = n-1\n",
    "  print(\"\")\n",
    "  i = i+1\n",
    "\n",
    "print(\"Method 2\")\n",
    "# n = int(input())\n",
    "n = 5\n",
    "for i in range(n):\n",
    "    for j in range(n - i):\n",
    "        print(\"*\", end=\" \")\n",
    "    print(\"\")\n",
    "\n",
    "print(\"Method 3\")\n",
    "# n = int(input())\n",
    "n = 5\n",
    "for i in range(n):\n",
    "    print(\" \".join([\"*\"] * (n - i)))\n",
    "\n",
    "print(\"Method 4\")\n",
    "# n = int(input())\n",
    "n = 5\n",
    "for i in range(n):\n",
    "    print(\"* \" * (n - i))\n",
    "\n",
    "print(\"Method 5\")\n",
    "# n = int(input())\n",
    "n = 5\n",
    "for i in range(n, 0, -1):\n",
    "    print(\"* \" * i)\n"
   ]
  },
  {
   "cell_type": "markdown",
   "metadata": {},
   "source": [
    "<figure>\n",
    "<img src=\"Pattern-Images\\P6.png\" width=\"200px\" height=\"200px\">\n",
    "</figure>"
   ]
  },
  {
   "cell_type": "code",
   "execution_count": 7,
   "metadata": {},
   "outputs": [
    {
     "name": "stdout",
     "output_type": "stream",
     "text": [
      "1 2 3 4 5 \n",
      "1 2 3 4 \n",
      "1 2 3 \n",
      "1 2 \n",
      "1 \n"
     ]
    }
   ],
   "source": [
    "# n = int(input())\n",
    "n = 5\n",
    "arr=[]\n",
    "for i in range(1,n+1):\n",
    "  arr.append(i)\n",
    "for i in range(n):\n",
    "    for j in range(n - i):\n",
    "        print(arr[j], end=\" \")\n",
    "    print(\"\")"
   ]
  },
  {
   "cell_type": "markdown",
   "metadata": {},
   "source": [
    "<figure>\n",
    "<img src=\"Pattern-Images\\P7.png\" width=\"200px\" height=\"200px\">\n",
    "</figure>"
   ]
  },
  {
   "cell_type": "code",
   "execution_count": 8,
   "metadata": {},
   "outputs": [
    {
     "name": "stdout",
     "output_type": "stream",
     "text": [
      "        *         \n",
      "      * * *       \n",
      "    * * * * *     \n",
      "  * * * * * * *   \n",
      "* * * * * * * * * \n"
     ]
    }
   ],
   "source": [
    "# n = int(input())\n",
    "n = 5\n",
    "for i in range(n):\n",
    "#   space\n",
    "  for j in range(n-i-1):\n",
    "    print(\" \", end=\" \")\n",
    "# star\n",
    "  for j in range(2*i+1):\n",
    "    print(\"*\", end=\" \")\n",
    "#   space\n",
    "  for j in range(n-i-1):\n",
    "    print(\" \", end=\" \")\n",
    "  print(\"\")"
   ]
  },
  {
   "cell_type": "markdown",
   "metadata": {},
   "source": [
    "<figure>\n",
    "<img src=\"Pattern-Images\\P8.png\" width=\"200px\" height=\"200px\">\n",
    "</figure>"
   ]
  },
  {
   "cell_type": "markdown",
   "metadata": {},
   "source": [
    "0 9 0   -> i 2n-2i-1(2*5-2*0-1 = 10-0-1 = 10-1 = 9) i <br>\n",
    "1 7 1   -> i 2n-2i-1(10-2*1-1 = 10-2-1 = 10-3 = 7) i <br>\n",
    "2 5 2   -> i 2n-2i-1(10-2*2-1 = 10-4-1 = 10-5 = 5) i <br>\n",
    "3 3 3   -> i 2n-2i-1(10-2*3-1 = 10-6-1 = 10-7 = 3) i <br>\n",
    "4 1 4   -> i 2n-2i-1(10-2*4-1 = 10-8-1 = 10-9 = 1) i"
   ]
  },
  {
   "cell_type": "code",
   "execution_count": 10,
   "metadata": {},
   "outputs": [
    {
     "name": "stdout",
     "output_type": "stream",
     "text": [
      "* * * * * * * * * \n",
      "  * * * * * * *   \n",
      "    * * * * *     \n",
      "      * * *       \n",
      "        *         \n"
     ]
    }
   ],
   "source": [
    "# n = int(input())\n",
    "n = 5\n",
    "for i in range(n):\n",
    "#   space\n",
    "  for j in range(i):\n",
    "    print(\" \", end=\" \")\n",
    "# star\n",
    "  for j in range(2*n-2*i-1):\n",
    "    print(\"*\", end=\" \")\n",
    "#   space\n",
    "  for j in range(i):\n",
    "    print(\" \", end=\" \")\n",
    "  print(\"\")"
   ]
  },
  {
   "cell_type": "markdown",
   "metadata": {},
   "source": [
    "<figure>\n",
    "<img src=\"Pattern-Images\\P9.png\" width=\"200px\" height=\"200px\">\n",
    "</figure>"
   ]
  },
  {
   "cell_type": "code",
   "execution_count": 11,
   "metadata": {},
   "outputs": [
    {
     "name": "stdout",
     "output_type": "stream",
     "text": [
      "        *         \n",
      "      * * *       \n",
      "    * * * * *     \n",
      "  * * * * * * *   \n",
      "* * * * * * * * * \n",
      "* * * * * * * * * \n",
      "  * * * * * * *   \n",
      "    * * * * *     \n",
      "      * * *       \n",
      "        *         \n"
     ]
    }
   ],
   "source": [
    " \n",
    "# n = int(input())\n",
    "n = 5\n",
    "for i in range(n):\n",
    "  for j in range(n-i-1):\n",
    "    print(\" \", end=\" \")\n",
    "  for j in range(2*i+1):\n",
    "    print(\"*\", end=\" \")\n",
    "  for j in range(n-i-1):\n",
    "    print(\" \", end=\" \")\n",
    "  print(\"\")\n",
    "for i in range(n):\n",
    "  for j in range(i):\n",
    "    print(\" \", end=\" \")\n",
    "  for j in range(2*n-2*i-1):\n",
    "    print(\"*\", end=\" \")\n",
    "  for j in range(i):\n",
    "    print(\" \", end=\" \")\n",
    "  print(\"\")"
   ]
  },
  {
   "cell_type": "markdown",
   "metadata": {},
   "source": [
    "<figure>\n",
    "<img src=\"Pattern-Images\\P10.png\" width=\"200px\" height=\"200px\">\n",
    "</figure>"
   ]
  },
  {
   "cell_type": "code",
   "execution_count": 12,
   "metadata": {},
   "outputs": [
    {
     "name": "stdout",
     "output_type": "stream",
     "text": [
      "* \n",
      "* * \n",
      "* * * \n",
      "* * * * \n",
      "* * * * * \n",
      "* * * * \n",
      "* * * \n",
      "* * \n",
      "* \n",
      "* \n",
      "* * \n",
      "* * * \n",
      "* * * * \n",
      "* * * * * \n",
      "* * * * \n",
      "* * * \n",
      "* * \n",
      "* \n"
     ]
    }
   ],
   "source": [
    "# n = int(input())\n",
    "n = 5\n",
    "for i in range(n):\n",
    "  for j in range(i+1):\n",
    "    print(\"*\", end=\" \")\n",
    "  print(\"\")\n",
    "for i in range(n-1):\n",
    "    for j in range(n-i-1):\n",
    "        print(\"*\", end=\" \")\n",
    "    print(\"\")\n",
    "\n",
    "# OR\n",
    "for i in range(2*n-1):\n",
    "  if(i<n):\n",
    "    stars = i+1\n",
    "  else:\n",
    "    stars = 2*n-i-1\n",
    "  for i in range(stars):\n",
    "    print(\"*\", end=\" \")\n",
    "  print(\"\")"
   ]
  },
  {
   "cell_type": "markdown",
   "metadata": {},
   "source": [
    "<figure>\n",
    "<img src=\"Pattern-Images\\P11.png\" width=\"200px\" height=\"200px\">\n",
    "</figure>"
   ]
  },
  {
   "cell_type": "code",
   "execution_count": 13,
   "metadata": {},
   "outputs": [
    {
     "name": "stdout",
     "output_type": "stream",
     "text": [
      "1\n",
      "01\n",
      "101\n",
      "0101\n",
      "10101\n"
     ]
    }
   ],
   "source": [
    "# n = int(input())\n",
    "n = 5\n",
    "for i in range(n):\n",
    "  if(i % 2 == 0):\n",
    "    start = 1\n",
    "  else:\n",
    "    start = 0\n",
    "  for j in range(i+1):\n",
    "    print(start, end=\"\")\n",
    "    start = 1-start\n",
    "  print(\"\")"
   ]
  },
  {
   "cell_type": "markdown",
   "metadata": {},
   "source": [
    "<figure>\n",
    "<img src=\"Pattern-Images\\P12.png\" width=\"200px\" height=\"200px\">\n",
    "</figure>"
   ]
  },
  {
   "cell_type": "markdown",
   "metadata": {},
   "source": [
    "1<br>\n",
    "12<br>\n",
    "123<br>\n",
    "1234<br>\n",
    "12345<br>\n",
    "<br>\n",
    "CODE:<br>\n",
    "for i in range(1,n+1): <br>\n",
    "  arr.append(i)<br>\n",
    "for i in range(n):<br>\n",
    "  for j in range(i+1):<br>\n",
    "    print(arr[j], end=\"\")<br>\n",
    "  print(\"\")<br>\n",
    "<br>\n",
    "<br>\n",
    "    1 -> 4,1 -> n-i-1<br>\n",
    "   21 -> 3,21<br>\n",
    "  321 -> 2,<br>\n",
    " 4321 -> 1, <br>\n",
    "54321 -> 0,<br>\n",
    "<br>\n",
    "CODE: <br>\n",
    "for i in range(1, n + 1):<br>\n",
    "    arr.append(i)<br>\n",
    "for i in range(n):<br>\n",
    "    for j in range(n-i-1):<br>\n",
    "        print(\" \", end=\"\")<br>\n",
    "    for j in range(i,-1,-1):<br>\n",
    "        print(arr[j], end=\"\")<br>\n",
    "    print(\"\")<br>"
   ]
  },
  {
   "cell_type": "code",
   "execution_count": 14,
   "metadata": {},
   "outputs": [
    {
     "name": "stdout",
     "output_type": "stream",
     "text": [
      "1        1\n",
      "12      21\n",
      "123    321\n",
      "1234  4321\n",
      "1234554321\n"
     ]
    }
   ],
   "source": [
    "# n = int(input())\n",
    "n = 5\n",
    "space = 2*(n-1)\n",
    "for i in range(1,n+1):\n",
    "    # number\n",
    "    for j in range(1,i+1):\n",
    "        print(j,end=\"\")\n",
    "    # space\n",
    "    for j in range(space):\n",
    "        print(\" \",end=\"\")\n",
    "    # number\n",
    "    for j in range(i,0,-1):\n",
    "        print(j,end=\"\")\n",
    "    print()\n",
    "    space -=2"
   ]
  },
  {
   "cell_type": "markdown",
   "metadata": {},
   "source": [
    "<figure>\n",
    "<img src=\"Pattern-Images\\P13.png\" width=\"200px\" height=\"200px\">\n",
    "</figure>"
   ]
  },
  {
   "cell_type": "code",
   "execution_count": 16,
   "metadata": {},
   "outputs": [
    {
     "name": "stdout",
     "output_type": "stream",
     "text": [
      "1 \n",
      "2 3 \n",
      "4 5 6 \n",
      "7 8 9 10 \n",
      "11 12 13 14 15 \n",
      "1 \n",
      "2 3 \n",
      "4 5 6 \n",
      "7 8 9 10 \n",
      "11 12 13 14 15 \n"
     ]
    }
   ],
   "source": [
    "# n= int(input())\n",
    "n = 5\n",
    "arr1 = []\n",
    "def numCount(a):\n",
    "    total = 0\n",
    "    for i in range(a, 0, -1):\n",
    "        total += i\n",
    "    return total\n",
    "for i in range(1,numCount(n)+1):\n",
    "    arr1.append(i)\n",
    "index = 0\n",
    "for i in range(n):\n",
    "  for j in range(i+1):\n",
    "    print(arr1[index], end=\" \")\n",
    "    index += 1\n",
    "  print(\"\")\n",
    "\n",
    "# OR\n",
    "# n= int(input())\n",
    "n = 5\n",
    "num = 1\n",
    "for i in range(n):\n",
    "  for j in range(i+1):\n",
    "    print(num, end=\" \")\n",
    "    num += 1\n",
    "  print(\"\")"
   ]
  },
  {
   "cell_type": "markdown",
   "metadata": {},
   "source": [
    "<figure>\n",
    "<img src=\"Pattern-Images\\P14.png\" width=\"200px\" height=\"200px\">\n",
    "</figure>"
   ]
  },
  {
   "cell_type": "markdown",
   "metadata": {},
   "source": [
    "for i in range(65, 91):  # ASCII values for 'A' to 'Z' are 65 to 90<br>\n",
    "    print(chr(i), end=\" \")"
   ]
  },
  {
   "cell_type": "code",
   "execution_count": 17,
   "metadata": {},
   "outputs": [
    {
     "name": "stdout",
     "output_type": "stream",
     "text": [
      "A \n",
      "A B \n",
      "A B C \n",
      "A B C D \n",
      "A B C D E \n",
      "A \n",
      "A B \n",
      "A B C \n",
      "A B C D \n",
      "A B C D E \n"
     ]
    }
   ],
   "source": [
    "# n= int(input())\n",
    "n = 5\n",
    "# for i in range(1,n+1):\n",
    "  # for i in range(65, 65+i): \n",
    "for i in range(n):\n",
    "  for i in range(65, 65+i+1):\n",
    "    print(chr(i), end=\" \")\n",
    "  print(\"\")\n",
    "\n",
    "# OR\n",
    "for i in range(n):\n",
    "  for j in range(i+1):\n",
    "    char = chr(65+j)\n",
    "    print(char, end=\" \")\n",
    "  print(\"\")"
   ]
  },
  {
   "cell_type": "markdown",
   "metadata": {},
   "source": [
    "<figure>\n",
    "<img src=\"Pattern-Images\\P15.png\" width=\"200px\" height=\"200px\">\n",
    "</figure>"
   ]
  },
  {
   "cell_type": "code",
   "execution_count": 18,
   "metadata": {},
   "outputs": [
    {
     "name": "stdout",
     "output_type": "stream",
     "text": [
      "A B C D E \n",
      "A B C D \n",
      "A B C \n",
      "A B \n",
      "A \n"
     ]
    }
   ],
   "source": [
    "# n= int(input())\n",
    "n = 5\n",
    "for i in range(1,n+1):\n",
    "  for i in range(65, 65+n-i+1):\n",
    "    print(chr(i), end=\" \")\n",
    "  print(\"\")"
   ]
  },
  {
   "cell_type": "markdown",
   "metadata": {},
   "source": [
    "<figure>\n",
    "<img src=\"Pattern-Images\\P16.png\" width=\"200px\" height=\"200px\">\n",
    "</figure>"
   ]
  },
  {
   "cell_type": "code",
   "execution_count": 19,
   "metadata": {},
   "outputs": [
    {
     "name": "stdout",
     "output_type": "stream",
     "text": [
      "A \n",
      "B B \n",
      "C C C \n",
      "D D D D \n",
      "E E E E E \n"
     ]
    }
   ],
   "source": [
    "# n= int(input())\n",
    "n = 5\n",
    "for i in range(n):\n",
    "  char = chr(65+i)\n",
    "  for j in range(i+1):\n",
    "    print(char, end=\" \")\n",
    "  print(\"\")"
   ]
  },
  {
   "cell_type": "markdown",
   "metadata": {},
   "source": [
    "<figure>\n",
    "<img src=\"Pattern-Images\\P17.png\" width=\"200px\" height=\"200px\">\n",
    "</figure>"
   ]
  },
  {
   "cell_type": "markdown",
   "metadata": {},
   "source": [
    "firstloop(0-4) | [space, char, space] | char = (5/2+1)<br>\n",
    "0    A    ->[4,1,4] = [n-i-1, 2*i+1, n-i-1]<br>\n",
    "1   ABA   ->[3,3,3] = [n-i-1, 2*i+1, n-i-1]<br>\n",
    "2  ABCBA  ->[2,5,2] = [n-i-1, 2*i+1, n-i-1]<br>\n",
    "3 ABCDCBA ->[1,7,1] = [n-i-1, 2*i+1, n-i-1]<br>\n",
    "4ABCDEDCBA->[0,9,0] = [n-i-1, 2*i+1, n-i-1]"
   ]
  },
  {
   "cell_type": "code",
   "execution_count": 21,
   "metadata": {},
   "outputs": [
    {
     "name": "stdout",
     "output_type": "stream",
     "text": [
      "        A \n",
      "      A B A \n",
      "    A B C B A \n",
      "  A B C D C B A \n",
      "A B C D E D C B A \n"
     ]
    }
   ],
   "source": [
    "# n = int(input())\n",
    "n = 5\n",
    "for i in range(n):\n",
    "#  space\n",
    "  for j in range(n-i-1):\n",
    "    print(\" \", end=\" \")\n",
    "# character\n",
    "  for j in range(2*i+1):\n",
    "    # if j <= i:\n",
    "    if j < ((2*i+1)/2):\n",
    "      char = chr(65+j)\n",
    "    else:\n",
    "      char = chr(65+(2 * i - j))\n",
    "    print(char, end=\" \")\n",
    "# space\n",
    "#   for j in range(n-i-1):\n",
    "#     print(\" \", end=\" \")\n",
    "  print(\"\")"
   ]
  },
  {
   "cell_type": "markdown",
   "metadata": {},
   "source": [
    "<figure>\n",
    "<img src=\"Pattern-Images\\P18.png\" width=\"200px\" height=\"200px\">\n",
    "</figure>"
   ]
  },
  {
   "cell_type": "code",
   "execution_count": 22,
   "metadata": {},
   "outputs": [
    {
     "name": "stdout",
     "output_type": "stream",
     "text": [
      "E\n",
      "D E\n",
      "C D E\n",
      "B C D E\n",
      "A B C D E\n",
      "\n"
     ]
    }
   ],
   "source": [
    "# n = int(input())\n",
    "n = 5\n",
    "arr=[]\n",
    "for i in range(n):\n",
    "    for j in range(i+1):\n",
    "        char = chr(65+n-j-1)\n",
    "        arr.append(char)\n",
    "    arr.reverse()\n",
    "    print(\" \".join(arr))\n",
    "    arr =[]\n",
    "print()"
   ]
  },
  {
   "cell_type": "markdown",
   "metadata": {},
   "source": [
    "<figure>\n",
    "<img src=\"Pattern-Images\\P19.png\" width=\"200px\" height=\"200px\">\n",
    "</figure>"
   ]
  },
  {
   "cell_type": "markdown",
   "metadata": {},
   "source": [
    "0 * * * * * * * * * *  -> [5, 0, 5]  -> [n, 2*i, n]\n",
    "1  * * * *     * * * *  -> [4, 2, 4]  -> [n-1, , n-1]\n",
    "2 * * *         * * *  -> [3, 4, 3]  -> \n",
    "3 * *             * *  -> [2, 6, 2]  -> \n",
    "4 *                 *  -> [1, 8, 1]  ->\n",
    "5 *                 *  -> [1, 8, 1]  -> \n",
    "6 * *             * *  -> [2, 6, 2]  -> \n",
    "7 * * *         * * *  -> [3, 4, 3]  -> \n",
    "8 * * * *     * * * *  -> [4, 2, 4]  -> \n",
    "9 * * * * * * * * * *  -> [5, 0, 5]  -> "
   ]
  },
  {
   "cell_type": "code",
   "execution_count": 23,
   "metadata": {},
   "outputs": [
    {
     "name": "stdout",
     "output_type": "stream",
     "text": [
      "**********\n",
      "****  ****\n",
      "***    ***\n",
      "**      **\n",
      "*        *\n",
      "*        *\n",
      "**      **\n",
      "***    ***\n",
      "****  ****\n",
      "**********\n"
     ]
    }
   ],
   "source": [
    "# n= int(input())\n",
    "n = 5\n",
    "for i in range(n):\n",
    "    for j in range(n - i):\n",
    "        print(\"*\", end=\"\")\n",
    "    for j in range(2 * i):\n",
    "            print(\" \", end=\"\")\n",
    "    for j in range(n - i):\n",
    "        print(\"*\", end=\"\")\n",
    "    print()\n",
    "for i in range(n-1, -1, -1):\n",
    "    for j in range(n - i):\n",
    "        print(\"*\", end=\"\")\n",
    "    for j in range(2 * i):\n",
    "            print(\" \", end=\"\")\n",
    "    for j in range(n - i):\n",
    "        print(\"*\", end=\"\")\n",
    "    print()"
   ]
  },
  {
   "cell_type": "markdown",
   "metadata": {},
   "source": [
    "<figure>\n",
    "<img src=\"Pattern-Images\\P20.png\" width=\"200px\" height=\"200px\">\n",
    "</figure>"
   ]
  },
  {
   "cell_type": "code",
   "execution_count": 24,
   "metadata": {},
   "outputs": [
    {
     "name": "stdout",
     "output_type": "stream",
     "text": [
      "*        *\n",
      "**      **\n",
      "***    ***\n",
      "****  ****\n",
      "**********\n",
      "****  ****\n",
      "***    ***\n",
      "**      **\n",
      "*        *\n"
     ]
    }
   ],
   "source": [
    "# n = int(input())\n",
    "n = 5\n",
    "for i in range(n-1, -1, -1):\n",
    "    for j in range(n - i):\n",
    "        print(\"*\", end=\"\")\n",
    "    for j in range(2 * i):\n",
    "            print(\" \", end=\"\")\n",
    "    for j in range(n - i):\n",
    "        print(\"*\", end=\"\")\n",
    "    print()\n",
    "for i in range(1,n):\n",
    "    for j in range(n - i):\n",
    "        print(\"*\", end=\"\")\n",
    "    for j in range(2 * i):\n",
    "            print(\" \", end=\"\")\n",
    "    for j in range(n - i):\n",
    "        print(\"*\", end=\"\")\n",
    "    print()"
   ]
  },
  {
   "cell_type": "markdown",
   "metadata": {},
   "source": [
    "<figure>\n",
    "<img src=\"Pattern-Images\\P21.jpg\" width=\"200px\" height=\"200px\">\n",
    "</figure>"
   ]
  },
  {
   "cell_type": "markdown",
   "metadata": {},
   "source": [
    "[2, 0, 2] -> []\n",
    "[1, 2, 1] -> \n",
    "[1, 2, 1] -> \n",
    "[2, 0, 2] -> \n",
    "\n"
   ]
  },
  {
   "cell_type": "code",
   "execution_count": 25,
   "metadata": {},
   "outputs": [
    {
     "name": "stdout",
     "output_type": "stream",
     "text": [
      "*****\n",
      "*   *\n",
      "*   *\n",
      "*   *\n",
      "*****\n",
      "*****\n",
      "*   *\n",
      "*   *\n",
      "*   *\n",
      "*****\n"
     ]
    }
   ],
   "source": [
    "# n = int(input())\n",
    "n = 5\n",
    "for i in range(n):\n",
    "    if i==0 or i == n-1:\n",
    "        for j in range(n):\n",
    "            print(\"*\", end=\"\")\n",
    "    else:\n",
    "        for j in range(n):\n",
    "            if j==0 or j==n-1:\n",
    "                print(\"*\",end=\"\")\n",
    "            else:\n",
    "                print(\" \",end=\"\")\n",
    "    print()\n",
    "\n",
    "for i in range(n):\n",
    "    for j in range(n):\n",
    "        if i==0 or j==0 or i==n-1 or j==n-1:\n",
    "            print(\"*\",end=\"\")\n",
    "        else:\n",
    "            print(\" \",end=\"\")\n",
    "    print()"
   ]
  },
  {
   "cell_type": "markdown",
   "metadata": {},
   "source": [
    "<figure>\n",
    "<img src=\"Pattern-Images\\P22.png\" width=\"200px\" height=\"200px\">\n",
    "</figure>"
   ]
  },
  {
   "cell_type": "markdown",
   "metadata": {},
   "source": [
    "4 - Matrix = NewMatrix<br>\n",
    "4 - NewMatrix = Matrix<br>\n",
    "<br>\n",
    "NewMatrix=<br>\n",
    " 0   0   0   0   0   0   0  '0'<br>\n",
    " 0   1   1   1   1   1   0  '1'<br>\n",
    " 0   1   2   2   2   1   0  '2'<br>\n",
    " 0   1   2   3   2   1   0  '3'<br>\n",
    " 0   1   2   2   2   1   0  '4'<br>\n",
    " 0   1   1   1   1   1   0  '5'<br>\n",
    " 0   0   0   0   0   0   0  '6'<br>\n",
    "<br>\n",
    "'0' '1' '2' '3' '4' '5' '6'<br>\n",
    "<br>\n",
    "Now counting distances respectively will be<br>\n",
    "top = i<br>\n",
    "left = j<br>\n",
    "right = (2*n-1)-1-j = (2*n-2)-j<br>\n",
    "bottom = (2*n-1)-1-i = (2*n-2-i)<br>"
   ]
  },
  {
   "cell_type": "code",
   "execution_count": 26,
   "metadata": {},
   "outputs": [
    {
     "name": "stdout",
     "output_type": "stream",
     "text": [
      "4 4 4 4 4 4 4 4 4 \n",
      "4 3 3 3 3 3 3 3 4 \n",
      "4 3 2 2 2 2 2 3 4 \n",
      "4 3 2 1 1 1 2 3 4 \n",
      "4 3 2 1 0 1 2 3 4 \n",
      "4 3 2 1 1 1 2 3 4 \n",
      "4 3 2 2 2 2 2 3 4 \n",
      "4 3 3 3 3 3 3 3 4 \n",
      "4 4 4 4 4 4 4 4 4 \n"
     ]
    }
   ],
   "source": [
    "# n = int(input())\n",
    "n = 5\n",
    "for i in range((2*n)-1):\n",
    "    for j in range((2*n)-1):\n",
    "        top = i\n",
    "        left = j\n",
    "        right = (2*n-2)-j\n",
    "        bottom = (2*n-2)-i\n",
    "        print(4-min(min(top,bottom), min(left,right)), end=\" \")\n",
    "    print(\"\")"
   ]
  }
 ],
 "metadata": {
  "kernelspec": {
   "display_name": "Python 3",
   "language": "python",
   "name": "python3"
  },
  "language_info": {
   "codemirror_mode": {
    "name": "ipython",
    "version": 3
   },
   "file_extension": ".py",
   "mimetype": "text/x-python",
   "name": "python",
   "nbconvert_exporter": "python",
   "pygments_lexer": "ipython3",
   "version": "3.12.2"
  }
 },
 "nbformat": 4,
 "nbformat_minor": 2
}
