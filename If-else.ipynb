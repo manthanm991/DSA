{
 "cells": [
  {
   "cell_type": "markdown",
   "metadata": {},
   "source": [
    "Given two integers, n and m. The task is to check the relation between n and m. Return \"lesser\" if n < m,  \"equal\" if n == m, and \"greater\" if n > m.\n",
    "\n",
    "Examples :<br>\n",
    "Input: n = 4, m = 8<br>\n",
    "Output: lesser<br>\n",
    "Explanation: 4 < 8 so print 'lesser'.\n",
    "\n",
    "Input: n = 8, m = 8<br>\n",
    "Output: equal<br>\n",
    "Explanation: 8 = 8 so print 'equal'.\n",
    "\n",
    "Input: n = 8, m = 4<br>\n",
    "Output: greater<br>\n",
    "Explanation: 8 > 4 so print 'greater'.\n",
    "\n",
    "Constraints: -109 <= m , n <= 109"
   ]
  },
  {
   "cell_type": "code",
   "execution_count": 1,
   "metadata": {},
   "outputs": [],
   "source": [
    "class Solution:\n",
    "    def compareNM(self, n : int, m : int) -> str:\n",
    "        # code here\n",
    "        # if n < m:\n",
    "        #     return \"lesser\"\n",
    "        # if n == m:\n",
    "        #     return \"equal\"\n",
    "        # if n > m:\n",
    "        #     return \"greater\"\n",
    "        # OR\n",
    "        if n < m:\n",
    "            return \"lesser\"\n",
    "        elif n == m:\n",
    "            return \"equal\"\n",
    "        else:\n",
    "            return \"greater\""
   ]
  }
 ],
 "metadata": {
  "kernelspec": {
   "display_name": "Python 3",
   "language": "python",
   "name": "python3"
  },
  "language_info": {
   "codemirror_mode": {
    "name": "ipython",
    "version": 3
   },
   "file_extension": ".py",
   "mimetype": "text/x-python",
   "name": "python",
   "nbconvert_exporter": "python",
   "pygments_lexer": "ipython3",
   "version": "3.12.2"
  }
 },
 "nbformat": 4,
 "nbformat_minor": 2
}
