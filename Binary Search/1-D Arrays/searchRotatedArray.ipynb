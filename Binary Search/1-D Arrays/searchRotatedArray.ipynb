{
 "cells": [
  {
   "cell_type": "markdown",
   "metadata": {},
   "source": [
    "# Search in Rotated Array I"
   ]
  },
  {
   "cell_type": "markdown",
   "metadata": {},
   "source": [
    "Search Element in a Rotated Sorted Array I\n",
    "\n",
    "Problem Statement: Given an integer array arr of size N, sorted in ascending order (with distinct values) and a target value k. Now the array is rotated at some pivot point unknown to you. Find the index at which k is present and if k is not present return -1.\n",
    "\n",
    "Examples<br>\n",
    "Example 1:<br>\n",
    "Input Format: arr = [4,5,6,7,0,1,2,3], k = 0<br>\n",
    "Result: 4<br>\n",
    "Explanation: Here, the target is 0. We can see that 0 is present in the given rotated sorted array, nums. Thus, we get output as 4, which is the index at which 0 is present in the array.\n",
    "\n",
    "Example 2:<br>\n",
    "Input Format: arr = [4,5,6,7,0,1,2], k = 3<br>\n",
    "Result: -1<br>\n",
    "Explanation: Here, the target is 3. Since 3 is not present in the given rotated sorted array. Thus, we get the output as -1."
   ]
  },
  {
   "cell_type": "code",
   "execution_count": 1,
   "metadata": {},
   "outputs": [
    {
     "name": "stdout",
     "output_type": "stream",
     "text": [
      "4\n",
      "-1\n"
     ]
    }
   ],
   "source": [
    "def SearchRotatedArr(nums, k):\n",
    "    l,r = 0, len(nums)-1\n",
    "    ans = -1\n",
    "    while l <= r:\n",
    "        mid = (l+r)//2\n",
    "        if nums[mid] == k:\n",
    "            ans = mid\n",
    "        if nums[l] <= nums[mid]:\n",
    "            if nums[l] <= k and k <= nums[mid]:\n",
    "                r = mid - 1\n",
    "            else:\n",
    "                l = mid + 1\n",
    "        else:\n",
    "            if nums[mid] <= k and k <= nums[r]:\n",
    "                l = mid + 1\n",
    "            else:\n",
    "                r = mid - 1\n",
    "    return ans\n",
    "\n",
    "arr = [4,5,6,7,0,1,2,3]\n",
    "a = 0\n",
    "print(SearchRotatedArr(arr,a))\n",
    "arr = [4,5,6,7,0,1,2]\n",
    "a = 3\n",
    "print(SearchRotatedArr(arr,a))"
   ]
  },
  {
   "cell_type": "markdown",
   "metadata": {},
   "source": [
    "#### CODE360\n",
    "Search In Rotated Sorted Array\n",
    "\n",
    "Problem statement: You have been given a sorted array/list 'arr' consisting of ‘n’ elements. You are also given an integer ‘k’. Now the array is rotated at some pivot point unknown to you.\n",
    "\n",
    "For example, if 'arr' = [ 1, 3, 5, 7, 8], then after rotating 'arr' at index 3, the array will be 'arr' = [7, 8, 1, 3, 5]. Now, your task is to find the index at which ‘k’ is present in 'arr'.\n",
    "\n",
    "Note :<br>\n",
    "1. If ‘k’ is not present in 'arr', then print -1.<br>\n",
    "2. There are no duplicate elements present in 'arr'. <br>\n",
    "3. 'arr' can be rotated only in the right direction.<br>\n",
    "\n",
    "Example:<br>\n",
    "Input: 'arr' = [12, 15, 18, 2, 4] , 'k' = 2<br>\n",
    "Output: 3<br>\n",
    "Explanation: If 'arr' = [12, 15, 18, 2, 4] and 'k' = 2, then the position at which 'k' is present in the array is 3 (0-indexed).\n",
    "\n",
    "Detailed explanation ( Input/output format, Notes, Images )<br>\n",
    "Sample Input 1: 4 3<br>\n",
    "8 9 4 5<br>\n",
    "Sample output 1: -1<br>\n",
    "Explanation of Sample Output 1: For the test case, 3 is not present in the array. Hence the output will be -1.\n",
    "\n",
    "Sample Input 2: 4 3<br>\n",
    "2 3 5 8<br>\n",
    "Sample output 2: 1\n",
    "\n",
    "Expected Time Complexity: Try to do this in O(log(n)). \n",
    "\n",
    "Constraints:<br>\n",
    "1 <= n <= 10^5<br>\n",
    "0 <= k <= 10^9<br>\n",
    "0 <= arr[i] <= 10^9\n",
    "\n",
    "Time Limit: 1 second"
   ]
  },
  {
   "cell_type": "code",
   "execution_count": 2,
   "metadata": {},
   "outputs": [],
   "source": [
    "def search(arr, n, k):\n",
    "    l,r = 0, n-1\n",
    "    ans = -1\n",
    "    while l <= r:\n",
    "        mid = (l+r)//2\n",
    "        if arr[mid] == k:\n",
    "            ans = mid\n",
    "        if arr[l] <= arr[mid]:\n",
    "            if arr[l] <= k and k <= arr[mid]:\n",
    "                r = mid - 1\n",
    "            else:\n",
    "                l = mid + 1\n",
    "        else:\n",
    "            if arr[mid] <= k and k <= arr[r]:\n",
    "                l = mid + 1\n",
    "            else:\n",
    "                r = mid - 1\n",
    "    return ans"
   ]
  },
  {
   "cell_type": "markdown",
   "metadata": {},
   "source": [
    "# Search in Rotated Array II"
   ]
  },
  {
   "cell_type": "markdown",
   "metadata": {},
   "source": [
    "Search Element in Rotated Sorted Array II\n",
    "\n",
    "Problem Statement: Given an integer array arr of size N, sorted in ascending order (may contain duplicate values) and a target value k. Now the array is rotated at some pivot point unknown to you. Return True if k is present and otherwise, return False. \n",
    "\n",
    "Examples<br>\n",
    "Example 1:<br>\n",
    "Input Format: arr = [7, 8, 1, 2, 3, 3, 3, 4, 5, 6], k = 3<br>\n",
    "Result: True<br>\n",
    "Explanation: The element 3 is present in the array. So, the answer is True.\n",
    "\n",
    "Example 2:<br>\n",
    "Input Format: arr = [7, 8, 1, 2, 3, 3, 3, 4, 5, 6], k = 10<br>\n",
    "Result: False<br>\n",
    "Explanation: The element 10 is not present in the array. So, the answer is False."
   ]
  },
  {
   "cell_type": "code",
   "execution_count": 3,
   "metadata": {},
   "outputs": [
    {
     "name": "stdout",
     "output_type": "stream",
     "text": [
      "True\n",
      "False\n"
     ]
    }
   ],
   "source": [
    "def SearchRotatedArrII(nums, k):\n",
    "    l, r, ans = 0, len(nums)-1, False\n",
    "    while l <= r:\n",
    "        mid = (l+r)//2\n",
    "        if nums[mid] == k:\n",
    "            ans = True\n",
    "\n",
    "        if nums[l] == nums[mid] and nums[mid] == nums[r]:\n",
    "            l += 1\n",
    "            r -= 1\n",
    "            continue\n",
    "\n",
    "        if nums[l] <= nums[mid]:\n",
    "            if nums[l] <= k and k <= nums[mid]:\n",
    "                r = mid - 1\n",
    "            else:\n",
    "                l = mid + 1\n",
    "        else:\n",
    "            if nums[mid] <= k and k <= nums[r]:\n",
    "                l = mid + 1\n",
    "            else:\n",
    "                r = mid - 1\n",
    "    return ans\n",
    "\n",
    "arr = [7,8,1,2,3,3,3,4,5,6]\n",
    "a = 3\n",
    "print(SearchRotatedArrII(arr, a))\n",
    "arr = [7,8,1,2,3,3,3,4,5,6]\n",
    "a = 10\n",
    "print(SearchRotatedArrII(arr, a))"
   ]
  },
  {
   "cell_type": "code",
   "execution_count": null,
   "metadata": {},
   "outputs": [],
   "source": []
  }
 ],
 "metadata": {
  "kernelspec": {
   "display_name": "Python 3",
   "language": "python",
   "name": "python3"
  },
  "language_info": {
   "codemirror_mode": {
    "name": "ipython",
    "version": 3
   },
   "file_extension": ".py",
   "mimetype": "text/x-python",
   "name": "python",
   "nbconvert_exporter": "python",
   "pygments_lexer": "ipython3",
   "version": "3.12.2"
  }
 },
 "nbformat": 4,
 "nbformat_minor": 2
}
