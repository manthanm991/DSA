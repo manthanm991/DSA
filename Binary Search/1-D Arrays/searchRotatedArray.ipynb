{
 "cells": [
  {
   "cell_type": "markdown",
   "metadata": {},
   "source": [
    "# Search in Rotated Array I"
   ]
  },
  {
   "cell_type": "markdown",
   "metadata": {},
   "source": [
    "Search Element in a Rotated Sorted Array I\n",
    "\n",
    "Problem Statement: Given an integer array arr of size N, sorted in ascending order (with distinct values) and a target value k. Now the array is rotated at some pivot point unknown to you. Find the index at which k is present and if k is not present return -1.\n",
    "\n",
    "Examples<br>\n",
    "Example 1:<br>\n",
    "Input Format: arr = [4,5,6,7,0,1,2,3], k = 0<br>\n",
    "Result: 4<br>\n",
    "Explanation: Here, the target is 0. We can see that 0 is present in the given rotated sorted array, nums. Thus, we get output as 4, which is the index at which 0 is present in the array.\n",
    "\n",
    "Example 2:<br>\n",
    "Input Format: arr = [4,5,6,7,0,1,2], k = 3<br>\n",
    "Result: -1<br>\n",
    "Explanation: Here, the target is 3. Since 3 is not present in the given rotated sorted array. Thus, we get the output as -1."
   ]
  },
  {
   "cell_type": "code",
   "execution_count": null,
   "metadata": {},
   "outputs": [],
   "source": [
    "def SearchRotatedArr(nums, k):\n",
    "    l,r = 0, len(nums)-1\n",
    "    ans = -1\n",
    "    while l <= r:\n",
    "        mid = (l+r)//2\n",
    "        if nums[mid] == k:\n",
    "            ans = mid\n",
    "        if nums[l] <= nums[mid]:\n",
    "            if nums[l] <= k and k <= nums[mid]:\n",
    "                r = mid - 1\n",
    "            else:\n",
    "                l = mid + 1\n",
    "        else:\n",
    "            if nums[mid] <= k and k <= nums[r]:\n",
    "                l = mid + 1\n",
    "            else:\n",
    "                r = mid - 1\n",
    "    return ans\n",
    "\n",
    "arr = [4,5,6,7,0,1,2,3]\n",
    "a = 0\n",
    "print(SearchRotatedArr(arr,a))\n",
    "arr = [4,5,6,7,0,1,2]\n",
    "a = 3\n",
    "print(SearchRotatedArr(arr,a))"
   ]
  }
 ],
 "metadata": {
  "language_info": {
   "name": "python"
  }
 },
 "nbformat": 4,
 "nbformat_minor": 2
}
