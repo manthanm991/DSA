{
 "cells": [
  {
   "cell_type": "markdown",
   "metadata": {},
   "source": [
    "Floor and Ceil in Sorted Array\n",
    "\n",
    "Problem Statement: You're given an sorted array arr of n integers and an integer x. Find the floor and ceiling of x in arr[0..n-1].<br>\n",
    "The floor of x is the largest element in the array which is smaller than or equal to x.<br>\n",
    "The ceiling of x is the smallest element in the array greater than or equal to x.\n",
    "\n",
    "Example 1:<br>\n",
    "Input Format: n = 6, arr[] ={3, 4, 4, 7, 8, 10}, x= 5<br>\n",
    "Result: 4 7<br>\n",
    "Explanation: The floor of 5 in the array is 4, and the ceiling of 5 in the array is 7.\n",
    "\n",
    "Example 2:<br>\n",
    "Input Format: n = 6, arr[] ={3, 4, 4, 7, 8, 10}, x= 8<br>\n",
    "Result: 8 8<br>\n",
    "Explanation: The floor of 8 in the array is 8, and the ceiling of 8 in the array is also 8."
   ]
  },
  {
   "cell_type": "code",
   "execution_count": 1,
   "metadata": {},
   "outputs": [
    {
     "name": "stdout",
     "output_type": "stream",
     "text": [
      "(4, 7)\n",
      "(8, 8)\n"
     ]
    }
   ],
   "source": [
    "def floorCeil(nums, x):\n",
    "    l, r = 0, len(nums)-1\n",
    "    floor = -float('inf')\n",
    "    ceil = float('inf')\n",
    "    while l <= r:\n",
    "        mid = (l+r)//2\n",
    "        if nums[mid] == x:\n",
    "            floor = nums[mid]\n",
    "            ceil = nums[mid]\n",
    "            break\n",
    "        elif nums[mid] > x:\n",
    "            ceil = nums[mid]\n",
    "            r = mid - 1\n",
    "        else:\n",
    "            floor = nums[mid]\n",
    "            l = mid + 1\n",
    "    return floor, ceil\n",
    "\n",
    "arr = [3,4,4,7,8,10]\n",
    "a = 5\n",
    "b = 8\n",
    "\n",
    "print(floorCeil(arr, a))\n",
    "print(floorCeil(arr, b))"
   ]
  },
  {
   "cell_type": "code",
   "execution_count": null,
   "metadata": {},
   "outputs": [],
   "source": []
  }
 ],
 "metadata": {
  "kernelspec": {
   "display_name": "Python 3",
   "language": "python",
   "name": "python3"
  },
  "language_info": {
   "codemirror_mode": {
    "name": "ipython",
    "version": 3
   },
   "file_extension": ".py",
   "mimetype": "text/x-python",
   "name": "python",
   "nbconvert_exporter": "python",
   "pygments_lexer": "ipython3",
   "version": "3.12.2"
  }
 },
 "nbformat": 4,
 "nbformat_minor": 2
}
