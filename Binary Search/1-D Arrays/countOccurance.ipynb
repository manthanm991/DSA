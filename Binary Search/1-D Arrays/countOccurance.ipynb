{
 "cells": [
  {
   "cell_type": "markdown",
   "metadata": {},
   "source": [
    "Count Occurrences in Sorted Array\n",
    "\n",
    "Problem Statement: You are given a sorted array containing N integers and a number X, you have to find the occurrences of X in the given array.\n",
    "\n",
    "Examples<br>\n",
    "Example 1:<br>\n",
    "Input: N = 7,  X = 3 , array[] = {2, 2 , 3 , 3 , 3 , 3 , 4}<br>\n",
    "Output: 4<br>\n",
    "Explanation: 3 is occurring 4 times in the given array so it is our answer.\n",
    "\n",
    "Example 2:<br>\n",
    "Input: N = 8,  X = 2 , array[] = {1, 1, 2, 2, 2, 2, 2, 3}<br>\n",
    "Output: 5<br>\n",
    "Explanation: 2 is occurring 5 times in the given array so it is our answer."
   ]
  },
  {
   "cell_type": "code",
   "execution_count": 1,
   "metadata": {},
   "outputs": [
    {
     "name": "stdout",
     "output_type": "stream",
     "text": [
      "4\n",
      "0\n"
     ]
    }
   ],
   "source": [
    "def countOccurancesBS(nums, target):\n",
    "    def binarySearch(isFirst):\n",
    "        l, r = 0, len(nums) - 1\n",
    "        pos = -1\n",
    "        while l <= r:\n",
    "            mid = (l + r) // 2\n",
    "            if nums[mid] == target:\n",
    "                pos = mid\n",
    "                if isFirst:\n",
    "                    r = mid - 1\n",
    "                else:\n",
    "                    l = mid + 1\n",
    "            elif nums[mid] > target:\n",
    "                r = mid - 1\n",
    "            else:\n",
    "                l = mid + 1\n",
    "        return pos\n",
    "\n",
    "    firstPos = binarySearch(isFirst=True)\n",
    "    if firstPos == -1:\n",
    "        return 0\n",
    "    lastPos = binarySearch(isFirst=False)\n",
    "    return lastPos - firstPos + 1\n",
    "arr = [2,2,3,3,3,3,4]\n",
    "a = 3\n",
    "print(countOccurancesBS(arr, a))\n",
    "\n",
    "arr = [1,2,4,4,5]\n",
    "a = 6\n",
    "print(countOccurancesBS(arr, a))"
   ]
  },
  {
   "cell_type": "markdown",
   "metadata": {},
   "source": [
    "#### GFG\n",
    "Number of occurrence<br>\n",
    "Given a sorted array, arr[] and a number target, you need to find the number of occurrences of target in arr[]. \n",
    "\n",
    "Examples :<br>\n",
    "Input: arr[] = [1, 1, 2, 2, 2, 2, 3], target = 2<br>\n",
    "Output: 4<br>\n",
    "Explanation: target = 2 occurs 4 times in the given array so the output is 4.\n",
    "\n",
    "Input: arr[] = [1, 1, 2, 2, 2, 2, 3], target = 4<br>\n",
    "Output: 0<br>\n",
    "Explanation: target = 4 is not present in the given array so the output is 0.\n",
    "\n",
    "Input: arr[] = [8, 9, 10, 12, 12, 12], target = 12<br>\n",
    "Output: 3<br>\n",
    "Explanation: target = 12 occurs 3 times in the given array so the output is 3.\n",
    "\n",
    "Constraints:<br>\n",
    "1 ≤ arr.size() ≤ 10^6<br>\n",
    "1 ≤ arr[i] ≤ 10^6<br>\n",
    "1 ≤ target ≤ 10^6"
   ]
  },
  {
   "cell_type": "code",
   "execution_count": 2,
   "metadata": {},
   "outputs": [],
   "source": [
    "class Solution:\n",
    "    def countFreq(self, arr, target):\n",
    "        def binarySearch(isFirst):\n",
    "            l, r = 0, len(arr) - 1\n",
    "            pos = -1\n",
    "            while l <= r:\n",
    "                mid = (l + r) // 2\n",
    "                if arr[mid] == target:\n",
    "                    pos = mid\n",
    "                    if isFirst:\n",
    "                        r = mid - 1\n",
    "                    else:\n",
    "                        l = mid + 1\n",
    "                elif arr[mid] > target:\n",
    "                    r = mid - 1\n",
    "                else:\n",
    "                    l = mid + 1\n",
    "            return pos\n",
    "        firstPos = binarySearch(isFirst=True)\n",
    "        if firstPos == -1:\n",
    "            return 0\n",
    "        lastPos = binarySearch(isFirst=False)\n",
    "        return lastPos - firstPos + 1"
   ]
  },
  {
   "cell_type": "code",
   "execution_count": null,
   "metadata": {},
   "outputs": [],
   "source": []
  }
 ],
 "metadata": {
  "kernelspec": {
   "display_name": "Python 3",
   "language": "python",
   "name": "python3"
  },
  "language_info": {
   "codemirror_mode": {
    "name": "ipython",
    "version": 3
   },
   "file_extension": ".py",
   "mimetype": "text/x-python",
   "name": "python",
   "nbconvert_exporter": "python",
   "pygments_lexer": "ipython3",
   "version": "3.12.2"
  }
 },
 "nbformat": 4,
 "nbformat_minor": 2
}
