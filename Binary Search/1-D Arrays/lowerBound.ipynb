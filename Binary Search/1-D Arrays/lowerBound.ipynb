{
 "cells": [
  {
   "cell_type": "markdown",
   "metadata": {},
   "source": [
    "Implement Lower Bound\n",
    "\n",
    "Problem Statement: Given a sorted array of N integers and an integer x, write a program to find the lower bound of x.\n",
    "\n",
    "Examples<br>\n",
    "Example 1:<br>\n",
    "Input Format: N = 4, arr[] = {1,2,2,3}, x = 2<br>\n",
    "Result: 1<br>\n",
    "Explanation: Index 1 is the smallest index such that arr[1] >= x.\n",
    "\n",
    "Example 2:<br>\n",
    "Input Format: N = 5, arr[] = {3,5,8,15,19}, x = 9<br>\n",
    "Result: 3<br>\n",
    "Explanation: Index 3 is the smallest index such that arr[3] >= x."
   ]
  },
  {
   "cell_type": "code",
   "execution_count": 1,
   "metadata": {},
   "outputs": [
    {
     "name": "stdout",
     "output_type": "stream",
     "text": [
      "1\n",
      "3\n"
     ]
    }
   ],
   "source": [
    "# By linear Search\n",
    "def lowerBoundLS(nums, x):\n",
    "    result = 0\n",
    "    for i in range(len(nums)):\n",
    "        if nums[i] < x:\n",
    "            result = max(result, i)\n",
    "    return result + 1 # for 1-based indexing\n",
    "\n",
    "arr = [1,2,2,3]\n",
    "a = 2\n",
    "print(lowerBoundLS(arr,a))\n",
    "\n",
    "arr = [3,5,8,15,19]\n",
    "a = 9\n",
    "print(lowerBoundLS(arr,a))"
   ]
  },
  {
   "cell_type": "code",
   "execution_count": 2,
   "metadata": {},
   "outputs": [
    {
     "name": "stdout",
     "output_type": "stream",
     "text": [
      "1\n",
      "3\n"
     ]
    }
   ],
   "source": [
    "# By Binary Search\n",
    "def lowerBoundBS(nums, x):\n",
    "    result = len(nums)\n",
    "    left, right = 0, len(nums)-1\n",
    "    while left <= right:\n",
    "        mid = (left + right)//2\n",
    "        if nums[mid] >= x:\n",
    "            result = mid\n",
    "            right = mid - 1\n",
    "        else:\n",
    "            left = mid + 1\n",
    "    return result\n",
    "\n",
    "arr = [1,2,2,3]\n",
    "a = 2\n",
    "print(lowerBoundBS(arr,a))\n",
    "\n",
    "arr = [3,5,8,15,19]\n",
    "a = 9\n",
    "print(lowerBoundBS(arr,a))"
   ]
  },
  {
   "cell_type": "code",
   "execution_count": null,
   "metadata": {},
   "outputs": [],
   "source": []
  }
 ],
 "metadata": {
  "kernelspec": {
   "display_name": "Python 3",
   "language": "python",
   "name": "python3"
  },
  "language_info": {
   "codemirror_mode": {
    "name": "ipython",
    "version": 3
   },
   "file_extension": ".py",
   "mimetype": "text/x-python",
   "name": "python",
   "nbconvert_exporter": "python",
   "pygments_lexer": "ipython3",
   "version": "3.12.2"
  }
 },
 "nbformat": 4,
 "nbformat_minor": 2
}
