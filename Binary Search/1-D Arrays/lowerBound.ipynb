{
 "cells": [
  {
   "cell_type": "markdown",
   "metadata": {},
   "source": [
    "Implement Lower Bound\n",
    "\n",
    "Problem Statement: Given a sorted array of N integers and an integer x, write a program to find the lower bound of x.\n",
    "\n",
    "Examples<br>\n",
    "Example 1:<br>\n",
    "Input Format: N = 4, arr[] = {1,2,2,3}, x = 2<br>\n",
    "Result: 1<br>\n",
    "Explanation: Index 1 is the smallest index such that arr[1] >= x.\n",
    "\n",
    "Example 2:<br>\n",
    "Input Format: N = 5, arr[] = {3,5,8,15,19}, x = 9<br>\n",
    "Result: 3<br>\n",
    "Explanation: Index 3 is the smallest index such that arr[3] >= x."
   ]
  },
  {
   "cell_type": "code",
   "execution_count": 5,
   "metadata": {},
   "outputs": [
    {
     "name": "stdout",
     "output_type": "stream",
     "text": [
      "1\n",
      "3\n"
     ]
    }
   ],
   "source": [
    "# By linear Search\n",
    "def lowerBoundLS(nums, x):\n",
    "    result = 0\n",
    "    for i in range(len(nums)):\n",
    "        if nums[i] < x:\n",
    "            result = max(result, i)\n",
    "    return result + 1 # for 1-based indexing\n",
    "\n",
    "arr = [1,2,2,3]\n",
    "a = 2\n",
    "print(lowerBoundLS(arr,a))\n",
    "\n",
    "arr = [3,5,8,15,19]\n",
    "a = 9\n",
    "print(lowerBoundLS(arr,a))"
   ]
  },
  {
   "cell_type": "code",
   "execution_count": 6,
   "metadata": {},
   "outputs": [
    {
     "name": "stdout",
     "output_type": "stream",
     "text": [
      "1\n",
      "3\n"
     ]
    }
   ],
   "source": [
    "# By Binary Search\n",
    "def lowerBoundBS(nums, x):\n",
    "    result = len(nums)\n",
    "    left, right = 0, len(nums)-1\n",
    "    while left <= right:\n",
    "        mid = (left + right)//2\n",
    "        if nums[mid] >= x:\n",
    "            result = mid\n",
    "            right = mid - 1\n",
    "        else:\n",
    "            left = mid + 1\n",
    "    return result\n",
    "\n",
    "arr = [1,2,2,3]\n",
    "a = 2\n",
    "print(lowerBoundBS(arr,a))\n",
    "\n",
    "arr = [3,5,8,15,19]\n",
    "a = 9\n",
    "print(lowerBoundBS(arr,a))"
   ]
  },
  {
   "cell_type": "code",
   "execution_count": 7,
   "metadata": {},
   "outputs": [
    {
     "name": "stdout",
     "output_type": "stream",
     "text": [
      "10143\n"
     ]
    }
   ],
   "source": [
    "def binarySearch_1(arr, k):\n",
    "    arr.sort()\n",
    "    result = -1\n",
    "    left, right = 0, len(arr) - 1\n",
    "    while left <= right:\n",
    "        mid = (left + right) // 2\n",
    "        if arr[mid] < k:\n",
    "            result = arr[mid]\n",
    "            left = mid + 1\n",
    "        else:\n",
    "            right = mid - 1\n",
    "    return result\n",
    "\n",
    "arr = [10143, 29122, 30010]\n",
    "x = 23112\n",
    "print(binarySearch_1(arr, x))"
   ]
  },
  {
   "cell_type": "markdown",
   "metadata": {},
   "source": [
    "### GFG\n",
    "Floor in a Sorted Array\n",
    "\n",
    "Given a sorted array arr[] (with unique elements) and an integer k, find the index (0-based) of the largest element in arr[] that is less than or equal to k. This element is called the \"floor\" of k. If such an element does not exist, return -1.\n",
    "\n",
    "Examples<br>\n",
    "Input: arr[] = [1, 2, 8, 10, 11, 12, 19], k = 0<br>\n",
    "Output: -1<br>\n",
    "Explanation: No element less than 0 is found. So output is -1.\n",
    "\n",
    "Input: arr[] = [1, 2, 8, 10, 11, 12, 19], k = 5<br>\n",
    "Output: 1<br>\n",
    "Explanation: Largest Number less than 5 is 2 , whose index is 1.\n",
    "\n",
    "Input: arr[] = [1, 2, 8], k = 1<br>\n",
    "Output: 0<br>\n",
    "Explanation: Largest Number less than or equal to  1 is 1 , whose index is 0.\n",
    "\n",
    "Constraints:<br>\n",
    "1 ≤ arr.size() ≤ 106<br>\n",
    "1 ≤ arr[i] ≤ 106<br>\n",
    "0 ≤ k ≤ arr[n-1]"
   ]
  },
  {
   "cell_type": "code",
   "execution_count": 8,
   "metadata": {},
   "outputs": [],
   "source": [
    "class Solution:\n",
    "    #User function Template for python3\n",
    "    \n",
    "    #Complete this function\n",
    "    def findFloor(self,arr,k):\n",
    "        #Your code here\n",
    "        arr.sort()\n",
    "        result = -1\n",
    "        left, right = 0, len(arr) - 1\n",
    "        while left <= right:\n",
    "            mid = (left + right) // 2\n",
    "            if arr[mid] <= k:\n",
    "                result = mid\n",
    "                left = mid + 1\n",
    "            else:   \n",
    "                right = mid - 1\n",
    "        return result"
   ]
  }
 ],
 "metadata": {
  "kernelspec": {
   "display_name": "Python 3",
   "language": "python",
   "name": "python3"
  },
  "language_info": {
   "codemirror_mode": {
    "name": "ipython",
    "version": 3
   },
   "file_extension": ".py",
   "mimetype": "text/x-python",
   "name": "python",
   "nbconvert_exporter": "python",
   "pygments_lexer": "ipython3",
   "version": "3.12.2"
  }
 },
 "nbformat": 4,
 "nbformat_minor": 2
}
