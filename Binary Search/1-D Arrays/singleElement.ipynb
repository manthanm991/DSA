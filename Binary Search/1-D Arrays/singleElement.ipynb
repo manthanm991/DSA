{
 "cells": [
  {
   "cell_type": "markdown",
   "metadata": {},
   "source": [
    "Search Single Element in a sorted array\n",
    "\n",
    "Problem Statement: Given an array of N integers. Every number in the array except one appears twice. Find the single number in the array.\n",
    "\n",
    "Examples<br>\n",
    "Example 1:<br>\n",
    "Input Format: arr[] = {1,1,2,2,3,3,4,5,5,6,6}<br>\n",
    "Result: 4<br>\n",
    "Explanation: Only the number 4 appears once in the array.\n",
    "\n",
    "Example 2:<br>\n",
    "Input Format: arr[] = {1,1,3,5,5}<br>\n",
    "Result: 3<br>\n",
    "Explanation: Only the number 3 appears once in the array."
   ]
  },
  {
   "cell_type": "code",
   "execution_count": 1,
   "metadata": {},
   "outputs": [
    {
     "name": "stdout",
     "output_type": "stream",
     "text": [
      "4\n"
     ]
    }
   ],
   "source": [
    "def singleElement(nums):\n",
    "    n = len(nums)\n",
    "    if n == 1:\n",
    "        return nums[0]\n",
    "    if nums[0] != nums[1]:\n",
    "        return nums[0]\n",
    "    if nums[n-1] != nums[n-2]:\n",
    "        return nums[n-1]\n",
    "    \n",
    "    l,r = 0, n-1\n",
    "    while l <= r:\n",
    "        mid = (l+r)//2\n",
    "        if nums[mid] != nums[mid-1] and nums[mid] != nums[mid+1]:\n",
    "            return nums[mid]\n",
    "        if (mid % 2 == 1 and nums[mid] == nums[mid-1]) or (mid % 2 == 0 and nums[mid] == nums[mid+1]):\n",
    "            l = mid + 1\n",
    "        else:\n",
    "            r = mid -1\n",
    "    return -1\n",
    "\n",
    "arr = [1,1,2,2,3,3,4,5,5,6,6]\n",
    "print(singleElement(arr))"
   ]
  },
  {
   "cell_type": "markdown",
   "metadata": {},
   "source": [
    "#### Code360\n",
    "Single Element in a Sorted Array\n",
    "\n",
    "Problem statement: You are given a sorted array ‘arr’ of ‘n’ numbers such that every number occurred twice in the array except one, which appears only once. Return the number that appears once.\n",
    "\n",
    "Example:<br>\n",
    "Input: 'arr' = [1,1,2,2,4,5,5]<br>\n",
    "Output: 4 <br>\n",
    "Explanation: Number 4 only appears once the array.\n",
    "\n",
    "Note : Exactly one number in the array 'arr' appears once.\n",
    "\n",
    "Detailed explanation ( Input/output format, Notes, Images )<br>\n",
    "Sample Input 1 : 5 <br>\n",
    "1 1 3 5 5 <br>\n",
    "Sample Output 1 :3 <br>\n",
    "Explanation of Sample Input 1 : Given array is [1, 1, 3, 5, 5]. Here, 3 occurs once in the array. So, the answer is 3.\n",
    "\n",
    "Sample Input 2 : 5<br>\n",
    "1 1 4 4 15<br>\n",
    "Sample Output 2 : 15<br>\n",
    "Explanation of Sample Input 2 : The array is [1, 1, 4, 4, 15]. Here, 15 occurs once in the array. So, the answer is 15.\n",
    "\n",
    "Expected Time Complexity: Try to solve this in O(log(n)).\n",
    "\n",
    "Constraints :<br>\n",
    "1 <= n <= 10^5<br>\n",
    "0 <= arr[i] <= 10^9\n",
    "\n",
    "Time Limit: 1 sec"
   ]
  },
  {
   "cell_type": "code",
   "execution_count": 2,
   "metadata": {},
   "outputs": [],
   "source": [
    "def singleNonDuplicate(arr):\n",
    "    # Write your code here\n",
    "    n = len(arr)\n",
    "    if n == 1:\n",
    "        return arr[0]\n",
    "    if arr[0] != arr[1]:\n",
    "        return arr[0]\n",
    "    if arr[n-1] != arr[n-2]:\n",
    "        return arr[n-1]\n",
    "    \n",
    "    l,r = 0, n-1\n",
    "    while l <= r:\n",
    "        mid = (l+r)//2\n",
    "        if arr[mid] != arr[mid-1] and arr[mid] != arr[mid+1]:\n",
    "            return arr[mid]\n",
    "        if (mid % 2 == 1 and arr[mid] == arr[mid-1]) or (mid % 2 == 0 and arr[mid] == arr[mid+1]):\n",
    "            l = mid + 1\n",
    "        else:\n",
    "            r = mid - 1\n",
    "    return 0"
   ]
  }
 ],
 "metadata": {
  "kernelspec": {
   "display_name": "Python 3",
   "language": "python",
   "name": "python3"
  },
  "language_info": {
   "codemirror_mode": {
    "name": "ipython",
    "version": 3
   },
   "file_extension": ".py",
   "mimetype": "text/x-python",
   "name": "python",
   "nbconvert_exporter": "python",
   "pygments_lexer": "ipython3",
   "version": "3.12.2"
  }
 },
 "nbformat": 4,
 "nbformat_minor": 2
}
