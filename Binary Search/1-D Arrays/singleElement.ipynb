{
 "cells": [
  {
   "cell_type": "markdown",
   "metadata": {},
   "source": [
    "Search Single Element in a sorted array\n",
    "\n",
    "Problem Statement: Given an array of N integers. Every number in the array except one appears twice. Find the single number in the array.\n",
    "\n",
    "Examples<br>\n",
    "Example 1:<br>\n",
    "Input Format: arr[] = {1,1,2,2,3,3,4,5,5,6,6}<br>\n",
    "Result: 4<br>\n",
    "Explanation: Only the number 4 appears once in the array.\n",
    "\n",
    "Example 2:<br>\n",
    "Input Format: arr[] = {1,1,3,5,5}<br>\n",
    "Result: 3<br>\n",
    "Explanation: Only the number 3 appears once in the array."
   ]
  },
  {
   "cell_type": "code",
   "execution_count": 1,
   "metadata": {},
   "outputs": [
    {
     "name": "stdout",
     "output_type": "stream",
     "text": [
      "4\n"
     ]
    }
   ],
   "source": [
    "def singleElement(nums):\n",
    "    n = len(nums)\n",
    "    if n == 1:\n",
    "        return nums[0]\n",
    "    if nums[0] != nums[1]:\n",
    "        return nums[0]\n",
    "    if nums[n-1] != nums[n-2]:\n",
    "        return nums[n-1]\n",
    "    \n",
    "    l,r = 0, n-1\n",
    "    while l <= r:\n",
    "        mid = (l+r)//2\n",
    "        if nums[mid] != nums[mid-1] and nums[mid] != nums[mid+1]:\n",
    "            return nums[mid]\n",
    "        if (mid % 2 == 1 and nums[mid] == nums[mid-1]) or (mid % 2 == 0 and nums[mid] == nums[mid+1]):\n",
    "            l = mid + 1\n",
    "        else:\n",
    "            r = mid -1\n",
    "    return -1\n",
    "\n",
    "arr = [1,1,2,2,3,3,4,5,5,6,6]\n",
    "print(singleElement(arr))"
   ]
  },
  {
   "cell_type": "code",
   "execution_count": null,
   "metadata": {},
   "outputs": [],
   "source": []
  }
 ],
 "metadata": {
  "kernelspec": {
   "display_name": "Python 3",
   "language": "python",
   "name": "python3"
  },
  "language_info": {
   "codemirror_mode": {
    "name": "ipython",
    "version": 3
   },
   "file_extension": ".py",
   "mimetype": "text/x-python",
   "name": "python",
   "nbconvert_exporter": "python",
   "pygments_lexer": "ipython3",
   "version": "3.12.2"
  }
 },
 "nbformat": 4,
 "nbformat_minor": 2
}
