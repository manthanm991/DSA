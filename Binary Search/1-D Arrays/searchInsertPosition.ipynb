{
 "cells": [
  {
   "cell_type": "markdown",
   "metadata": {},
   "source": [
    "Search Insert Position\n",
    "\n",
    "Problem Statement: You are given a sorted array arr of distinct values and a target value x. You need to search for the index of the target value in the array.\n",
    "\n",
    "If the value is present in the array, then return its index. Otherwise, determine the index where it would be inserted in the array while maintaining the sorted order.\n",
    "\n",
    "Example 1:<br>\n",
    "Input Format: arr[] = {1,2,4,7}, x = 6<br>\n",
    "Result: 3<br>\n",
    "Explanation: 6 is not present in the array. So, if we will insert 6 in the 3rd index(0-based indexing), the array will still be sorted. {1,2,4,6,7}.\n",
    "\n",
    "Example 2:<br>\n",
    "Input Format: arr[] = {1,2,4,7}, x = 2<br>\n",
    "Result: 1<br>\n",
    "Explanation: 2 is present in the array and so we will return its index i.e. 1."
   ]
  },
  {
   "cell_type": "code",
   "execution_count": 1,
   "metadata": {},
   "outputs": [
    {
     "name": "stdout",
     "output_type": "stream",
     "text": [
      "3\n",
      "1\n"
     ]
    }
   ],
   "source": [
    "def searchInsertPos(nums, x):\n",
    "    l, r = 0, len(nums)-1\n",
    "    result = -1\n",
    "    while l <= r:\n",
    "        mid = (l + r)//2\n",
    "        if nums[mid] == x:\n",
    "            return mid\n",
    "        elif nums[mid] < x:\n",
    "            result = mid + 1\n",
    "            l = mid + 1\n",
    "        else:\n",
    "            r = mid - 1\n",
    "    if x not in nums:\n",
    "        nums.insert(result, x)\n",
    "    return result\n",
    "\n",
    "arr = [1,2,4,7]\n",
    "a = 6\n",
    "print(searchInsertPos(arr,a))\n",
    "arr = [1,2,4,7]\n",
    "a = 2\n",
    "print(searchInsertPos(arr, a))"
   ]
  }
 ],
 "metadata": {
  "kernelspec": {
   "display_name": "Python 3",
   "language": "python",
   "name": "python3"
  },
  "language_info": {
   "codemirror_mode": {
    "name": "ipython",
    "version": 3
   },
   "file_extension": ".py",
   "mimetype": "text/x-python",
   "name": "python",
   "nbconvert_exporter": "python",
   "pygments_lexer": "ipython3",
   "version": "3.12.2"
  }
 },
 "nbformat": 4,
 "nbformat_minor": 2
}
