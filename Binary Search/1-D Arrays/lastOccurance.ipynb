{
 "cells": [
  {
   "cell_type": "markdown",
   "metadata": {},
   "source": [
    "Last occurrence in a sorted array\n",
    "\n",
    "Given a sorted array of N integers, write a program to find the index of the last occurrence of the target key. If the target is not found then return -1.\n",
    "\n",
    "Note: Consider 0 based indexing\n",
    "\n",
    "Examples:<br>\n",
    "Example 1:<br>\n",
    "Input: N = 7, target=13, array[] = {3,4,13,13,13,20,40}<br>\n",
    "Output: 4<br>\n",
    "Explanation: As the target value is 13 , it appears for the first time at index number 2.\n",
    "\n",
    "Example 2:<br>\n",
    "Input: N = 7, target=60, array[] = {3,4,13,13,13,20,40}<br>\n",
    "Output: -1<br>\n",
    "Explanation: Target value 60 is not present in the array"
   ]
  },
  {
   "cell_type": "code",
   "execution_count": 1,
   "metadata": {},
   "outputs": [
    {
     "name": "stdout",
     "output_type": "stream",
     "text": [
      "4\n",
      "-1\n"
     ]
    }
   ],
   "source": [
    "# Linear Search\n",
    "def lastOccuranceLS(nums, target):\n",
    "    for i in range(len(nums)-1,-1,-1):\n",
    "        if nums[i] == target:\n",
    "            return i\n",
    "    return -1\n",
    "\n",
    "arr =[3,4,1,1,1,20,40]\n",
    "a = 1\n",
    "print(lastOccuranceLS(arr, a))\n",
    "arr =[3,4,1,1,1,20,40]\n",
    "a = 60\n",
    "print(lastOccuranceLS(arr, a))"
   ]
  },
  {
   "cell_type": "code",
   "execution_count": 2,
   "metadata": {},
   "outputs": [
    {
     "name": "stdout",
     "output_type": "stream",
     "text": [
      "[4]\n",
      "[1]\n"
     ]
    }
   ],
   "source": [
    "# Binary Search\n",
    "def lastOccuranceBS(nums, target):\n",
    "    l,r = 0, len(nums)-1\n",
    "    lastPos = -1\n",
    "    while l <= r:\n",
    "        mid = (l+r)//2\n",
    "        if nums[mid] == target:\n",
    "            lastPos = mid\n",
    "            l = mid + 1\n",
    "        elif nums[mid] > target:\n",
    "            r = mid -1\n",
    "        else:\n",
    "            l = mid + 1\n",
    "    return [lastPos]\n",
    "\n",
    "arr =[3,4,13,13,13,20,40]\n",
    "a = 13\n",
    "print(lastOccuranceBS(arr, a))\n",
    "arr =[3,4,6,6,6,20,40]\n",
    "a = 4\n",
    "print(lastOccuranceBS(arr, a))"
   ]
  },
  {
   "cell_type": "code",
   "execution_count": 3,
   "metadata": {},
   "outputs": [
    {
     "name": "stdout",
     "output_type": "stream",
     "text": [
      "[2]\n",
      "[1]\n"
     ]
    }
   ],
   "source": [
    "# Binary Search\n",
    "def firstOccuranceBS(nums, target):\n",
    "    l,r = 0, len(nums)-1\n",
    "    firstPos = -1\n",
    "    while l <= r:\n",
    "        mid = (l+r)//2\n",
    "        if nums[mid] == target:\n",
    "            firstPos = mid\n",
    "            r = mid - 1\n",
    "        elif nums[mid] > target:\n",
    "            r = mid -1\n",
    "        else:\n",
    "            l = mid + 1\n",
    "    return [firstPos]\n",
    "\n",
    "arr =[3,4,13,13,13,20,40]\n",
    "a = 13\n",
    "print(firstOccuranceBS(arr, a))\n",
    "arr =[3,4,6,6,6,20,40]\n",
    "a = 4\n",
    "print(firstOccuranceBS(arr, a))"
   ]
  },
  {
   "cell_type": "code",
   "execution_count": null,
   "metadata": {},
   "outputs": [],
   "source": []
  }
 ],
 "metadata": {
  "kernelspec": {
   "display_name": "Python 3",
   "language": "python",
   "name": "python3"
  },
  "language_info": {
   "codemirror_mode": {
    "name": "ipython",
    "version": 3
   },
   "file_extension": ".py",
   "mimetype": "text/x-python",
   "name": "python",
   "nbconvert_exporter": "python",
   "pygments_lexer": "ipython3",
   "version": "3.12.2"
  }
 },
 "nbformat": 4,
 "nbformat_minor": 2
}
