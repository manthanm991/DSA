{
 "cells": [
  {
   "cell_type": "markdown",
   "metadata": {},
   "source": [
    "Minimum in Rotated Sorted Array\n",
    "\n",
    "Problem Statement: Given an integer array arr of size N, sorted in ascending order (with distinct values). Now the array is rotated between 1 to N times which is unknown. Find the minimum element in the array. \n",
    "\n",
    "Examples<br>\n",
    "Example 1:<br>\n",
    "Input Format: arr = [4,5,6,7,0,1,2,3]<br>\n",
    "Result: 0<br>\n",
    "Explanation: Here, the element 0 is the minimum element in the array.\n",
    "\n",
    "Example 2:<br>\n",
    "Input Format: arr = [3,4,5,1,2]<br>\n",
    "Result: 1<br>\n",
    "Explanation: Here, the element 1 is the minimum element in the array."
   ]
  },
  {
   "cell_type": "code",
   "execution_count": 3,
   "metadata": {},
   "outputs": [
    {
     "name": "stdout",
     "output_type": "stream",
     "text": [
      "0\n"
     ]
    }
   ],
   "source": [
    "def minSorted(nums):\n",
    "    l, r, ans = 0, len(nums)-1, float(\"inf\")\n",
    "    while l <= r:\n",
    "        mid = (l+r)//2\n",
    "        if nums[l] <= nums[r]:\n",
    "            ans = min(ans, nums[l])\n",
    "            break\n",
    "        if nums[l] <= nums[mid]:\n",
    "            ans = min(ans, nums[l])\n",
    "            l = mid + 1\n",
    "        else:\n",
    "            ans = min(ans, nums[mid])\n",
    "            r = mid -1\n",
    "    return ans\n",
    "\n",
    "\n",
    "arr = [4,5,6,7,0,1,2,3]\n",
    "# arr = [3,4,5,1,2]\n",
    "print(minSorted(arr))"
   ]
  },
  {
   "cell_type": "markdown",
   "metadata": {},
   "source": [
    "#### CODE360\n",
    "Find Minimum in Rotated Sorted Array\n",
    "\n",
    "Problem statement\n",
    "You are given an array 'arr' of size 'n' having unique elements that has been sorted in ascending order and rotated between 1 and 'n' times which is unknown. The rotation involves shifting every element to the right, with the last element moving to the first position. For example, if 'arr' = [1, 2, 3, 4] was rotated one time, it would become [4, 1, 2, 3]. Your task is to find the minimum number in this array.\n",
    "\n",
    "Note : All the elements in the array are distinct. \n",
    "\n",
    "Example :<br>\n",
    "Input: arr = [3,4,5,1,2]<br>\n",
    "Output: 1<br>\n",
    "Explanation: The original array was [1,2,3,4,5] and it was rotated 3 times.\n",
    "\n",
    "Detailed explanation ( Input/output format, Notes, Images )<br>\n",
    "Sample Input 1 : 4<br>\n",
    "3 4 1 2<br>\n",
    "Sample Output 1 : 1<br>\n",
    "Explanation of Sample Input 1 : The original array was [1, 2, 3, 4] and it was rotated 2 times.\n",
    "\n",
    "Sample Input 2 : 6<br>\n",
    "25 30 5 10 15 20<br>\n",
    "Sample Output 2 : 5<br>\n",
    "Explanation of Sample Input 2 : The original array was [5, 10, 15, 20, 25, 30] and it was rotated 2 times.\n",
    "\n",
    "Expected Time Complexity: Try to solve this with O(log(n)) time complexity.\n",
    "\n",
    "Constraints :<br>\n",
    "1 <= n <= 10^5<br>\n",
    "1 <= arr[i] <= 10^9\n",
    "\n",
    "Time Limit: 1 sec"
   ]
  },
  {
   "cell_type": "code",
   "execution_count": 4,
   "metadata": {},
   "outputs": [],
   "source": [
    "def findMin(arr: [int]):\n",
    "    l, r, ans = 0, len(arr)-1, float(\"inf\")\n",
    "    while l <= r:\n",
    "        mid = (l+r)//2\n",
    "        if arr[l] <= arr[r]:\n",
    "            ans = min(ans, arr[l])\n",
    "            break\n",
    "        if arr[l] <= arr[mid]:\n",
    "            ans = min(ans, arr[l])\n",
    "            l = mid + 1\n",
    "        else:\n",
    "            ans = min(ans, arr[mid])\n",
    "            r = mid -1\n",
    "    return ans"
   ]
  }
 ],
 "metadata": {
  "kernelspec": {
   "display_name": "Python 3",
   "language": "python",
   "name": "python3"
  },
  "language_info": {
   "codemirror_mode": {
    "name": "ipython",
    "version": 3
   },
   "file_extension": ".py",
   "mimetype": "text/x-python",
   "name": "python",
   "nbconvert_exporter": "python",
   "pygments_lexer": "ipython3",
   "version": "3.12.2"
  }
 },
 "nbformat": 4,
 "nbformat_minor": 2
}
