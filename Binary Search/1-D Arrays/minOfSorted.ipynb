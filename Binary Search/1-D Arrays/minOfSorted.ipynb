{
 "cells": [
  {
   "cell_type": "markdown",
   "metadata": {},
   "source": [
    "Minimum in Rotated Sorted Array\n",
    "\n",
    "Problem Statement: Given an integer array arr of size N, sorted in ascending order (with distinct values). Now the array is rotated between 1 to N times which is unknown. Find the minimum element in the array. \n",
    "\n",
    "Examples<br>\n",
    "Example 1:<br>\n",
    "Input Format: arr = [4,5,6,7,0,1,2,3]<br>\n",
    "Result: 0<br>\n",
    "Explanation: Here, the element 0 is the minimum element in the array.\n",
    "\n",
    "Example 2:<br>\n",
    "Input Format: arr = [3,4,5,1,2]<br>\n",
    "Result: 1<br>\n",
    "Explanation: Here, the element 1 is the minimum element in the array."
   ]
  },
  {
   "cell_type": "code",
   "execution_count": 1,
   "metadata": {},
   "outputs": [
    {
     "name": "stdout",
     "output_type": "stream",
     "text": [
      "0\n"
     ]
    }
   ],
   "source": [
    "def minSorted(nums):\n",
    "    l, r, ans = 0, len(nums)-1, float(\"inf\")\n",
    "    while l <= r:\n",
    "        mid = (l+r)//2\n",
    "        if nums[l] <= nums[r]:\n",
    "            ans = min(ans, nums[l])\n",
    "            break\n",
    "        if nums[l] <= nums[mid]:\n",
    "            ans = min(ans, nums[l])\n",
    "            l = mid + 1\n",
    "        else:\n",
    "            ans = min(ans, nums[mid])\n",
    "            r = mid -1\n",
    "    return ans\n",
    "\n",
    "\n",
    "arr = [4,5,6,7,0,1,2,3]\n",
    "# arr = [3,4,5,1,2]\n",
    "print(minSorted(arr))"
   ]
  }
 ],
 "metadata": {
  "kernelspec": {
   "display_name": "Python 3",
   "language": "python",
   "name": "python3"
  },
  "language_info": {
   "codemirror_mode": {
    "name": "ipython",
    "version": 3
   },
   "file_extension": ".py",
   "mimetype": "text/x-python",
   "name": "python",
   "nbconvert_exporter": "python",
   "pygments_lexer": "ipython3",
   "version": "3.12.2"
  }
 },
 "nbformat": 4,
 "nbformat_minor": 2
}
