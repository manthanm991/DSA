{
 "cells": [
  {
   "cell_type": "markdown",
   "metadata": {},
   "source": [
    "Problem statement: You are given a sorted array of integers and a target, your task is to search for the target in the given array. Assume the given array does not contain any duplicate numbers.\n",
    "\n",
    "Let’s say the given array is = {3, 4, 6, 7, 9, 12, 16, 17} and target = 6."
   ]
  },
  {
   "cell_type": "code",
   "execution_count": 3,
   "metadata": {},
   "outputs": [
    {
     "name": "stdout",
     "output_type": "stream",
     "text": [
      "2\n"
     ]
    }
   ],
   "source": [
    "def BinarySearch(arr, target):\n",
    "    left, right = 0, len(arr)-1\n",
    "    while left<=right:\n",
    "        mid = (left + right) //2\n",
    "        if arr[mid] == target:\n",
    "            return mid\n",
    "        if arr[mid] > target:\n",
    "            right = mid -1\n",
    "        if arr[mid] < target:\n",
    "            left = mid +1\n",
    "    return -1\n",
    "arr = [3,4,6,7,9,12,16,17]\n",
    "target = 6\n",
    "\n",
    "print(BinarySearch(arr, target))"
   ]
  },
  {
   "cell_type": "code",
   "execution_count": 4,
   "metadata": {},
   "outputs": [
    {
     "name": "stdout",
     "output_type": "stream",
     "text": [
      "2\n"
     ]
    }
   ],
   "source": [
    "def BinarySearchRecursive(nums, target, low, high):\n",
    "    if low > high:\n",
    "        return -1\n",
    "    \n",
    "    mid = (low + high) // 2\n",
    "\n",
    "    if nums[mid] == target:\n",
    "        return mid\n",
    "    elif target > nums[mid]:\n",
    "        return BinarySearchRecursive(nums, target, mid + 1, high)\n",
    "    \n",
    "    return BinarySearchRecursive(nums, target, low, mid - 1)\n",
    "\n",
    "arr = [3,4,6,7,9,12,16,17]\n",
    "target = 6\n",
    "print(BinarySearchRecursive(arr, target, 0, len(arr)-1))"
   ]
  },
  {
   "cell_type": "markdown",
   "metadata": {},
   "source": [
    "#### Code360\n",
    "Binary Search\n",
    "\n",
    "Problem statement\n",
    "You are given an integer array 'A' of size 'N', sorted in non-decreasing order. You are also given an integer 'target'. Your task is to write a function to search for 'target' in the array 'A'. If it exists, return its index in 0-based indexing. If 'target' is not present in the array 'A', return -1.\n",
    "\n",
    "Note: You must write an algorithm whose time complexity is O(LogN)\n",
    "\n",
    "Detailed explanation ( Input/output format, Notes, Images )<br>\n",
    "Constraints :<br>\n",
    "1 <= N <= 10^5<br>\n",
    "1 <= A[i] <= 10^9<br>\n",
    "1 <= target <= 10^9<br>\n",
    "Time Limit: 1 sec\n",
    "\n",
    "Sample Input 1: 7<br>\n",
    "1 3 7 9 11 12 45<br>\n",
    "3<br>\n",
    "Sample Output 1: 1<br>\n",
    "Explanation of sample output 1: nums = [1, 3, 7, 9, 11, 12, 45], The index of element '3' is 1. Hence, the answer is '1'.\n",
    "\n",
    "Sample Input 2: 7<br>\n",
    "1 2 3 4 5 6 7<br>\n",
    "9<br>\n",
    "Sample Output 2: -1<br>\n",
    "Explanation of sample output 2: nums = [1, 2, 3, 4, 5, 6, 7], Element '9' doesn't exist. Hence, the answer is '-1'."
   ]
  },
  {
   "cell_type": "code",
   "execution_count": 5,
   "metadata": {},
   "outputs": [],
   "source": [
    "def search(nums: [int], target: int):\n",
    "    # write your code logic !!\n",
    "    left, right = 0, len(nums)-1\n",
    "    while left<=right:\n",
    "        mid = (left + right) //2\n",
    "        if nums[mid] == target:\n",
    "            return mid\n",
    "        if nums[mid] > target:\n",
    "            right = mid -1\n",
    "        if nums[mid] < target:\n",
    "            left = mid +1\n",
    "    return -1"
   ]
  }
 ],
 "metadata": {
  "kernelspec": {
   "display_name": "Python 3",
   "language": "python",
   "name": "python3"
  },
  "language_info": {
   "codemirror_mode": {
    "name": "ipython",
    "version": 3
   },
   "file_extension": ".py",
   "mimetype": "text/x-python",
   "name": "python",
   "nbconvert_exporter": "python",
   "pygments_lexer": "ipython3",
   "version": "3.12.2"
  }
 },
 "nbformat": 4,
 "nbformat_minor": 2
}
