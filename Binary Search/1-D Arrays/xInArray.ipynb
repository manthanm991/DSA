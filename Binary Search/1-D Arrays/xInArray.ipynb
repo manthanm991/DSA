{
 "cells": [
  {
   "cell_type": "markdown",
   "metadata": {},
   "source": [
    "Problem statement: You are given a sorted array of integers and a target, your task is to search for the target in the given array. Assume the given array does not contain any duplicate numbers.\n",
    "\n",
    "Let’s say the given array is = {3, 4, 6, 7, 9, 12, 16, 17} and target = 6."
   ]
  },
  {
   "cell_type": "code",
   "execution_count": 1,
   "metadata": {},
   "outputs": [
    {
     "name": "stdout",
     "output_type": "stream",
     "text": [
      "2\n"
     ]
    }
   ],
   "source": [
    "def BinarySearch(arr, target):\n",
    "    left, right = 0, len(arr)-1\n",
    "    while left<=right:\n",
    "        mid = (left + right) //2\n",
    "        if arr[mid] == target:\n",
    "            return mid\n",
    "        if arr[mid] > target:\n",
    "            right = mid -1\n",
    "        if arr[mid] < target:\n",
    "            left = mid +1\n",
    "    return -1\n",
    "arr = [3,4,6,7,9,12,16,17]\n",
    "target = 6\n",
    "\n",
    "print(BinarySearch(arr, target))"
   ]
  }
 ],
 "metadata": {
  "kernelspec": {
   "display_name": "Python 3",
   "language": "python",
   "name": "python3"
  },
  "language_info": {
   "codemirror_mode": {
    "name": "ipython",
    "version": 3
   },
   "file_extension": ".py",
   "mimetype": "text/x-python",
   "name": "python",
   "nbconvert_exporter": "python",
   "pygments_lexer": "ipython3",
   "version": "3.12.2"
  }
 },
 "nbformat": 4,
 "nbformat_minor": 2
}
