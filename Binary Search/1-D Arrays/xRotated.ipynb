{
 "cells": [
  {
   "cell_type": "markdown",
   "metadata": {},
   "source": [
    "Find out how many times the array has been rotated\n",
    "\n",
    "Problem Statement: Given an integer array arr of size N, sorted in ascending order (with distinct values). Now the array is rotated between 1 to N times which is unknown. Find how many times the array has been rotated. \n",
    "\n",
    "Examples<br>\n",
    "Example 1:<br>\n",
    "Input Format: arr = [4,5,6,7,0,1,2,3]<br>\n",
    "Result: 4<br>\n",
    "Explanation: The original array should be [0,1,2,3,4,5,6,7]. So, we can notice that the array has been rotated 4 times.\n",
    "\n",
    "Example 2:<br>\n",
    "Input Format: arr = [3,4,5,1,2]<br>\n",
    "Result: 3<br>\n",
    "Explanation: The original array should be [1,2,3,4,5]. So, we can notice that the array has been rotated 3 times."
   ]
  },
  {
   "cell_type": "code",
   "execution_count": 1,
   "metadata": {},
   "outputs": [
    {
     "name": "stdout",
     "output_type": "stream",
     "text": [
      "3\n",
      "1\n"
     ]
    }
   ],
   "source": [
    "def NRotated(nums):\n",
    "    l, r, pos = 0, len(nums)-1, float(\"inf\")\n",
    "    while l <= r:\n",
    "        mid = (l+r)//2\n",
    "        if nums[l] <= nums[r]:\n",
    "            pos = min(pos, nums[l])\n",
    "            break\n",
    "        if nums[l] <= nums[mid]:\n",
    "            pos = min(pos, nums[l])\n",
    "            l = mid + 1\n",
    "        else:\n",
    "            pos = min(pos, nums[mid])\n",
    "            r = mid -1\n",
    "    for i in range(len(nums)):\n",
    "        if nums[i] == pos:\n",
    "            print(i)\n",
    "    return pos\n",
    "\n",
    "arr = [4,5,6,7,0,1,2,3]\n",
    "arr = [3,4,5,1,2]\n",
    "print(NRotated(arr))"
   ]
  },
  {
   "cell_type": "markdown",
   "metadata": {},
   "source": [
    "#### GFG\n",
    "Find Kth Rotation\n",
    "\n",
    "Given an increasing sorted rotated array arr of distinct integers. The array is right-rotated k times. Find the value of k.\n",
    "\n",
    "Let's suppose we have an array arr = [2, 4, 6, 9], so if we rotate it by 2 times so that it will look like this:<br>\n",
    "After 1st Rotation : [9, 2, 4, 6]<br>\n",
    "After 2nd Rotation : [6, 9, 2, 4]\n",
    "\n",
    "Examples:<br>\n",
    "Input: arr = [5, 1, 2, 3, 4]<br>\n",
    "Output: 1<br>\n",
    "Explanation: The given array is 5 1 2 3 4. The original sorted array is 1 2 3 4 5. We can see that the array was rotated 1 times to the right.\n",
    "\n",
    "Input: arr = [1, 2, 3, 4, 5]<br>\n",
    "Output: 0<br>\n",
    "Explanation: The given array is not rotated.\n",
    "\n",
    "Expected Time Complexity: O(log(n))<br>\n",
    "Expected Auxiliary Space: O(1)\n",
    "\n",
    "Constraints:<br>\n",
    "1 <= n <=10^5<br>\n",
    "1 <= arri <= 10^7"
   ]
  },
  {
   "cell_type": "code",
   "execution_count": 2,
   "metadata": {},
   "outputs": [],
   "source": [
    "#User function Template for python3\n",
    "class Solution:\n",
    "    def findKRotation(self, arr):\n",
    "        # code here\n",
    "        l, r, ans = 0,len(arr) - 1, float('inf')\n",
    "        index = 0\n",
    "        while l <= r:\n",
    "            mid = (l + r) // 2\n",
    "            if arr[l] <= arr[r]:\n",
    "                if arr[l] < ans:\n",
    "                    index = l\n",
    "                    ans = arr[l]\n",
    "                break\n",
    "    \n",
    "            if arr[l] <= arr[mid]:\n",
    "                if arr[l] < ans:\n",
    "                    index = l\n",
    "                    ans = arr[l]\n",
    "                l = mid + 1\n",
    "            else:\n",
    "                if arr[mid] < ans:\n",
    "                    index = mid\n",
    "                    ans = arr[mid]\n",
    "                r = mid - 1\n",
    "        return index"
   ]
  },
  {
   "cell_type": "markdown",
   "metadata": {},
   "source": [
    "#### Code360\n",
    "Rotation\n",
    "\n",
    "Problem statement\n",
    "You are given an array 'arr' having 'n' distinct integers sorted in ascending order. The array is right rotated 'r' times\n",
    "\n",
    "Find the minimum value of 'r'.\n",
    "\n",
    "Right rotating an array means shifting the element at 'ith' index to (‘i+1') mod 'n' index, for all 'i' from 0 to ‘n-1'.\n",
    "\n",
    "Example:<br>\n",
    "Input: 'n' = 5 , ‘arr’ = [3, 4, 5, 1, 2]<br>\n",
    "Output: 3 <br>\n",
    "Explanation:If we rotate the array [1 ,2, 3, 4, 5] right '3' times then we will get the 'arr'. Thus 'r' = 3.\n",
    "\n",
    "Detailed explanation ( Input/output format, Notes, Images )<br>\n",
    "Sample Input 1: 4<br>\n",
    "2 3 4 1<br>\n",
    "Sample Output 1: 3<br>\n",
    "Explanation of sample output 1: If we right rotate the array {1, 2, 3, 4} by '3' times then we will get {2, 3, 4, 1}. Thus 'r' = 3.\n",
    "\n",
    "Sample Input 2: 3<br>\n",
    "1 2 3<br>\n",
    "Sample Output 2: 0<br>\n",
    "Explanation of sample output 2: If we right rotate the array {1, 2, 3} by '0' time then we will get {1, 2, 3}. Thus 'r' = 0.\n",
    "\n",
    "Expected time complexity: Can you solve this in O(logn) time complexity?\n",
    "\n",
    "Constraints:<br>\n",
    "1 <= ‘n’ <= 10^5<br>    \n",
    "1 <= ‘arr[i]’ <= 10^9<br>\n",
    "Time Limit: 1 sec"
   ]
  },
  {
   "cell_type": "code",
   "execution_count": 3,
   "metadata": {},
   "outputs": [],
   "source": [
    "def findKRotation(arr : [int]) -> int:\n",
    "    l, r, ans = 0,len(arr) - 1, float('inf')\n",
    "    index = -1\n",
    "    while l <= r:\n",
    "        mid = (l + r) // 2\n",
    "        if arr[l] <= arr[r]:\n",
    "            if arr[l] < ans:\n",
    "                index = l\n",
    "                ans = arr[l]\n",
    "            break\n",
    "\n",
    "        if arr[l] <= arr[mid]:\n",
    "            if arr[l] < ans:\n",
    "                index = l\n",
    "                ans = arr[l]\n",
    "            l = mid + 1\n",
    "        else:\n",
    "            if arr[mid] < ans:\n",
    "                index = mid\n",
    "                ans = arr[mid]\n",
    "            r = mid - 1\n",
    "    return index"
   ]
  }
 ],
 "metadata": {
  "kernelspec": {
   "display_name": "Python 3",
   "language": "python",
   "name": "python3"
  },
  "language_info": {
   "codemirror_mode": {
    "name": "ipython",
    "version": 3
   },
   "file_extension": ".py",
   "mimetype": "text/x-python",
   "name": "python",
   "nbconvert_exporter": "python",
   "pygments_lexer": "ipython3",
   "version": "3.12.2"
  }
 },
 "nbformat": 4,
 "nbformat_minor": 2
}
