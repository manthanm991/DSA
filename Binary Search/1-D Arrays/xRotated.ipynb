{
 "cells": [
  {
   "cell_type": "markdown",
   "metadata": {},
   "source": [
    "Find out how many times the array has been rotated\n",
    "\n",
    "Problem Statement: Given an integer array arr of size N, sorted in ascending order (with distinct values). Now the array is rotated between 1 to N times which is unknown. Find how many times the array has been rotated. \n",
    "\n",
    "Examples<br>\n",
    "Example 1:<br>\n",
    "Input Format: arr = [4,5,6,7,0,1,2,3]<br>\n",
    "Result: 4<br>\n",
    "Explanation: The original array should be [0,1,2,3,4,5,6,7]. So, we can notice that the array has been rotated 4 times.\n",
    "\n",
    "Example 2:<br>\n",
    "Input Format: arr = [3,4,5,1,2]<br>\n",
    "Result: 3<br>\n",
    "Explanation: The original array should be [1,2,3,4,5]. So, we can notice that the array has been rotated 3 times."
   ]
  },
  {
   "cell_type": "code",
   "execution_count": 1,
   "metadata": {},
   "outputs": [
    {
     "name": "stdout",
     "output_type": "stream",
     "text": [
      "3\n",
      "1\n"
     ]
    }
   ],
   "source": [
    "def NRotated(nums):\n",
    "    l, r, pos = 0, len(nums)-1, float(\"inf\")\n",
    "    while l <= r:\n",
    "        mid = (l+r)//2\n",
    "        if nums[l] <= nums[r]:\n",
    "            pos = min(pos, nums[l])\n",
    "            break\n",
    "        if nums[l] <= nums[mid]:\n",
    "            pos = min(pos, nums[l])\n",
    "            l = mid + 1\n",
    "        else:\n",
    "            pos = min(pos, nums[mid])\n",
    "            r = mid -1\n",
    "    for i in range(len(nums)):\n",
    "        if nums[i] == pos:\n",
    "            print(i)\n",
    "    return pos\n",
    "\n",
    "arr = [4,5,6,7,0,1,2,3]\n",
    "arr = [3,4,5,1,2]\n",
    "print(NRotated(arr))"
   ]
  },
  {
   "cell_type": "code",
   "execution_count": null,
   "metadata": {},
   "outputs": [],
   "source": []
  }
 ],
 "metadata": {
  "kernelspec": {
   "display_name": "Python 3",
   "language": "python",
   "name": "python3"
  },
  "language_info": {
   "codemirror_mode": {
    "name": "ipython",
    "version": 3
   },
   "file_extension": ".py",
   "mimetype": "text/x-python",
   "name": "python",
   "nbconvert_exporter": "python",
   "pygments_lexer": "ipython3",
   "version": "3.12.2"
  }
 },
 "nbformat": 4,
 "nbformat_minor": 2
}
