{
 "cells": [
  {
   "cell_type": "markdown",
   "metadata": {},
   "source": [
    "Problem Statement: Given an integer N return the reverse of the given number.\n",
    "\n",
    "Note: If a number has trailing zeros, then its reverse will not include them. For e.g., reverse of 10400 will be 401 instead of 00401.\n",
    "\n",
    "Example 1:<br>\n",
    "Input:N = 12345<br>\n",
    "Output:54321<br>\n",
    "Explanation: The reverse of 12345 is 54321.\n",
    "\n",
    "Example 2:<br>\n",
    "Input:N = 7789<br>\n",
    "Output: 9877<br>\n",
    "Explanation: The reverse of number 7789 is 9877."
   ]
  },
  {
   "cell_type": "code",
   "execution_count": 1,
   "metadata": {},
   "outputs": [
    {
     "name": "stdout",
     "output_type": "stream",
     "text": [
      "9877"
     ]
    }
   ],
   "source": [
    "# n = int(input())\n",
    "n = 7789\n",
    "arr =[]\n",
    "for i in str(n):\n",
    "    arr.append(int(i))\n",
    "arr.reverse()\n",
    "for i in range(len(arr)):\n",
    "    print(arr[i],end=\"\")"
   ]
  },
  {
   "cell_type": "markdown",
   "metadata": {},
   "source": [
    "Problem statement\n",
    "There is a song concert going to happen in the city. The price of each ticket is equal to the number obtained after reversing the bits of a given 32 bits unsigned integer ‘n’.\n",
    "\n",
    "Detailed explanation ( Input/output format, Notes, Images )<br>\n",
    "Sample Input 1 :<br>\n",
    "2<br>\n",
    "0<br>\n",
    "12<br>\n",
    "Sample Output 1:<br>\n",
    " 0<br>\n",
    " 805306368<br>\n",
    "Explanation For Sample Input 1 :<br>\n",
    "For the first test case :<br>\n",
    "Since the given number N = 0 is represented as 00000000000000000000000000000000 in its binary representation. So after reversing the bits, it will become 00000000000000000000000000000000 which is equal to 0 only. So the output is 0.     \n",
    "\n",
    "For the second test case :<br>\n",
    "Since the given number N = 12 is represented as 00000000000000000000000000001100 in its binary representation. So after reversing the bits, it will become 0110000000000000000000000000000, which is equal to 805306368 only. So the output is 805306368.<br>\n",
    "\n",
    "Sample Input 2 :<br>\n",
    "2<br>\n",
    "6<br>\n",
    "4<br>\n",
    "Sample Output 2 :<br>\n",
    " 1610612736<br>\n",
    " 536870912<br>\n",
    "Explanation For Sample Input 1 :<br>\n",
    "For the first test case :<br>\n",
    "Since the given number N = 6 is represented as 00000000000000000000000000000110 in its binary representation. So after reversing the bits, it will become 01100000000000000000000000000000, which is equal to 1610612736.<br>\n",
    "\n",
    "For the second test case :<br>\n",
    "Since the given number N = 4 is represented as 00000000000000000000000000000100 in its binary representation. So after reversing the bits, it will become 0010000000000000000000000000000, which is equal to 536870912 only.<br>\n",
    "Expected time complexity:<br>\n",
    "The expected time complexity is O(log(n)).<br>\n",
    "\n",
    "Constraints :<br>\n",
    "1 <= T <= 10<br>\n",
    "0 <= N <= 2^32\n",
    "\n",
    "Time Limit: 1 sec<br>"
   ]
  },
  {
   "cell_type": "code",
   "execution_count": 2,
   "metadata": {},
   "outputs": [],
   "source": [
    "def reverseBits(n):\n",
    "    reversed_n = 0\n",
    "    for i in range(32):\n",
    "        bit = (n >> i) & 1\n",
    "        reversed_n = (reversed_n << 1) | bit\n",
    "    return reversed_n"
   ]
  }
 ],
 "metadata": {
  "kernelspec": {
   "display_name": "Python 3",
   "language": "python",
   "name": "python3"
  },
  "language_info": {
   "codemirror_mode": {
    "name": "ipython",
    "version": 3
   },
   "file_extension": ".py",
   "mimetype": "text/x-python",
   "name": "python",
   "nbconvert_exporter": "python",
   "pygments_lexer": "ipython3",
   "version": "3.12.2"
  }
 },
 "nbformat": 4,
 "nbformat_minor": 2
}
