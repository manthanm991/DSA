{
 "cells": [
  {
   "cell_type": "markdown",
   "metadata": {},
   "source": [
    "Problem statement: Given a number ‘N’, find out the sum of the first N natural numbers.\n",
    "\n",
    "Examples:<br>\n",
    "Example 1:<br>\n",
    "Input: N=5<br>\n",
    "Output: 15<br>\n",
    "Explanation: 1+2+3+4+5=15\n",
    "\n",
    "Example 2:<br>\n",
    "Input: N=6<br>\n",
    "Output: 21<br>\n",
    "Explanation: 1+2+3+4+5+6=15"
   ]
  },
  {
   "cell_type": "code",
   "execution_count": 1,
   "metadata": {},
   "outputs": [
    {
     "name": "stdout",
     "output_type": "stream",
     "text": [
      "15\n"
     ]
    }
   ],
   "source": [
    "# Using loop\n",
    "def sumNNos_3(n):\n",
    "    sum = 0\n",
    "    for i in range(n+1):\n",
    "        sum += i\n",
    "    return sum\n",
    "print(sumNNos_3(5))"
   ]
  },
  {
   "cell_type": "code",
   "execution_count": 2,
   "metadata": {},
   "outputs": [
    {
     "name": "stdout",
     "output_type": "stream",
     "text": [
      "21\n"
     ]
    }
   ],
   "source": [
    "# Recursive\n",
    "def sumNNos(n):\n",
    "    if n==0:\n",
    "        return 0\n",
    "    return n + sumNNos(n-1)\n",
    "\n",
    "print(sumNNos(6))"
   ]
  }
 ],
 "metadata": {
  "kernelspec": {
   "display_name": "Python 3",
   "language": "python",
   "name": "python3"
  },
  "language_info": {
   "codemirror_mode": {
    "name": "ipython",
    "version": 3
   },
   "file_extension": ".py",
   "mimetype": "text/x-python",
   "name": "python",
   "nbconvert_exporter": "python",
   "pygments_lexer": "ipython3",
   "version": "3.12.2"
  }
 },
 "nbformat": 4,
 "nbformat_minor": 2
}
