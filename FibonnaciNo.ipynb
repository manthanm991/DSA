{
 "cells": [
  {
   "cell_type": "markdown",
   "metadata": {},
   "source": [
    "Problem Statement: Given an integer N. Print the Fibonacci series up to the Nth term.\n",
    "\n",
    "Example 1:<br>\n",
    "Input: N = 5<br>\n",
    "Output: 0 1 1 2 3 5<br>\n",
    "Explanation: 0 1 1 2 3 5 is the fibonacci series up to 5th term.(0 based indexing)\n",
    "\n",
    "Example 2:<br>\n",
    "Input: 6<br>\n",
    "Output: 0 1 1 2 3 5 8<br>\n",
    "Explanation: 0 1 1 2 3 5 8 is the fibonacci series upto 6th term.(o based indexing)"
   ]
  },
  {
   "cell_type": "code",
   "execution_count": 1,
   "metadata": {},
   "outputs": [
    {
     "name": "stdout",
     "output_type": "stream",
     "text": [
      "0 1 1 2 3 5 "
     ]
    }
   ],
   "source": [
    "def FibonacciNo_1(n):\n",
    "    N1 = 0\n",
    "    N2 = 1\n",
    "    print(N1,end=\" \")\n",
    "    print(N2,end=\" \")\n",
    "    for i in range(n-1):\n",
    "        N3 = N2 + N1\n",
    "        print(N3,end=\" \")\n",
    "        N1 = N2\n",
    "        N2 = N3\n",
    "    # OR\n",
    "    # for i in range(n-1):\n",
    "    #     N1, N2 = N2, N2 + N1\n",
    "    #     print(N2,end=\" \")\n",
    "FibonacciNo_1(5)"
   ]
  },
  {
   "cell_type": "code",
   "execution_count": 2,
   "metadata": {},
   "outputs": [
    {
     "name": "stdout",
     "output_type": "stream",
     "text": [
      "[0, 1, 1, 2, 3, 5]\n"
     ]
    }
   ],
   "source": [
    "\n",
    "# Recursive Approach\n",
    "def FibonacciNo_2(n):\n",
    "    fib = [0,1]\n",
    "    for i in range(2,n+1):\n",
    "        fib.append(fib[i-1] + fib[i-2])\n",
    "    return fib\n",
    "print(FibonacciNo_2(5))"
   ]
  }
 ],
 "metadata": {
  "kernelspec": {
   "display_name": "Python 3",
   "language": "python",
   "name": "python3"
  },
  "language_info": {
   "codemirror_mode": {
    "name": "ipython",
    "version": 3
   },
   "file_extension": ".py",
   "mimetype": "text/x-python",
   "name": "python",
   "nbconvert_exporter": "python",
   "pygments_lexer": "ipython3",
   "version": "3.12.2"
  }
 },
 "nbformat": 4,
 "nbformat_minor": 2
}
