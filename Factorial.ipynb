{
 "cells": [
  {
   "cell_type": "markdown",
   "metadata": {},
   "source": [
    "Problem Statement: Given a number X,  print its factorial.\n",
    "\n",
    "To obtain the factorial of a number, it has to be multiplied by all the whole numbers preceding it. More precisely X! = X*(X-1)*(X-2) … 1.\n",
    "\n",
    "Note: X  is always a positive number. \n",
    "\n",
    "Examples:<br>\n",
    "Example 1:<br>\n",
    "Input: X = 5<br>\n",
    "Output: 120<br>\n",
    "Explanation: 5! = 5 * 4 * 3 * 2 * 1\n",
    "\n",
    "Example 2:<br>\n",
    "Input: X = 3<br>\n",
    "Output: 6<br>\n",
    "Explanation: 3!=3 * 2 * 1"
   ]
  },
  {
   "cell_type": "code",
   "execution_count": 1,
   "metadata": {},
   "outputs": [
    {
     "name": "stdout",
     "output_type": "stream",
     "text": [
      "24\n"
     ]
    }
   ],
   "source": [
    "# For loop approach\n",
    "def factorial_1(n):\n",
    "    a = 1\n",
    "    for i in range(1,n+1):\n",
    "        a *= i\n",
    "    return a\n",
    "print(factorial_1(4))"
   ]
  },
  {
   "cell_type": "code",
   "execution_count": 2,
   "metadata": {},
   "outputs": [
    {
     "name": "stdout",
     "output_type": "stream",
     "text": [
      "6\n"
     ]
    }
   ],
   "source": [
    "# Recursive Approach\n",
    "def factorial_2(n):\n",
    "    if n == 1:\n",
    "        return 1\n",
    "    return n * factorial_1(n-1)\n",
    "print(factorial_2(3))"
   ]
  },
  {
   "cell_type": "markdown",
   "metadata": {},
   "source": [
    "A number n is called a factorial number if it is the factorial of a positive integer. For example, the first few factorial numbers are 1, 2, 6, 24, 120,<br>\n",
    "Given a number n, the task is to return the list/vector of the factorial numbers smaller than or equal to n.\n",
    "\n",
    "Examples:<br>\n",
    "Input: n = 3<br>\n",
    "Output: 1 2<br>\n",
    "Explanation: The first factorial number is 1 which is less than equal to n. The second number is 2 which is less than equal to n,but the third factorial number is 6 which is greater than n. So we print only 1 and 2.\n",
    "\n",
    "Input: n = 6<br>\n",
    "Output: 1 2 6<br>\n",
    "Explanation: The first three factorial numbers are less than equal to n but the fourth factorial number 24 is greater than n. So we print only first three factorial numbers.\n",
    "\n",
    "Constraints: 1<=n<=1018"
   ]
  },
  {
   "cell_type": "code",
   "execution_count": 5,
   "metadata": {},
   "outputs": [
    {
     "name": "stdout",
     "output_type": "stream",
     "text": [
      "[1, 2, 6]\n"
     ]
    }
   ],
   "source": [
    "def factorialNumbers(n):\n",
    "    arr = []\n",
    "    a = 1\n",
    "    i = 1\n",
    "    while a <= n:\n",
    "        arr.append(a)\n",
    "        i += 1\n",
    "        a *= i\n",
    "    return arr\n",
    "print(factorialNumbers(6))"
   ]
  }
 ],
 "metadata": {
  "kernelspec": {
   "display_name": "Python 3",
   "language": "python",
   "name": "python3"
  },
  "language_info": {
   "codemirror_mode": {
    "name": "ipython",
    "version": 3
   },
   "file_extension": ".py",
   "mimetype": "text/x-python",
   "name": "python",
   "nbconvert_exporter": "python",
   "pygments_lexer": "ipython3",
   "version": "3.12.2"
  }
 },
 "nbformat": 4,
 "nbformat_minor": 2
}
