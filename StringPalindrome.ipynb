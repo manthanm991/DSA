{
 "cells": [
  {
   "cell_type": "markdown",
   "metadata": {},
   "source": [
    "Problem Statement: \"Given a string, check if the string is palindrome or not.\"  A string is said to be palindrome if the reverse of the string is the same as the string.\n",
    "\n",
    "Examples:\n",
    "\n",
    "Example 1:<br>\n",
    "Input: Str =  “ABCDCBA”<br>\n",
    "Output: Palindrome<br>\n",
    "Explanation: String when reversed is the same as string.\n",
    "\n",
    "Example 2:<br>\n",
    "Input: Str = “TAKE U FORWARD”<br>\n",
    "Output: Not Palindrome<br>\n",
    "Explanation: String when reversed is not the same as string."
   ]
  },
  {
   "cell_type": "code",
   "execution_count": 2,
   "metadata": {},
   "outputs": [
    {
     "name": "stdout",
     "output_type": "stream",
     "text": [
      "False\n",
      "True\n"
     ]
    }
   ],
   "source": [
    "def isPalindrome(str):\n",
    "    str = str.replace(\" \", \"\").lower()\n",
    "    arr = []\n",
    "    for i in range(len(str)):\n",
    "        arr.append(str[i])\n",
    "    arr1 = arr.copy()\n",
    "    arr1.reverse()\n",
    "    for i in range(len(arr)):\n",
    "        if arr[i] != arr1[i]:\n",
    "            return False\n",
    "    return True\n",
    "print(isPalindrome(\"Take u forward\"))\n",
    "print(isPalindrome(\"ABCDCBA\"))"
   ]
  },
  {
   "cell_type": "code",
   "execution_count": 5,
   "metadata": {},
   "outputs": [
    {
     "name": "stdout",
     "output_type": "stream",
     "text": [
      "True\n"
     ]
    }
   ],
   "source": [
    "def isPalindrome_4(str,i):\n",
    "    if i>len(str)/2:\n",
    "        return True\n",
    "    if str[i] != str[len(str)-i-1]:\n",
    "        return False\n",
    "    return isPalindrome_4(str,i+1)\n",
    "str = \"ABCDCB A\"\n",
    "str = str.replace(\" \",\"\").lower()\n",
    "print(isPalindrome_4(str,0))"
   ]
  },
  {
   "cell_type": "markdown",
   "metadata": {},
   "source": [
    "A phrase is a palindrome if, after converting all uppercase letters into lowercase letters and removing all non-alphanumeric characters, it reads the same forward and backward. Alphanumeric characters include letters and numbers.\n",
    "\n",
    "Given a string s, return true if it is a palindrome, or false otherwise.\n",
    "\n",
    "Example 1:<br>\n",
    "Input: s = \"A man, a plan, a canal: Panama\"<br>\n",
    "Output: true<br>\n",
    "Explanation: \"amanaplanacanalpanama\" is a palindrome.\n",
    "\n",
    "Example 2:<br>\n",
    "Input: s = \"race a car\"<br>\n",
    "Output: false<br>\n",
    "Explanation: \"raceacar\" is not a palindrome.\n",
    "\n",
    "Example 3:<br>\n",
    "Input: s = \" \"<br>\n",
    "Output: true<br>\n",
    "Explanation: s is an empty string \"\" after removing non-alphanumeric characters.\n",
    "\n",
    "Since an empty string reads the same forward and backward, it is a palindrome.\n",
    "\n",
    "Constraints:<br>\n",
    "1 <= s.length <= 2 * 105<br>\n",
    "s consists only of printable ASCII characters."
   ]
  },
  {
   "cell_type": "code",
   "execution_count": 6,
   "metadata": {},
   "outputs": [],
   "source": [
    "class Solution(object):\n",
    "    def isPalindrome(self, s):\n",
    "        \"\"\"\n",
    "        :type s: str\n",
    "        :rtype: bool\n",
    "        \"\"\"\n",
    "        s = ''.join([char.lower() for char in s if char.isalnum()])\n",
    "        return s == s[::-1]"
   ]
  }
 ],
 "metadata": {
  "kernelspec": {
   "display_name": "Python 3",
   "language": "python",
   "name": "python3"
  },
  "language_info": {
   "codemirror_mode": {
    "name": "ipython",
    "version": 3
   },
   "file_extension": ".py",
   "mimetype": "text/x-python",
   "name": "python",
   "nbconvert_exporter": "python",
   "pygments_lexer": "ipython3",
   "version": "3.12.2"
  }
 },
 "nbformat": 4,
 "nbformat_minor": 2
}
