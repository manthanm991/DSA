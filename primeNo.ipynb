{
 "cells": [
  {
   "cell_type": "markdown",
   "metadata": {},
   "source": [
    "Problem Statement: Given an integer N, check whether it is prime or not. A prime number is a number that is only divisible by 1 and itself and the total number of divisors is 2.\n",
    "\n",
    "Example 1:<br>\n",
    "Input:N = 2<br>\n",
    "Output:True<br>\n",
    "Explanation: 2 is a prime number because it has two divisors: 1 and 2 (the number itself).\n",
    "\n",
    "Example 2:<br>\n",
    "Input:N =10<br>\n",
    "Output: False<br>\n",
    "Explanation: 10 is not prime, it is a composite number because it has 4 divisors: 1, 2, 5 and 10."
   ]
  },
  {
   "cell_type": "code",
   "execution_count": null,
   "metadata": {},
   "outputs": [],
   "source": [
    "# n = int(input())\n",
    "n = 2\n",
    "def isPrimeNo(n):\n",
    "    if n<2:\n",
    "        return False\n",
    "    if n==2 or n==3:\n",
    "        return True\n",
    "    if n % 2 == 0 or n % 3 == 0:\n",
    "        return False\n",
    "    for i in range(i*i<=n):\n",
    "        if n%i==0 or n%(i+2)==0:\n",
    "            return False\n",
    "    else:\n",
    "        return True\n",
    "print(isPrimeNo(n))"
   ]
  },
  {
   "cell_type": "code",
   "execution_count": null,
   "metadata": {},
   "outputs": [],
   "source": [
    "# Code360\n",
    "# n = int(input())\n",
    "n = 10\n",
    "if n < 2:\n",
    "    print(\"NO\")\n",
    "    exit()\n",
    "if n == 2 or n == 3:\n",
    "    print(\"YES\")\n",
    "    exit()\n",
    "if n % 2 == 0 or n % 3 == 0:\n",
    "    print(\"NO\")\n",
    "    exit()\n",
    "i = 5\n",
    "while i * i <= n:\n",
    "    if n % i == 0 or n % (i + 2) == 0:\n",
    "        print(\"NO\")\n",
    "        exit()\n",
    "    i += 6\n",
    "\n",
    "print(\"YES\")"
   ]
  },
  {
   "cell_type": "code",
   "execution_count": null,
   "metadata": {},
   "outputs": [],
   "source": []
  }
 ],
 "metadata": {
  "kernelspec": {
   "display_name": "Python 3",
   "language": "python",
   "name": "python3"
  },
  "language_info": {
   "codemirror_mode": {
    "name": "ipython",
    "version": 3
   },
   "file_extension": ".py",
   "mimetype": "text/x-python",
   "name": "python",
   "nbconvert_exporter": "python",
   "pygments_lexer": "ipython3",
   "version": "3.12.2"
  }
 },
 "nbformat": 4,
 "nbformat_minor": 2
}
