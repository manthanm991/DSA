{
 "cells": [
  {
   "cell_type": "markdown",
   "metadata": {},
   "source": [
    "Problem Statement: Given two integers N1 and N2, find their greatest common divisor.\n",
    "\n",
    "The Greatest Common Divisor of any two integers is the largest number that divides both integers.\n",
    "\n",
    "Example 1:<br>\n",
    "Input:N1 = 9, N2 = 12  <br>\n",
    "Output:3<br>\n",
    "Explanation:Factors of 9: 1, 3 and 9<br>\n",
    "Factors of 12: 1, 2, 3, 4, 6, 12<br>\n",
    "Common Factors: 1, 3 out of which 3 is the greatest hence it is the GCD.\n",
    "\n",
    "Example 2:<br>\n",
    "Input:N1 = 20, N2 = 15<br>\n",
    "Output: 5<br>\n",
    "Explanation:Factors of 20: 1, 2, 4, 5<br>\n",
    "Factors of 15: 1, 3, 5<br>\n",
    "Common Factors: 1, 5 out of which 5 is the greatest hence it is the GCD."
   ]
  },
  {
   "cell_type": "code",
   "execution_count": 3,
   "metadata": {},
   "outputs": [
    {
     "name": "stdout",
     "output_type": "stream",
     "text": [
      "3\n"
     ]
    }
   ],
   "source": [
    "# n1= int(input())\n",
    "# n2= int(input())\n",
    "n1, n2 = 9, 12\n",
    "arr=[]\n",
    "def gcd(a,b):\n",
    "    while b:\n",
    "        a, b = b, a % b\n",
    "    return a\n",
    "def numDivisors(n):\n",
    "    for i in range(1,n+1):\n",
    "        if n % i == 0:\n",
    "            arr.append(i)\n",
    "    return arr\n",
    "\n",
    "print(gcd(n1,n2))"
   ]
  },
  {
   "cell_type": "markdown",
   "metadata": {},
   "source": [
    "### LCM And GCD\n",
    "\n",
    "Given two integers a and b, write a function lcmAndGcd() to compute their LCM and GCD. The function inputs two integers a and b and returns a list containing their LCM and GCD.\n",
    "\n",
    "Examples:<br>\n",
    "Input: a = 5 , b = 10<br>\n",
    "Output: [10, 5]<br>\n",
    "Explanation: LCM of 5 and 10 is 10, while their GCD is 5.\n",
    "\n",
    "Input: a = 14 , b = 8<br>\n",
    "Output: [56, 2]<br>\n",
    "Explanation: LCM of 14 and 8 is 56, while their GCD is 2.\n",
    "\n",
    "Input: a = 1 , b = 1<br>\n",
    "Output: [1, 1]<br>\n",
    "Explanation: LCM of 1 and 1 is 1, while their GCD is 1.\n",
    "\n",
    "Expected Time Complexity: O(log(min(a, b))<br>\n",
    "Expected Auxiliary Space: O(1)<br>\n",
    "Constraints: 1 <= a, b <= 109"
   ]
  },
  {
   "cell_type": "code",
   "execution_count": 4,
   "metadata": {},
   "outputs": [
    {
     "name": "stdout",
     "output_type": "stream",
     "text": [
      "LCM is:56.0, GCD is:2\n"
     ]
    }
   ],
   "source": [
    "# n1= int(input())\n",
    "# n2= int(input())\n",
    "n1, n2 = 14, 8\n",
    "arr=[]\n",
    "def gcd(a,b):\n",
    "    while b:\n",
    "        a, b = b, a % b\n",
    "    return a\n",
    "def numDivisors(n):\n",
    "    for i in range(1,n+1):\n",
    "        if n % i == 0:\n",
    "            arr.append(i)\n",
    "    return arr\n",
    "def lcm(a,b):\n",
    "    gcd_ab = gcd(a,b)\n",
    "    lcm = (a * b)/gcd_ab\n",
    "    return lcm\n",
    "\n",
    "print(f'LCM is:{lcm(n1,n2)}, GCD is:{gcd(n1,n2)}')\n",
    "\n",
    "\n",
    "# OR\n",
    "from typing import List\n",
    "class Solution:\n",
    "    def lcmAndGcd(self, a : int, b : int) -> List[int]:\n",
    "        def gcd(a,b):\n",
    "            while b:\n",
    "                a,b = b, a%b\n",
    "            return a\n",
    "        gcd_val = gcd(a,b)\n",
    "        lcm = (a*b)/gcd_val\n",
    "        return [int(lcm), gcd_val ]"
   ]
  }
 ],
 "metadata": {
  "kernelspec": {
   "display_name": "Python 3",
   "language": "python",
   "name": "python3"
  },
  "language_info": {
   "codemirror_mode": {
    "name": "ipython",
    "version": 3
   },
   "file_extension": ".py",
   "mimetype": "text/x-python",
   "name": "python",
   "nbconvert_exporter": "python",
   "pygments_lexer": "ipython3",
   "version": "3.12.2"
  }
 },
 "nbformat": 4,
 "nbformat_minor": 2
}
