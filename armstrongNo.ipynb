{
 "cells": [
  {
   "cell_type": "markdown",
   "metadata": {},
   "source": [
    "Problem Statement: Given an integer N, return true it is an Armstrong number otherwise return false.\n",
    "\n",
    "Example 1:<br>\n",
    "Input:N = 153<br>\n",
    "Output:True<br>\n",
    "Explanation: 13+53+33 = 1 + 125 + 27 = 153\n",
    "\n",
    "Example 2:<br>\n",
    "Input:N = 371<br>\n",
    "Output: True<br>\n",
    "Explanation: 33+53+13 = 27 + 343 + 1 = 371"
   ]
  },
  {
   "cell_type": "code",
   "execution_count": 3,
   "metadata": {},
   "outputs": [
    {
     "name": "stdout",
     "output_type": "stream",
     "text": [
      "True\n"
     ]
    }
   ],
   "source": [
    "n = 153\n",
    "def armStrongNum(n):\n",
    "    arr = []\n",
    "    sumTotal = 0\n",
    "    for i in str(n):\n",
    "        arr.append(int(i)**len(str(n)))\n",
    "    for i in range(len(arr)):\n",
    "        sumTotal += arr[i]\n",
    "    if n == sumTotal:\n",
    "        return True\n",
    "    else:\n",
    "        return False\n",
    "print(armStrongNum(n))\n",
    "\n",
    "# OR\n",
    "def checkArmstrong(n):\n",
    "    arr = []\n",
    "    sumTotal = 0\n",
    "    for i in str(n):\n",
    "        arr.append(int(i)**len(str(n)))\n",
    "    for i in range(len(arr)):\n",
    "        sumTotal += arr[i]\n",
    "    if n == sumTotal:\n",
    "        return True\n",
    "    else:\n",
    "        return False"
   ]
  }
 ],
 "metadata": {
  "kernelspec": {
   "display_name": "Python 3",
   "language": "python",
   "name": "python3"
  },
  "language_info": {
   "codemirror_mode": {
    "name": "ipython",
    "version": 3
   },
   "file_extension": ".py",
   "mimetype": "text/x-python",
   "name": "python",
   "nbconvert_exporter": "python",
   "pygments_lexer": "ipython3",
   "version": "3.12.2"
  }
 },
 "nbformat": 4,
 "nbformat_minor": 2
}
