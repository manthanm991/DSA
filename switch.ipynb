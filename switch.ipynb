{
 "cells": [
  {
   "cell_type": "markdown",
   "metadata": {},
   "source": [
    "Given an integer choice denoting the choice of the user and a list containing the single value R or two values L and B depending on the choice.\n",
    "\n",
    "If the user's choice is 1, calculate the area of the circle having the given radius(R).<br>\n",
    "Else if the choice is 2, calculate the area of the rectangle with the given length(L) and breadth(B).\n",
    "\n",
    "Note : A list arr[], containing the single value R or the two values L and B, as input parameters. Return the area of the desired geometrical figure. Use Math.PI for the value of pi.\n",
    "\n",
    "Examples :<br>\n",
    "Input: choice = 1, R = 5<br>\n",
    "Output: 78.53981633974483<br>\n",
    "Explaination: The choice is 1. So we have to calculate the area of the circle.\n",
    "\n",
    "Input: choice = 2, L = 5, B = 10<br>\n",
    "Output: 50<br>\n",
    "Explaination: Here we have to calculate the area of the rectangle.\n",
    "\n",
    "Expected Time Complexity: O(1)<br>\n",
    "Expected Auxiliary Space: O(1)<br>\n",
    "Constraints: 1 ≤ R, L, B ≤ 100 "
   ]
  },
  {
   "cell_type": "code",
   "execution_count": 1,
   "metadata": {},
   "outputs": [],
   "source": [
    "import math\n",
    "class Solution:\n",
    "    def switchCase(self, choice, arr):\n",
    "        if choice == 1:\n",
    "            return math.pi*arr[0]*arr[0]\n",
    "        elif choice == 2:\n",
    "            return arr[0]*arr[1]\n",
    "        else:\n",
    "            return -1"
   ]
  }
 ],
 "metadata": {
  "kernelspec": {
   "display_name": "Python 3",
   "language": "python",
   "name": "python3"
  },
  "language_info": {
   "codemirror_mode": {
    "name": "ipython",
    "version": 3
   },
   "file_extension": ".py",
   "mimetype": "text/x-python",
   "name": "python",
   "nbconvert_exporter": "python",
   "pygments_lexer": "ipython3",
   "version": "3.12.2"
  }
 },
 "nbformat": 4,
 "nbformat_minor": 2
}
