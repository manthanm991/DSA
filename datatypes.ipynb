{
 "cells": [
  {
   "cell_type": "markdown",
   "metadata": {},
   "source": [
    "Geek is learning a new programming language. As data type forms the most fundamental part of a language, Geek is learning them with focus and needs your help. Given a data type, help Geek in finding the size of it in byte.\n",
    "\n",
    "Data Type - Character, Integer, Long, Float and Double\n",
    "\n",
    "Example 1:<br>\n",
    "Input: Character<br>\n",
    "Output: 1<br>\n",
    "Explaination: For java it would be 2 bytes.\n",
    "\n",
    "Example 2:<br>\n",
    "Input: Integer<br>\n",
    "Output: 4\n",
    "\n",
    "Your Task: Complete the function dataTypeSize() which takes a string as input and returns the size of the data type represented by the given string in byte unit. Return -1 if the input data type is invalid."
   ]
  },
  {
   "cell_type": "code",
   "execution_count": 1,
   "metadata": {},
   "outputs": [],
   "source": [
    "class Solution:\n",
    "    def dataTypeSize(self, str):\n",
    "        type_sizes = {\n",
    "        \"Character\": 1,\n",
    "        \"Integer\": 4,\n",
    "        \"Long\": 8,\n",
    "        \"Float\": 4,\n",
    "        \"Double\": 8  \n",
    "        }\n",
    "        if str in type_sizes:\n",
    "            return type_sizes[str]\n",
    "        else:\n",
    "            return -1"
   ]
  }
 ],
 "metadata": {
  "kernelspec": {
   "display_name": "Python 3",
   "language": "python",
   "name": "python3"
  },
  "language_info": {
   "codemirror_mode": {
    "name": "ipython",
    "version": 3
   },
   "file_extension": ".py",
   "mimetype": "text/x-python",
   "name": "python",
   "nbconvert_exporter": "python",
   "pygments_lexer": "ipython3",
   "version": "3.12.2"
  }
 },
 "nbformat": 4,
 "nbformat_minor": 2
}
