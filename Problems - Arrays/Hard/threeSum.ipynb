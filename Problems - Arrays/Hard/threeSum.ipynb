{
 "cells": [
  {
   "cell_type": "markdown",
   "metadata": {},
   "source": [
    "Problem Statement: Given an array of N integers, your task is to find unique triplets that add up to give a sum of zero. In short, you need to return an array of all the unique triplets [arr[a], arr[b], arr[c]] such that i!=j, j!=k, k!=i, and their sum is equal to zero.\n",
    "\n",
    "Examples<br>\n",
    "Example 1:<br>\n",
    "Input: nums = [-1,0,1,2,-1,-4]<br>\n",
    "Output: [[-1,-1,2],[-1,0,1]]<br>\n",
    "Explanation: Out of all possible unique triplets possible, [-1,-1,2] and [-1,0,1] satisfy the condition of summing up to zero with i!=j!=k\n",
    "\n",
    "Example 2:<br>\n",
    "Input: nums=[-1,0,1,0]<br>\n",
    "Output: Output: [[-1,0,1],[-1,1,0]]<br>\n",
    "Explanation: Out of all possible unique triplets possible, [-1,0,1] and [-1,1,0] satisfy the condition of summing up to zero with i!=j!=k"
   ]
  },
  {
   "cell_type": "code",
   "execution_count": 1,
   "metadata": {},
   "outputs": [
    {
     "name": "stdout",
     "output_type": "stream",
     "text": [
      "[[-1, 0, 1], [-1, 2, -1]]\n"
     ]
    }
   ],
   "source": [
    "def threeSum(nums):\n",
    "    Map = []\n",
    "    for first in range(len(nums)):\n",
    "        for second in range(first + 1, len(nums)):\n",
    "            for third in range(second + 1,len(nums)):\n",
    "                if sum([nums[first], nums[second], nums[third]]) ==0:\n",
    "                    if sorted([nums[first], nums[second], nums[third]]) not in Map:\n",
    "                        Map.append([nums[first], nums[second], nums[third]])\n",
    "    return Map\n",
    "\n",
    "arr = [-1,0,1,2,-1,-4]\n",
    "print(threeSum(arr))"
   ]
  },
  {
   "cell_type": "code",
   "execution_count": null,
   "metadata": {},
   "outputs": [],
   "source": []
  }
 ],
 "metadata": {
  "kernelspec": {
   "display_name": "Python 3",
   "language": "python",
   "name": "python3"
  },
  "language_info": {
   "codemirror_mode": {
    "name": "ipython",
    "version": 3
   },
   "file_extension": ".py",
   "mimetype": "text/x-python",
   "name": "python",
   "nbconvert_exporter": "python",
   "pygments_lexer": "ipython3",
   "version": "3.12.2"
  }
 },
 "nbformat": 4,
 "nbformat_minor": 2
}
