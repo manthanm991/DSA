{
 "cells": [
  {
   "cell_type": "markdown",
   "metadata": {},
   "source": [
    "<figure>\n",
    "<img src=\"pascalsTriangle.gif\" alt=\"Pascal's Triangle\" title=\"Pascal's Triangle\" width=\"50%\", height=\"50%\">\n",
    "</figure>\n",
    "\n",
    "Problem Statement: This problem has 3 variations. They are stated below:\n",
    "\n",
    "Variation 1: Given row number r and column number c. Print the element at position (r, c) in Pascal’s triangle.\n",
    "\n",
    "Variation 2: Given the row number n. Print the n-th row of Pascal’s triangle.\n",
    "\n",
    "Variation 3: Given the number of rows n. Print the first n rows of Pascal’s triangle.\n",
    "\n",
    "In Pascal’s triangle, each number is the sum of the two numbers directly above it as shown in the figure below:\n",
    "\n",
    "Examples<br>\n",
    "Example 1:<br>\n",
    "Input Format: N = 5, r = 5, c = 3<br>\n",
    "Result:<br>\n",
    "6 (for variation 1)<br>\n",
    "1 4 6 4 1 (for variation 2)<br>\n",
    "\n",
    "1 <br>\n",
    "1 1 <br>\n",
    "1 2 1 <br>\n",
    "1 3 3 1 <br>\n",
    "1 4 6 4 1    (for variation 3)<br>\n",
    "Explanation: There are 5 rows in the output matrix. Each row is formed using the logic of Pascal’s triangle.\n",
    "\n",
    "Example 2:<br>\n",
    "Input Format: N = 1, r = 1, c = 1<br>\n",
    "Result:<br>\n",
    "1 (for variation 1)<br>\n",
    "1 (for variation 2)<br>\n",
    "1  (for variation 3)<br>\n",
    "Explanation: The output matrix has only 1 row."
   ]
  },
  {
   "cell_type": "code",
   "execution_count": 1,
   "metadata": {},
   "outputs": [
    {
     "name": "stdout",
     "output_type": "stream",
     "text": [
      "[[1], [1, 1], [1, 2, 1], [1, 3, 3, 1]]\n"
     ]
    }
   ],
   "source": [
    "def PascalsTriangle(numRows):\n",
    "    matrix = []\n",
    "    for i in range(numRows):\n",
    "        row = [1]\n",
    "        if matrix:\n",
    "            last_row = matrix[-1]\n",
    "            for j in range(1, len(last_row)):\n",
    "                row.append(last_row[j - 1] + last_row[j])\n",
    "            row.append(1)\n",
    "        matrix.append(row)\n",
    "    return matrix\n",
    "\n",
    "print(PascalsTriangle(4))"
   ]
  },
  {
   "cell_type": "code",
   "execution_count": 1,
   "metadata": {},
   "outputs": [
    {
     "name": "stdout",
     "output_type": "stream",
     "text": [
      "[[1], [1, 1], [1, 2, 1], [1, 3, 3, 1]]\n"
     ]
    }
   ],
   "source": [
    "def PascalsTriangle(numRows):\n",
    "    result = []\n",
    "    for i in range(numRows):\n",
    "        row = [1]\n",
    "        coef = 1\n",
    "        for j in range(1, i + 1):\n",
    "            coef = coef * (i - j + 1) // j\n",
    "            row.append(coef)\n",
    "        result.append(row)\n",
    "    return result\n",
    "\n",
    "print(PascalsTriangle(4))"
   ]
  }
 ],
 "metadata": {
  "kernelspec": {
   "display_name": "Python 3",
   "language": "python",
   "name": "python3"
  },
  "language_info": {
   "codemirror_mode": {
    "name": "ipython",
    "version": 3
   },
   "file_extension": ".py",
   "mimetype": "text/x-python",
   "name": "python",
   "nbconvert_exporter": "python",
   "pygments_lexer": "ipython3",
   "version": "3.12.2"
  }
 },
 "nbformat": 4,
 "nbformat_minor": 2
}
