{
 "cells": [
  {
   "cell_type": "markdown",
   "metadata": {},
   "source": [
    "Merge two Sorted Arrays Without Extra Space\n",
    "\n",
    "Problem statement: Given two sorted arrays arr1[] and arr2[] of sizes n and m in non-decreasing order. Merge them in sorted order. Modify arr1 so that it contains the first N elements and modify arr2 so that it contains the last M elements.\n",
    "\n",
    "Examples<br>\n",
    "Example 1:<br>\n",
    "Input:<br>\n",
    "n = 4, arr1[] = [1 4 8 10] <br>\n",
    "m = 5, arr2[] = [2 3 9]\n",
    "\n",
    "Output:<br>\n",
    "arr1[] = [1 2 3 4]<br>\n",
    "arr2[] = [8 9 10]\n",
    "\n",
    "Explanation: After merging the two non-decreasing arrays, we get, 1,2,3,4,8,9,10.\n",
    "\n",
    "Example2:<br>\n",
    "Input:<br>\n",
    "n = 4, arr1[] = [1 3 5 7] <br>\n",
    "m = 5, arr2[] = [0 2 6 8 9]\n",
    "\n",
    "Output:<br>\n",
    "arr1[] = [0 1 2 3]<br>\n",
    "arr2[] = [5 6 7 8 9]\n",
    "\n",
    "Explanation: After merging the two non-decreasing arrays, we get, 0 1 2 3 5 6 7 8 9."
   ]
  },
  {
   "cell_type": "code",
   "execution_count": 1,
   "metadata": {},
   "outputs": [
    {
     "name": "stdout",
     "output_type": "stream",
     "text": [
      "[0, 1, 2, 3]\n",
      "[5, 6, 7, 8, 9]\n"
     ]
    }
   ],
   "source": [
    "arr1 = [1,4,8,10]\n",
    "arr2 = [2,3,9]\n",
    "arr1 = [1,3,5,7]\n",
    "arr2 = [0,2,6,8,9]\n",
    "\n",
    "def mergeSorted(nums1, nums2):\n",
    "    n = len(nums1)\n",
    "    m = len(nums2)\n",
    "    i, j = n-1, 0\n",
    "\n",
    "    while i >= 0 and j < m:\n",
    "        if nums1[i] > nums2[j]:\n",
    "            nums1[i], nums2[j] = nums2[j], nums1[i]\n",
    "            i -= 1\n",
    "            j += 1\n",
    "        else:\n",
    "            i -= 1\n",
    "            \n",
    "    nums1.sort()\n",
    "    nums2.sort()\n",
    "    return nums1, nums2\n",
    "\n",
    "oparr1, oparr2 = mergeSorted(arr1, arr2)\n",
    "print(oparr1)\n",
    "print(oparr2)"
   ]
  },
  {
   "cell_type": "markdown",
   "metadata": {},
   "source": [
    "### Code360\n",
    "Merge Two Sorted Arrays Without Extra Space\n",
    "\n",
    "Problem statement: Given two non-decreasing sorted arrays, ‘A’ and ‘B’, having ‘N’ and ‘M’ elements, respectively. You must merge these arrays, ‘A’ and ‘B’, into a sorted array without using extra space. Of all the 'N + M' sorted elements, array 'A' should contain the first 'N' elements, and array 'B' should have the last 'M' elements.\n",
    "\n",
    "Note: You must perform the merge operation in place and must not allocate any extra space to merge the two arrays.\n",
    "For example: When ‘N’ = 4, ‘A’ = {1, 4, 5, 7} and ‘M’ = 3, ‘B’ = {2, 3, 6}. We can merge these two arrays into {1, 2, 3, 4, 5, 6, 7} (The elements of ‘A’ are {1, 2, 3, 4} ). Hence, the answer is {1, 2, 3, 4, 5, 6, 7}.\n",
    "\n",
    "Detailed explanation ( Input/output format, Notes, Images )<br>\n",
    "Sample Input 1:<br>\n",
    "3 4<br>\n",
    "1 8 8<br>\n",
    "2 3 4 5<br>\n",
    "Sample Output 1:<br>\n",
    "1 2 3 4 5 8 8\n",
    "\n",
    "Explanation Of Sample Input 1:<br>\n",
    "We have ‘A’ = {1, 8, 8} and ‘B’ = {2, 3, 4, 5}. <br>\n",
    "Merging the two arrays results in {1, 2, 3, 4, 5, 8, 8}.<br>\n",
    "Hence the answer is {1, 2, 3, 4, 5, 8, 8}, where ‘A’ contains {1, 2, 3} and ‘B’ contains {4, 5, 8, 8}.\n",
    "\n",
    "Sample Input 2:<br>\n",
    "4 5<br>\n",
    "1 1 1 1<br> \n",
    "2 2 3 3 5<br>\n",
    "Sample Output 2:<br>\n",
    "1 1 1 1 2 2 3 3 5\n",
    "\n",
    "Constraints:<br>\n",
    "1 <= N <= 10^5<br>\n",
    "1 <= M <= 10^5<br>\n",
    "0 <= A[i] <= 10^9<br>\n",
    "0 <= B[i] <= 10^9\n",
    "\n",
    "The sum of ‘N + M’ over all test cases does not exceed 2 * 10^5.<br>\n",
    "Time Limit: 1-sec"
   ]
  },
  {
   "cell_type": "code",
   "execution_count": 2,
   "metadata": {},
   "outputs": [],
   "source": [
    "from typing import *\n",
    "\n",
    "def mergeTwoSortedArraysWithoutExtraSpace(a : List[int], b : List[int]) -> int:\n",
    "    # Write your code here.\n",
    "    n = len(a)\n",
    "    m = len(b)\n",
    "    i, j = n-1, 0\n",
    "\n",
    "    while i >= 0 and j < m:\n",
    "        if a[i] > b[j]:\n",
    "            a[i], b[j] = b[j], a[i]\n",
    "            i -= 1\n",
    "            j += 1\n",
    "        else:\n",
    "            i -= 1\n",
    "            \n",
    "    a.sort()\n",
    "    b.sort()"
   ]
  }
 ],
 "metadata": {
  "kernelspec": {
   "display_name": "Python 3",
   "language": "python",
   "name": "python3"
  },
  "language_info": {
   "codemirror_mode": {
    "name": "ipython",
    "version": 3
   },
   "file_extension": ".py",
   "mimetype": "text/x-python",
   "name": "python",
   "nbconvert_exporter": "python",
   "pygments_lexer": "ipython3",
   "version": "3.12.2"
  }
 },
 "nbformat": 4,
 "nbformat_minor": 2
}
