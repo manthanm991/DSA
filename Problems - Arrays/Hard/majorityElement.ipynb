{
 "cells": [
  {
   "cell_type": "markdown",
   "metadata": {},
   "source": [
    "Problem Statement: Given an array of N integers. Find the elements that appear more than N/3 times in the array. If no such element exists, return an empty vector.\n",
    "\n",
    "Examples<br>\n",
    "Example 1:<br>\n",
    "Input Format: N = 5, array[] = {1,2,2,3,2}<br>\n",
    "Result: 2<br>\n",
    "Explanation: Here we can see that the Count(1) = 1, Count(2) = 3 and Count(3) = 1.Therefore, the count of 2 is greater than N/3 times. Hence, 2 is the answer.\n",
    "\n",
    "Example 2:<br>\n",
    "Input Format:  N = 6, array[] = {11,33,33,11,33,11}<br>\n",
    "Result: 11 33<br>\n",
    "Explanation: Here we can see that the Count(11) = 3 and Count(33) = 3. Therefore, the count of both 11 and 33 is greater than N/3 times. Hence, 11 and 33 is the answer."
   ]
  },
  {
   "cell_type": "code",
   "execution_count": 1,
   "metadata": {},
   "outputs": [
    {
     "name": "stdout",
     "output_type": "stream",
     "text": [
      "[11, 33]\n"
     ]
    }
   ],
   "source": [
    "def MajorityElement(nums, N):\n",
    "    Map = {}\n",
    "    for i in nums:\n",
    "        Map[i] = Map.get(i,0)+1\n",
    "    values =[]\n",
    "    for k, v in Map.items():\n",
    "        if v > N/3:\n",
    "            values.append(k)\n",
    "    return values\n",
    "        \n",
    "arr = [1,2,2,3,2]\n",
    "arr = [11,33,33,11,33,11]\n",
    "print(MajorityElement(arr, len(arr)))"
   ]
  },
  {
   "cell_type": "code",
   "execution_count": null,
   "metadata": {},
   "outputs": [],
   "source": []
  }
 ],
 "metadata": {
  "kernelspec": {
   "display_name": "Python 3",
   "language": "python",
   "name": "python3"
  },
  "language_info": {
   "codemirror_mode": {
    "name": "ipython",
    "version": 3
   },
   "file_extension": ".py",
   "mimetype": "text/x-python",
   "name": "python",
   "nbconvert_exporter": "python",
   "pygments_lexer": "ipython3",
   "version": "3.12.2"
  }
 },
 "nbformat": 4,
 "nbformat_minor": 2
}
