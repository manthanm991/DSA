{
 "cells": [
  {
   "cell_type": "markdown",
   "metadata": {},
   "source": [
    "Problem Statement: Given an array of N integers. Find the elements that appear more than N/3 times in the array. If no such element exists, return an empty vector.\n",
    "\n",
    "Examples<br>\n",
    "Example 1:<br>\n",
    "Input Format: N = 5, array[] = {1,2,2,3,2}<br>\n",
    "Result: 2<br>\n",
    "Explanation: Here we can see that the Count(1) = 1, Count(2) = 3 and Count(3) = 1.Therefore, the count of 2 is greater than N/3 times. Hence, 2 is the answer.\n",
    "\n",
    "Example 2:<br>\n",
    "Input Format:  N = 6, array[] = {11,33,33,11,33,11}<br>\n",
    "Result: 11 33<br>\n",
    "Explanation: Here we can see that the Count(11) = 3 and Count(33) = 3. Therefore, the count of both 11 and 33 is greater than N/3 times. Hence, 11 and 33 is the answer."
   ]
  },
  {
   "cell_type": "code",
   "execution_count": 1,
   "metadata": {},
   "outputs": [
    {
     "name": "stdout",
     "output_type": "stream",
     "text": [
      "[11, 33]\n"
     ]
    }
   ],
   "source": [
    "def MajorityElement(nums, N):\n",
    "    Map = {}\n",
    "    for i in nums:\n",
    "        Map[i] = Map.get(i,0)+1\n",
    "    values =[]\n",
    "    for k, v in Map.items():\n",
    "        if v > N/3:\n",
    "            values.append(k)\n",
    "    return values\n",
    "        \n",
    "arr = [1,2,2,3,2]\n",
    "arr = [11,33,33,11,33,11]\n",
    "print(MajorityElement(arr, len(arr)))"
   ]
  },
  {
   "cell_type": "code",
   "execution_count": 3,
   "metadata": {},
   "outputs": [
    {
     "name": "stdout",
     "output_type": "stream",
     "text": [
      "[11, 33]\n"
     ]
    }
   ],
   "source": [
    "from typing import List\n",
    "\n",
    "def majorityElement(v: List[int]) -> List[int]:\n",
    "    n = len(v)\n",
    "    cnt1, cnt2 = 0, 0\n",
    "    el1, el2 = float('-inf'), float('-inf')\n",
    "\n",
    "    for i in range(n):\n",
    "        if cnt1 == 0 and el2 != v[i]:\n",
    "            cnt1 = 1\n",
    "            el1 = v[i]\n",
    "        elif cnt2 == 0 and el1 != v[i]:\n",
    "            cnt2 = 1\n",
    "            el2 = v[i]\n",
    "        elif v[i] == el1:\n",
    "            cnt1 += 1\n",
    "        elif v[i] == el2:\n",
    "            cnt2 += 1\n",
    "        else:\n",
    "            cnt1 -= 1\n",
    "            cnt2 -= 1\n",
    "\n",
    "    ls = []\n",
    "    cnt1, cnt2 = 0, 0\n",
    "    for i in range(n):\n",
    "        if v[i] == el1:\n",
    "            cnt1 += 1\n",
    "        if v[i] == el2:\n",
    "            cnt2 += 1\n",
    "\n",
    "    mini = int(n / 3) + 1\n",
    "    if cnt1 >= mini:\n",
    "        ls.append(el1)\n",
    "    if cnt2 >= mini:\n",
    "        ls.append(el2)\n",
    "        \n",
    "    return ls\n",
    "\n",
    "arr = [11, 33, 33, 11, 33, 11]\n",
    "print(majorityElement(arr))"
   ]
  }
 ],
 "metadata": {
  "kernelspec": {
   "display_name": "Python 3",
   "language": "python",
   "name": "python3"
  },
  "language_info": {
   "codemirror_mode": {
    "name": "ipython",
    "version": 3
   },
   "file_extension": ".py",
   "mimetype": "text/x-python",
   "name": "python",
   "nbconvert_exporter": "python",
   "pygments_lexer": "ipython3",
   "version": "3.12.2"
  }
 },
 "nbformat": 4,
 "nbformat_minor": 2
}
