{
 "cells": [
  {
   "cell_type": "markdown",
   "metadata": {},
   "source": [
    "Problem Statement: Given an array of N integers, your task is to find unique quads that add up to give a target value. In short, you need to return an array of all the unique quadruplets [arr[a], arr[b], arr[c], arr[d]] such that their sum is equal to a given target.\n",
    "\n",
    "Note:\n",
    "0 <= a, b, c, d < n<br>\n",
    "a, b, c, and d are distinct.<br>\n",
    "arr[a] + arr[b] + arr[c] + arr[d] == target\n",
    "\n",
    "Examples<br>\n",
    "Example 1:<br>\n",
    "Input Format: arr[] = [1,0,-1,0,-2,2], target = 0<br>\n",
    "Result: [[-2,-1,1,2],[-2,0,0,2],[-1,0,0,1]]<br>\n",
    "Explanation: We have to find unique quadruplets from the array such that the sum of those elements is equal to the target sum given that is 0. The result obtained is such that the sum of the quadruplets yields 0.\n",
    "\n",
    "Example 2:<br>\n",
    "Input Format: arr[] = [4,3,3,4,4,2,1,2,1,1], target = 9<br>\n",
    "Result: [[1,1,3,4],[1,2,2,4],[1,2,3,3]]<br>\n",
    "Explanation: The sum of all the quadruplets is equal to the target i.e. 9."
   ]
  },
  {
   "cell_type": "code",
   "execution_count": 1,
   "metadata": {},
   "outputs": [
    {
     "name": "stdout",
     "output_type": "stream",
     "text": [
      "[[2, 2, 2, 2], [2, 2, 2, 2], [2, 2, 2, 2], [2, 2, 2, 2], [2, 2, 2, 2]]\n"
     ]
    }
   ],
   "source": [
    "def fourSum(nums, target):\n",
    "    Map = []\n",
    "    for first in range(len(nums)):\n",
    "        for second in range(first + 1, len(nums)):\n",
    "            for third in range(second + 1,len(nums)):\n",
    "                for fourth in range(third + 1, len(nums)):\n",
    "                    if sorted([nums[first], nums[second], nums[third]]) not in Map:\n",
    "                        if sum([nums[first], nums[second], nums[third], nums[fourth]]) == target:\n",
    "                            Map.append(sorted([nums[first], nums[second], nums[third], nums[fourth]]))\n",
    "    return Map\n",
    "\n",
    "nums = [2,2,2,2,2]\n",
    "target = 8\n",
    "print(fourSum(nums, target))"
   ]
  },
  {
   "cell_type": "code",
   "execution_count": null,
   "metadata": {},
   "outputs": [],
   "source": []
  }
 ],
 "metadata": {
  "kernelspec": {
   "display_name": "Python 3",
   "language": "python",
   "name": "python3"
  },
  "language_info": {
   "codemirror_mode": {
    "name": "ipython",
    "version": 3
   },
   "file_extension": ".py",
   "mimetype": "text/x-python",
   "name": "python",
   "nbconvert_exporter": "python",
   "pygments_lexer": "ipython3",
   "version": "3.12.2"
  }
 },
 "nbformat": 4,
 "nbformat_minor": 2
}
