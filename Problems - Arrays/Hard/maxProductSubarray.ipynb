{
 "cells": [
  {
   "cell_type": "markdown",
   "metadata": {},
   "source": [
    "Maximum Product Subarray in an Array\n",
    "\n",
    "Problem Statement: Given an array that contains both negative and positive integers, find the maximum product subarray.\n",
    "\n",
    "Examples<br>\n",
    "Example 1:<br>\n",
    "Input: Nums = [1,2,3,4,5,0]<br>\n",
    "Output: 120<br>\n",
    "Explanation: In the given array, we can see 1×2×3×4×5 gives maximum product value.\n",
    "\n",
    "Example 2:<br>\n",
    "Input: Nums = [1,2,-3,0,-4,-5]<br>\n",
    "Output: 20<br>\n",
    "Explanation: In the given array, we can see (-4)×(-5) gives maximum product value."
   ]
  },
  {
   "cell_type": "code",
   "execution_count": 1,
   "metadata": {},
   "outputs": [
    {
     "name": "stdout",
     "output_type": "stream",
     "text": [
      "20\n"
     ]
    }
   ],
   "source": [
    "import math\n",
    "def maxSubarrayProduct(nums):\n",
    "    product = 0\n",
    "    result = []\n",
    "    for i in range(1,len(nums)+1):\n",
    "        for j in range(len(nums)-i+1):\n",
    "            product = max(product, math.prod(arr[j:j+i]))\n",
    "    return product\n",
    "\n",
    "arr = [1,2,3,4,5,0]\n",
    "arr = [1,2,-3,0,-4,-5]\n",
    "print(maxSubarrayProduct(arr))"
   ]
  },
  {
   "cell_type": "code",
   "execution_count": null,
   "metadata": {},
   "outputs": [],
   "source": []
  }
 ],
 "metadata": {
  "kernelspec": {
   "display_name": "Python 3",
   "language": "python",
   "name": "python3"
  },
  "language_info": {
   "codemirror_mode": {
    "name": "ipython",
    "version": 3
   },
   "file_extension": ".py",
   "mimetype": "text/x-python",
   "name": "python",
   "nbconvert_exporter": "python",
   "pygments_lexer": "ipython3",
   "version": "3.12.2"
  }
 },
 "nbformat": 4,
 "nbformat_minor": 2
}
