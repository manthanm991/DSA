{
 "cells": [
  {
   "cell_type": "markdown",
   "metadata": {},
   "source": [
    "Maximum Product Subarray in an Array\n",
    "\n",
    "Problem Statement: Given an array that contains both negative and positive integers, find the maximum product subarray.\n",
    "\n",
    "Examples<br>\n",
    "Example 1:<br>\n",
    "Input: Nums = [1,2,3,4,5,0]<br>\n",
    "Output: 120<br>\n",
    "Explanation: In the given array, we can see 1×2×3×4×5 gives maximum product value.\n",
    "\n",
    "Example 2:<br>\n",
    "Input: Nums = [1,2,-3,0,-4,-5]<br>\n",
    "Output: 20<br>\n",
    "Explanation: In the given array, we can see (-4)×(-5) gives maximum product value."
   ]
  },
  {
   "cell_type": "code",
   "execution_count": 1,
   "metadata": {},
   "outputs": [
    {
     "name": "stdout",
     "output_type": "stream",
     "text": [
      "20\n"
     ]
    }
   ],
   "source": [
    "import math\n",
    "def maxSubarrayProduct(nums):\n",
    "    product = 0\n",
    "    result = []\n",
    "    for i in range(1,len(nums)+1):\n",
    "        for j in range(len(nums)-i+1):\n",
    "            product = max(product, math.prod(arr[j:j+i]))\n",
    "    return product\n",
    "\n",
    "arr = [1,2,3,4,5,0]\n",
    "arr = [1,2,-3,0,-4,-5]\n",
    "print(maxSubarrayProduct(arr))"
   ]
  },
  {
   "cell_type": "code",
   "execution_count": 2,
   "metadata": {},
   "outputs": [
    {
     "name": "stdout",
     "output_type": "stream",
     "text": [
      "24\n"
     ]
    }
   ],
   "source": [
    "def maxSubarrayProduct_1(nums):\n",
    "    if not nums:\n",
    "        return 0\n",
    "    \n",
    "    maxProd = nums[0]\n",
    "    minProd = nums[0]\n",
    "    result = nums[0]\n",
    "    \n",
    "    for i in range(1, len(nums)):\n",
    "        if nums[i] < 0:\n",
    "            maxProd, minProd = minProd, maxProd\n",
    "\n",
    "        maxProd = max(nums[i], maxProd * nums[i])\n",
    "        minProd = min(nums[i], minProd * nums[i])\n",
    "        \n",
    "        result = max(result, maxProd)\n",
    "    \n",
    "    return result\n",
    "\n",
    "# arr = [1, 2, 3, 4, 5, 0]\n",
    "arr = [-2,3,-4]\n",
    "print(maxSubarrayProduct_1(arr))"
   ]
  },
  {
   "cell_type": "markdown",
   "metadata": {},
   "source": [
    "#### Code360\n",
    "Subarray With Maximum Product\n",
    "\n",
    "Problem statement: Given an array ‘Arr’ that has ‘N’ elements. You have to find the subarray of ‘Arr’ that has the largest product. You must return the product of the subarray with the maximum product.\n",
    "\n",
    "For example:<br>\n",
    "When ‘N’ = 5, and ‘Arr’ = {-2, 3, -4, 0}<br>\n",
    "The subarrays of ‘Arr’ are: {-2}, {-2, 3}, {-2, 3, -4}, {-2, 3, -4, 0}, {3}, {3, -4}, {3, -4, 0}, {-4}, {-4, 0}, {0}.<br>\n",
    "Among these, {-2, 3, -4} is the subarray having the maximum product equal to 24. Hence, the answer is 24.\n",
    "\n",
    "Detailed explanation ( Input/output format, Notes, Images )<br>\n",
    "Sample Input 1: 4<br>\n",
    "1 -2 3 -4<br>\n",
    "Sample Output 1: 24<br>\n",
    "Explanation Of Sample Input 1:<br>\n",
    "Given, ‘Arr’ = {1, -2, 3, -4}. The subarrays of ‘Arr’ are: {{1}, {1, -2}, {1, -2, 3}, {1, -2, 3, -4}, {-2}, {-2, 3}, {-2, 3, -4}, {3}, {3, -4}, {-4}}.<br>\n",
    "Among these subarrays, {1, -2, 3, -4} and {-2, 3, -4} have the maximum product, equal to 24. Hence, the answer is 24.\n",
    "\n",
    "Sample Input 2: 5<br>\n",
    "-1 3 0 -4 3<br>\n",
    "Sample Output 2: 3\n",
    "\n",
    "Constraints:<br>\n",
    "1 <= N <= 10^5<br>\n",
    "-100 <= Arr[i] <= 100<br>\n",
    "-10^9 <= The product of elements of any subarray <= 10^9.<br>\n",
    "The sum of ‘N’ over all test cases <= 10^5.<br>\n",
    "Time Limit: 1-sec"
   ]
  },
  {
   "cell_type": "code",
   "execution_count": 3,
   "metadata": {},
   "outputs": [
    {
     "name": "stdout",
     "output_type": "stream",
     "text": [
      "0\n"
     ]
    }
   ],
   "source": [
    "def maxProductSubArray(arr):\n",
    "    n = len(arr)\n",
    "\n",
    "    pre, suf = 1, 1\n",
    "    ans = float('-inf')\n",
    "    for i in range(n):\n",
    "        if pre == 0:\n",
    "            pre = 1\n",
    "        if suf == 0:\n",
    "            suf = 1\n",
    "        pre *= arr[i]\n",
    "        suf *= arr[n - i - 1]\n",
    "        ans = max(ans, max(pre, suf))\n",
    "    return ans\n",
    "\n",
    "arr = [-2,0,-1]\n",
    "print(maxProductSubArray(arr))"
   ]
  }
 ],
 "metadata": {
  "kernelspec": {
   "display_name": "Python 3",
   "language": "python",
   "name": "python3"
  },
  "language_info": {
   "codemirror_mode": {
    "name": "ipython",
    "version": 3
   },
   "file_extension": ".py",
   "mimetype": "text/x-python",
   "name": "python",
   "nbconvert_exporter": "python",
   "pygments_lexer": "ipython3",
   "version": "3.12.2"
  }
 },
 "nbformat": 4,
 "nbformat_minor": 2
}
