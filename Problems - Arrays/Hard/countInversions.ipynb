{
 "cells": [
  {
   "cell_type": "markdown",
   "metadata": {},
   "source": [
    "Count inversions in an array\n",
    "\n",
    "Problem Statement: Given an array of N integers, count the inversion of the array (using merge-sort).\n",
    "\n",
    "What is an inversion of an array? Definition: for all i & j < size of array, if i < j then you have to find pair (A[i],A[j]) such that A[j] < A[i].\n",
    "\n",
    "Examples<br>\n",
    "Example 1:<br>\n",
    "Input Format: N = 5, array[] = {1,2,3,4,5}<br>\n",
    "Result: 0<br>\n",
    "Explanation: we have a sorted array and the sorted array has 0 inversions as for i < j you will never find a pair such that A[j] < A[i]. More clear example: 2 has index 1 and 5 has index 4 now 1 < 5 but 2 < 5 so this is not an inversion.\n",
    "\n",
    "Example 2:<br>\n",
    "Input Format: N = 5, array[] = {5,4,3,2,1}<br>\n",
    "Result: 10<br>\n",
    "Explanation: we have a reverse sorted array and we will get the maximum inversions as for i < j we will always find a pair such that A[j] < A[i]. Example: 5 has index 0 and 3 has index 2 now (5,3) pair is inversion as 0 < 2 and 5 > 3 which will satisfy out conditions and for reverse sorted array we will get maximum inversions and that is (n)*(n-1) / 2.For above given array there is 4 + 3 + 2 + 1 = 10 inversions.\n",
    "\n",
    "Example 3:<br>\n",
    "Input Format: N = 5, array[] = {5,3,2,1,4}<br>\n",
    "Result: 7<br>\n",
    "Explanation: There are 7 pairs (5,1), (5,3), (5,2), (5,4),(3,2), (3,1), (2,1) and we have left 2 pairs (2,4) and (1,4) as both are not satisfy our condition. "
   ]
  },
  {
   "cell_type": "code",
   "execution_count": 1,
   "metadata": {},
   "outputs": [
    {
     "name": "stdout",
     "output_type": "stream",
     "text": [
      "0\n"
     ]
    }
   ],
   "source": [
    "def countInversion(arr):\n",
    "    count = 0\n",
    "    for i in range(len(arr)):\n",
    "        for j in range(i+1, len(arr)):\n",
    "            if arr[j]<arr[i]:\n",
    "                count += 1\n",
    "    return count\n",
    "\n",
    "arr = [5,3,2,1,4]\n",
    "arr = [5,4,3,2,1]\n",
    "arr = [1,2,3,4,5]\n",
    "print(countInversion(arr))"
   ]
  },
  {
   "cell_type": "markdown",
   "metadata": {},
   "source": [
    "#### Code360\n",
    "Number of Inversions\n",
    "\n",
    "Problem statement: There is an integer array ‘A’ of size ‘N’. Number of inversions in an array can be defined as the number of pairs of ‘i’, ‘j’ such that ‘i’ < ‘j’ and ‘A[i]’ > ‘A[j]’. You must return the number of inversions in the array.\n",
    "\n",
    "For example,<br>\n",
    "Input: A = [5, 3, 2, 1, 4], N = 5<br>\n",
    "Output: 7<br>\n",
    "Explanation: The pairs satisfying the condition for inversion are (1, 2), (1, 3), (1, 4), (1, 5), (2, 3), (2, 4), and (3, 4). The number of inversions in the array is 7.\n",
    "\n",
    "Detailed explanation ( Input/output format, Notes, Images )<br>\n",
    "Sample Input 1: 4<br>\n",
    "4 3 2 1<br>\n",
    "Sample Output 1: 6<br>\n",
    "Explanation Of Sample Input 1:<br>\n",
    "Input: A = [4, 3, 2, 1], N = 4<br>\n",
    "Output: 6<br>\n",
    "Explanation: The pairs satisfying the condition for inversion are (1, 2), (1, 3), (1, 4), (2, 3), (2, 4), and (3, 4). The number of inversions in the array is 6.\n",
    "\n",
    "Sample Input 2: 5<br>\n",
    "1 20 6 4 5<br>\n",
    "Sample Output 2: 5\n",
    "\n",
    "Constraints:<br>\n",
    "1 <= N <= 10^5<br>\n",
    "1 <= A[i] <= 10^9<br>\n",
    "Time Limit: 1 sec"
   ]
  },
  {
   "cell_type": "code",
   "execution_count": 2,
   "metadata": {},
   "outputs": [],
   "source": [
    "from typing import *\n",
    "import math\n",
    "\n",
    "def merge(arr : List[int], low : int, mid : int, high : int) -> int:\n",
    "    temp = []\n",
    "    left = low\n",
    "    right = mid + 1\n",
    "\n",
    "    cnt = 0\n",
    "\n",
    "    while (left <= mid and right <= high):\n",
    "        if (arr[left] <= arr[right]):\n",
    "            temp.append(arr[left])\n",
    "            left += 1\n",
    "        else:\n",
    "            temp.append(arr[right])\n",
    "            cnt += (mid - left + 1)\n",
    "            right += 1\n",
    "\n",
    "    while (left <= mid):\n",
    "        temp.append(arr[left])\n",
    "        left += 1\n",
    "\n",
    "    while (right <= high):\n",
    "        temp.append(arr[right])\n",
    "        right += 1\n",
    "\n",
    "    for i in range(low, high + 1):\n",
    "        arr[i] = temp[i - low]\n",
    "\n",
    "    return cnt\n",
    "\n",
    "def mergeSort(arr : List[int], low : int, high : int) -> int:\n",
    "    cnt = 0\n",
    "    if low >= high:\n",
    "        return cnt\n",
    "    mid = math.floor((low + high) / 2)\n",
    "    cnt += mergeSort(arr, low, mid)\n",
    "    cnt += mergeSort(arr, mid + 1, high)\n",
    "    cnt += merge(arr, low, mid, high)\n",
    "    return cnt\n",
    "\n",
    "def numberOfInversions(a : List[int], n : int) -> int:\n",
    "    return mergeSort(a, 0, n - 1)"
   ]
  },
  {
   "cell_type": "code",
   "execution_count": null,
   "metadata": {},
   "outputs": [],
   "source": []
  }
 ],
 "metadata": {
  "kernelspec": {
   "display_name": "Python 3",
   "language": "python",
   "name": "python3"
  },
  "language_info": {
   "codemirror_mode": {
    "name": "ipython",
    "version": 3
   },
   "file_extension": ".py",
   "mimetype": "text/x-python",
   "name": "python",
   "nbconvert_exporter": "python",
   "pygments_lexer": "ipython3",
   "version": "3.12.2"
  }
 },
 "nbformat": 4,
 "nbformat_minor": 2
}
