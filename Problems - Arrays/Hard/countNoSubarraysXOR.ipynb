{
 "cells": [
  {
   "cell_type": "markdown",
   "metadata": {},
   "source": [
    "Problem Statement: Given an array of integers A and an integer B. Find the total number of subarrays having bitwise XOR of all elements equal to k.\n",
    "\n",
    "Examples<br>\n",
    "Example 1:<br>\n",
    "Input Format: A = [4, 2, 2, 6, 4] , k = 6<br>\n",
    "Result: 4<br>\n",
    "Explanation: The subarrays having XOR of their elements as 6 are  [4, 2], [4, 2, 2, 6, 4], [2, 2, 6], [6]\n",
    "\n",
    "Example 2:<br>\n",
    "Input Format: A = [5, 6, 7, 8, 9], k = 5<br>\n",
    "Result: 2<br>\n",
    "Explanation: The subarrays having XOR of their elements as 5 are [5] and [5, 6, 7, 8, 9]"
   ]
  },
  {
   "cell_type": "code",
   "execution_count": 1,
   "metadata": {},
   "outputs": [
    {
     "name": "stdout",
     "output_type": "stream",
     "text": [
      "[[6], [4, 2], [2, 2, 6], [4, 2, 2, 6, 4]]\n"
     ]
    }
   ],
   "source": [
    "def XoRCount(nums, target):\n",
    "    n = len(nums)\n",
    "    result = []\n",
    "    for window_size in range(1, n + 1):\n",
    "        for i in range(n - window_size + 1):\n",
    "            xorr = 0\n",
    "            for j in arr[i:i + window_size]:\n",
    "                xorr ^= j\n",
    "            if xorr == target:\n",
    "                result.append(nums[i:i + window_size])\n",
    "\n",
    "    return result\n",
    "\n",
    "arr = [4,2,2,6,4]\n",
    "k = 6\n",
    "print(XoRCount(arr, k))"
   ]
  },
  {
   "cell_type": "code",
   "execution_count": 2,
   "metadata": {},
   "outputs": [
    {
     "name": "stdout",
     "output_type": "stream",
     "text": [
      "The number of subarrays with XOR k is: 4\n"
     ]
    }
   ],
   "source": [
    "from collections import defaultdict\n",
    "\n",
    "def subarraysWithXorK(a, b):\n",
    "    n = len(a)\n",
    "    xr = 0\n",
    "    mpp = defaultdict(int)\n",
    "    mpp[xr] = 1\n",
    "    cnt = 0\n",
    "\n",
    "    for i in range(n):\n",
    "        xr = xr ^ a[i]\n",
    "        x = xr ^ k\n",
    "        cnt += mpp[x]\n",
    "        mpp[xr] += 1\n",
    "    return cnt\n",
    "\n",
    "if __name__ == \"__main__\":\n",
    "    a = [4, 2, 2, 6, 4]\n",
    "    k = 6\n",
    "    ans = subarraysWithXorK(a, k)\n",
    "    print(\"The number of subarrays with XOR k is:\", ans)"
   ]
  },
  {
   "cell_type": "markdown",
   "metadata": {},
   "source": [
    "#### Code360\n",
    "##### Subarrays with XOR ‘K’\n",
    "Problem statement: Given an array ‘A’ consisting of ‘N’ integers and an integer ‘B’, find the number of subarrays of array ‘A’ whose bitwise XOR( ⊕ ) of all elements is equal to ‘B’.\n",
    "\n",
    "A subarray of an array is obtained by removing some(zero or more) elements from the front and back of the array.\n",
    "\n",
    "Example:<br>\n",
    "Input: ‘N’ = 4 ‘B’ = 2 ‘A’ = [1, 2, 3, 2]<br>\n",
    "Output: 3<br>\n",
    "Explanation: Subarrays have bitwise xor equal to ‘2’ are: [1, 2, 3, 2], [2], [2].\n",
    "\n",
    "Detailed explanation ( Input/output format, Notes, Images )<br>\n",
    "Sample Input 1: 4 2<br>\n",
    "1 2 3 2<br>\n",
    "Sample Output 1 : 3<br>\n",
    "Explanation Of Sample Input 1: Input: ‘N’ = 4 ‘B’ = 2 ‘A’ = [1, 2, 3, 2]<br>\n",
    "Output: 3<br>\n",
    "Explanation: Subarrays have bitwise xor equal to ‘2’ are: [1, 2, 3, 2], [2], [2].\n",
    "\n",
    "Sample Input 2: 4 3<br>\n",
    "1 2 3 3<br>\n",
    "Sample Output 2: 4\n",
    "\n",
    "Sample Input 3: 5 6<br>\n",
    "1 3 3 3 5 <br>\n",
    "Sample Output 3: 2\n",
    "\n",
    "Constraints:<br>\n",
    "1 <= N <= 10^3<br>\n",
    "1 <= A[i], B <= 10^9\n",
    "\n",
    "Time Limit: 1-sec"
   ]
  },
  {
   "cell_type": "code",
   "execution_count": 3,
   "metadata": {},
   "outputs": [],
   "source": [
    "def subarraysWithSumK(a: [int], b: int) -> int:\n",
    "    # Write your code here\n",
    "    xorr = 0\n",
    "    freq = {0:1}\n",
    "    count =0\n",
    "\n",
    "    for i in range(len(a)):\n",
    "        xorr ^= a[i]\n",
    "        req_xor = xorr ^ b\n",
    "\n",
    "        if req_xor in freq:\n",
    "            count += freq[req_xor]\n",
    "\n",
    "        freq[xorr] = freq.get(xorr, 0) + 1\n",
    "\n",
    "    return count"
   ]
  },
  {
   "cell_type": "markdown",
   "metadata": {},
   "source": [
    "#### InterviewBit\n",
    "Subarray with given XOR\n",
    "\n",
    "\n",
    "Given an array of integers A and an integer B. Find the total number of subarrays having bitwise XOR of all elements equals to B.\n",
    "\n",
    "Problem Constraints<br>\n",
    "1 <= length of the array <= 105<br>\n",
    "1 <= A[i], B <= 109\n",
    "\n",
    "Input Format: The first argument given is the integer array A. The second argument given is integer B.<br>\n",
    "Output Format: Return the total number of subarrays having bitwise XOR equals to B.\n",
    "\n",
    "Example Input<br>\n",
    "Input 1: A = [4, 2, 2, 6, 4] B = 6<br>\n",
    "Input 2: A = [5, 6, 7, 8, 9] B = 5\n",
    "\n",
    "Example Output<br>\n",
    "Output 1: 4<br>\n",
    "Output 2: 2\n",
    "\n",
    "Example Explanation<br>\n",
    "Explanation 1: The subarrays having XOR of their elements as 6 are: [4, 2], [4, 2, 2, 6, 4], [2, 2, 6], [6]<br>\n",
    "Explanation 2: The subarrays having XOR of their elements as 5 are [5] and [5, 6, 7, 8, 9]"
   ]
  },
  {
   "cell_type": "code",
   "execution_count": 4,
   "metadata": {},
   "outputs": [],
   "source": [
    "class Solution:\n",
    "    # @param A : list of integers\n",
    "    # @param B : integer\n",
    "    # @return an integer\n",
    "    def solve(self, A, B):\n",
    "        xorr = 0\n",
    "        freq = {0:1}\n",
    "        count =0\n",
    "\n",
    "        for i in range(len(A)):\n",
    "            xorr ^= A[i]\n",
    "            req_xor = xorr ^ B\n",
    "    \n",
    "            if req_xor in freq:\n",
    "                count += freq[req_xor]\n",
    "\n",
    "            freq[xorr] = freq.get(xorr, 0) + 1\n",
    "\n",
    "        return count"
   ]
  }
 ],
 "metadata": {
  "kernelspec": {
   "display_name": "Python 3",
   "language": "python",
   "name": "python3"
  },
  "language_info": {
   "codemirror_mode": {
    "name": "ipython",
    "version": 3
   },
   "file_extension": ".py",
   "mimetype": "text/x-python",
   "name": "python",
   "nbconvert_exporter": "python",
   "pygments_lexer": "ipython3",
   "version": "3.12.2"
  }
 },
 "nbformat": 4,
 "nbformat_minor": 2
}
