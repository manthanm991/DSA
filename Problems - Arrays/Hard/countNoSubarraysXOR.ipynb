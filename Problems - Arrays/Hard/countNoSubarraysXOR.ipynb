{
 "cells": [
  {
   "cell_type": "markdown",
   "metadata": {},
   "source": [
    "Problem Statement: Given an array of integers A and an integer B. Find the total number of subarrays having bitwise XOR of all elements equal to k.\n",
    "\n",
    "Examples<br>\n",
    "Example 1:<br>\n",
    "Input Format: A = [4, 2, 2, 6, 4] , k = 6<br>\n",
    "Result: 4<br>\n",
    "Explanation: The subarrays having XOR of their elements as 6 are  [4, 2], [4, 2, 2, 6, 4], [2, 2, 6], [6]\n",
    "\n",
    "Example 2:<br>\n",
    "Input Format: A = [5, 6, 7, 8, 9], k = 5<br>\n",
    "Result: 2<br>\n",
    "Explanation: The subarrays having XOR of their elements as 5 are [5] and [5, 6, 7, 8, 9]"
   ]
  },
  {
   "cell_type": "code",
   "execution_count": 1,
   "metadata": {},
   "outputs": [
    {
     "name": "stdout",
     "output_type": "stream",
     "text": [
      "[[6], [4, 2], [2, 2, 6], [4, 2, 2, 6, 4]]\n"
     ]
    }
   ],
   "source": [
    "def XoRCount(nums, target):\n",
    "    n = len(nums)\n",
    "    result = []\n",
    "    for window_size in range(1, n + 1):\n",
    "        for i in range(n - window_size + 1):\n",
    "            xorr = 0\n",
    "            for j in arr[i:i + window_size]:\n",
    "                xorr ^= j\n",
    "            if xorr == target:\n",
    "                result.append(nums[i:i + window_size])\n",
    "\n",
    "    return result\n",
    "\n",
    "arr = [4,2,2,6,4]\n",
    "k = 6\n",
    "print(XoRCount(arr, k))"
   ]
  },
  {
   "cell_type": "code",
   "execution_count": null,
   "metadata": {},
   "outputs": [],
   "source": []
  }
 ],
 "metadata": {
  "kernelspec": {
   "display_name": "Python 3",
   "language": "python",
   "name": "python3"
  },
  "language_info": {
   "codemirror_mode": {
    "name": "ipython",
    "version": 3
   },
   "file_extension": ".py",
   "mimetype": "text/x-python",
   "name": "python",
   "nbconvert_exporter": "python",
   "pygments_lexer": "ipython3",
   "version": "3.12.2"
  }
 },
 "nbformat": 4,
 "nbformat_minor": 2
}
