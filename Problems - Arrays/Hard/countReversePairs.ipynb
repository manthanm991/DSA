{
 "cells": [
  {
   "cell_type": "markdown",
   "metadata": {},
   "source": [
    "Count Reverse Pairs\n",
    "\n",
    "Problem Statement: Given an array of numbers, you need to return the count of reverse pairs. Reverse Pairs are those pairs where i < j and arr[i] > 2*arr[j].\n",
    "\n",
    "Examples<br>\n",
    "Example 1:<br>\n",
    "Input: N = 5, array[] = {1,3,2,3,1)<br>\n",
    "Output: 2 <br>\n",
    "Explanation: The pairs are (3, 1) and (3, 1) as from both the pairs the condition arr[i] > 2*arr[j] is satisfied.\n",
    "\n",
    "Example 2:<br>\n",
    "Input: N = 4, array[] = {3,2,1,4}<br>\n",
    "Output: 1<br>\n",
    "Explaination: There is only 1 pair  ( 3 , 1 ) that satisfy the condition arr[i] > 2*arr[j]"
   ]
  },
  {
   "cell_type": "code",
   "execution_count": 1,
   "metadata": {},
   "outputs": [
    {
     "name": "stdout",
     "output_type": "stream",
     "text": [
      "1\n"
     ]
    }
   ],
   "source": [
    "def countReverse(arr):\n",
    "    count = 0\n",
    "    for i in range(len(arr)):\n",
    "        for j in range(i+1,len(arr)):\n",
    "            if arr[i] > 2*arr[j]:\n",
    "                count += 1\n",
    "    return count\n",
    "\n",
    "arr = [1,3,2,3,1]\n",
    "arr = [3,2,1]\n",
    "print(countReverse(arr))"
   ]
  },
  {
   "cell_type": "code",
   "execution_count": 2,
   "metadata": {},
   "outputs": [
    {
     "name": "stdout",
     "output_type": "stream",
     "text": [
      "3\n"
     ]
    }
   ],
   "source": [
    "def merge(arr, low, mid, high):\n",
    "    temp = []\n",
    "    left = low\n",
    "    right = mid + 1\n",
    "\n",
    "    while left <= mid and right <= high:\n",
    "        if arr[left] <= arr[right]:\n",
    "            temp.append(arr[left])\n",
    "            left += 1\n",
    "        else:\n",
    "            temp.append(arr[right])\n",
    "            right += 1\n",
    "\n",
    "    while left <= mid:\n",
    "        temp.append(arr[left])\n",
    "        left += 1\n",
    "\n",
    "    while right <= high:\n",
    "        temp.append(arr[right])\n",
    "        right += 1\n",
    "\n",
    "    for i in range(low, high + 1):\n",
    "        arr[i] = temp[i - low]\n",
    "\n",
    "def countPairs(arr, low, mid, high):\n",
    "    right = mid + 1\n",
    "    cnt = 0\n",
    "    for i in range(low, mid + 1):\n",
    "        while right <= high and arr[i] > 2 * arr[right]:\n",
    "            right += 1\n",
    "        cnt += (right - (mid + 1))\n",
    "    return cnt\n",
    "\n",
    "def mergeSort(arr, low, high):\n",
    "    cnt = 0\n",
    "    if low >= high:\n",
    "        return cnt\n",
    "    mid = (low + high) // 2\n",
    "    cnt += mergeSort(arr, low, mid)\n",
    "    cnt += mergeSort(arr, mid + 1, high)\n",
    "    cnt += countPairs(arr, low, mid, high)\n",
    "    merge(arr, low, mid, high)\n",
    "    return cnt\n",
    "\n",
    "def team(arr, n):\n",
    "    return mergeSort(arr, 0, n - 1)\n",
    "\n",
    "a = [4, 1, 2, 3, 1]\n",
    "print(team(a, len(a)))"
   ]
  }
 ],
 "metadata": {
  "kernelspec": {
   "display_name": "Python 3",
   "language": "python",
   "name": "python3"
  },
  "language_info": {
   "codemirror_mode": {
    "name": "ipython",
    "version": 3
   },
   "file_extension": ".py",
   "mimetype": "text/x-python",
   "name": "python",
   "nbconvert_exporter": "python",
   "pygments_lexer": "ipython3",
   "version": "3.12.2"
  }
 },
 "nbformat": 4,
 "nbformat_minor": 2
}
