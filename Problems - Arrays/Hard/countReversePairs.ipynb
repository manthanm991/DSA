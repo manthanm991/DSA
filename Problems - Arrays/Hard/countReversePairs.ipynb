{
 "cells": [
  {
   "cell_type": "markdown",
   "metadata": {},
   "source": [
    "Count Reverse Pairs\n",
    "\n",
    "Problem Statement: Given an array of numbers, you need to return the count of reverse pairs. Reverse Pairs are those pairs where i < j and arr[i] > 2*arr[j].\n",
    "\n",
    "Examples<br>\n",
    "Example 1:<br>\n",
    "Input: N = 5, array[] = {1,3,2,3,1)<br>\n",
    "Output: 2 <br>\n",
    "Explanation: The pairs are (3, 1) and (3, 1) as from both the pairs the condition arr[i] > 2*arr[j] is satisfied.\n",
    "\n",
    "Example 2:<br>\n",
    "Input: N = 4, array[] = {3,2,1,4}<br>\n",
    "Output: 1<br>\n",
    "Explaination: There is only 1 pair  ( 3 , 1 ) that satisfy the condition arr[i] > 2*arr[j]"
   ]
  },
  {
   "cell_type": "code",
   "execution_count": 1,
   "metadata": {},
   "outputs": [
    {
     "name": "stdout",
     "output_type": "stream",
     "text": [
      "1\n"
     ]
    }
   ],
   "source": [
    "def countReverse(arr):\n",
    "    count = 0\n",
    "    for i in range(len(arr)):\n",
    "        for j in range(i+1,len(arr)):\n",
    "            if arr[i] > 2*arr[j]:\n",
    "                count += 1\n",
    "    return count\n",
    "\n",
    "arr = [1,3,2,3,1]\n",
    "arr = [3,2,1]\n",
    "print(countReverse(arr))"
   ]
  },
  {
   "cell_type": "code",
   "execution_count": null,
   "metadata": {},
   "outputs": [],
   "source": []
  }
 ],
 "metadata": {
  "kernelspec": {
   "display_name": "Python 3",
   "language": "python",
   "name": "python3"
  },
  "language_info": {
   "codemirror_mode": {
    "name": "ipython",
    "version": 3
   },
   "file_extension": ".py",
   "mimetype": "text/x-python",
   "name": "python",
   "nbconvert_exporter": "python",
   "pygments_lexer": "ipython3",
   "version": "3.12.2"
  }
 },
 "nbformat": 4,
 "nbformat_minor": 2
}
