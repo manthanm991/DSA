{
 "cells": [
  {
   "cell_type": "markdown",
   "metadata": {},
   "source": [
    "Problem Statement: Given an array of intervals, merge all the overlapping intervals and return an array of non-overlapping intervals.\n",
    "\n",
    "Examples<br>\n",
    "Example 1:<br>\n",
    "Input: intervals=[[1,3],[2,6],[8,10],[15,18]]<br>\n",
    "Output: [[1,6],[8,10],[15,18]]<br>\n",
    "Explanation: Since intervals [1,3] and [2,6] are overlapping we can merge them to form [1,6] intervals.\n",
    "\n",
    "Example 2:<br>\n",
    "Input: [[1,4],[4,5]]<br>\n",
    "Output: [[1,5]]<br>\n",
    "Explanation: Since intervals [1,4] and [4,5] are overlapping we can merge them to form [1,5]."
   ]
  },
  {
   "cell_type": "code",
   "execution_count": 1,
   "metadata": {},
   "outputs": [
    {
     "name": "stdout",
     "output_type": "stream",
     "text": [
      "[[1, 6], [8, 10], [15, 18]]\n"
     ]
    }
   ],
   "source": [
    "def mergeOverlapping(arr):\n",
    "    arr.sort()\n",
    "    result = []\n",
    "\n",
    "    for i in range(len(arr)):\n",
    "        start = arr[i][0]\n",
    "        end = arr[i][1]\n",
    "\n",
    "        if not result:\n",
    "            result.append([start, end])\n",
    "        else:\n",
    "            if result[-1][1] >= start:\n",
    "                result[-1][1] = max(result[-1][1], end)\n",
    "            else:\n",
    "                result.append([start, end])\n",
    "    return result\n",
    "\n",
    "arr = [[1, 3], [2, 6], [8, 10], [15, 18]]\n",
    "print(mergeOverlapping(arr))\n"
   ]
  },
  {
   "cell_type": "markdown",
   "metadata": {},
   "source": [
    "#### Code360\n",
    "Merge All Overlapping Intervals\n",
    "\n",
    "Problem statement: Ninja is playing with intervals. He has an array of intervals called ‘Arr’ having ‘N’ intervals. However, he doesn’t like overlapping intervals. So you must help Ninja by merging all the overlapping intervals in ‘Arr’ and return an array of non-overlapping intervals.\n",
    "\n",
    "Note:<br>\n",
    "Two intervals [L1, R1] and [L2, R2] such that L1 <= L2, are said to be overlapping if and only if L2 <= R1.<br>\n",
    "For example:<br>\n",
    "For ‘N’ = 4, and ‘Arr’ = {{1, 3}, {2, 4}, {3, 5}, {6, 7}}<br>\n",
    "We can see that {1, 3} and {2, 4} overlap, so if we merge them, we get {1, 4}. Now ‘Arr’ becomes: {{1, 4}, {3, 5}, {6, 7}} Still, we observe that {1, 4} and {3, 5} overlap, hence we merge them into {1, 5}.<br>\n",
    "Hence, ‘Arr’ becomes {{1, 5}, {6, 7}}.\n",
    "\n",
    "Detailed explanation ( Input/output format, Notes, Images )<br>\n",
    "Sample Input 1:<br>\n",
    "9<br>\n",
    "1 2<br>\n",
    "1 3<br>\n",
    "1 6<br>\n",
    "3 4<br>\n",
    "4 4<br>\n",
    "4 5<br>\n",
    "5 5<br>\n",
    "6 6<br>\n",
    "6 6<br>\n",
    "Sample Output 1 : 1 6<br>\n",
    "Explanation Of Sample Input 1:<br>\n",
    "Arr after each merge<br>\n",
    "{{1, 2}, {1, 3}, {1, 6}, {3, 4}, {4, 4}, {4, 5}, {5, 5}, {6, 6}, {6, 6}}<br>\n",
    "{{1, 3}, {1, 6}, {3, 4}, {4, 4}, {4, 5}, {5, 5}, {6, 6}, {6, 6}}<br>\n",
    "{{1, 6}, {3, 4}, {4, 4}, {4, 5}, {5, 5}, {6, 6}, {6, 6}}<br>\n",
    "{{1, 6}, {4, 4}, {4, 5}, {5, 5}, {6, 6}, {6, 6}}<br>\n",
    "{{1, 6}, {4, 5}, {5, 5}, {6, 6}, {6, 6}}<br>\n",
    "{{1, 6}, {5, 5}, {6, 6}, {6, 6}}<br>\n",
    "{{1, 6}, {6, 6}, {6, 6}}<br>\n",
    "{{1, 6}, {6, 6}}<br>\n",
    "{{1, 6}}\n",
    "\n",
    "Sample Input 2:<br>\n",
    "7<br>\n",
    "2 2<br>\n",
    "2 3<br>\n",
    "2 5<br>\n",
    "3 6<br>\n",
    "4 4<br>\n",
    "4 5<br>\n",
    "6 6<br>\n",
    "Sample Output 2: 2 6\n",
    "\n",
    "Constraints:<br>\n",
    "1 <= N <= 10^5<br>\n",
    "1 <= L <= R <= 10^9\n",
    "\n",
    "Time Limit: 1 sec."
   ]
  },
  {
   "cell_type": "code",
   "execution_count": 2,
   "metadata": {},
   "outputs": [],
   "source": [
    "from typing import *\n",
    "\n",
    "def mergeOverlappingIntervals(arr : List[List[int]]) -> List[List[int]]:\n",
    "    # Write your code here.\n",
    "    arr.sort()\n",
    "    result = []\n",
    "    for i in range(len(arr)):\n",
    "        start = arr[i][0]\n",
    "        end = arr[i][1]\n",
    "        if not result:\n",
    "            result.append([start, end])\n",
    "        else:\n",
    "            if result[-1][1] >= start:\n",
    "                result[-1][1] = max(result[-1][1], end)\n",
    "            else:\n",
    "                result.append([start, end])\n",
    "    return result"
   ]
  }
 ],
 "metadata": {
  "kernelspec": {
   "display_name": "Python 3",
   "language": "python",
   "name": "python3"
  },
  "language_info": {
   "codemirror_mode": {
    "name": "ipython",
    "version": 3
   },
   "file_extension": ".py",
   "mimetype": "text/x-python",
   "name": "python",
   "nbconvert_exporter": "python",
   "pygments_lexer": "ipython3",
   "version": "3.12.2"
  }
 },
 "nbformat": 4,
 "nbformat_minor": 2
}
