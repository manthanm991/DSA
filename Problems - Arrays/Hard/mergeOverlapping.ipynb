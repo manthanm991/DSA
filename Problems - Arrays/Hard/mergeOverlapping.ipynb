{
 "cells": [
  {
   "cell_type": "markdown",
   "metadata": {},
   "source": [
    "Problem Statement: Given an array of intervals, merge all the overlapping intervals and return an array of non-overlapping intervals.\n",
    "\n",
    "Examples<br>\n",
    "Example 1:<br>\n",
    "Input: intervals=[[1,3],[2,6],[8,10],[15,18]]<br>\n",
    "Output: [[1,6],[8,10],[15,18]]<br>\n",
    "Explanation: Since intervals [1,3] and [2,6] are overlapping we can merge them to form [1,6] intervals.\n",
    "\n",
    "Example 2:<br>\n",
    "Input: [[1,4],[4,5]]<br>\n",
    "Output: [[1,5]]<br>\n",
    "Explanation: Since intervals [1,4] and [4,5] are overlapping we can merge them to form [1,5]."
   ]
  },
  {
   "cell_type": "code",
   "execution_count": 1,
   "metadata": {},
   "outputs": [
    {
     "name": "stdout",
     "output_type": "stream",
     "text": [
      "[[1, 6], [8, 10], [15, 18]]\n"
     ]
    }
   ],
   "source": [
    "def mergeOverlapping(arr):\n",
    "    arr.sort()\n",
    "    result = []\n",
    "\n",
    "    for i in range(len(arr)):\n",
    "        start = arr[i][0]\n",
    "        end = arr[i][1]\n",
    "\n",
    "        if not result:\n",
    "            result.append([start, end])\n",
    "        else:\n",
    "            if result[-1][1] >= start:\n",
    "                result[-1][1] = max(result[-1][1], end)\n",
    "            else:\n",
    "                result.append([start, end])\n",
    "    return result\n",
    "\n",
    "arr = [[1, 3], [2, 6], [8, 10], [15, 18]]\n",
    "print(mergeOverlapping(arr))\n"
   ]
  },
  {
   "cell_type": "code",
   "execution_count": null,
   "metadata": {},
   "outputs": [],
   "source": []
  }
 ],
 "metadata": {
  "kernelspec": {
   "display_name": "Python 3",
   "language": "python",
   "name": "python3"
  },
  "language_info": {
   "codemirror_mode": {
    "name": "ipython",
    "version": 3
   },
   "file_extension": ".py",
   "mimetype": "text/x-python",
   "name": "python",
   "nbconvert_exporter": "python",
   "pygments_lexer": "ipython3",
   "version": "3.12.2"
  }
 },
 "nbformat": 4,
 "nbformat_minor": 2
}
