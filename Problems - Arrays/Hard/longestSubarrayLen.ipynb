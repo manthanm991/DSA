{
 "cells": [
  {
   "cell_type": "markdown",
   "metadata": {},
   "source": [
    "Problem Statement: Given an array containing both positive and negative integers, we have to find the length of the longest subarray with the sum of all elements equal to zero.\n",
    "\n",
    "Examples<br>\n",
    "Example 1:<br>\n",
    "Input Format: N = 6, array[] = {9, -3, 3, -1, 6, -5}<br>\n",
    "Result: 5<br>\n",
    "Explanation: The following subarrays sum to zero:<br>\n",
    "{-3, 3} , {-1, 6, -5}, {-3, 3, -1, 6, -5}<br>\n",
    "Since we require the length of the longest subarray, our answer is 5!\n",
    "\n",
    "Example 2:<br>\n",
    "Input Format: N = 8, array[] = {6, -2, 2, -8, 1, 7, 4, -10}<br>\n",
    "Result: 8<br>\n",
    "Subarrays with sum 0 : {-2, 2}, {-8, 1, 7}, {-2, 2, -8, 1, 7}, {6, -2, 2, -8, 1, 7, 4, -10}<br>\n",
    "Length of longest subarray = 8\n",
    "\n",
    "Example 3:<br>\n",
    "Input Format: N = 3, array[] = {1, 0, -5}<br>\n",
    "Result: 1<br>\n",
    "Subarray : {0}<br>\n",
    "Length of longest subarray = 1\n",
    "\n",
    "Example 4:<br>\n",
    "Input Format: N = 5, array[] = {1, 3, -5, 6, -2}<br>\n",
    "Result: 0<br>\n",
    "Subarray: There is no subarray that sums to zero"
   ]
  },
  {
   "cell_type": "code",
   "execution_count": 1,
   "metadata": {},
   "outputs": [
    {
     "name": "stdout",
     "output_type": "stream",
     "text": [
      "8\n"
     ]
    }
   ],
   "source": [
    "def LongestSubarraySumZero(arr):\n",
    "    n = len(arr)\n",
    "    \n",
    "    if sum(arr) == 0:\n",
    "        return n\n",
    "    \n",
    "    length = 0\n",
    "    for a in range(1, n + 1):\n",
    "        for i in range(n - a + 1):\n",
    "            subArr = arr[i:i+a]\n",
    "            if sum(subArr) == 0:\n",
    "                length = max(length, a) \n",
    "    return length\n",
    "\n",
    "# arr = [1,0,-5]\n",
    "# arr = [1,3,-5,6,-2]\n",
    "arr = [6, -2, 2, -8, 1, 7, 4, -10]\n",
    "print(LongestSubarraySumZero(arr))"
   ]
  },
  {
   "cell_type": "code",
   "execution_count": null,
   "metadata": {},
   "outputs": [],
   "source": []
  }
 ],
 "metadata": {
  "kernelspec": {
   "display_name": "Python 3",
   "language": "python",
   "name": "python3"
  },
  "language_info": {
   "codemirror_mode": {
    "name": "ipython",
    "version": 3
   },
   "file_extension": ".py",
   "mimetype": "text/x-python",
   "name": "python",
   "nbconvert_exporter": "python",
   "pygments_lexer": "ipython3",
   "version": "3.12.2"
  }
 },
 "nbformat": 4,
 "nbformat_minor": 2
}
