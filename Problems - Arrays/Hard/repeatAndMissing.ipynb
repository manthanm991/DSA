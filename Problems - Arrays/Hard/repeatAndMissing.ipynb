{
 "cells": [
  {
   "cell_type": "markdown",
   "metadata": {},
   "source": [
    "Find the repeating and missing numbers\n",
    "\n",
    "Problem Statement: You are given a read-only array of N integers with values also in the range [1, N] both inclusive. Each integer appears exactly once except A which appears twice and B which is missing. The task is to find the repeating and missing numbers A and B where A repeats twice and B is missing.\n",
    "\n",
    "Examples<br>\n",
    "Example 1:<br>\n",
    "Input Format:  array[] = {3,1,2,5,3}<br>\n",
    "Result: {3,4)<br>\n",
    "Explanation: A = 3 , B = 4 <br>\n",
    "Since 3 is appearing twice and 4 is missing\n",
    "\n",
    "Example 2:<br>\n",
    "Input Format: array[] = {3,1,2,5,4,6,7,5}<br>\n",
    "Result: {5,8)<br>\n",
    "Explanation: A = 5 , B = 8 <br>\n",
    "Since 5 is appearing twice and 8 is missing"
   ]
  },
  {
   "cell_type": "code",
   "execution_count": 1,
   "metadata": {},
   "outputs": [
    {
     "name": "stdout",
     "output_type": "stream",
     "text": [
      "[3, 4]\n"
     ]
    }
   ],
   "source": [
    "def repeatingAndmissing(nums):\n",
    "    result = {i: 0 for i in range(1, len(nums) + 1)}\n",
    "    for num in nums:\n",
    "        result[num] = result.get(num, 0) + 1\n",
    "    for k, v in result.items():\n",
    "        if v == 2:\n",
    "            repeated = k\n",
    "        if v == 0:\n",
    "            missing = k\n",
    "    return [repeated, missing]\n",
    "\n",
    "arr = [3,1,2,5,3]\n",
    "print(repeatingAndmissing(arr))"
   ]
  },
  {
   "cell_type": "code",
   "execution_count": null,
   "metadata": {},
   "outputs": [],
   "source": []
  }
 ],
 "metadata": {
  "kernelspec": {
   "display_name": "Python 3",
   "language": "python",
   "name": "python3"
  },
  "language_info": {
   "codemirror_mode": {
    "name": "ipython",
    "version": 3
   },
   "file_extension": ".py",
   "mimetype": "text/x-python",
   "name": "python",
   "nbconvert_exporter": "python",
   "pygments_lexer": "ipython3",
   "version": "3.12.2"
  }
 },
 "nbformat": 4,
 "nbformat_minor": 2
}
