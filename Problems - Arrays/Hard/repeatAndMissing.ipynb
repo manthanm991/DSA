{
 "cells": [
  {
   "cell_type": "markdown",
   "metadata": {},
   "source": [
    "Find the repeating and missing numbers\n",
    "\n",
    "Problem Statement: You are given a read-only array of N integers with values also in the range [1, N] both inclusive. Each integer appears exactly once except A which appears twice and B which is missing. The task is to find the repeating and missing numbers A and B where A repeats twice and B is missing.\n",
    "\n",
    "Examples<br>\n",
    "Example 1:<br>\n",
    "Input Format:  array[] = {3,1,2,5,3}<br>\n",
    "Result: {3,4)<br>\n",
    "Explanation: A = 3 , B = 4 <br>\n",
    "Since 3 is appearing twice and 4 is missing\n",
    "\n",
    "Example 2:<br>\n",
    "Input Format: array[] = {3,1,2,5,4,6,7,5}<br>\n",
    "Result: {5,8)<br>\n",
    "Explanation: A = 5 , B = 8 <br>\n",
    "Since 5 is appearing twice and 8 is missing"
   ]
  },
  {
   "cell_type": "code",
   "execution_count": 1,
   "metadata": {},
   "outputs": [
    {
     "name": "stdout",
     "output_type": "stream",
     "text": [
      "[3, 4]\n"
     ]
    }
   ],
   "source": [
    "def repeatingAndmissing(nums):\n",
    "    result = {i: 0 for i in range(1, len(nums) + 1)}\n",
    "    for num in nums:\n",
    "        result[num] = result.get(num, 0) + 1\n",
    "    for k, v in result.items():\n",
    "        if v == 2:\n",
    "            repeated = k\n",
    "        if v == 0:\n",
    "            missing = k\n",
    "    return [repeated, missing]\n",
    "\n",
    "arr = [3,1,2,5,3]\n",
    "print(repeatingAndmissing(arr))"
   ]
  },
  {
   "cell_type": "markdown",
   "metadata": {},
   "source": [
    "#### Code360\n",
    "Missing And Repeating Numbers\n",
    "\n",
    "Problem statement: You are given an array of ‘N’ integers where each integer value is between ‘1’ and ‘N’. Each integer appears exactly once except for ‘P’, which appears exactly twice, and ‘Q’, which is missing.\n",
    "\n",
    "Your task is to find ‘P’ and ‘Q’ and return them respectively.\n",
    "\n",
    "Detailed explanation ( Input/output format, Notes, Images )\n",
    "Constraints:<br>\n",
    "2 <= N <= 5 * 10^4<br>\n",
    "1 <= data <= N<br>\n",
    "Where ‘N’ is the size of the array and ‘data’ denotes the value of the elements of the array. \n",
    "\n",
    "Sample Input 1: 4<br>\n",
    "1 2 3 2<br>\n",
    "Sample Output 1: 2 4\n",
    "\n",
    "Explanation Of Sample Input 1:<br>\n",
    "Input: ‘N’ = 4 ‘A’ = [1, 2, 3, 2]<br>\n",
    "Output: {2, 4} - The integer appearing twice is ‘2’, and the integer missing is ‘4’.\n",
    "\n",
    "Sample Input 2: 3<br>\n",
    "1 2 1<br>\n",
    "Sample Output 2: 1 3"
   ]
  },
  {
   "cell_type": "markdown",
   "metadata": {},
   "source": [
    "#### GFG\n",
    "Missing And Repeating\n",
    "\n",
    "Given an unsorted array arr of positive integers. One number a from the set [1, 2,....,n] is missing and one number b occurs twice in the array. Find numbers a and b.\n",
    "\n",
    "Note: The test cases are generated such that there always exists one missing and one repeating number within the range [1,n].\n",
    "\n",
    "Examples:<br>\n",
    "Input: arr[] = [2, 2]<br>\n",
    "Output: [2, 1]<br>\n",
    "Explanation: Repeating number is 2 and smallest positive missing number is 1.\n",
    "\n",
    "Input: arr[] = [1, 3, 3] <br>\n",
    "Output: [3, 2]<br>\n",
    "Explanation: Repeating number is 3 and smallest positive missing number is 2.\n",
    "\n",
    "Input: arr[] = [4, 3, 6, 2, 1, 1]<br>\n",
    "Output: [1, 5]<br>\n",
    "Explanation: Repeating number is 1 and the missing number is 5.\n",
    "\n",
    "Constraints:<br>\n",
    "2 ≤ arr.size() ≤ 106<br>\n",
    "1 ≤ arr[i] ≤ arr.size()"
   ]
  },
  {
   "cell_type": "code",
   "execution_count": 2,
   "metadata": {},
   "outputs": [
    {
     "name": "stdout",
     "output_type": "stream",
     "text": [
      "[5, 8]\n"
     ]
    }
   ],
   "source": [
    "def findMissingRepeatingNumbers(a):\n",
    "    n = len(a)\n",
    "    xr = 0\n",
    "\n",
    "    for i in range(n):\n",
    "        xr = xr ^ a[i]\n",
    "        xr = xr ^ (i + 1)\n",
    "\n",
    "    number = (xr & ~(xr - 1))\n",
    "    zero = 0\n",
    "    one = 0\n",
    "    \n",
    "    for i in range(n):\n",
    "        if ((a[i] & number) != 0):\n",
    "            one = one ^ a[i]\n",
    "        else:\n",
    "            zero = zero ^ a[i]\n",
    "\n",
    "    for i in range(1, n + 1):\n",
    "        if ((i & number) != 0):\n",
    "            one = one ^ i\n",
    "        else:\n",
    "            zero = zero ^ i\n",
    "\n",
    "    cnt = 0\n",
    "    for i in range(n):\n",
    "        if (a[i] == zero):\n",
    "            cnt += 1\n",
    "\n",
    "    if (cnt == 2):\n",
    "        return [zero, one]\n",
    "    return [one, zero]\n",
    "\n",
    "a = [3, 1, 2, 5, 4, 6, 7, 5]\n",
    "print(findMissingRepeatingNumbers(a))"
   ]
  }
 ],
 "metadata": {
  "kernelspec": {
   "display_name": "Python 3",
   "language": "python",
   "name": "python3"
  },
  "language_info": {
   "codemirror_mode": {
    "name": "ipython",
    "version": 3
   },
   "file_extension": ".py",
   "mimetype": "text/x-python",
   "name": "python",
   "nbconvert_exporter": "python",
   "pygments_lexer": "ipython3",
   "version": "3.12.2"
  }
 },
 "nbformat": 4,
 "nbformat_minor": 2
}
