{
 "cells": [
  {
   "cell_type": "markdown",
   "metadata": {},
   "source": [
    "#### Leaders in an Array\n",
    "\n",
    "Problem Statement: Given an array, print all the elements which are leaders. A Leader is an element that is greater than all of the elements on its right side in the array.\n",
    "\n",
    "Examples<br>\n",
    "Example 1:<br>\n",
    "Input: arr = [4, 7, 1, 0]<br>\n",
    "Output: 7 1 0<br>\n",
    "Explanation: Rightmost element is always a leader. 7 and 1 are greater than the elements in their right side.\n",
    "\n",
    "Example 2:<br>\n",
    "Input: arr = [10, 22, 12, 3, 0, 6]<br>\n",
    "Output: 22 12 6<br>\n",
    "Explanation: 6 is a leader. In addition to that, 12 is greater than all the elements in its right side (3, 0, 6), also 22 is greater than 12, 3, 0, 6."
   ]
  },
  {
   "cell_type": "code",
   "execution_count": 1,
   "metadata": {},
   "outputs": [
    {
     "name": "stdout",
     "output_type": "stream",
     "text": [
      "22 12 6 "
     ]
    }
   ],
   "source": [
    "def arrLeaders(nums):\n",
    "    n = len(nums)\n",
    "    for i in range(n):\n",
    "        if i == n - 1 or nums[i] >= max(nums[i+1:n]):\n",
    "            print(nums[i], end=\" \")\n",
    "\n",
    "arr = [4,7,1,0]\n",
    "arr = [10, 22, 12, 3, 0, 6]\n",
    "arrLeaders(arr)"
   ]
  },
  {
   "cell_type": "code",
   "execution_count": 2,
   "metadata": {},
   "outputs": [
    {
     "name": "stdout",
     "output_type": "stream",
     "text": [
      "22 12 6 \n"
     ]
    }
   ],
   "source": [
    "def printLeadersBruteForce(arr, n):\n",
    "    ans = []\n",
    "    for i in range(n):\n",
    "        leader = True\n",
    "        for j in range(i+1, n):\n",
    "            if arr[j] > arr[i]:\n",
    "                leader = False\n",
    "                break\n",
    "\n",
    "        if leader:\n",
    "            ans.append(arr[i])\n",
    "    return ans\n",
    "\n",
    "if __name__ == '__main__':\n",
    "    n = 6\n",
    "    arr = [10, 22, 12, 3, 0, 6]\n",
    "    ans = printLeadersBruteForce(arr, n)\n",
    "    for i in range(len(ans)):\n",
    "        print(ans[i], end=\" \")\n",
    "    print()"
   ]
  },
  {
   "cell_type": "code",
   "execution_count": null,
   "metadata": {},
   "outputs": [],
   "source": []
  }
 ],
 "metadata": {
  "kernelspec": {
   "display_name": "Python 3",
   "language": "python",
   "name": "python3"
  },
  "language_info": {
   "codemirror_mode": {
    "name": "ipython",
    "version": 3
   },
   "file_extension": ".py",
   "mimetype": "text/x-python",
   "name": "python",
   "nbconvert_exporter": "python",
   "pygments_lexer": "ipython3",
   "version": "3.12.2"
  }
 },
 "nbformat": 4,
 "nbformat_minor": 2
}
