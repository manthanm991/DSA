{
 "cells": [
  {
   "cell_type": "markdown",
   "metadata": {},
   "source": [
    "#### Leaders in an Array\n",
    "\n",
    "Problem Statement: Given an array, print all the elements which are leaders. A Leader is an element that is greater than all of the elements on its right side in the array.\n",
    "\n",
    "Examples<br>\n",
    "Example 1:<br>\n",
    "Input: arr = [4, 7, 1, 0]<br>\n",
    "Output: 7 1 0<br>\n",
    "Explanation: Rightmost element is always a leader. 7 and 1 are greater than the elements in their right side.\n",
    "\n",
    "Example 2:<br>\n",
    "Input: arr = [10, 22, 12, 3, 0, 6]<br>\n",
    "Output: 22 12 6<br>\n",
    "Explanation: 6 is a leader. In addition to that, 12 is greater than all the elements in its right side (3, 0, 6), also 22 is greater than 12, 3, 0, 6."
   ]
  },
  {
   "cell_type": "code",
   "execution_count": 1,
   "metadata": {},
   "outputs": [
    {
     "name": "stdout",
     "output_type": "stream",
     "text": [
      "22 12 6 "
     ]
    }
   ],
   "source": [
    "def arrLeaders(nums):\n",
    "    n = len(nums)\n",
    "    for i in range(n):\n",
    "        if i == n - 1 or nums[i] >= max(nums[i+1:n]):\n",
    "            print(nums[i], end=\" \")\n",
    "\n",
    "arr = [4,7,1,0]\n",
    "arr = [10, 22, 12, 3, 0, 6]\n",
    "arrLeaders(arr)"
   ]
  },
  {
   "cell_type": "code",
   "execution_count": 2,
   "metadata": {},
   "outputs": [
    {
     "name": "stdout",
     "output_type": "stream",
     "text": [
      "22 12 6 \n"
     ]
    }
   ],
   "source": [
    "def printLeadersBruteForce(arr, n):\n",
    "    ans = []\n",
    "    for i in range(n):\n",
    "        leader = True\n",
    "        for j in range(i+1, n):\n",
    "            if arr[j] > arr[i]:\n",
    "                leader = False\n",
    "                break\n",
    "\n",
    "        if leader:\n",
    "            ans.append(arr[i])\n",
    "    return ans\n",
    "\n",
    "if __name__ == '__main__':\n",
    "    n = 6\n",
    "    arr = [10, 22, 12, 3, 0, 6]\n",
    "    ans = printLeadersBruteForce(arr, n)\n",
    "    for i in range(len(ans)):\n",
    "        print(ans[i], end=\" \")\n",
    "    print()"
   ]
  },
  {
   "cell_type": "code",
   "execution_count": 3,
   "metadata": {},
   "outputs": [
    {
     "name": "stdout",
     "output_type": "stream",
     "text": [
      "[3, 2]\n"
     ]
    }
   ],
   "source": [
    "def arrLeaders(nums):\n",
    "    n = len(nums)\n",
    "    max_right = nums[-1]\n",
    "    leaders = [max_right]\n",
    "    for i in range(n-2, -1, -1):\n",
    "        if nums[i] >= max_right:\n",
    "            leaders.append(nums[i])\n",
    "            max_right = nums[i]\n",
    "    return leaders[::-1]\n",
    "\n",
    "arr = [4, 7, 1, 0]\n",
    "arr = [1, 2, 3, 2]\n",
    "print(arrLeaders(arr))"
   ]
  },
  {
   "cell_type": "code",
   "execution_count": 4,
   "metadata": {},
   "outputs": [
    {
     "name": "stdout",
     "output_type": "stream",
     "text": [
      "22 12 6 \n"
     ]
    }
   ],
   "source": [
    "def printLeaders(arr, n):\n",
    "    ans = []\n",
    "    max_elem = arr[n - 1]\n",
    "    ans.append(arr[n - 1])\n",
    "    for i in range(n - 2, -1, -1):\n",
    "        if arr[i] > max_elem:\n",
    "            ans.append(arr[i])\n",
    "            max_elem = arr[i]\n",
    "    return ans\n",
    "\n",
    "if __name__ == '__main__':\n",
    "    n = 6\n",
    "    arr = [10, 22, 12, 3, 0, 6]\n",
    "    ans = printLeaders(arr, n)\n",
    "    for i in range(len(ans)-1, -1, -1):\n",
    "        print(ans[i], end=\" \")\n",
    "    print()"
   ]
  },
  {
   "cell_type": "markdown",
   "metadata": {},
   "source": [
    "## Code360\n",
    "#### Superior Elements\n",
    "\n",
    "Problem statement\n",
    "\n",
    "There is an integer array ‘a’ of size ‘n’. An element is called a Superior Element if it is greater than all the elements present to its right. You must return an array all Superior Elements in the array ‘a’.\n",
    "\n",
    "Note: The last element of the array is always a Superior Element. \n",
    "\n",
    "Example<br>\n",
    "Input: a = [1, 2, 3, 2], n = 4<br>\n",
    "Output: 2 3<br>\n",
    "Explanation: <br>\n",
    "a[ 2 ] = 3 is greater than a[ 3 ]. Hence it is a Superior Element. <br>\n",
    "a[ 3 ] = 2 is the last element. Hence it is a Superior Element.<br>\n",
    "The final answer is in sorted order.\n",
    "\n",
    "Detailed explanation ( Input/output format, Notes, Images )<br>\n",
    "Sample Input 1: 4 <br>\n",
    "1 2 2 1<br>\n",
    "Sample Output 1: 1 2<br>\n",
    "Explanation of Sample Input 1: Element present at the last index is '1' and is a superior element since there are no integers to the right of it. Element present at index 2 (0-indexed) is '2' and is greater than all the elements to the right of it. There are no other superior elements present in the array. Hence the final answer is [1,2].\n",
    "\n",
    "Sample Input 2: 3<br>\n",
    "5 4 3<br>\n",
    "Sample Output 2: 3 4 5 \n",
    "\n",
    "Expected Time Complexity: Try to solve this in O(n).\n",
    "\n",
    "Constraints:<br>\n",
    "1 <= n <=10^5 <br>\n",
    "1 <= a[i] <= 10^9\n",
    "\n",
    "Time Limit: 1 sec"
   ]
  },
  {
   "cell_type": "code",
   "execution_count": 5,
   "metadata": {},
   "outputs": [],
   "source": [
    "from typing import *\n",
    "\n",
    "def superiorElements(a : List[int]) -> List[int]:\n",
    "    # Write your code here.\n",
    "    n = len(a)\n",
    "    maxElement = a[n - 1]\n",
    "    answer = []\n",
    "    answer.append(a[n - 1])\n",
    "    for i in range(n - 2, -1, -1):\n",
    "        if a[i] > maxElement:\n",
    "            answer.append(a[i])\n",
    "            maxElement = a[i]\n",
    "    return answer"
   ]
  }
 ],
 "metadata": {
  "kernelspec": {
   "display_name": "Python 3",
   "language": "python",
   "name": "python3"
  },
  "language_info": {
   "codemirror_mode": {
    "name": "ipython",
    "version": 3
   },
   "file_extension": ".py",
   "mimetype": "text/x-python",
   "name": "python",
   "nbconvert_exporter": "python",
   "pygments_lexer": "ipython3",
   "version": "3.12.2"
  }
 },
 "nbformat": 4,
 "nbformat_minor": 2
}
