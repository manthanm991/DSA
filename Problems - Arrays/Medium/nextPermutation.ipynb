{
 "cells": [
  {
   "cell_type": "markdown",
   "metadata": {},
   "source": [
    "Problem Statement: Given an array Arr[] of integers, rearrange the numbers of the given array into the lexicographically next greater permutation of numbers.\n",
    "\n",
    "If such an arrangement is not possible, it must rearrange to the lowest possible order (i.e., sorted in ascending order).\n",
    "\n",
    "Examples<br>\n",
    "Example 1 :<br>\n",
    "Input format: Arr[] = {1,3,2}<br>\n",
    "Output: Arr[] = {2,1,3}<br>\n",
    "Explanation: All permutations of {1,2,3} are {{1,2,3} , {1,3,2}, {2,13} , {2,3,1} , {3,1,2} , {3,2,1}}. So, the next permutation just after {1,3,2} is {2,1,3}.\n",
    "\n",
    "Example 2:<br>\n",
    "Input format: Arr[] = {3,2,1}<br>\n",
    "Output: Arr[] = {1,2,3}<br>\n",
    "Explanation: As we see all permutations of {1,2,3}, we find {3,2,1} at the last position. So, we have to return the topmost permutation."
   ]
  },
  {
   "cell_type": "code",
   "execution_count": 1,
   "metadata": {},
   "outputs": [],
   "source": [
    "def nextGPermutation(nums):\n",
    "        n = len(nums)\n",
    "        index = -1\n",
    "        for i in range(n-2,-1,-1):\n",
    "            if nums[i]<nums[i+1]:\n",
    "                index = i\n",
    "                break\n",
    "        if index == -1:\n",
    "            nums.reverse()\n",
    "            return nums\n",
    "        for i in range(n-1, index, -1):\n",
    "            if nums[i]> nums[index]:\n",
    "                nums[i], nums[index] = nums[index], nums[i]\n",
    "                break\n",
    "        nums[index+1:] = reversed(nums[index+1:])\n",
    "        return nums"
   ]
  },
  {
   "cell_type": "code",
   "execution_count": 2,
   "metadata": {},
   "outputs": [
    {
     "name": "stdout",
     "output_type": "stream",
     "text": [
      "[1, 2, 3]\n"
     ]
    }
   ],
   "source": [
    "arr = [1,3,2]\n",
    "arr = [2,1,5,4,3,0,0]\n",
    "arr = [3,2,1]\n",
    "print(nextGPermutation(arr))"
   ]
  }
 ],
 "metadata": {
  "kernelspec": {
   "display_name": "Python 3",
   "language": "python",
   "name": "python3"
  },
  "language_info": {
   "codemirror_mode": {
    "name": "ipython",
    "version": 3
   },
   "file_extension": ".py",
   "mimetype": "text/x-python",
   "name": "python",
   "nbconvert_exporter": "python",
   "pygments_lexer": "ipython3",
   "version": "3.12.2"
  }
 },
 "nbformat": 4,
 "nbformat_minor": 2
}
