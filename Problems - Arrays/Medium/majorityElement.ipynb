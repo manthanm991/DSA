{
 "cells": [
  {
   "cell_type": "markdown",
   "metadata": {},
   "source": [
    "Problem Statement: Given an array of N integers, write a program to return an element that occurs more than N/2 times in the given array. You may consider that such an element always exists in the array.\n",
    "\n",
    "Examples<br>\n",
    "Example 1:<br>\n",
    "Input Format: N = 3, nums[] = {3,2,3}<br>\n",
    "Result: 3<br>\n",
    "Explanation: When we just count the occurrences of each number and compare with half of the size of the array, you will get 3 for the above solution. \n",
    "\n",
    "Example 2:<br>\n",
    "Input Format:  N = 7, nums[] = {2,2,1,1,1,2,2}<br>\n",
    "Result: 2<br>\n",
    "Explanation: After counting the number of times each element appears and comparing it with half of array size, we get 2 as result.\n",
    "\n",
    "Example 3:<br>\n",
    "Input Format:  N = 10, nums[] = {4,4,2,4,3,4,4,3,2,4}<br>\n",
    "Result: 4"
   ]
  },
  {
   "cell_type": "code",
   "execution_count": 1,
   "metadata": {},
   "outputs": [
    {
     "name": "stdout",
     "output_type": "stream",
     "text": [
      "3\n",
      "2\n",
      "4\n"
     ]
    }
   ],
   "source": [
    "def MajorityElement(arr):\n",
    "    Map = {}\n",
    "    for i in arr:\n",
    "        Map[i] = Map.get(i,0)+1\n",
    "    for k, v in Map.items():\n",
    "        if v > len(arr)/2:\n",
    "            return k\n",
    "\n",
    "arr = [3,2,3]\n",
    "arr1 = [2,2,1,1,1,2,2]\n",
    "arr2 = [4,4,2,4,3,4,4,3,2,4]\n",
    "print(MajorityElement(arr))\n",
    "print(MajorityElement(arr1))\n",
    "print(MajorityElement(arr2))"
   ]
  }
 ],
 "metadata": {
  "kernelspec": {
   "display_name": "Python 3",
   "language": "python",
   "name": "python3"
  },
  "language_info": {
   "codemirror_mode": {
    "name": "ipython",
    "version": 3
   },
   "file_extension": ".py",
   "mimetype": "text/x-python",
   "name": "python",
   "nbconvert_exporter": "python",
   "pygments_lexer": "ipython3",
   "version": "3.12.2"
  }
 },
 "nbformat": 4,
 "nbformat_minor": 2
}
