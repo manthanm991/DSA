{
 "cells": [
  {
   "cell_type": "markdown",
   "metadata": {},
   "source": [
    "Longest Consecutive Sequence in an Array\n",
    "\n",
    "Problem Statement: You are given an array of ‘N’ integers. You need to find the length of the longest sequence which contains the consecutive elements.\n",
    "\n",
    "Examples<br>\n",
    "Example 1:<br>\n",
    "Input: [100, 200, 1, 3, 2, 4]<br>\n",
    "Output: 4<br>\n",
    "Explanation: The longest consecutive subsequence is 1, 2, 3, and 4.\n",
    "\n",
    "Input: [3, 8, 5, 7, 6]<br>\n",
    "Output: 4<br>\n",
    "Explanation: The longest consecutive subsequence is 5, 6, 7, and 8."
   ]
  },
  {
   "cell_type": "code",
   "execution_count": 1,
   "metadata": {},
   "outputs": [
    {
     "name": "stdout",
     "output_type": "stream",
     "text": [
      "The longest consecutive sequence is 4\n"
     ]
    }
   ],
   "source": [
    "def linearSearch(a, num):\n",
    "    n = len(a)\n",
    "    for i in range(n):\n",
    "        if a[i] == num:\n",
    "            return True\n",
    "    return False\n",
    "\n",
    "def longestSuccessiveElements(a):\n",
    "    n = len(a)\n",
    "    longest = 1\n",
    "    for i in range(n):\n",
    "        x = a[i]\n",
    "        cnt = 1\n",
    "        while linearSearch(a, x + 1):\n",
    "            x += 1\n",
    "            cnt += 1\n",
    "\n",
    "        longest = max(longest, cnt)\n",
    "    return longest\n",
    "\n",
    "\n",
    "a = [100, 200, 1, 2, 3, 4]\n",
    "ans = longestSuccessiveElements(a)\n",
    "print(\"The longest consecutive sequence is\", ans)"
   ]
  },
  {
   "cell_type": "code",
   "execution_count": 2,
   "metadata": {},
   "outputs": [
    {
     "name": "stdout",
     "output_type": "stream",
     "text": [
      "The longest consecutive sequence is 4\n"
     ]
    }
   ],
   "source": [
    "def longestSuccessiveElements(a):\n",
    "    n = len(a)\n",
    "    if n == 0:\n",
    "        return 0\n",
    "\n",
    "    longest = 1\n",
    "    st = set()\n",
    "    for i in range(n):\n",
    "        st.add(a[i])\n",
    "    for it in st:\n",
    "        if it - 1 not in st:\n",
    "            cnt = 1\n",
    "            x = it\n",
    "            while x + 1 in st:\n",
    "                x += 1\n",
    "                cnt += 1\n",
    "            longest = max(longest, cnt)\n",
    "    return longest\n",
    "\n",
    "a = [100, 200, 1, 2, 3, 4]\n",
    "ans = longestSuccessiveElements(a)\n",
    "print(\"The longest consecutive sequence is\", ans)"
   ]
  }
 ],
 "metadata": {
  "kernelspec": {
   "display_name": "Python 3",
   "language": "python",
   "name": "python3"
  },
  "language_info": {
   "codemirror_mode": {
    "name": "ipython",
    "version": 3
   },
   "file_extension": ".py",
   "mimetype": "text/x-python",
   "name": "python",
   "nbconvert_exporter": "python",
   "pygments_lexer": "ipython3",
   "version": "3.12.2"
  }
 },
 "nbformat": 4,
 "nbformat_minor": 2
}
