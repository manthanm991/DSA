{
 "cells": [
  {
   "cell_type": "markdown",
   "metadata": {},
   "source": [
    "#### Spiral Traversal of Matrix\n",
    "\n",
    "Problem Statement: Given a Matrix, print the given matrix in spiral order.\n",
    "\n",
    "Examples:<br>\n",
    "Example 1:<br>\n",
    "Input: Matrix[][] = [[1, 2, 3, 4],[5, 6, 7, 8],[9, 10, 11, 12],[13, 14, 15, 16]]<br>\n",
    "Outhput: 1, 2, 3, 4, 8, 12, 16, 15, 14, 13, 9, 5, 6, 7, 11, 10.<br>\n",
    "Explanation: The output of matrix in spiral form.\n",
    "\n",
    "Example 2:<br>\n",
    "Input: Matrix[][] = [[1, 2, 3],[4, 5, 6],[7, 8, 9]]<br>\n",
    "Output: 1, 2, 3, 6, 9, 8, 7, 4, 5.<br>\n",
    "Explanation: The output of matrix in spiral form."
   ]
  },
  {
   "cell_type": "code",
   "execution_count": 1,
   "metadata": {},
   "outputs": [
    {
     "name": "stdout",
     "output_type": "stream",
     "text": [
      "1 2 3 6 9 8 7 4 5 \n",
      "1 2 3 4 8 12 16 15 14 13 9 5 6 7 11 10 \n",
      "1 2 3 4 8 12 11 10 9 5 6 7 "
     ]
    }
   ],
   "source": [
    "def printMatrixBitWiseSpiral(mat):\n",
    "    n = len(mat)\n",
    "    m = len(mat[0])\n",
    "    top, bottom, left, right = 0, n - 1, 0, m - 1\n",
    "    while top <= bottom and left <= right:\n",
    "        for i in range(left, right + 1):\n",
    "            print(mat[top][i], end=\" \")\n",
    "        top += 1\n",
    "        for i in range(top, bottom + 1):\n",
    "            print(mat[i][right], end=\" \")\n",
    "        right -= 1\n",
    "        if top <= bottom:\n",
    "            for i in range(right, left - 1, -1):\n",
    "                print(mat[bottom][i], end=\" \")\n",
    "            bottom -= 1\n",
    "        if left <= right:\n",
    "            for i in range(bottom, top - 1, -1):\n",
    "                print(mat[i][left], end=\" \")\n",
    "            left += 1\n",
    "\n",
    "matrix = [[1,2,3],[4,5,6],[7,8,9]]\n",
    "printMatrixBitWiseSpiral(matrix)\n",
    "print()\n",
    "matrix = [[1, 2, 3, 4],[5, 6, 7, 8],[9, 10, 11, 12],[13, 14, 15, 16]]\n",
    "printMatrixBitWiseSpiral(matrix)\n",
    "print()\n",
    "matrix = [[1,2,3,4],[5,6,7,8],[9,10,11,12]]\n",
    "printMatrixBitWiseSpiral(matrix)"
   ]
  },
  {
   "cell_type": "markdown",
   "metadata": {},
   "source": [
    "#### CODE360\n",
    "For Both Squared and Rectangular Matrices"
   ]
  },
  {
   "cell_type": "code",
   "execution_count": 2,
   "metadata": {},
   "outputs": [],
   "source": [
    "def spiralPrint(mat, nRows, mCols):\n",
    "    #Your code goes here\n",
    "    if nRows == 0 or mCols == 0:\n",
    "        return\n",
    "    \n",
    "    top, bottom, left, right = 0, nRows - 1, 0, mCols - 1\n",
    "    result = []\n",
    "    \n",
    "    while top <= bottom and left <= right:\n",
    "        for i in range(left, right + 1):\n",
    "            result.append(mat[top][i])\n",
    "        top += 1\n",
    "        \n",
    "        for i in range(top, bottom + 1):\n",
    "            result.append(mat[i][right])\n",
    "        right -= 1\n",
    "        \n",
    "        if top <= bottom:\n",
    "            for i in range(right, left - 1, -1):\n",
    "                result.append(mat[bottom][i])\n",
    "            bottom -= 1\n",
    "        \n",
    "        if left <= right:\n",
    "            for i in range(bottom, top - 1, -1):\n",
    "                result.append(mat[i][left])\n",
    "            left += 1\n",
    "    \n",
    "    print(\" \".join(map(str, result)))"
   ]
  }
 ],
 "metadata": {
  "kernelspec": {
   "display_name": "Python 3",
   "language": "python",
   "name": "python3"
  },
  "language_info": {
   "codemirror_mode": {
    "name": "ipython",
    "version": 3
   },
   "file_extension": ".py",
   "mimetype": "text/x-python",
   "name": "python",
   "nbconvert_exporter": "python",
   "pygments_lexer": "ipython3",
   "version": "3.12.2"
  }
 },
 "nbformat": 4,
 "nbformat_minor": 2
}
