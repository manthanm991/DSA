{
 "cells": [
  {
   "cell_type": "markdown",
   "metadata": {},
   "source": [
    "Problem Statement: Given an array consisting of only 0s, 1s, and 2s. Write a program to in-place sort the array without using inbuilt sort functions. ( Expected: Single pass-O(N) and constant space)\n",
    "\n",
    "Examples<br>\n",
    "Input: nums = [2,0,2,1,1,0]<br>\n",
    "Output: [0,0,1,1,2,2]\n",
    "\n",
    "Input: nums = [2,0,1]<br>\n",
    "Output: [0,1,2]\n",
    "\n",
    "Input: nums = [0]<br>\n",
    "Output: [0]"
   ]
  },
  {
   "cell_type": "code",
   "execution_count": 1,
   "metadata": {},
   "outputs": [
    {
     "name": "stdout",
     "output_type": "stream",
     "text": [
      "[0, 0, 1, 1, 2, 2]\n",
      "[0, 1, 2]\n",
      "[0]\n"
     ]
    }
   ],
   "source": [
    "def ArraySorting(nums):\n",
    "    nums.sort()\n",
    "    return nums\n",
    "\n",
    "arr = [2,0,2,1,1,0]\n",
    "arr1 = [2,0,1]\n",
    "arr2 = [0]\n",
    "\n",
    "print(ArraySorting(arr))\n",
    "print(ArraySorting(arr1))\n",
    "print(ArraySorting(arr2))"
   ]
  },
  {
   "cell_type": "code",
   "execution_count": 5,
   "metadata": {},
   "outputs": [
    {
     "name": "stdout",
     "output_type": "stream",
     "text": [
      "[0, 0, 1, 1, 2, 2]\n"
     ]
    }
   ],
   "source": [
    "def sortArray(arr):\n",
    "    low = 0\n",
    "    mid = 0\n",
    "    high = len(arr) - 1\n",
    "\n",
    "    while mid <= high:\n",
    "        if arr[mid] == 0:\n",
    "            arr[low], arr[mid] = arr[mid], arr[low]\n",
    "            low += 1\n",
    "            mid += 1\n",
    "        elif arr[mid] == 1:\n",
    "            mid += 1\n",
    "        else:\n",
    "            arr[mid], arr[high] = arr[high], arr[mid]\n",
    "            high -= 1\n",
    "\n",
    "arr = [0, 2, 1, 2, 0, 1]\n",
    "sortArray(arr)\n",
    "print(arr)"
   ]
  },
  {
   "cell_type": "code",
   "execution_count": null,
   "metadata": {},
   "outputs": [],
   "source": []
  }
 ],
 "metadata": {
  "kernelspec": {
   "display_name": "Python 3",
   "language": "python",
   "name": "python3"
  },
  "language_info": {
   "codemirror_mode": {
    "name": "ipython",
    "version": 3
   },
   "file_extension": ".py",
   "mimetype": "text/x-python",
   "name": "python",
   "nbconvert_exporter": "python",
   "pygments_lexer": "ipython3",
   "version": "3.12.2"
  }
 },
 "nbformat": 4,
 "nbformat_minor": 2
}
