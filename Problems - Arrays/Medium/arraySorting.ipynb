{
 "cells": [
  {
   "cell_type": "markdown",
   "metadata": {},
   "source": [
    "Problem Statement: Given an array consisting of only 0s, 1s, and 2s. Write a program to in-place sort the array without using inbuilt sort functions. ( Expected: Single pass-O(N) and constant space)\n",
    "\n",
    "Examples<br>\n",
    "Input: nums = [2,0,2,1,1,0]<br>\n",
    "Output: [0,0,1,1,2,2]\n",
    "\n",
    "Input: nums = [2,0,1]<br>\n",
    "Output: [0,1,2]\n",
    "\n",
    "Input: nums = [0]<br>\n",
    "Output: [0]"
   ]
  },
  {
   "cell_type": "code",
   "execution_count": 1,
   "metadata": {},
   "outputs": [
    {
     "name": "stdout",
     "output_type": "stream",
     "text": [
      "[0, 0, 1, 1, 2, 2]\n",
      "[0, 1, 2]\n",
      "[0]\n"
     ]
    }
   ],
   "source": [
    "def ArraySorting(nums):\n",
    "    nums.sort()\n",
    "    return nums\n",
    "\n",
    "arr = [2,0,2,1,1,0]\n",
    "arr1 = [2,0,1]\n",
    "arr2 = [0]\n",
    "\n",
    "print(ArraySorting(arr))\n",
    "print(ArraySorting(arr1))\n",
    "print(ArraySorting(arr2))"
   ]
  },
  {
   "cell_type": "code",
   "execution_count": 5,
   "metadata": {},
   "outputs": [
    {
     "name": "stdout",
     "output_type": "stream",
     "text": [
      "[0, 0, 1, 1, 2, 2]\n"
     ]
    }
   ],
   "source": [
    "def sortArray(arr):\n",
    "    low = 0\n",
    "    mid = 0\n",
    "    high = len(arr) - 1\n",
    "\n",
    "    while mid <= high:\n",
    "        if arr[mid] == 0:\n",
    "            arr[low], arr[mid] = arr[mid], arr[low]\n",
    "            low += 1\n",
    "            mid += 1\n",
    "        elif arr[mid] == 1:\n",
    "            mid += 1\n",
    "        else:\n",
    "            arr[mid], arr[high] = arr[high], arr[mid]\n",
    "            high -= 1\n",
    "\n",
    "arr = [0, 2, 1, 2, 0, 1]\n",
    "sortArray(arr)\n",
    "print(arr)"
   ]
  },
  {
   "cell_type": "markdown",
   "metadata": {},
   "source": [
    "### Code360\n",
    "\n",
    "Problem statement\n",
    "You have been given an integer array/list(ARR) of size 'N'. It only contains 0s, 1s and 2s. Write a solution to sort this array/list.\n",
    "\n",
    "Note :<br>\n",
    "Try to solve the problem in 'Single Scan'. ' Single Scan' refers to iterating over the array/list just once or to put it in other words, you will be visiting each element in the array/list just once.\n",
    "\n",
    "Detailed explanation ( Input/output format, Notes, Images )<br>\n",
    "Constraints :<br>\n",
    "1 <= T <= 10<br>\n",
    "1 <= N <= (5 * (10 ^ 5))<br>\n",
    "0 <= ARR[i] <= 2\n",
    "\n",
    "Where 'N' is the size of the given array/list.<br>\n",
    "And, ARR[i] denotes the i-th element in the array/list.\n",
    "\n",
    "Time Limit: 1sec <br>\n",
    "Sample Input 1 :<br>\n",
    "2<br>\n",
    "6<br>\n",
    "0 1 2 2 1 0<br>\n",
    "7<br>\n",
    "0 1 2 1 2 1 2<br>\n",
    "Sample Output 1 :<br>\n",
    "0 0 1 1 2 2<br>\n",
    "0 1 1 1 2 2 2<br>\n",
    "Sample Input 2 :<br>\n",
    "2<br>\n",
    "7<br>\n",
    "2 2 2 1 1 1 0<br>\n",
    "6<br>\n",
    "2 1 2 0 1 0<br>\n",
    "Sample Output 2 :<br>\n",
    "0 1 1 1 2 2 2<br>\n",
    "0 0 1 1 2 2"
   ]
  },
  {
   "cell_type": "code",
   "execution_count": 6,
   "metadata": {},
   "outputs": [],
   "source": [
    "def sort012(arr, n) :\n",
    "\t# write your code here\n",
    "    arr.sort()\n",
    "    # don't return anything \n",
    "    pass"
   ]
  }
 ],
 "metadata": {
  "kernelspec": {
   "display_name": "Python 3",
   "language": "python",
   "name": "python3"
  },
  "language_info": {
   "codemirror_mode": {
    "name": "ipython",
    "version": 3
   },
   "file_extension": ".py",
   "mimetype": "text/x-python",
   "name": "python",
   "nbconvert_exporter": "python",
   "pygments_lexer": "ipython3",
   "version": "3.12.2"
  }
 },
 "nbformat": 4,
 "nbformat_minor": 2
}
