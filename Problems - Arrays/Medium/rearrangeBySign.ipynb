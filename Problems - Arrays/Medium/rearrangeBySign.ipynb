{
 "cells": [
  {
   "cell_type": "markdown",
   "metadata": {},
   "source": [
    "## Variety-1\n",
    "\n",
    "Problem Statement: There’s an array ‘A’ of size ‘N’ with an equal number of positive and negative elements. Without altering the relative order of positive and negative elements, you must return an array of alternately positive and negative values.\n",
    "\n",
    "Note: Start the array with positive elements.\n",
    "\n",
    "Examples:<br>\n",
    "Example 1:<br>\n",
    "Input: arr[] = {1,2,-4,-5}, N = 4<br>\n",
    "Output: 1 -4 2 -5<br>\n",
    "Explanation: <br>\n",
    "Positive elements = 1,2<br>\n",
    "Negative elements = -4,-5<br>\n",
    "To maintain relative ordering, 1 must occur before 2, and -4 must occur before -5.\n",
    "\n",
    "Example 2:<br>\n",
    "Input: arr[] = {1,2,-3,-1,-2,-3}, N = 6<br>\n",
    "Output: 1 -3 2 -1 3 -2<br>\n",
    "Explanation: <br>\n",
    "Positive elements = 1,2,3<br>\n",
    "Negative elements = -3,-1,-2<br>\n",
    "To maintain relative ordering, 1 must occur before 2, and 2 must occur before 3. Also, -3 should come before -1, and -1 should come before -2."
   ]
  },
  {
   "cell_type": "code",
   "execution_count": 1,
   "metadata": {},
   "outputs": [
    {
     "name": "stdout",
     "output_type": "stream",
     "text": [
      "[1, -4, 2, -5]\n"
     ]
    }
   ],
   "source": [
    "def posNegAlternate(arr):\n",
    "    temp = []\n",
    "    pIndex, nIndex = 0,1\n",
    "    for i in range(len(arr)):\n",
    "        if arr[i] > 0 :\n",
    "            temp.insert(pIndex, arr[i])\n",
    "            pIndex += 2\n",
    "        if arr[i] < 0:\n",
    "            temp.insert(nIndex, arr[i])\n",
    "            nIndex += 2\n",
    "    return temp\n",
    "arr = [1,2,-4,-5]\n",
    "print(posNegAlternate(arr))"
   ]
  },
  {
   "cell_type": "code",
   "execution_count": 2,
   "metadata": {},
   "outputs": [
    {
     "name": "stdout",
     "output_type": "stream",
     "text": [
      "[1, -4, 2, -5]\n"
     ]
    },
    {
     "data": {
      "text/plain": [
       "'Time Complexity: O(N+N/2) { O(N) for traversing the array once for segregating positives and negatives and another O(N/2) for adding those elements alternatively to the array, where N = size of the array A}.\\n\\nSpace Complexity:  O(N/2 + N/2) = O(N) { N/2 space required for each of the positive and negative element arrays, where N = size of the array A}.'"
      ]
     },
     "execution_count": 2,
     "metadata": {},
     "output_type": "execute_result"
    }
   ],
   "source": [
    "def rearrange_by_sign(A):\n",
    "    pos = []\n",
    "    neg = []\n",
    "  \n",
    "    for i in range(len(A)):\n",
    "        if A[i] > 0:\n",
    "            pos.append(A[i])\n",
    "        else:\n",
    "            neg.append(A[i])\n",
    "  \n",
    "    for i in range(len(pos)):\n",
    "        A[2 * i] = pos[i]\n",
    "    for i in range(len(neg)):\n",
    "        A[2 * i + 1] = neg[i]\n",
    "    return A\n",
    "\n",
    "A = [1, 2, -4, -5]\n",
    "print(rearrange_by_sign(A))\n",
    "\n",
    "\n",
    "'''Time Complexity: O(N+N/2) { O(N) for traversing the array once for segregating positives and negatives and another O(N/2) for adding those elements alternatively to the array, where N = size of the array A}.\n",
    "\n",
    "Space Complexity:  O(N/2 + N/2) = O(N) { N/2 space required for each of the positive and negative element arrays, where N = size of the array A}.'''"
   ]
  },
  {
   "cell_type": "code",
   "execution_count": 3,
   "metadata": {},
   "outputs": [
    {
     "name": "stdout",
     "output_type": "stream",
     "text": [
      "[1, -4, 2, -5]\n"
     ]
    },
    {
     "data": {
      "text/plain": [
       "'Time Complexity: O(N) { O(N) for traversing the array once and substituting positives and negatives simultaneously using pointers, where N = size of the array A}.\\n\\nSpace Complexity:  O(N) { Extra Space used to store the rearranged elements separately in an array, where N = size of array A}.'"
      ]
     },
     "execution_count": 3,
     "metadata": {},
     "output_type": "execute_result"
    }
   ],
   "source": [
    "def RearrangebySign(A):\n",
    "    n = len(A)\n",
    "    ans = [0] * n    \n",
    "    posIndex, negIndex = 0, 1\n",
    "    for i in range(n):        \n",
    "        if A[i] < 0:\n",
    "            ans[negIndex] = A[i]\n",
    "            negIndex += 2        \n",
    "        else:\n",
    "            ans[posIndex] = A[i]\n",
    "            posIndex += 2\n",
    "    return ans\n",
    "    \n",
    "A = [1,2,-4,-5]\n",
    "print(RearrangebySign(A))\n",
    "\n",
    "'''Time Complexity: O(N) { O(N) for traversing the array once and substituting positives and negatives simultaneously using pointers, where N = size of the array A}.\n",
    "\n",
    "Space Complexity:  O(N) { Extra Space used to store the rearranged elements separately in an array, where N = size of array A}.'''"
   ]
  },
  {
   "cell_type": "code",
   "execution_count": null,
   "metadata": {},
   "outputs": [],
   "source": []
  }
 ],
 "metadata": {
  "kernelspec": {
   "display_name": "Python 3",
   "language": "python",
   "name": "python3"
  },
  "language_info": {
   "codemirror_mode": {
    "name": "ipython",
    "version": 3
   },
   "file_extension": ".py",
   "mimetype": "text/x-python",
   "name": "python",
   "nbconvert_exporter": "python",
   "pygments_lexer": "ipython3",
   "version": "3.12.2"
  }
 },
 "nbformat": 4,
 "nbformat_minor": 2
}
