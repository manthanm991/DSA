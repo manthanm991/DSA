{
 "cells": [
  {
   "cell_type": "markdown",
   "metadata": {},
   "source": [
    "## Variety-1\n",
    "\n",
    "Problem Statement: There’s an array ‘A’ of size ‘N’ with an equal number of positive and negative elements. Without altering the relative order of positive and negative elements, you must return an array of alternately positive and negative values.\n",
    "\n",
    "Note: Start the array with positive elements.\n",
    "\n",
    "Examples:<br>\n",
    "Example 1:<br>\n",
    "Input: arr[] = {1,2,-4,-5}, N = 4<br>\n",
    "Output: 1 -4 2 -5<br>\n",
    "Explanation: <br>\n",
    "Positive elements = 1,2<br>\n",
    "Negative elements = -4,-5<br>\n",
    "To maintain relative ordering, 1 must occur before 2, and -4 must occur before -5.\n",
    "\n",
    "Example 2:<br>\n",
    "Input: arr[] = {1,2,-3,-1,-2,-3}, N = 6<br>\n",
    "Output: 1 -3 2 -1 3 -2<br>\n",
    "Explanation: <br>\n",
    "Positive elements = 1,2,3<br>\n",
    "Negative elements = -3,-1,-2<br>\n",
    "To maintain relative ordering, 1 must occur before 2, and 2 must occur before 3. Also, -3 should come before -1, and -1 should come before -2."
   ]
  },
  {
   "cell_type": "code",
   "execution_count": 1,
   "metadata": {},
   "outputs": [
    {
     "name": "stdout",
     "output_type": "stream",
     "text": [
      "[1, -4, 2, -5]\n"
     ]
    }
   ],
   "source": [
    "def posNegAlternate(arr):\n",
    "    temp = []\n",
    "    pIndex, nIndex = 0,1\n",
    "    for i in range(len(arr)):\n",
    "        if arr[i] > 0 :\n",
    "            temp.insert(pIndex, arr[i])\n",
    "            pIndex += 2\n",
    "        if arr[i] < 0:\n",
    "            temp.insert(nIndex, arr[i])\n",
    "            nIndex += 2\n",
    "    return temp\n",
    "arr = [1,2,-4,-5]\n",
    "print(posNegAlternate(arr))"
   ]
  },
  {
   "cell_type": "code",
   "execution_count": null,
   "metadata": {},
   "outputs": [],
   "source": []
  }
 ],
 "metadata": {
  "kernelspec": {
   "display_name": "Python 3",
   "language": "python",
   "name": "python3"
  },
  "language_info": {
   "codemirror_mode": {
    "name": "ipython",
    "version": 3
   },
   "file_extension": ".py",
   "mimetype": "text/x-python",
   "name": "python",
   "nbconvert_exporter": "python",
   "pygments_lexer": "ipython3",
   "version": "3.12.2"
  }
 },
 "nbformat": 4,
 "nbformat_minor": 2
}
