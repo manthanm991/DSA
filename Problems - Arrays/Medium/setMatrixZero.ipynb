{
 "cells": [
  {
   "cell_type": "markdown",
   "metadata": {},
   "source": [
    "#### Set Matrix Zero\n",
    "Problem Statement: Given a matrix if an element in the matrix is 0 then you will have to set its entire column and row to 0 and then return the matrix.\n",
    "\n",
    "Examples<br>\n",
    "Examples 1:<br>\n",
    "Input: matrix=[[1,1,1],[1,0,1],[1,1,1]]<br>\n",
    "Output: [[1,0,1],[0,0,0],[1,0,1]]<br>\n",
    "Explanation: Since matrix[2][2]=0.Therfore the 2nd column and 2nd row wil be set to 0.\n",
    " \n",
    "Input: matrix=[[0,1,2,0],[3,4,5,2],[1,3,1,5]]<br>\n",
    "Output:[[0,0,0,0],[0,4,5,0],[0,3,1,0]]<br>\n",
    "Explanation: Since matrix[0][0]=0 and matrix[0][3]=0. Therefore 1st row, 1st column and 4th column will be set to 0"
   ]
  },
  {
   "cell_type": "code",
   "execution_count": 1,
   "metadata": {},
   "outputs": [
    {
     "data": {
      "text/plain": [
       "[[1, 0, 1], [0, 0, 0], [1, 0, 1]]"
      ]
     },
     "execution_count": 1,
     "metadata": {},
     "output_type": "execute_result"
    }
   ],
   "source": [
    "def MatrixPrint(arr):\n",
    "    zero_rows = set()\n",
    "    zero_cols = set()\n",
    "    for i in range(len(arr)):\n",
    "        for j in range(len(arr[i])):\n",
    "            if arr[i][j] == 0:\n",
    "                zero_rows.add(i)\n",
    "                zero_cols.add(j)\n",
    "    for row in zero_rows:\n",
    "        for j in range(len(arr[0])):\n",
    "            arr[row][j] = 0\n",
    "\n",
    "    for col in zero_cols:\n",
    "        for i in range(len(arr)):\n",
    "            arr[i][col] = 0\n",
    "    return arr\n",
    "\n",
    "# arr = [[1,2,3],[4,5,6],[7,8,9]]\n",
    "arr = [[1,2,3,4],[4,5,6,7],[7,8,9,10]]\n",
    "arr = [[1,2,3],[4,5,6],[7,8,9],[10,11,12]]\n",
    "arr = [[1,1,1],[1,0,1],[1,1,1]]\n",
    "\n",
    "MatrixPrint(arr)"
   ]
  }
 ],
 "metadata": {
  "kernelspec": {
   "display_name": "Python 3",
   "language": "python",
   "name": "python3"
  },
  "language_info": {
   "codemirror_mode": {
    "name": "ipython",
    "version": 3
   },
   "file_extension": ".py",
   "mimetype": "text/x-python",
   "name": "python",
   "nbconvert_exporter": "python",
   "pygments_lexer": "ipython3",
   "version": "3.12.2"
  }
 },
 "nbformat": 4,
 "nbformat_minor": 2
}
