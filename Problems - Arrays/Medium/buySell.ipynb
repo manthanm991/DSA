{
 "cells": [
  {
   "cell_type": "markdown",
   "metadata": {},
   "source": [
    "Stock Buy And Sell\n",
    "\n",
    "Problem Statement: You are given an array of prices where prices[i] is the price of a given stock on an ith day.\n",
    "\n",
    "You want to maximize your profit by choosing a single day to buy one stock and choosing a different day in the future to sell that stock. Return the maximum profit you can achieve from this transaction. If you cannot achieve any profit, return 0.\n",
    "\n",
    "Examples<br>\n",
    "Example 1:<br>\n",
    "Input: prices = [7,1,5,3,6,4]<br>\n",
    "Output: 5<br>\n",
    "Explanation: Buy on day 2 (price = 1) and sell on day 5 (price = 6), profit = 6-1 = 5.\n",
    "\n",
    "Note: That buying on day 2 and selling on day 1 is not allowed because you must buy before you sell.\n",
    "\n",
    "Example 2:<br>\n",
    "Input: prices = [7,6,4,3,1]<br>\n",
    "Output: 0<br>\n",
    "Explanation: In this case, no transactions are done and the max profit = 0."
   ]
  },
  {
   "cell_type": "code",
   "execution_count": 1,
   "metadata": {},
   "outputs": [
    {
     "name": "stdout",
     "output_type": "stream",
     "text": [
      "5\n"
     ]
    }
   ],
   "source": [
    "def buySell(arr):\n",
    "    profit = 0\n",
    "    buy_day = sell_day = -1\n",
    "    for i in range(len(arr)):\n",
    "        for j in range(i+1,len(arr)):\n",
    "            if arr[j] - arr[i] > profit:\n",
    "                profit = arr[j] - arr[i]\n",
    "                buy_day = i #It is not required for problem\n",
    "                sell_day = j #It is not required for problem\n",
    "    if buy_day != -1 and sell_day != -1:\n",
    "        return profit\n",
    "    else:\n",
    "        return 0\n",
    "\n",
    "arr = [7,1,5,3,6,4]\n",
    "print(buySell(arr))"
   ]
  },
  {
   "cell_type": "code",
   "execution_count": 2,
   "metadata": {},
   "outputs": [
    {
     "name": "stdout",
     "output_type": "stream",
     "text": [
      "4\n"
     ]
    }
   ],
   "source": [
    "def buySell(arr):\n",
    "    min_price = float('inf')\n",
    "    profit = 0\n",
    "    buy_day = sell_day = -1\n",
    "    \n",
    "    for i in range(len(arr)):\n",
    "        if arr[i] < min_price:\n",
    "            min_price = arr[i]\n",
    "            buy_day = i\n",
    "        elif arr[i] - min_price > profit:\n",
    "            profit = arr[i] - min_price\n",
    "            sell_day = i\n",
    "    \n",
    "    if buy_day != -1 and sell_day != -1:\n",
    "        return profit\n",
    "    else:\n",
    "        return 0\n",
    "    \n",
    "arr = [7, 1, 5, 3, 2, 4]\n",
    "print(buySell(arr))"
   ]
  },
  {
   "cell_type": "code",
   "execution_count": 3,
   "metadata": {},
   "outputs": [
    {
     "name": "stdout",
     "output_type": "stream",
     "text": [
      "5\n"
     ]
    }
   ],
   "source": [
    "\n",
    "def buySell(arr):\n",
    "    profit = 0\n",
    "    minPrice = float('inf')\n",
    "    for i in range(len(arr)):\n",
    "        minPrice = min(minPrice, arr[i])\n",
    "        profit = max(profit, arr[i] - minPrice)\n",
    "    return profit\n",
    "\n",
    "arr = [7, 1, 5, 3, 6, 4]\n",
    "print(buySell(arr))"
   ]
  }
 ],
 "metadata": {
  "kernelspec": {
   "display_name": "Python 3",
   "language": "python",
   "name": "python3"
  },
  "language_info": {
   "codemirror_mode": {
    "name": "ipython",
    "version": 3
   },
   "file_extension": ".py",
   "mimetype": "text/x-python",
   "name": "python",
   "nbconvert_exporter": "python",
   "pygments_lexer": "ipython3",
   "version": "3.12.2"
  }
 },
 "nbformat": 4,
 "nbformat_minor": 2
}
