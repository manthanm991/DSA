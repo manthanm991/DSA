{
 "cells": [
  {
   "cell_type": "markdown",
   "metadata": {},
   "source": [
    "Given an array arr[], with 0-based indexing, select any two indexes, i and j such that i < j. From the subarray arr[i...j], select the smallest and second smallest numbers and add them, you will get the score for that subarray. Return the maximum possible score across all the subarrays of array arr[].\n",
    "\n",
    "Examples :\n",
    "\n",
    "Input : arr[] = [4, 3, 1, 5, 6]<br>\n",
    "Output : 11<br>\n",
    "Explanation : Subarrays with smallest and second smallest are:- [4, 3] smallest = 3,second smallest = 4<br>\n",
    "[4, 3, 1] smallest = 1, second smallest = 3<br>\n",
    "[4, 3, 1, 5] smallest = 1, second smallest = 3<br>\n",
    "[4, 3, 1, 5, 6] smallest = 1, second smallest = 3<br>\n",
    "[3, 1] smallest = 1, second smallest = 3<br>\n",
    "[3, 1, 5] smallest = 1, second smallest = 3<br>\n",
    "[3, 1, 5, 6] smallest = 1, second smallest = 3<br>\n",
    "[1, 5] smallest = 1, second smallest = 5<br>\n",
    "[1, 5, 6] smallest = 1, second smallest = 5<br>\n",
    "[5, 6] smallest = 5, second smallest = 6<br>\n",
    "Maximum sum among all above choices is, 5 + 6 = 11.<br>\n",
    "\n",
    "Input : arr[] = [5, 4, 3, 1, 6] <br>\n",
    "Output : 9<br>\n",
    "\n",
    "Expected Time Complexity: O(n)<br>\n",
    "Expected Auxiliary Space: O(1)<br>\n",
    "\n",
    "Constraints:<br>\n",
    "2 ≤ arr.size ≤ 105<br>\n",
    "1 ≤ arr[i] ≤ 106<br>"
   ]
  },
  {
   "cell_type": "code",
   "execution_count": 1,
   "metadata": {},
   "outputs": [],
   "source": [
    "class Solution:\n",
    "    def pairWithMaxSum(self, arr):\n",
    "        # Your code goes here\n",
    "        if len(arr)<2:\n",
    "            return 0\n",
    "        maxSum = arr[0]+arr[1]\n",
    "        for i in range(1,len(arr)-1):\n",
    "            maxSum = max(maxSum, arr[i]+arr[i+1])\n",
    "        return maxSum"
   ]
  }
 ],
 "metadata": {
  "kernelspec": {
   "display_name": "Python 3",
   "language": "python",
   "name": "python3"
  },
  "language_info": {
   "codemirror_mode": {
    "name": "ipython",
    "version": 3
   },
   "file_extension": ".py",
   "mimetype": "text/x-python",
   "name": "python",
   "nbconvert_exporter": "python",
   "pygments_lexer": "ipython3",
   "version": "3.12.2"
  }
 },
 "nbformat": 4,
 "nbformat_minor": 2
}
