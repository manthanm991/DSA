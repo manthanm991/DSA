{
 "cells": [
  {
   "cell_type": "markdown",
   "metadata": {},
   "source": [
    "Problem Statement: Given an integer array arr, find the contiguous subarray (containing at least one number) which\n",
    "has the largest sum and returns its sum and prints the subarray.\n",
    "\n",
    "Examples<br>\n",
    "Example 1:<br>\n",
    "Input: arr = [-2,1,-3,4,-1,2,1,-5,4] <br>\n",
    "Output: 6 <br>\n",
    "Explanation: [4,-1,2,1] has the largest sum = 6. \n",
    "\n",
    "Examples 2:<br>\n",
    "Input: arr = [1] <br>\n",
    "Output: 1 <br>\n",
    "Explanation: Array has only one element and which is giving positive sum of 1."
   ]
  },
  {
   "cell_type": "code",
   "execution_count": 1,
   "metadata": {},
   "outputs": [
    {
     "name": "stdout",
     "output_type": "stream",
     "text": [
      "6\n"
     ]
    }
   ],
   "source": [
    "def MaxSumArray(nums):\n",
    "    maxSum = 0\n",
    "    a = 1\n",
    "    while a<len(nums):\n",
    "        for i in range(len(nums)-a +1):\n",
    "            maxSum = max(maxSum, sum(nums[i:i+a]))\n",
    "        a += 1\n",
    "    return maxSum\n",
    "\n",
    "arr = [-2,1,-3,4,-1,2,1,-5,4]\n",
    "# arr = []\n",
    "print(MaxSumArray(arr))"
   ]
  },
  {
   "cell_type": "code",
   "execution_count": 3,
   "metadata": {},
   "outputs": [
    {
     "name": "stdout",
     "output_type": "stream",
     "text": [
      "6\n"
     ]
    }
   ],
   "source": [
    "def MaxSumArray_1(arr, n) :\n",
    "    maxSum = 0\n",
    "    currentSum = 0\n",
    "\n",
    "    for num in arr:\n",
    "        currentSum = max(num, currentSum + num)\n",
    "        maxSum = max(maxSum, currentSum)\n",
    "    \n",
    "    return maxSum\n",
    "\n",
    "arr = [-2,1,-3,4,-1,2,1,-5,4]\n",
    "print(MaxSumArray_1(arr, len(arr)))"
   ]
  },
  {
   "cell_type": "markdown",
   "metadata": {},
   "source": [
    "#### Cdoe360\n",
    "\n",
    "Problem statement<br>\n",
    "You are given an array 'arr' of length 'n', consisting of integers.<br>\n",
    "\n",
    "A subarray is a contiguous segment of an array. In other words, a subarray can be formed by removing 0 or more integers from the beginning and 0 or more integers from the end of an array. Find the sum of the subarray (including empty subarray) having maximum sum among all subarrays. The sum of an empty subarray is 0.\n",
    "\n",
    "Example :<br>\n",
    "Input: 'arr' = [1, 2, 7, -4, 3, 2, -10, 9, 1]<br>\n",
    "Output: 11<br>\n",
    "Explanation: The subarray yielding the maximum sum is [1, 2, 7, -4, 3, 2].\n",
    "\n",
    "Detailed explanation ( Input/output format, Notes, Images )<br>\n",
    "Sample Input 1 : 9<br>\n",
    "1 2 7 -4 3 2 -10 9 1<br>\n",
    "Sample Output 1 : 11\n",
    "\n",
    "Explanation for Sample 1 :<br>\n",
    "The subarray yielding the maximum sum is [1, 2, 7, -4, 3, 2].\n",
    "\n",
    "Sample Input 2 : 6<br>\n",
    "10 20 -30 40 -50 60<br>\n",
    "Sample Output 2 : 60\n",
    "\n",
    "Sample Input 3 : 3<br>\n",
    "-3 -5 -6<br>\n",
    "Sample Output 3 : 0\n",
    "\n",
    "Expected time complexity : The expected time complexity is O(n).\n",
    "\n",
    "Constraints : <br>\n",
    "1 <= 'n' <= 10 ^ 6<br>\n",
    "-10 ^ 6 <= 'arr[i]' <= 10 ^ 6\n",
    "\n",
    "Time limit: 1sec"
   ]
  },
  {
   "cell_type": "code",
   "execution_count": 4,
   "metadata": {},
   "outputs": [],
   "source": [
    "def maxSubarraySum(arr, n) :\n",
    "    maxSum = 0\n",
    "    currentSum = 0\n",
    "\n",
    "    for num in arr:\n",
    "        currentSum = max(num, currentSum + num)\n",
    "        maxSum = max(maxSum, currentSum)\n",
    "    \n",
    "    return maxSum"
   ]
  }
 ],
 "metadata": {
  "kernelspec": {
   "display_name": "Python 3",
   "language": "python",
   "name": "python3"
  },
  "language_info": {
   "codemirror_mode": {
    "name": "ipython",
    "version": 3
   },
   "file_extension": ".py",
   "mimetype": "text/x-python",
   "name": "python",
   "nbconvert_exporter": "python",
   "pygments_lexer": "ipython3",
   "version": "3.12.2"
  }
 },
 "nbformat": 4,
 "nbformat_minor": 2
}
