{
 "cells": [
  {
   "cell_type": "markdown",
   "metadata": {},
   "source": [
    "Problem Statement: Given an integer array arr, find the contiguous subarray (containing at least one number) which\n",
    "has the largest sum and returns its sum and prints the subarray.\n",
    "\n",
    "Examples<br>\n",
    "Example 1:<br>\n",
    "Input: arr = [-2,1,-3,4,-1,2,1,-5,4] <br>\n",
    "Output: 6 <br>\n",
    "Explanation: [4,-1,2,1] has the largest sum = 6. \n",
    "\n",
    "Examples 2:<br>\n",
    "Input: arr = [1] <br>\n",
    "Output: 1 <br>\n",
    "Explanation: Array has only one element and which is giving positive sum of 1."
   ]
  },
  {
   "cell_type": "code",
   "execution_count": 1,
   "metadata": {},
   "outputs": [
    {
     "name": "stdout",
     "output_type": "stream",
     "text": [
      "6\n"
     ]
    }
   ],
   "source": [
    "def MaxSumArray(nums):\n",
    "    maxSum = 0\n",
    "    a = 1\n",
    "    while a<len(nums):\n",
    "        for i in range(len(nums)-a +1):\n",
    "            maxSum = max(maxSum, sum(nums[i:i+a]))\n",
    "        a += 1\n",
    "    return maxSum\n",
    "\n",
    "arr = [-2,1,-3,4,-1,2,1,-5,4]\n",
    "# arr = []\n",
    "print(MaxSumArray(arr))"
   ]
  }
 ],
 "metadata": {
  "kernelspec": {
   "display_name": "Python 3",
   "language": "python",
   "name": "python3"
  },
  "language_info": {
   "codemirror_mode": {
    "name": "ipython",
    "version": 3
   },
   "file_extension": ".py",
   "mimetype": "text/x-python",
   "name": "python",
   "nbconvert_exporter": "python",
   "pygments_lexer": "ipython3",
   "version": "3.12.2"
  }
 },
 "nbformat": 4,
 "nbformat_minor": 2
}
