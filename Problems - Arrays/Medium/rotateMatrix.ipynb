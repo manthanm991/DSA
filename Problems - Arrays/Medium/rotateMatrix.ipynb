{
 "cells": [
  {
   "cell_type": "markdown",
   "metadata": {},
   "source": [
    "#### Rotate Image by 90 degree\n",
    "\n",
    "Problem Statement: Given a matrix, your task is to rotate the matrix 90 degrees clockwise.\n",
    "\n",
    "Examples<br>\n",
    "Example 1:<br>\n",
    "Input: [[1,2,3],[4,5,6],[7,8,9]]<br>\n",
    "Output: [[7,4,1],[8,5,2],[9,6,3]]<br>\n",
    "Explanation: Rotate the matrix simply by 90 degree clockwise and return the matrix.\n",
    "\n",
    "Example 2:<br>\n",
    "Input: [[5,1,9,11],[2,4,8,10],[13,3,6,7],[15,14,12,16]]<br>\n",
    "Output: [[15,13,2,5],[14,3,4,1],[12,6,8,9],[16,7,10,11]]<br>\n",
    "Explanation: Rotate the matrix simply by 90 degree clockwise and return the matrix\n",
    "\n",
    "\n",
    "#### Rotate Matrix anti-clockwise by 90 degree\n",
    "\n",
    "Problem statement: Given a matrix, your task is to rotate matrix anti-clockwise by 90 degrees.\n",
    "\n",
    "Examples:<br>\n",
    "Example 1:<br>\n",
    "Input: [[1,2,3],[4,5,6],[7,8,9]]<br>\n",
    "Output: [[3 6 9],[2 5 8],[1 4 7]]<br>\n",
    "Explanation: Rotate the matrix anti-clockwise by 90 degrees and return it.\n",
    "\n",
    "Example 2:<br>\n",
    "Input: [[1,2,3,4],[5,6,7,8],[9,10,11,12],[13,14,15,16]]<br>\n",
    "Output: [[4 8 12 16],[3 7 11 15],[2 6 10 14],[1 5 9 13]]<br>\n",
    "Explanation: Rotate the matrix anti-clockwise by 90 degrees and return it."
   ]
  },
  {
   "cell_type": "code",
   "execution_count": 1,
   "metadata": {},
   "outputs": [
    {
     "name": "stdout",
     "output_type": "stream",
     "text": [
      "[[9, 8, 7], [6, 5, 4], [3, 2, 1]]\n",
      "\n",
      "[[7, 4, 1], [8, 5, 2], [9, 6, 3]]\n",
      "\n",
      "[[3, 6, 9], [2, 5, 8], [1, 4, 7]]\n"
     ]
    }
   ],
   "source": [
    "def MatricesRotation(matrix, angle): # For Square Matrices\n",
    "    rotations = (angle % 360) //90\n",
    "    for _ in range(rotations):\n",
    "        rotated = [[0] * len(matrix) for _ in range(len(matrix))]\n",
    "        for i in range(len(matrix)):\n",
    "            for j in range(len(matrix)):\n",
    "                rotated[j][len(matrix) - 1 - i] = matrix[i][j]\n",
    "        matrix = rotated\n",
    "    return matrix\n",
    "\n",
    "arr = [[1,2,3],[4,5,6],[7,8,9]]\n",
    "print(MatricesRotation(arr, 180))\n",
    "print()\n",
    "print(MatricesRotation(arr, 90))\n",
    "print()\n",
    "print(MatricesRotation(arr, -90))"
   ]
  },
  {
   "cell_type": "code",
   "execution_count": 1,
   "metadata": {},
   "outputs": [
    {
     "name": "stdout",
     "output_type": "stream",
     "text": [
      "Rotated Image\n",
      "7 4 1 \n",
      "8 5 2 \n",
      "9 6 3 \n"
     ]
    }
   ],
   "source": [
    "from typing import List\n",
    "def rotate(matrix: List[List[int]]) -> None:\n",
    "    n = len(matrix)\n",
    "    for i in range(n):\n",
    "        for j in range(i):\n",
    "            matrix[i][j], matrix[j][i] = matrix[j][i], matrix[i][j]\n",
    "    for i in range(n):\n",
    "        matrix[i].reverse()\n",
    "\n",
    "\n",
    "if __name__ == \"__main__\":\n",
    "    arr = [[1, 2, 3], [4, 5, 6], [7, 8, 9]]\n",
    "    rotate(arr)\n",
    "    print(\"Rotated Image\")\n",
    "    for i in range(len(arr)):\n",
    "        for j in range(len(arr[0])):\n",
    "            print(arr[i][j], end=\" \")\n",
    "        print()"
   ]
  },
  {
   "cell_type": "code",
   "execution_count": null,
   "metadata": {},
   "outputs": [],
   "source": []
  }
 ],
 "metadata": {
  "kernelspec": {
   "display_name": "Python 3",
   "language": "python",
   "name": "python3"
  },
  "language_info": {
   "codemirror_mode": {
    "name": "ipython",
    "version": 3
   },
   "file_extension": ".py",
   "mimetype": "text/x-python",
   "name": "python",
   "nbconvert_exporter": "python",
   "pygments_lexer": "ipython3",
   "version": "3.12.2"
  }
 },
 "nbformat": 4,
 "nbformat_minor": 2
}
