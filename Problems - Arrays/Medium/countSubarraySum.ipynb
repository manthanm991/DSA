{
 "cells": [
  {
   "cell_type": "markdown",
   "metadata": {},
   "source": [
    "#### Count Subarray sum Equals K\n",
    "\n",
    "Problem Statement: Given an array of integers and an integer k, return the total number of subarrays whose sum equals k.\n",
    "\n",
    "A subarray is a contiguous non-empty sequence of elements within an array.\n",
    "\n",
    "Examples<br>\n",
    "Example 1:<br>\n",
    "Input Format: N = 4, array[] = {3, 1, 2, 4}, k = 6<br>\n",
    "Result: 2<br>\n",
    "Explanation: The subarrays that sum up to 6 are [3, 1, 2] and [2, 4].\n",
    "\n",
    "Example 2:<br>\n",
    "Input Format: N = 3, array[] = {1,2,3}, k = 3<br>\n",
    "Result: 2<br>\n",
    "Explanation: The subarrays that sum up to 3 are [1, 2], and [3]."
   ]
  },
  {
   "cell_type": "code",
   "execution_count": 1,
   "metadata": {},
   "outputs": [
    {
     "name": "stdout",
     "output_type": "stream",
     "text": [
      "[2, 4] [3, 1, 2] 2\n",
      "[3] [1, 2] 2\n"
     ]
    }
   ],
   "source": [
    "def countSubarray(arr, N, k):\n",
    "    a = 1\n",
    "    count = 0\n",
    "    while a<N:\n",
    "        for i in range(N-a+1):\n",
    "            if sum(arr[i:i+a]) == k:\n",
    "                print(arr[i:i+a], end=\" \")\n",
    "                count += 1\n",
    "        a += 1\n",
    "    return count\n",
    "\n",
    "arr = [3,1,2,4]\n",
    "N = len(arr)\n",
    "k = 6\n",
    "print(countSubarray(arr, N, k))\n",
    "arr = [1,2,3]\n",
    "N = len(arr)\n",
    "k = 3\n",
    "print(countSubarray(arr, N, k))\n",
    "\n",
    "# But this method is not optimal due to time complexity of O(N^3)\n",
    "# Can be done with for loop of range(N) to avoid storing a\n",
    "def countSubarray(arr, N, k):\n",
    "    a = 1\n",
    "    count = 0\n",
    "    for i in range(N):\n",
    "        for j in range(i, N):\n",
    "            if sum(arr[i:j+1]) == k:\n",
    "                count += 1\n",
    "    return count"
   ]
  },
  {
   "cell_type": "code",
   "execution_count": null,
   "metadata": {},
   "outputs": [],
   "source": []
  }
 ],
 "metadata": {
  "kernelspec": {
   "display_name": "Python 3",
   "language": "python",
   "name": "python3"
  },
  "language_info": {
   "codemirror_mode": {
    "name": "ipython",
    "version": 3
   },
   "file_extension": ".py",
   "mimetype": "text/x-python",
   "name": "python",
   "nbconvert_exporter": "python",
   "pygments_lexer": "ipython3",
   "version": "3.12.2"
  }
 },
 "nbformat": 4,
 "nbformat_minor": 2
}
