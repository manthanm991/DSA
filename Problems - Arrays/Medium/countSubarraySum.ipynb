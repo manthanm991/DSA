{
 "cells": [
  {
   "cell_type": "markdown",
   "metadata": {},
   "source": [
    "#### Count Subarray sum Equals K\n",
    "\n",
    "Problem Statement: Given an array of integers and an integer k, return the total number of subarrays whose sum equals k.\n",
    "\n",
    "A subarray is a contiguous non-empty sequence of elements within an array.\n",
    "\n",
    "Examples<br>\n",
    "Example 1:<br>\n",
    "Input Format: N = 4, array[] = {3, 1, 2, 4}, k = 6<br>\n",
    "Result: 2<br>\n",
    "Explanation: The subarrays that sum up to 6 are [3, 1, 2] and [2, 4].\n",
    "\n",
    "Example 2:<br>\n",
    "Input Format: N = 3, array[] = {1,2,3}, k = 3<br>\n",
    "Result: 2<br>\n",
    "Explanation: The subarrays that sum up to 3 are [1, 2], and [3]."
   ]
  },
  {
   "cell_type": "code",
   "execution_count": 1,
   "metadata": {},
   "outputs": [
    {
     "name": "stdout",
     "output_type": "stream",
     "text": [
      "[2, 4] [3, 1, 2] 2\n",
      "[3] [1, 2] 2\n"
     ]
    }
   ],
   "source": [
    "def countSubarray(arr, N, k):\n",
    "    a = 1\n",
    "    count = 0\n",
    "    while a<N:\n",
    "        for i in range(N-a+1):\n",
    "            if sum(arr[i:i+a]) == k:\n",
    "                print(arr[i:i+a], end=\" \")\n",
    "                count += 1\n",
    "        a += 1\n",
    "    return count\n",
    "\n",
    "arr = [3,1,2,4]\n",
    "N = len(arr)\n",
    "k = 6\n",
    "print(countSubarray(arr, N, k))\n",
    "arr = [1,2,3]\n",
    "N = len(arr)\n",
    "k = 3\n",
    "print(countSubarray(arr, N, k))\n",
    "\n",
    "# But this method is not optimal due to time complexity of O(N^3)\n",
    "# Can be done with for loop of range(N) to avoid storing a\n",
    "def countSubarray(arr, N, k):\n",
    "    a = 1\n",
    "    count = 0\n",
    "    for i in range(N):\n",
    "        for j in range(i, N):\n",
    "            if sum(arr[i:j+1]) == k:\n",
    "                count += 1\n",
    "    return count"
   ]
  },
  {
   "cell_type": "code",
   "execution_count": 2,
   "metadata": {},
   "outputs": [
    {
     "name": "stdout",
     "output_type": "stream",
     "text": [
      "The number of subarrays is: 2\n"
     ]
    }
   ],
   "source": [
    "from collections import defaultdict\n",
    "\n",
    "def findAllSubarraysWithGivenSum(arr, k):\n",
    "    n = len(arr)\n",
    "    mpp = defaultdict(int)\n",
    "    preSum = 0\n",
    "    cnt = 0\n",
    "    mpp[0] = 1\n",
    "    for i in range(n):\n",
    "        preSum += arr[i]\n",
    "        remove = preSum - k\n",
    "        cnt += mpp[remove]\n",
    "        mpp[preSum] += 1\n",
    "    return cnt\n",
    "\n",
    "if __name__ == '__main__':\n",
    "    arr = [3, 1, 2, 4]\n",
    "    k = 6\n",
    "    cnt = findAllSubarraysWithGivenSum(arr, k)\n",
    "    print(\"The number of subarrays is:\", cnt)"
   ]
  },
  {
   "cell_type": "markdown",
   "metadata": {},
   "source": [
    "### CODE360\n",
    "Count All Subarrays With Given Sum\n",
    "\n",
    "Problem statement: You are given an integer array 'arr' of size 'N' and an integer 'K'. Your task is to find the total number of subarrays of the given array whose sum of elements is equal to k. A subarray is defined as a contiguous block of elements in the array.\n",
    "\n",
    "Example:<br>\n",
    "Input: ‘N’ = 4, ‘arr’ = [3, 1, 2, 4], 'K' = 6<br>\n",
    "Output: 2<br>\n",
    "Explanation: The subarrays that sum up to '6' are: [3, 1, 2], and [2, 4].<br>\n",
    "\n",
    "Detailed explanation ( Input/output format, Notes, Images )<br>\n",
    "Sample Input 1:<br>\n",
    "2<br>\n",
    "4 6<br>\n",
    "3 1 2 4<br>\n",
    "\n",
    "3 3<br>\n",
    "1 2 3<br>\n",
    "Sample output 1:<br>\n",
    "2<br>\n",
    "2<br>\n",
    "Explanation:<br>\n",
    "Test Case 1:<br>\n",
    "Input: ‘N’ = 4, ‘arr’ = [3, 1, 2, 4], 'K' = 6<br>\n",
    "Output: 2<br>\n",
    "Explanation: The subarrays that sum up to '6' are: [3, 1, 2], and [2, 4].<br>\n",
    "\n",
    "Test Case 2:<br>\n",
    "Input: ‘N’ = 3, ‘arr’ = [1, 2, 3], 'K' = 3<br>\n",
    "Output: 2<br>\n",
    "Explanation: The subarrays that sum up to '7' are: [1, 2], and [3].<br>\n",
    "Sample Input 2:<br>\n",
    "2<br>\n",
    "3 7<br>\n",
    "1 2 3<br>\n",
    "\n",
    "4 9<br>\n",
    "6 3 5 2<br>\n",
    "Sample output 2:<br>\n",
    "0<br>\n",
    "1<br>"
   ]
  },
  {
   "cell_type": "code",
   "execution_count": 3,
   "metadata": {},
   "outputs": [],
   "source": [
    "def findAllSubarraysWithGivenSum(arr, s):\n",
    "    # Write your code here.\n",
    "    Map = {0:1}\n",
    "    count = 0\n",
    "    sum_ = 0\n",
    "    for i in range(len(arr)):\n",
    "        sum_ += arr[i]\n",
    "        if sum_ - s in Map:\n",
    "            count += Map[sum_ - s]\n",
    "        Map[sum_] = Map.get(sum_,0)+1\n",
    "    return count"
   ]
  }
 ],
 "metadata": {
  "kernelspec": {
   "display_name": "Python 3",
   "language": "python",
   "name": "python3"
  },
  "language_info": {
   "codemirror_mode": {
    "name": "ipython",
    "version": 3
   },
   "file_extension": ".py",
   "mimetype": "text/x-python",
   "name": "python",
   "nbconvert_exporter": "python",
   "pygments_lexer": "ipython3",
   "version": "3.12.2"
  }
 },
 "nbformat": 4,
 "nbformat_minor": 2
}
