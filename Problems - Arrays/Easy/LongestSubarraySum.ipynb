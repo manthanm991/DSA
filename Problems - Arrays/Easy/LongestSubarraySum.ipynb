{
 "cells": [
  {
   "cell_type": "markdown",
   "metadata": {},
   "source": [
    "#### 12. Longest Subarray with given Sum K(Positives)\n",
    "\n",
    "Problem Statement: Given an array and a sum k, we need to print the length of the longest subarray that sums to k.\n",
    "\n",
    "Examples<br>\n",
    "Example 1:<br>\n",
    "Input Format: N = 3, k = 5, array[] = {2,3,5}<br>\n",
    "Result: 2<br>\n",
    "Explanation: The longest subarray with sum 5 is {2, 3}. And its length is 2.\n",
    "\n",
    "Example 2:<br>\n",
    "Input Format: N = 5, k = 10, array[] = {2,3,5,1,9}<br>\n",
    "Result: 3<br>\n",
    "Explanation: The longest subarray with sum 10 is {2, 3, 5}. And its length is 3.\n",
    "\n",
    "#### 13. Longest Subarray with sum K | [Postives and Negatives]\n",
    "\n",
    "Problem Statement: Given an array and a sum k, we need to print the length of the longest subarray that sums to k.\n",
    "\n",
    "Examples<br>\n",
    "Example 1:<br>\n",
    "Input Format: N = 3, k = 5, array[] = {2,3,5}<br>\n",
    "Result: 2<br>\n",
    "Explanation: The longest subarray with sum 5 is {2, 3}. And its length is 2.\n",
    "\n",
    "Example 2:<br>\n",
    "Input Format: N = 3, k = 1, array[] = {-1, 1, 1}<br>\n",
    "Result: 3<br>\n",
    "Explanation: The longest subarray with sum 1 is {-1, 1, 1}. And its length is 3."
   ]
  },
  {
   "cell_type": "code",
   "execution_count": 1,
   "metadata": {},
   "outputs": [
    {
     "name": "stdout",
     "output_type": "stream",
     "text": [
      "3\n"
     ]
    }
   ],
   "source": [
    "def LongestSubArrSum(arr, k, N):\n",
    "    longest_arr = 0\n",
    "    a = 1 \n",
    "    while a<=N:\n",
    "        for i in range(N-a+1):\n",
    "            if sum(arr[i:i+a]) == k:\n",
    "                longest_arr = max(longest_arr, a)\n",
    "        a += 1\n",
    "    return longest_arr\n",
    "\n",
    "print(LongestSubArrSum([-1,1,1],1,3))"
   ]
  },
  {
   "cell_type": "markdown",
   "metadata": {},
   "source": [
    "#### GFG\n",
    "Longest Subarray with Sum K\n",
    "\n",
    "Given an array arr[] containing integers and an integer k, your task is to find the length of the longest subarray where the sum of its elements is equal to the given value k. If there is no subarray with sum equal to k, return 0.\n",
    "\n",
    "Examples:<br>\n",
    "Input: arr[] = [10, 5, 2, 7, 1, -10], k = 15<br>\n",
    "Output: 6<br>\n",
    "Explanation: Subarrays with sum = 15 are [5, 2, 7, 1], [10, 5] and [10, 5, 2, 7, 1, -10]. The length of the longest subarray with a sum of 15 is 6.\n",
    "\n",
    "Input: arr[] = [-5, 8, -14, 2, 4, 12], k = -5<br>\n",
    "Output: 5<br>\n",
    "Explanation: Only subarray with sum = 15 is [-5, 8, -14, 2, 4] of length 5.\n",
    "\n",
    "Input: arr[] = [10, -10, 20, 30], k = 5<br>\n",
    "Output: 0<br>\n",
    "Explanation: No subarray with sum = 5 is present in arr[].\n",
    "\n",
    "Constraints:<br>\n",
    "1 ≤ arr.size() ≤ 105<br>\n",
    "-104 ≤ arr[i] ≤ 104<br>\n",
    "-109 ≤ k ≤ 109"
   ]
  },
  {
   "cell_type": "code",
   "execution_count": 2,
   "metadata": {},
   "outputs": [],
   "source": [
    "class Solution:\n",
    "    def longestSubarray(self, arr, k):  \n",
    "        presumMap={}\n",
    "        longest_arr = 0\n",
    "        sum = 0\n",
    "        for i in range(len(arr)):\n",
    "            sum += arr[i]\n",
    "            if sum == k:\n",
    "                longest_arr = max(longest_arr, i+1)\n",
    "            rem = sum -k\n",
    "            if rem in presumMap:\n",
    "                length = i - presumMap[rem]\n",
    "                longest_arr = max(longest_arr, length)\n",
    "            if sum not in presumMap:\n",
    "                presumMap[sum] = i\n",
    "        return longest_arr"
   ]
  },
  {
   "cell_type": "code",
   "execution_count": null,
   "metadata": {},
   "outputs": [],
   "source": []
  }
 ],
 "metadata": {
  "kernelspec": {
   "display_name": "Python 3",
   "language": "python",
   "name": "python3"
  },
  "language_info": {
   "codemirror_mode": {
    "name": "ipython",
    "version": 3
   },
   "file_extension": ".py",
   "mimetype": "text/x-python",
   "name": "python",
   "nbconvert_exporter": "python",
   "pygments_lexer": "ipython3",
   "version": "3.12.2"
  }
 },
 "nbformat": 4,
 "nbformat_minor": 2
}
