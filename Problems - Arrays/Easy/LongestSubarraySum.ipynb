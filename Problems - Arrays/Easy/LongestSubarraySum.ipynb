{
 "cells": [
  {
   "cell_type": "markdown",
   "metadata": {},
   "source": [
    "#### 12. Longest Subarray with given Sum K(Positives)\n",
    "\n",
    "Problem Statement: Given an array and a sum k, we need to print the length of the longest subarray that sums to k.\n",
    "\n",
    "Examples<br>\n",
    "Example 1:<br>\n",
    "Input Format: N = 3, k = 5, array[] = {2,3,5}<br>\n",
    "Result: 2<br>\n",
    "Explanation: The longest subarray with sum 5 is {2, 3}. And its length is 2.\n",
    "\n",
    "Example 2:<br>\n",
    "Input Format: N = 5, k = 10, array[] = {2,3,5,1,9}<br>\n",
    "Result: 3<br>\n",
    "Explanation: The longest subarray with sum 10 is {2, 3, 5}. And its length is 3.\n",
    "\n",
    "#### 13. Longest Subarray with sum K | [Postives and Negatives]\n",
    "\n",
    "Problem Statement: Given an array and a sum k, we need to print the length of the longest subarray that sums to k.\n",
    "\n",
    "Examples<br>\n",
    "Example 1:<br>\n",
    "Input Format: N = 3, k = 5, array[] = {2,3,5}<br>\n",
    "Result: 2<br>\n",
    "Explanation: The longest subarray with sum 5 is {2, 3}. And its length is 2.\n",
    "\n",
    "Example 2:<br>\n",
    "Input Format: N = 3, k = 1, array[] = {-1, 1, 1}<br>\n",
    "Result: 3<br>\n",
    "Explanation: The longest subarray with sum 1 is {-1, 1, 1}. And its length is 3."
   ]
  },
  {
   "cell_type": "code",
   "execution_count": 1,
   "metadata": {},
   "outputs": [
    {
     "name": "stdout",
     "output_type": "stream",
     "text": [
      "3\n"
     ]
    }
   ],
   "source": [
    "def LongestSubArrSum(arr, k, N):\n",
    "    longest_arr = 0\n",
    "    a = 1 \n",
    "    while a<=N:\n",
    "        for i in range(N-a+1):\n",
    "            if sum(arr[i:i+a]) == k:\n",
    "                longest_arr = max(longest_arr, a)\n",
    "        a += 1\n",
    "    return longest_arr\n",
    "\n",
    "print(LongestSubArrSum([-1,1,1],1,3))"
   ]
  },
  {
   "cell_type": "markdown",
   "metadata": {},
   "source": [
    "#### GFG\n",
    "Longest Subarray with Sum K\n",
    "\n",
    "Given an array arr[] containing integers and an integer k, your task is to find the length of the longest subarray where the sum of its elements is equal to the given value k. If there is no subarray with sum equal to k, return 0.\n",
    "\n",
    "Examples:<br>\n",
    "Input: arr[] = [10, 5, 2, 7, 1, -10], k = 15<br>\n",
    "Output: 6<br>\n",
    "Explanation: Subarrays with sum = 15 are [5, 2, 7, 1], [10, 5] and [10, 5, 2, 7, 1, -10]. The length of the longest subarray with a sum of 15 is 6.\n",
    "\n",
    "Input: arr[] = [-5, 8, -14, 2, 4, 12], k = -5<br>\n",
    "Output: 5<br>\n",
    "Explanation: Only subarray with sum = 15 is [-5, 8, -14, 2, 4] of length 5.\n",
    "\n",
    "Input: arr[] = [10, -10, 20, 30], k = 5<br>\n",
    "Output: 0<br>\n",
    "Explanation: No subarray with sum = 5 is present in arr[].\n",
    "\n",
    "Constraints:<br>\n",
    "1 ≤ arr.size() ≤ 105<br>\n",
    "-104 ≤ arr[i] ≤ 104<br>\n",
    "-109 ≤ k ≤ 109"
   ]
  },
  {
   "cell_type": "code",
   "execution_count": 2,
   "metadata": {},
   "outputs": [],
   "source": [
    "class Solution:\n",
    "    def longestSubarray(self, arr, k):  \n",
    "        presumMap={}\n",
    "        longest_arr = 0\n",
    "        sum = 0\n",
    "        for i in range(len(arr)):\n",
    "            sum += arr[i]\n",
    "            if sum == k:\n",
    "                longest_arr = max(longest_arr, i+1)\n",
    "            rem = sum -k\n",
    "            if rem in presumMap:\n",
    "                length = i - presumMap[rem]\n",
    "                longest_arr = max(longest_arr, length)\n",
    "            if sum not in presumMap:\n",
    "                presumMap[sum] = i\n",
    "        return longest_arr"
   ]
  },
  {
   "cell_type": "markdown",
   "metadata": {},
   "source": [
    "#### Code360\n",
    "\n",
    "Problem statement\n",
    "\n",
    "Ninja and his friend are playing a game of subarrays. They have an array ‘NUMS’ of length ‘N’. Ninja’s friend gives him an arbitrary integer ‘K’ and asks him to find the length of the longest subarray in which the sum of elements is equal to ‘K’.\n",
    "Ninjas asks for your help to win this game. Find the length of the longest subarray in which the sum of elements is equal to ‘K’.\n",
    "\n",
    "If there is no subarray whose sum is ‘K’ then you should return 0.\n",
    "\n",
    "Example:<br>\n",
    "Input: ‘N’ = 5,  ‘K’ = 4, ‘NUMS’ = [ 1, 2, 1, 0, 1 ]<br>\n",
    "Output: 4<br>\n",
    "There are two subarrays with sum = 4, [1, 2, 1] and [2, 1, 0, 1]. Hence the length of the longest subarray with sum = 4 is 4.\n",
    "\n",
    "Detailed explanation ( Input/output format, Notes, Images )<br>\n",
    "Constraints :<br>\n",
    "1 <= T <= 10<br>\n",
    "1 <= N <= 10^5<br>\n",
    "-10^6 <= NUMS[ i ] <= 10^6<br>\n",
    "-10^6 <= K <= 10^6\n",
    "\n",
    "Sum of N Over all the Test cases <= 10^5\n",
    "\n",
    "Time Limit: 1 sec\n",
    "\n",
    "Sample Input 1 :<br>\n",
    "2<br>\n",
    "3 5<br>\n",
    "2 3 5<br>\n",
    "3 1<br>\n",
    "-1 1 1<br>\n",
    "Sample Output 1 :<br>\n",
    "2<br>\n",
    "3<br>\n",
    "Explanation Of Sample Input 1 :<br>\n",
    "For the first case:<br>\n",
    "There are two subarrays with sum = 5, [2, 3] and [5]. Hence the length of the longest subarray is 2.\n",
    "\n",
    "For the second case:<br>\n",
    "Longest subarray with sum = 1 is [1, -1, 1].<br>\n",
    "Sample Input 2 :<br>\n",
    "2<br>\n",
    "3 4<br>\n",
    "1 1 1<br>\n",
    "3 2<br>\n",
    "-50 0 52<br>\n",
    "Sample Output 2 :<br>\n",
    "0 <br>\n",
    "3<br>"
   ]
  },
  {
   "cell_type": "code",
   "execution_count": 3,
   "metadata": {},
   "outputs": [],
   "source": [
    "def getLongestSubarray(nums, k):\n",
    "    sum_ = 0\n",
    "    Map = {}\n",
    "    maxLen = 0\n",
    "    for i in range(len(nums)):\n",
    "        sum_ += nums[i]\n",
    "        if sum_ == k:\n",
    "            maxLen = max(maxLen, i+1)\n",
    "        rem = sum_ - k\n",
    "        if rem in Map:\n",
    "            length = i - Map[rem]\n",
    "            maxLen = max(maxLen, length)\n",
    "        if sum_ not in Map:\n",
    "            Map[sum_] = i\n",
    "    return maxLen"
   ]
  }
 ],
 "metadata": {
  "kernelspec": {
   "display_name": "Python 3",
   "language": "python",
   "name": "python3"
  },
  "language_info": {
   "codemirror_mode": {
    "name": "ipython",
    "version": 3
   },
   "file_extension": ".py",
   "mimetype": "text/x-python",
   "name": "python",
   "nbconvert_exporter": "python",
   "pygments_lexer": "ipython3",
   "version": "3.12.2"
  }
 },
 "nbformat": 4,
 "nbformat_minor": 2
}
