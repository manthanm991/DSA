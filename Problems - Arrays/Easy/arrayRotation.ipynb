{
 "cells": [
  {
   "cell_type": "markdown",
   "metadata": {},
   "source": [
    "#### 5. Left Rotate the Array by One\n",
    "\n",
    "Problem Statement: Given an array of N integers, left rotate the array by one place.\n",
    "\n",
    "Example 1:<br>\n",
    "Input: N = 5, array[] = {1,2,3,4,5}<br>\n",
    "Output: 2,3,4,5,1<br>\n",
    "Explanation:Since all the elements in array will be shifted toward left by one so ‘2’ will now become the first index and and ‘1’ which was present at first index will be shifted at last.\n",
    "\n",
    "Example 2:<br>\n",
    "Input: N = 1, array[] = {3}<br>\n",
    "Output: 3<br>\n",
    "Explanation: Here only element is present and so the element at first index will be shifted to last index which is also by the way the first index.\n",
    "\n",
    "##### 6. Rotate array by K elements\n",
    "Problem Statement: Given an array of integers, rotating array of elements by k elements either left or right.\n",
    "\n",
    "Examples:<br>\n",
    "Example 1:<br>\n",
    "Input: N = 7, array[] = {1,2,3,4,5,6,7} , k=2 , right<br>\n",
    "Output: 6 7 1 2 3 4 5<br>\n",
    "Explanation: array is rotated to right by 2 position .\n",
    "\n",
    "Example 2:<br>\n",
    "Input: N = 6, array[] = {3,7,8,9,10,11} , k=3 , left <br>\n",
    "Output: 9 10 11 3 7 8<br>\n",
    "Explanation: Array is rotated to right by 3 position."
   ]
  },
  {
   "cell_type": "code",
   "execution_count": 1,
   "metadata": {},
   "outputs": [
    {
     "name": "stdout",
     "output_type": "stream",
     "text": [
      "[3, 4, 5, 1, 2]\n"
     ]
    }
   ],
   "source": [
    "def RotateArr(arr, x):\n",
    "    temp = []\n",
    "    x = len(arr) - x\n",
    "    for i in range(len(arr)):\n",
    "        temp.append(arr[((i + x)) % len(arr)])\n",
    "    return temp\n",
    "\n",
    "\n",
    "arr = [1,2,3,4,5]\n",
    "print(RotateArr(arr,3))"
   ]
  }
 ],
 "metadata": {
  "kernelspec": {
   "display_name": "Python 3",
   "language": "python",
   "name": "python3"
  },
  "language_info": {
   "codemirror_mode": {
    "name": "ipython",
    "version": 3
   },
   "file_extension": ".py",
   "mimetype": "text/x-python",
   "name": "python",
   "nbconvert_exporter": "python",
   "pygments_lexer": "ipython3",
   "version": "3.12.2"
  }
 },
 "nbformat": 4,
 "nbformat_minor": 2
}
