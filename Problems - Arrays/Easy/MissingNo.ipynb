{
 "cells": [
  {
   "cell_type": "markdown",
   "metadata": {},
   "source": [
    "##### Find the missing number in an array\n",
    "\n",
    "Problem Statement: Given an integer N and an array of size N-1 containing N-1 numbers between 1 to N. Find the number(between 1 to N), that is not present in the given array.\n",
    "\n",
    "Examples<br>\n",
    "Example 1:<br>\n",
    "Input Format: N = 5, array[] = {1,2,4,5}<br>\n",
    "Result: 3<br>\n",
    "Explanation: In the given array, number 3 is missing. So, 3 is the answer.\n",
    "\n",
    "Example 2:<br>\n",
    "Input Format: N = 3, array[] = {1,3}<br>\n",
    "Result: 2<br>\n",
    "Explanation: In the given array, number 2 is missing. So, 2 is the answer."
   ]
  },
  {
   "cell_type": "code",
   "execution_count": 1,
   "metadata": {},
   "outputs": [
    {
     "name": "stdout",
     "output_type": "stream",
     "text": [
      "1\n",
      "2\n",
      "3\n",
      "4\n"
     ]
    }
   ],
   "source": [
    "def FindMissingNo(nums, k):\n",
    "    j = 0\n",
    "    nums.sort()\n",
    "    for i in range(1,k+1):\n",
    "        if j < len(nums) and nums[j] == i:\n",
    "            j +=1\n",
    "        else:\n",
    "            print(i)\n",
    "\n",
    "FindMissingNo([3,0,1],4)"
   ]
  },
  {
   "cell_type": "code",
   "execution_count": 3,
   "metadata": {},
   "outputs": [
    {
     "name": "stdout",
     "output_type": "stream",
     "text": [
      "3\n"
     ]
    },
    {
     "data": {
      "text/plain": [
       "'\\nTime Complexity: O(N)\\nSpace Complexity: O(1)\\n'"
      ]
     },
     "execution_count": 3,
     "metadata": {},
     "output_type": "execute_result"
    }
   ],
   "source": [
    "# Summation Approach\n",
    "def missingNumber(a, N):\n",
    "    summation = (N * (N + 1)) // 2\n",
    "    s2 = sum(a)\n",
    "    missingNum = summation - s2\n",
    "    return missingNum\n",
    "N = 5\n",
    "a = [1, 2, 4, 5]\n",
    "print(missingNumber(a, N))\n",
    "\n",
    "'''\n",
    "Time Complexity: O(N)\n",
    "Space Complexity: O(1)\n",
    "'''"
   ]
  },
  {
   "cell_type": "markdown",
   "metadata": {},
   "source": [
    "Problem statement\n",
    "Given an array ‘a’ of size ‘n’-1 with elements of range 1 to ‘n’. The array does not contain any duplicates. Your task is to find the missing number.\n",
    "\n",
    "For example:<br>\n",
    "Input:'a' = [1, 2, 4, 5], 'n' = 5<br>\n",
    "Output :3<br>\n",
    "Explanation: 3 is the missing value in the range 1 to 5.\n",
    "\n",
    "Detailed explanation ( Input/output format, Notes, Images )<br>\n",
    "Sample Input 1 : 4 <br>\n",
    "1 2 3<br>\n",
    "Sample Output 1: 4<br>\n",
    "Explanation Of Sample Input 1: 4 is the missing value in the range 1 to 4.\n",
    "\n",
    "Sample Input 2: 8<br>\n",
    "1 2 3 5 6 7 8<br>\n",
    "Sample Output 2: 4<br>\n",
    "Explanation Of Sample Input 2: 4 is the missing value in the range 1 to 8.\n",
    "\n",
    "Expected time complexity: The expected time complexity is O(n).\n",
    "\n",
    "Constraints:<br>\n",
    "1 <= 'n' <= 10^6<br> \n",
    "1 <= 'a'[i] <= 'n'\n",
    "\n",
    "Time Limit: 1 sec"
   ]
  },
  {
   "cell_type": "code",
   "execution_count": 4,
   "metadata": {},
   "outputs": [],
   "source": [
    "from typing import *\n",
    "\n",
    "def missingNumber(a : List[int], N : int) -> int:\n",
    "    # Write your code here.\n",
    "    j = 0\n",
    "    a.sort()\n",
    "    for i in range(1,N+1):\n",
    "        if j<len(a) and i == a[j]:\n",
    "            j += 1\n",
    "        else:\n",
    "            return i"
   ]
  }
 ],
 "metadata": {
  "kernelspec": {
   "display_name": "Python 3",
   "language": "python",
   "name": "python3"
  },
  "language_info": {
   "codemirror_mode": {
    "name": "ipython",
    "version": 3
   },
   "file_extension": ".py",
   "mimetype": "text/x-python",
   "name": "python",
   "nbconvert_exporter": "python",
   "pygments_lexer": "ipython3",
   "version": "3.12.2"
  }
 },
 "nbformat": 4,
 "nbformat_minor": 2
}
