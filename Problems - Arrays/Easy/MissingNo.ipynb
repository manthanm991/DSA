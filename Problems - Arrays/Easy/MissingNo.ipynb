{
 "cells": [
  {
   "cell_type": "markdown",
   "metadata": {},
   "source": [
    "##### Find the missing number in an array\n",
    "\n",
    "Problem Statement: Given an integer N and an array of size N-1 containing N-1 numbers between 1 to N. Find the number(between 1 to N), that is not present in the given array.\n",
    "\n",
    "Examples<br>\n",
    "Example 1:<br>\n",
    "Input Format: N = 5, array[] = {1,2,4,5}<br>\n",
    "Result: 3<br>\n",
    "Explanation: In the given array, number 3 is missing. So, 3 is the answer.\n",
    "\n",
    "Example 2:<br>\n",
    "Input Format: N = 3, array[] = {1,3}<br>\n",
    "Result: 2<br>\n",
    "Explanation: In the given array, number 2 is missing. So, 2 is the answer."
   ]
  },
  {
   "cell_type": "code",
   "execution_count": 1,
   "metadata": {},
   "outputs": [
    {
     "name": "stdout",
     "output_type": "stream",
     "text": [
      "1\n",
      "2\n",
      "3\n",
      "4\n"
     ]
    }
   ],
   "source": [
    "def FindMissingNo(nums, k):\n",
    "    j = 0\n",
    "    nums.sort()\n",
    "    for i in range(1,k+1):\n",
    "        if j < len(nums) and nums[j] == i:\n",
    "            j +=1\n",
    "        else:\n",
    "            print(i)\n",
    "\n",
    "FindMissingNo([3,0,1],4)"
   ]
  },
  {
   "cell_type": "code",
   "execution_count": null,
   "metadata": {},
   "outputs": [],
   "source": []
  }
 ],
 "metadata": {
  "kernelspec": {
   "display_name": "Python 3",
   "language": "python",
   "name": "python3"
  },
  "language_info": {
   "codemirror_mode": {
    "name": "ipython",
    "version": 3
   },
   "file_extension": ".py",
   "mimetype": "text/x-python",
   "name": "python",
   "nbconvert_exporter": "python",
   "pygments_lexer": "ipython3",
   "version": "3.12.2"
  }
 },
 "nbformat": 4,
 "nbformat_minor": 2
}
