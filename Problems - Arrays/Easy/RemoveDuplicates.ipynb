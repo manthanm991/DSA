{
 "cells": [
  {
   "cell_type": "markdown",
   "metadata": {},
   "source": [
    "Problem Statement: Given an integer array sorted in non-decreasing order, remove the duplicates in place such that each unique element appears only once. The relative order of the elements should be kept the same.\n",
    "\n",
    "If there are k elements after removing the duplicates, then the first k elements of the array should hold the final result. It does not matter what you leave beyond the first k elements.\n",
    "\n",
    "Note: Return k after placing the final result in the first k slots of the array.\n",
    "\n",
    "Example 1:<br>\n",
    "Input: arr[1,1,2,2,2,3,3]<br>\n",
    "Output: arr[1, 2, 3, _, _, _, _]<br>\n",
    "Explanation: Total number of unique elements are 3, i.e[1,2,3] and Therefore return 3 after assigning [1,2,3] in the beginning of the array.\n",
    "\n",
    "Example 2:<br>\n",
    "Input: arr[1,1,1,2,2,3,3,3,3,4,4]<br>\n",
    "Output: arr[1, 2, 3, 4, _, _, _, _, _, _, _]<br>\n",
    "Explanation: Total number of unique elements are 4, i.e[1,2,3,4] and Therefore return 4 after assigning [1,2,3,4] in the beginning of the array."
   ]
  },
  {
   "cell_type": "markdown",
   "metadata": {},
   "source": []
  },
  {
   "cell_type": "code",
   "execution_count": 1,
   "metadata": {},
   "outputs": [
    {
     "name": "stdout",
     "output_type": "stream",
     "text": [
      "[1, 2, 3, 4, '_', '_', '_', '_', '_', '_', '_']\n"
     ]
    }
   ],
   "source": [
    "def RemoveDuplicate(arr):\n",
    "    arr1 = list(set(arr))\n",
    "    return arr1 + ['_']*(len(arr)-len(arr1))\n",
    "\n",
    "arr = [1,1,2,2,2,3,3]\n",
    "arr = [1,1,1,2,2,3,3,3,3,4,4]\n",
    "print(RemoveDuplicate(arr))"
   ]
  },
  {
   "cell_type": "markdown",
   "metadata": {},
   "source": [
    "Problem statement\n",
    "You are given a sorted integer array 'arr' of size 'n'.<br>\n",
    "You need to remove the duplicates from the array such that each element appears only once.<br>\n",
    "Return the length of this new array.\n",
    "\n",
    "Note: Do not allocate extra space for another array. You need to do this by modifying the given input array in place with O(1) extra memory. \n",
    "\n",
    "For example:<br>\n",
    "'n' = 5, 'arr' = [1 2 2 2 3].<br>\n",
    "The new array will be [1 2 3].<br>\n",
    "So our answer is 3.\n",
    "\n",
    "Detailed explanation ( Input/output format, Notes, Images )<br>\n",
    "Sample input 1:<br>\n",
    "10<br>\n",
    "1 2 2 3 3 3 4 4 5 5 <br>\n",
    "Sample output 1: 5<br>\n",
    "Explanation of sample input 1: The new array will be [1 2 3 4 5].<br>\n",
    "So our answer is 5.<br>\n",
    "\n",
    "Sample input 2:<br>\n",
    "9<br>\n",
    "1 1 2 3 3 4 5 5 5 <br>\n",
    "Sample output 2: 5<br>\n",
    "\n",
    "Expected time complexity: The expected time complexity is O(n).\n",
    "\n",
    "Constraints :<br>\n",
    "1 <= 'n' <= 10^6<br>\n",
    "-10^9 <= 'arr[i]' <=10^9\n",
    "\n",
    "Where ‘arr[i]’ is the value of elements of the array.\n",
    "\n",
    "Time limit: 1 sec"
   ]
  },
  {
   "cell_type": "code",
   "execution_count": null,
   "metadata": {},
   "outputs": [],
   "source": [
    "def removeDuplicates(arr,n):\n",
    "    # Write your code here.\n",
    "    arr = list(set(arr))\n",
    "    return len(arr)"
   ]
  },
  {
   "cell_type": "code",
   "execution_count": 4,
   "metadata": {},
   "outputs": [
    {
     "name": "stdout",
     "output_type": "stream",
     "text": [
      "4\n"
     ]
    }
   ],
   "source": [
    "def removeDuplicates(arr):\n",
    "    i = 0\n",
    "    for j in range(1, len(arr)):\n",
    "        if arr[i] != arr[j]:\n",
    "            i += 1\n",
    "            arr[i] = arr[j]\n",
    "    return i + 1\n",
    "\n",
    "arr = [1,1,1,2,2,3,3,3,3,4,4]\n",
    "print(removeDuplicates(arr))    \n",
    "# Time Complexity: O(N)\n",
    "# Space Complexity: O(1)"
   ]
  }
 ],
 "metadata": {
  "kernelspec": {
   "display_name": "Python 3",
   "language": "python",
   "name": "python3"
  },
  "language_info": {
   "codemirror_mode": {
    "name": "ipython",
    "version": 3
   },
   "file_extension": ".py",
   "mimetype": "text/x-python",
   "name": "python",
   "nbconvert_exporter": "python",
   "pygments_lexer": "ipython3",
   "version": "3.12.2"
  }
 },
 "nbformat": 4,
 "nbformat_minor": 2
}
