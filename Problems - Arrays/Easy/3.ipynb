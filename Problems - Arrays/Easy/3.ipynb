{
 "cells": [
  {
   "cell_type": "markdown",
   "metadata": {},
   "source": [
    "Check if an Array is Sorted\n",
    "\n",
    "Problem Statement: Given an array of size n, write a program to check if the given array is sorted in (ascending / Increasing / Non-decreasing) order or not. If the array is sorted then return True, Else return False.\n",
    "\n",
    "Note: Two consecutive equal values are considered to be sorted.\n",
    "\n",
    "Example 1:<br>\n",
    "Input: N = 5, array[] = {1,2,3,4,5}<br>\n",
    "Output: True.<br>\n",
    "Explanation: The given array is sorted i.e Every element in the array is smaller than or equals to its next values, So the answer is True.\n",
    "\n",
    "<figure>\n",
    "<img src = \"3.1.png\" width=\"300px\" height = \"300px\">\n",
    "<figure><br>\n",
    "Example 2:<br>\n",
    "Input: N = 5, array[] = {5,4,6,7,8}<br>\n",
    "Output: False.<br>\n",
    "Explanation: The given array is Not sorted i.e Every element in the array is not smaller than or equal to its next values, So the answer is False.\n",
    "\n",
    "Here element 5 is not smaller than or equal to its future elements.\n",
    "<figure>\n",
    "<img src = \"3.2.png\" width=\"300px\" height = \"300px\">\n",
    "<figure>"
   ]
  },
  {
   "cell_type": "markdown",
   "metadata": {},
   "source": [
    "#### Code360"
   ]
  },
  {
   "cell_type": "markdown",
   "metadata": {},
   "source": [
    "Problem statement\n",
    "You have been given an array ‘a’ of ‘n’ non-negative integers.You have to check whether the given array is sorted in the non-decreasing order or not.\n",
    "\n",
    "Your task is to return 1 if the given array is sorted. Else, return 0.\n",
    "\n",
    "Example :<br>\n",
    "Input: ‘n’ = 5, ‘a’ = [1, 2, 3, 4, 5]<br>\n",
    "Output: 1<br>\n",
    "The given array is sorted in non-decreasing order; hence the answer will be 1.\n",
    "\n",
    "Detailed explanation ( Input/output format, Notes, Images )<br>\n",
    "Sample Input 1 :<br>\n",
    "4<br>\n",
    "0 0 0 1<br>\n",
    "Sample Output 1 : 1<br>\n",
    "Explanation For Sample Input 1 : The given array is sorted in non-decreasing order; hence the answer will be 1. \n",
    "\n",
    "Sample Input 2 :<br>\n",
    "5<br>\n",
    "4 5 4 4 4<br>\n",
    "Sample Output 2 : 0\n",
    "\n",
    "Expected Time Complexity: O(n), Where ‘n’ is the size of an input array ‘a’.\n",
    "\n",
    "Constraints:<br>\n",
    "1 ≤ 'n' ≤ 5*10^6<br>\n",
    "0 ≤ 'a'[i] ≤ 10^9\n",
    "\n",
    "Time limit: 1 sec"
   ]
  },
  {
   "cell_type": "code",
   "execution_count": 5,
   "metadata": {},
   "outputs": [
    {
     "name": "stdout",
     "output_type": "stream",
     "text": [
      "True\n",
      "False\n"
     ]
    }
   ],
   "source": [
    "def isSorted(arr):\n",
    "    arr1 = arr.copy()\n",
    "    arr1.sort()\n",
    "    if arr == arr1:\n",
    "        return True\n",
    "    else:\n",
    "        return False\n",
    "    \n",
    "arr = [1,2,3,4,5]\n",
    "arr1 = [5,4,6,7,8]\n",
    "print(isSorted(arr))\n",
    "print(isSorted(arr1))\n",
    "\n",
    "# Time Complexity: O(n log n)\n",
    "# Space Complexity: O(n)"
   ]
  },
  {
   "cell_type": "code",
   "execution_count": 7,
   "metadata": {},
   "outputs": [],
   "source": [
    "# Time Complexity: O(N^2)\n",
    "# Space Complexity: O(1)\n",
    "\n",
    "def isSorted(arr, n):\n",
    "    for i in range(n):\n",
    "        for j in range(i + 1, n):\n",
    "            if arr[j] < arr[i]:\n",
    "                return False\n",
    "\n",
    "    return True"
   ]
  },
  {
   "cell_type": "code",
   "execution_count": 8,
   "metadata": {},
   "outputs": [],
   "source": [
    "# Time Complexity: O(N)\n",
    "# Space Complexity: O(1)\n",
    "\n",
    "def isSorted(arr, n):\n",
    "    for i in range(1, n):\n",
    "        if arr[i] < arr[i - 1]:\n",
    "            return False\n",
    "    return True"
   ]
  },
  {
   "cell_type": "code",
   "execution_count": null,
   "metadata": {},
   "outputs": [],
   "source": []
  }
 ],
 "metadata": {
  "kernelspec": {
   "display_name": "Python 3",
   "language": "python",
   "name": "python3"
  },
  "language_info": {
   "codemirror_mode": {
    "name": "ipython",
    "version": 3
   },
   "file_extension": ".py",
   "mimetype": "text/x-python",
   "name": "python",
   "nbconvert_exporter": "python",
   "pygments_lexer": "ipython3",
   "version": "3.12.2"
  }
 },
 "nbformat": 4,
 "nbformat_minor": 2
}
