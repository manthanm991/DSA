{
 "cells": [
  {
   "cell_type": "markdown",
   "metadata": {},
   "source": [
    "#### Find the number that appears once, and the other numbers twice\n",
    "\n",
    "Problem Statement: Given a non-empty array of integers arr, every element appears twice except for one. Find that single one.\n",
    "\n",
    "Examples<br>\n",
    "Example 1:<br>\n",
    "Input Format: arr[] = {2,2,1}<br>\n",
    "Result: 1<br>\n",
    "Explanation: In this array, only the element 1 appear once and so it is the answer.\n",
    "\n",
    "Example 2:<br>\n",
    "Input Format: arr[] = {4,1,2,1,2}<br>\n",
    "Result: 4<br>\n",
    "Explanation: In this array, only element 4 appear once and the other elements appear twice. So, 4 is the answer."
   ]
  },
  {
   "cell_type": "code",
   "execution_count": 1,
   "metadata": {},
   "outputs": [
    {
     "name": "stdout",
     "output_type": "stream",
     "text": [
      "1\n",
      "4\n"
     ]
    }
   ],
   "source": [
    "def FreqOneElement(arr):\n",
    "    hash = {}\n",
    "    for i in arr:\n",
    "        hash[i] = hash.get(i,0)+1\n",
    "    min_count = float('inf')\n",
    "    for v in hash.values():\n",
    "        if v < min_count:\n",
    "            min_count = v    \n",
    "    for k, v in hash.items():\n",
    "        if v == min_count:\n",
    "            return k\n",
    "print(FreqOneElement([2,2,1]))\n",
    "print(FreqOneElement([4,1,2,1,2]))"
   ]
  },
  {
   "cell_type": "code",
   "execution_count": 2,
   "metadata": {},
   "outputs": [
    {
     "name": "stdout",
     "output_type": "stream",
     "text": [
      "4\n"
     ]
    }
   ],
   "source": [
    "def getSingleElement(arr):\n",
    "    xorr = 0\n",
    "    for num in arr:\n",
    "        xorr ^= num\n",
    "    return xorr\n",
    "\n",
    "arr = [4, 1, 2, 1, 2]\n",
    "print(getSingleElement(arr))"
   ]
  }
 ],
 "metadata": {
  "kernelspec": {
   "display_name": "Python 3",
   "language": "python",
   "name": "python3"
  },
  "language_info": {
   "codemirror_mode": {
    "name": "ipython",
    "version": 3
   },
   "file_extension": ".py",
   "mimetype": "text/x-python",
   "name": "python",
   "nbconvert_exporter": "python",
   "pygments_lexer": "ipython3",
   "version": "3.12.2"
  }
 },
 "nbformat": 4,
 "nbformat_minor": 2
}
