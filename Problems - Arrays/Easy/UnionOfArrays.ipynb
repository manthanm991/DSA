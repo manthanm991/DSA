{
 "cells": [
  {
   "cell_type": "markdown",
   "metadata": {},
   "source": [
    "Union of Two Sorted Arrays\n",
    "\n",
    "Problem Statement: Given two sorted arrays, arr1, and arr2 of size n and m. Find the union of two sorted arrays.\n",
    "\n",
    "The union of two arrays can be defined as the common and distinct elements in the two arrays.NOTE: Elements in the union should be in ascending order.\n",
    "\n",
    "Example 1:<br>\n",
    "Input: n = 5,m = 5.<br>\n",
    "arr1[] = {1,2,3,4,5}  <br>\n",
    "arr2[] = {2,3,4,4,5}<br>\n",
    "Output: {1,2,3,4,5}<br>\n",
    "Explanation: <br>\n",
    "Common Elements in arr1 and arr2  are:  2,3,4,5<br>\n",
    "Distnict Elements in arr1 are : 1<br>\n",
    "Distnict Elemennts in arr2 are : No distinct elements.<br>\n",
    "Union of arr1 and arr2 is {1,2,3,4,5} \n",
    "\n",
    "Example 2:<br>\n",
    "Input: n = 10,m = 7.<br>\n",
    "arr1[] = {1,2,3,4,5,6,7,8,9,10}<br>\n",
    "arr2[] = {2,3,4,4,5,11,12}<br>\n",
    "Output: {1,2,3,4,5,6,7,8,9,10,11,12}<br>\n",
    "Explanation:<br>\n",
    "Common Elements in arr1 and arr2  are:  2,3,4,5<br>\n",
    "Distnict Elements in arr1 are : 1,6,7,8,9,10<br>\n",
    "Distnict Elemennts in arr2 are : 11,12<br>\n",
    "Union of arr1 and arr2 is {1,2,3,4,5,6,7,8,9,10,11,12}"
   ]
  },
  {
   "cell_type": "code",
   "execution_count": 1,
   "metadata": {},
   "outputs": [],
   "source": [
    "arr1 = [1,2,3,4,5,6,7,8,9,10]\n",
    "arr2 = [2,3,4,4,5,11,12]\n",
    "arr3 = [1,2,3,4,5]\n",
    "arr4 = [2,3,4,4,5]"
   ]
  },
  {
   "cell_type": "code",
   "execution_count": 3,
   "metadata": {},
   "outputs": [
    {
     "name": "stdout",
     "output_type": "stream",
     "text": [
      "[1, 2, 3, 4, 5, 6, 7, 8, 9, 10, 11, 12]\n",
      "[1, 2, 3, 4, 5]\n"
     ]
    }
   ],
   "source": [
    "def ArrayUnion(nums1, nums2):\n",
    "    return list(set(nums1 +nums2))\n",
    "\n",
    "print(ArrayUnion(arr1,arr2))\n",
    "print(ArrayUnion(arr3,arr4))"
   ]
  }
 ],
 "metadata": {
  "kernelspec": {
   "display_name": "Python 3",
   "language": "python",
   "name": "python3"
  },
  "language_info": {
   "codemirror_mode": {
    "name": "ipython",
    "version": 3
   },
   "file_extension": ".py",
   "mimetype": "text/x-python",
   "name": "python",
   "nbconvert_exporter": "python",
   "pygments_lexer": "ipython3",
   "version": "3.12.2"
  }
 },
 "nbformat": 4,
 "nbformat_minor": 2
}
