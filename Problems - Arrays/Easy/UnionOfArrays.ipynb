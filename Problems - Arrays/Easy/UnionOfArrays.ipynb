{
 "cells": [
  {
   "cell_type": "markdown",
   "metadata": {},
   "source": [
    "Union of Two Sorted Arrays\n",
    "\n",
    "Problem Statement: Given two sorted arrays, arr1, and arr2 of size n and m. Find the union of two sorted arrays.\n",
    "\n",
    "The union of two arrays can be defined as the common and distinct elements in the two arrays.NOTE: Elements in the union should be in ascending order.\n",
    "\n",
    "Example 1:<br>\n",
    "Input: n = 5,m = 5.<br>\n",
    "arr1[] = {1,2,3,4,5}  <br>\n",
    "arr2[] = {2,3,4,4,5}<br>\n",
    "Output: {1,2,3,4,5}<br>\n",
    "Explanation: <br>\n",
    "Common Elements in arr1 and arr2  are:  2,3,4,5<br>\n",
    "Distnict Elements in arr1 are : 1<br>\n",
    "Distnict Elemennts in arr2 are : No distinct elements.<br>\n",
    "Union of arr1 and arr2 is {1,2,3,4,5} \n",
    "\n",
    "Example 2:<br>\n",
    "Input: n = 10,m = 7.<br>\n",
    "arr1[] = {1,2,3,4,5,6,7,8,9,10}<br>\n",
    "arr2[] = {2,3,4,4,5,11,12}<br>\n",
    "Output: {1,2,3,4,5,6,7,8,9,10,11,12}<br>\n",
    "Explanation:<br>\n",
    "Common Elements in arr1 and arr2  are:  2,3,4,5<br>\n",
    "Distnict Elements in arr1 are : 1,6,7,8,9,10<br>\n",
    "Distnict Elemennts in arr2 are : 11,12<br>\n",
    "Union of arr1 and arr2 is {1,2,3,4,5,6,7,8,9,10,11,12}"
   ]
  },
  {
   "cell_type": "code",
   "execution_count": 1,
   "metadata": {},
   "outputs": [],
   "source": [
    "arr1 = [1,2,3,4,5,6,7,8,9,10]\n",
    "arr2 = [2,3,4,4,5,11,12]\n",
    "arr3 = [1,2,3,4,5]\n",
    "arr4 = [2,3,4,4,5]"
   ]
  },
  {
   "cell_type": "code",
   "execution_count": 3,
   "metadata": {},
   "outputs": [
    {
     "name": "stdout",
     "output_type": "stream",
     "text": [
      "[1, 2, 3, 4, 5, 6, 7, 8, 9, 10, 11, 12]\n",
      "[1, 2, 3, 4, 5]\n"
     ]
    }
   ],
   "source": [
    "def ArrayUnion(nums1, nums2):\n",
    "    return list(set(nums1 +nums2))\n",
    "\n",
    "print(ArrayUnion(arr1,arr2))\n",
    "print(ArrayUnion(arr3,arr4))"
   ]
  },
  {
   "cell_type": "code",
   "execution_count": 4,
   "metadata": {},
   "outputs": [
    {
     "name": "stdout",
     "output_type": "stream",
     "text": [
      "1 2 3 4 5 6 7 8 9 10 11 12 "
     ]
    }
   ],
   "source": [
    "# Using MAP\n",
    "\n",
    "def find_union(arr1, arr2):\n",
    "    freq = {}\n",
    "    union = []\n",
    "    for num in arr1:\n",
    "        freq[num] = freq.get(num, 0) + 1\n",
    "    for num in arr2:\n",
    "        freq[num] = freq.get(num, 0) + 1\n",
    "    for num in freq:\n",
    "        union.append(num)\n",
    "    return union\n",
    "\n",
    "arr1 = [1, 2, 3, 4, 5, 6, 7, 8, 9, 10]\n",
    "arr2 = [2, 3, 4, 4, 5, 11, 12]\n",
    "union = find_union(arr1, arr2)\n",
    "for num in union:\n",
    "    print(num, end=\" \")"
   ]
  },
  {
   "cell_type": "code",
   "execution_count": 5,
   "metadata": {},
   "outputs": [
    {
     "name": "stdout",
     "output_type": "stream",
     "text": [
      "1 2 3 4 5 6 7 8 9 10 11 12\n"
     ]
    }
   ],
   "source": [
    "# Using SET\n",
    "def find_union(arr1, arr2):\n",
    "    s = set()\n",
    "    union = []\n",
    "    for num in arr1:\n",
    "        s.add(num)\n",
    "    for num in arr2:\n",
    "        s.add(num)\n",
    "    for num in s:\n",
    "        union.append(num)\n",
    "    return union\n",
    "\n",
    "arr1 = [1, 2, 3, 4, 5, 6, 7, 8, 9, 10]\n",
    "arr2 = [2, 3, 4, 4, 5, 11, 12]\n",
    "union = find_union(arr1, arr2)\n",
    "print(*union)"
   ]
  },
  {
   "cell_type": "code",
   "execution_count": 6,
   "metadata": {},
   "outputs": [
    {
     "name": "stdout",
     "output_type": "stream",
     "text": [
      "Union of arr1 and arr2 is:\n",
      "1 2 3 4 5 6 7 8 9 10 11 12\n"
     ]
    }
   ],
   "source": [
    "# Using 2 POINTERS\n",
    "def find_union(arr1, arr2):\n",
    "    i, j = 0, 0\n",
    "    union = []\n",
    "    while i < len(arr1) and j < len(arr2):\n",
    "        if arr1[i] <= arr2[j]:\n",
    "            if len(union) == 0 or union[-1] != arr1[i]:\n",
    "                union.append(arr1[i])\n",
    "            i += 1\n",
    "        else:\n",
    "            if len(union) == 0 or union[-1] != arr2[j]:\n",
    "                union.append(arr2[j])\n",
    "            j += 1\n",
    "    while i < len(arr1):\n",
    "        if union[-1] != arr1[i]:\n",
    "            union.append(arr1[i])\n",
    "        i += 1\n",
    "    while j < len(arr2):\n",
    "        if union[-1] != arr2[j]:\n",
    "            union.append(arr2[j])\n",
    "        j += 1\n",
    "    return union\n",
    "\n",
    "\n",
    "arr1 = [1, 2, 3, 4, 5, 6, 7, 8, 9, 10]\n",
    "arr2 = [2, 3, 4, 4, 5, 11, 12]\n",
    "union = find_union(arr1, arr2)\n",
    "print(\"Union of arr1 and arr2 is:\")\n",
    "print(*union)"
   ]
  },
  {
   "cell_type": "markdown",
   "metadata": {},
   "source": [
    "#### Code360\n",
    "Problem statement<br>\n",
    "Given two sorted arrays, ‘a’ and ‘b’, of size ‘n’ and ‘m’, respectively, return the union of the arrays.\n",
    "\n",
    "The union of two sorted arrays can be defined as an array consisting of the common and the distinct elements of the two arrays. The final array should be sorted in ascending order.\n",
    "\n",
    "Note: 'a' and 'b' may contain duplicate elements, but the union array must contain unique elements.\n",
    "\n",
    "Example:<br>\n",
    "Input: ‘n’ = 5 ‘m’ = 3<br>\n",
    "‘a’ = [1, 2, 3, 4, 6]<br>\n",
    "‘b’ = [2, 3, 5]<br>\n",
    "Output: [1, 2, 3, 4, 5, 6]<br>\n",
    "Explanation: Common elements in ‘a’ and ‘b’ are: [2, 3]<br>\n",
    "Distinct elements in ‘a’ are: [1, 4, 6]<br>\n",
    "Distinct elements in ‘b’ are: [5]<br>\n",
    "Union of ‘a’ and ‘b’ is: [1, 2, 3, 4, 5, 6]\n",
    "\n",
    "Detailed explanation ( Input/output format, Notes, Images )<br>\n",
    "Sample Input 1 :<br>\n",
    "5 3<br>\n",
    "1 2 3 4 6<br>\n",
    "2 3 5<br>\n",
    "Sample Output 1 :<br>\n",
    "1 2 3 4 5 6<br>\n",
    "\n",
    "Explanation Of Sample Input 1 :<br>\n",
    "Input: ‘n’ = 5 ‘m’ = 3<br>\n",
    "‘a’ = [1, 2, 3, 4, 6]<br>\n",
    "‘b’ = [2, 3, 5]<br>\n",
    "Output: [1, 2, 3, 4, 5, 6]<br>\n",
    "Explanation: Common elements in ‘a’ and ‘b’ are: [2, 3]<br>\n",
    "Distinct elements in ‘a’ are: [1, 4, 6]<br>\n",
    "Distinct elements in ‘b’ are: [5]<br>\n",
    "Union of ‘a’ and ‘b’ is: [1, 2, 3, 4, 5, 6]\n",
    "\n",
    "Sample Input 2:<br>\n",
    "4 3<br>\n",
    "1 2 3 3<br>\n",
    "2 2 4<br>\n",
    "Sample Output 2:<br>\n",
    "1 2 3 4<br>\n",
    "Explanation Of Sample Input 2 :<br>\n",
    "Input: ‘n’ = 5 ‘m’ = 3<br>\n",
    "‘a’ = [1, 2, 3, 3]<br>\n",
    "‘b’ = [2, 2, 4]<br>\n",
    "Output: [1, 2, 3, 4]<br>\n",
    "Explanation: Common elements in ‘a’ and ‘b’ are: [2]<br>\n",
    "Distinct elements in ‘a’ are: [1, 3]<br>\n",
    "Distinct elements in ‘b’ are: [4]<br>\n",
    "Union of ‘a’ and ‘b’ is: [1, 2, 3, 4]\n",
    "\n",
    "Expected Time Complexity: O(( N + M )), where 'N' and ‘M’ are the sizes of Array ‘A’ and ‘B’.\n",
    "\n",
    "Constraints :<br>\n",
    "1 <= 'n', 'm' <= 10^5<br>\n",
    "-10^9 <= 'a'[i], 'b'[i] <= 10^9\n",
    "\n",
    "Time Limit: 1 sec"
   ]
  },
  {
   "cell_type": "code",
   "execution_count": 7,
   "metadata": {},
   "outputs": [],
   "source": [
    "def sortedArray(a: [int], b: [int]) -> [int]:\n",
    "    # Write your code here\n",
    "    return sorted(set(a+b))"
   ]
  },
  {
   "cell_type": "markdown",
   "metadata": {},
   "source": [
    "### GFG\n",
    "Given two sorted arrays a[] and b[], where each array may contain duplicate elements , the task is to return the elements in the union of the two arrays in sorted order.\n",
    "\n",
    "Union of two arrays can be defined as the set containing distinct common elements that are present in either of the arrays.\n",
    "Examples:\n",
    "\n",
    "Input: a[] = [1, 2, 3, 4, 5], b[] = [1, 2, 3, 6, 7]<br>\n",
    "Output: 1 2 3 4 5 6 7<br>\n",
    "Explanation: Distinct elements including both the arrays are: 1 2 3 4 5 6 7.\n",
    "\n",
    "Input: a[] = [2, 2, 3, 4, 5], b[] = [1, 1, 2, 3, 4]<br>\n",
    "Output: 1 2 3 4 5<br>\n",
    "Explanation: Distinct elements including both the arrays are: 1 2 3 4 5.\n",
    "\n",
    "Input: a[] = [1, 1, 1, 1, 1], b[] = [2, 2, 2, 2, 2]<br>\n",
    "Output: 1 2<br>\n",
    "Explanation: Distinct elements including both the arrays are: 1 2.\n",
    "\n",
    "Constraints:<br>\n",
    "1  <=  a.size(), b.size()  <=  105<br>\n",
    "-109  <=  a[i] , b[i]  <=  109"
   ]
  },
  {
   "cell_type": "code",
   "execution_count": 8,
   "metadata": {},
   "outputs": [],
   "source": [
    "class Solution:\n",
    "    \n",
    "    #Function to return a list containing the union of the two arrays.\n",
    "    def findUnion(self,a,b):\n",
    "        # code here \n",
    "        return sorted(set(a+b))"
   ]
  }
 ],
 "metadata": {
  "kernelspec": {
   "display_name": "Python 3",
   "language": "python",
   "name": "python3"
  },
  "language_info": {
   "codemirror_mode": {
    "name": "ipython",
    "version": 3
   },
   "file_extension": ".py",
   "mimetype": "text/x-python",
   "name": "python",
   "nbconvert_exporter": "python",
   "pygments_lexer": "ipython3",
   "version": "3.12.2"
  }
 },
 "nbformat": 4,
 "nbformat_minor": 2
}
