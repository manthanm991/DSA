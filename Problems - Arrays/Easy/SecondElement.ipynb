{
 "cells": [
  {
   "cell_type": "markdown",
   "metadata": {},
   "source": [
    "Find Second Smallest and Second Largest Element in an array\n",
    "\n",
    "Problem Statement: Given an array, find the second smallest and second largest element in the array. Print ‘-1’ in the event that either of them doesn’t exist.\n",
    "\n",
    "Example 1:<br>\n",
    "Input: [1,2,4,7,7,5]<br>\n",
    "Output: Second Smallest : 2\tSecond Largest : 5<br>\n",
    "Explanation: The elements are as follows 1,2,3,5,7,7 and hence second largest of these is 5 and second smallest is 2\n",
    "\n",
    "Example 2:<br>\n",
    "Input: [1]<br>\n",
    "Output: Second Smallest : -1\tSecond Largest : -1<br>\n",
    "Explanation: Since there is only one element in the array, it is the largest and smallest element present in the array. There is no second largest or second smallest element present."
   ]
  },
  {
   "cell_type": "markdown",
   "metadata": {},
   "source": [
    "### Code360\n",
    "Problem statement\n",
    "You have been given an array ‘a’ of ‘n’ unique non-negative integers. Find the second largest and second smallest element from the array. Return the two elements (second largest and second smallest) as another array of size 2.\n",
    "\n",
    "Example :<br>\n",
    "Input: ‘n’ = 5, ‘a’ = [1, 2, 3, 4, 5]<br>\n",
    "Output: [4, 2]<br>\n",
    "The second largest element after 5 is 4, and the second smallest element after 1 is 2.<br>\n",
    "Detailed explanation ( Input/output format, Notes, Images )<br>\n",
    "Sample Input 1 :<br>\n",
    "4<br>\n",
    "3 4 5 2<br>\n",
    "Sample Output 1 : 4 3<br>\n",
    "Explanation For Sample Input 1 : The second largest element after 5 is 4 only, and the second smallest element after 2 is 3.\n",
    "\n",
    "Sample Input 2 :<br>\n",
    "5<br>\n",
    "4 5 3 6 7<br>\n",
    "Sample Output 2 : 6 4\n",
    "\n",
    "Expected Time Complexity: O(n), Where ‘n’ is the size of an input array ‘a’.\n",
    "\n",
    "Constraints:<br>\n",
    "2 ≤ 'n' ≤ 10^5<br>\n",
    "0 ≤ 'a'[i] ≤ 10^9\n",
    "\n",
    "Time limit: 1 sec\n",
    "\n",
    "Hints:<br>\n",
    "1. Sort the array.<br>\n",
    "2. More efficiently, can you use the largest and smallest elements to find the required elements?"
   ]
  },
  {
   "cell_type": "code",
   "execution_count": 1,
   "metadata": {},
   "outputs": [
    {
     "name": "stdout",
     "output_type": "stream",
     "text": [
      "[2, 4]\n"
     ]
    }
   ],
   "source": [
    "def SecondOrderElement_1(arr):\n",
    "    arr = list(set(arr))\n",
    "    arr.sort()\n",
    "    if len(arr)==1:\n",
    "        return -1\n",
    "    else:\n",
    "        return [arr[1],arr[-2]]\n",
    "arr = [1,2,3,4,5]\n",
    "print(SecondOrderElement_1(arr))"
   ]
  },
  {
   "cell_type": "markdown",
   "metadata": {},
   "source": [
    "Given an array of positive integers arr[], return the second largest element from the array. If the second largest element doesn't exist then return -1.\n",
    "\n",
    "Note: The second largest element should not be equal to the largest element.\n",
    "\n",
    "Examples:<br>\n",
    "Input: arr[] = [12, 35, 1, 10, 34, 1]<br>\n",
    "Output: 34<br>\n",
    "Explanation: The largest element of the array is 35 and the second largest element is 34.\n",
    "\n",
    "Input: arr[] = [10, 5, 10]<br>\n",
    "Output: 5<br>\n",
    "Explanation: The largest element of the array is 10 and the second largest element is 5.\n",
    "\n",
    "Input: arr[] = [10, 10, 10]<br>\n",
    "Output: -1<br>\n",
    "Explanation: The largest element of the array is 10 and the second largest element does not exist.\n",
    "\n",
    "Constraints:\n",
    "2 ≤ arr.size() ≤ 105\n",
    "1 ≤ arr[i] ≤ 105"
   ]
  },
  {
   "cell_type": "code",
   "execution_count": 1,
   "metadata": {},
   "outputs": [
    {
     "name": "stdout",
     "output_type": "stream",
     "text": [
      "5\n"
     ]
    }
   ],
   "source": [
    "def SecondLargest(arr):\n",
    "    arr = list(set(arr))\n",
    "    arr.sort()\n",
    "    if len(arr)==1:\n",
    "        return -1\n",
    "    else:\n",
    "        return arr[-2]\n",
    "arr = [12,35,1,10,34,1]\n",
    "arr = [10,10,10]\n",
    "arr = [10,5,10]\n",
    "print(SecondLargest(arr))"
   ]
  }
 ],
 "metadata": {
  "kernelspec": {
   "display_name": "Python 3",
   "language": "python",
   "name": "python3"
  },
  "language_info": {
   "codemirror_mode": {
    "name": "ipython",
    "version": 3
   },
   "file_extension": ".py",
   "mimetype": "text/x-python",
   "name": "python",
   "nbconvert_exporter": "python",
   "pygments_lexer": "ipython3",
   "version": "3.12.2"
  }
 },
 "nbformat": 4,
 "nbformat_minor": 2
}
