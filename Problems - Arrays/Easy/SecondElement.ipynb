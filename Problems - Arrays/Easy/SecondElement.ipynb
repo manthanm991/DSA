{
 "cells": [
  {
   "cell_type": "markdown",
   "metadata": {},
   "source": [
    "Find Second Smallest and Second Largest Element in an array\n",
    "\n",
    "Problem Statement: Given an array, find the second smallest and second largest element in the array. Print ‘-1’ in the event that either of them doesn’t exist.\n",
    "\n",
    "Example 1:<br>\n",
    "Input: [1,2,4,7,7,5]<br>\n",
    "Output: Second Smallest : 2\tSecond Largest : 5<br>\n",
    "Explanation: The elements are as follows 1,2,3,5,7,7 and hence second largest of these is 5 and second smallest is 2\n",
    "\n",
    "Example 2:<br>\n",
    "Input: [1]<br>\n",
    "Output: Second Smallest : -1\tSecond Largest : -1<br>\n",
    "Explanation: Since there is only one element in the array, it is the largest and smallest element present in the array. There is no second largest or second smallest element present."
   ]
  },
  {
   "cell_type": "code",
   "execution_count": 1,
   "metadata": {},
   "outputs": [
    {
     "name": "stdout",
     "output_type": "stream",
     "text": [
      "[2, 4]\n"
     ]
    }
   ],
   "source": [
    "def SecondOrderElement_1(arr):\n",
    "    arr = list(set(arr))\n",
    "    arr.sort()\n",
    "    if len(arr)==1:\n",
    "        return -1\n",
    "    else:\n",
    "        return [arr[1],arr[-2]]\n",
    "arr = [1,2,3,4,5]\n",
    "print(SecondOrderElement_1(arr))"
   ]
  },
  {
   "cell_type": "code",
   "execution_count": null,
   "metadata": {},
   "outputs": [],
   "source": []
  }
 ],
 "metadata": {
  "kernelspec": {
   "display_name": "Python 3",
   "language": "python",
   "name": "python3"
  },
  "language_info": {
   "codemirror_mode": {
    "name": "ipython",
    "version": 3
   },
   "file_extension": ".py",
   "mimetype": "text/x-python",
   "name": "python",
   "nbconvert_exporter": "python",
   "pygments_lexer": "ipython3",
   "version": "3.12.2"
  }
 },
 "nbformat": 4,
 "nbformat_minor": 2
}
