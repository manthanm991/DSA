{
 "cells": [
  {
   "cell_type": "markdown",
   "metadata": {},
   "source": [
    "Problem Statement: You are given an array of integers, your task is to move all the zeros in the array to the end of the array and move non-negative integers to the front by maintaining their order.\n",
    "\n",
    "Example 1:<br>\n",
    "Input: 1 ,0 ,2 ,3 ,0 ,4 ,0 ,1<br>\n",
    "Output: 1 ,2 ,3 ,4 ,1 ,0 ,0 ,0<br>\n",
    "Explanation: All the zeros are moved to the end and non-negative integers are moved to front by maintaining order\n",
    "\n",
    "Example 2:<br>\n",
    "Input: 1,2,0,1,0,4,0<br>\n",
    "Output: 1,2,1,4,0,0,0<br>\n",
    "Explanation: All the zeros are moved to the end and non-negative integers are moved to front by maintaining order"
   ]
  },
  {
   "cell_type": "code",
   "execution_count": 1,
   "metadata": {},
   "outputs": [
    {
     "name": "stdout",
     "output_type": "stream",
     "text": [
      "[1, 2, 3, 4, 1, 0, 0, 0]\n",
      "[1, 0, 0, 0]\n"
     ]
    }
   ],
   "source": [
    "def ZeroAtEnd(nums):\n",
    "    while True:\n",
    "        swap = False\n",
    "        for i in range(len(nums)-1):\n",
    "            if nums[i] == 0 and nums[i + 1] != 0:\n",
    "                nums[i], nums[i+1] = nums[i+1], nums[i]\n",
    "                swap = True\n",
    "        if not swap:\n",
    "            break\n",
    "    return nums\n",
    "\n",
    "print(ZeroAtEnd([1,0,2,3,0,4,0,1]))\n",
    "print(ZeroAtEnd([0,0,0,1]))"
   ]
  },
  {
   "cell_type": "code",
   "execution_count": 2,
   "metadata": {},
   "outputs": [
    {
     "name": "stdout",
     "output_type": "stream",
     "text": [
      "1 2 3 2 4 5 1 0 0 0 \n"
     ]
    }
   ],
   "source": [
    "def moveZeros(n,  a):\n",
    "    j = -1\n",
    "    for i in range(n):\n",
    "        if a[i] == 0:\n",
    "            j = i\n",
    "            break\n",
    "    \n",
    "    if j == -1:\n",
    "        return a\n",
    "    \n",
    "    for i in range(j + 1, n):\n",
    "        if a[i] != 0:\n",
    "            a[i], a[j] = a[j], a[i]\n",
    "            j += 1    \n",
    "    return a\n",
    "\n",
    "arr = [1, 0, 2, 3, 2, 0, 0, 4, 5, 1]\n",
    "n = 10\n",
    "ans = moveZeros(n, arr)\n",
    "for it in ans:\n",
    "    print(it, end=' ')\n",
    "print()"
   ]
  },
  {
   "cell_type": "code",
   "execution_count": null,
   "metadata": {},
   "outputs": [],
   "source": []
  }
 ],
 "metadata": {
  "kernelspec": {
   "display_name": "Python 3",
   "language": "python",
   "name": "python3"
  },
  "language_info": {
   "codemirror_mode": {
    "name": "ipython",
    "version": 3
   },
   "file_extension": ".py",
   "mimetype": "text/x-python",
   "name": "python",
   "nbconvert_exporter": "python",
   "pygments_lexer": "ipython3",
   "version": "3.12.2"
  }
 },
 "nbformat": 4,
 "nbformat_minor": 2
}
