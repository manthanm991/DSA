{
 "cells": [
  {
   "cell_type": "markdown",
   "metadata": {},
   "source": [
    "Problem Statement: Given an array, and an element num the task is to find if num is present in the given array or not. If present print the index of the element or print -1.\n",
    "\n",
    "Example 1:<br>\n",
    "Input: arr[]= 1 2 3 4 5, num = 3<br>\n",
    "Output: 2<br>\n",
    "Explanation: 3 is present in the 2nd index\n",
    "\n",
    "Example 2:<br>\n",
    "Input: arr[]= 5 4 3 2 1, num = 5<br>\n",
    "Output: 0<br>\n",
    "Explanation: 5 is present in the 0th index"
   ]
  },
  {
   "cell_type": "code",
   "execution_count": 1,
   "metadata": {},
   "outputs": [
    {
     "name": "stdout",
     "output_type": "stream",
     "text": [
      "2\n",
      "0\n"
     ]
    }
   ],
   "source": [
    "def LinearSearch(nums, k):\n",
    "    for i in range(len(nums)):\n",
    "        if nums[i] == k:\n",
    "            return i        \n",
    "    return -1\n",
    "\n",
    "print(LinearSearch([1,2,3,4,5], 3))\n",
    "print(LinearSearch([5,4,3,2,1], 5))"
   ]
  },
  {
   "cell_type": "markdown",
   "metadata": {},
   "source": [
    "Given an array, arr[] sorted in ascending order and an integer k. Return true if k is present in the array, otherwise, false.\n",
    "\n",
    "Examples:\n",
    "\n",
    "Input: arr[] = [1, 2, 3, 4, 6], k = 6<br>\n",
    "Output: true<br>\n",
    "Exlpanation: Since, 6 is present in the array at index 4 (0-based indexing), output is true.\n",
    "\n",
    "Input: arr[] = [1, 2, 4, 5, 6], k = 3<br>\n",
    "Output: false<br>\n",
    "Exlpanation: Since, 3 is not present in the array, output is false.\n",
    "\n",
    "Input: arr[] = [2, 3, 5, 6], k = 1<br>\n",
    "Output: false\n",
    "\n",
    "Constraints:<br>\n",
    "1 <= arr.size() <= 106<br>\n",
    "1 <= k <= 106<br>\n",
    "1 <= arr[i] <= 106"
   ]
  },
  {
   "cell_type": "code",
   "execution_count": 2,
   "metadata": {},
   "outputs": [],
   "source": [
    "class Solution:\n",
    "    ##Complete this function\n",
    "    def searchInSorted(self,arr, k):\n",
    "        #Your code herdef LinearSearch(nums, k):\n",
    "        for i in range(len(arr)):\n",
    "            if arr[i] == k:\n",
    "                return True        \n",
    "        return False"
   ]
  }
 ],
 "metadata": {
  "kernelspec": {
   "display_name": "Python 3",
   "language": "python",
   "name": "python3"
  },
  "language_info": {
   "codemirror_mode": {
    "name": "ipython",
    "version": 3
   },
   "file_extension": ".py",
   "mimetype": "text/x-python",
   "name": "python",
   "nbconvert_exporter": "python",
   "pygments_lexer": "ipython3",
   "version": "3.12.2"
  }
 },
 "nbformat": 4,
 "nbformat_minor": 2
}
