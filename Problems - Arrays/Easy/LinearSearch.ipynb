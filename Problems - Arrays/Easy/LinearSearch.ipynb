{
 "cells": [
  {
   "cell_type": "markdown",
   "metadata": {},
   "source": [
    "Problem Statement: Given an array, and an element num the task is to find if num is present in the given array or not. If present print the index of the element or print -1.\n",
    "\n",
    "Example 1:<br>\n",
    "Input: arr[]= 1 2 3 4 5, num = 3<br>\n",
    "Output: 2<br>\n",
    "Explanation: 3 is present in the 2nd index\n",
    "\n",
    "Example 2:<br>\n",
    "Input: arr[]= 5 4 3 2 1, num = 5<br>\n",
    "Output: 0<br>\n",
    "Explanation: 5 is present in the 0th index"
   ]
  },
  {
   "cell_type": "code",
   "execution_count": 1,
   "metadata": {},
   "outputs": [
    {
     "name": "stdout",
     "output_type": "stream",
     "text": [
      "2\n",
      "0\n"
     ]
    }
   ],
   "source": [
    "def LinearSearch(nums, k):\n",
    "    for i in range(len(nums)):\n",
    "        if nums[i] == k:\n",
    "            return i        \n",
    "    return -1\n",
    "\n",
    "print(LinearSearch([1,2,3,4,5], 3))\n",
    "print(LinearSearch([5,4,3,2,1], 5))"
   ]
  },
  {
   "cell_type": "code",
   "execution_count": null,
   "metadata": {},
   "outputs": [],
   "source": []
  }
 ],
 "metadata": {
  "kernelspec": {
   "display_name": "Python 3",
   "language": "python",
   "name": "python3"
  },
  "language_info": {
   "codemirror_mode": {
    "name": "ipython",
    "version": 3
   },
   "file_extension": ".py",
   "mimetype": "text/x-python",
   "name": "python",
   "nbconvert_exporter": "python",
   "pygments_lexer": "ipython3",
   "version": "3.12.2"
  }
 },
 "nbformat": 4,
 "nbformat_minor": 2
}
