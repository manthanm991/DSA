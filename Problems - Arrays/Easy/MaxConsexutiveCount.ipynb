{
 "cells": [
  {
   "cell_type": "markdown",
   "metadata": {},
   "source": [
    "#### Count Maximum Consecutive One's in the array\n",
    "Problem Statement: Given an array that contains only 1 and 0 return the count of maximum consecutive ones in the array.\n",
    "\n",
    "Examples:<br>\n",
    "Example 1:<br>\n",
    "Input: prices = {1, 1, 0, 1, 1, 1}<br>\n",
    "Output: 3<br>\n",
    "Explanation: There are two consecutive 1’s and three consecutive 1’s in the array out of which maximum is 3.\n",
    "\n",
    "Input: prices = {1, 0, 1, 1, 0, 1} <br>\n",
    "Output: 2<br>\n",
    "Explanation: There are two consecutive 1's in the array."
   ]
  },
  {
   "cell_type": "code",
   "execution_count": 1,
   "metadata": {},
   "outputs": [
    {
     "name": "stdout",
     "output_type": "stream",
     "text": [
      "3\n",
      "2\n"
     ]
    }
   ],
   "source": [
    "def MaxConsecutiveOnes(arr):\n",
    "    max_count = 0\n",
    "    count = 0\n",
    "    for i in range(len(arr)):\n",
    "        if arr[i] == 1:\n",
    "            count += 1\n",
    "        else:\n",
    "            count = 0\n",
    "        max_count = max(max_count, count)\n",
    "    return max_count\n",
    "\n",
    "print(MaxConsecutiveOnes([1,1,0,1,1,1]))\n",
    "print(MaxConsecutiveOnes([1,0,1,1,0,1]))"
   ]
  }
 ],
 "metadata": {
  "kernelspec": {
   "display_name": "Python 3",
   "language": "python",
   "name": "python3"
  },
  "language_info": {
   "codemirror_mode": {
    "name": "ipython",
    "version": 3
   },
   "file_extension": ".py",
   "mimetype": "text/x-python",
   "name": "python",
   "nbconvert_exporter": "python",
   "pygments_lexer": "ipython3",
   "version": "3.12.2"
  }
 },
 "nbformat": 4,
 "nbformat_minor": 2
}
