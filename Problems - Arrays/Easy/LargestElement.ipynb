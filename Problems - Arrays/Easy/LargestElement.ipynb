{
 "cells": [
  {
   "cell_type": "markdown",
   "metadata": {},
   "source": [
    "Find the Largest element in an array\n",
    "\n",
    "Problem Statement: Given an array, we have to find the largest element in the array.\n",
    "\n",
    "Example 1:<br>\n",
    "Input: arr[] = {2,5,1,3,0};<br>\n",
    "Output: 5<br>\n",
    "Explanation: 5 is the largest element in the array. \n",
    "\n",
    "Example2:<br>\n",
    "Input: arr[] = {8,10,5,7,9};<br>\n",
    "Output: 10<br>\n",
    "Explanation: 10 is the largest element in the array. "
   ]
  },
  {
   "cell_type": "code",
   "execution_count": 1,
   "metadata": {},
   "outputs": [
    {
     "name": "stdout",
     "output_type": "stream",
     "text": [
      "5\n"
     ]
    }
   ],
   "source": [
    "def LargestElement_1(arr):\n",
    "    return max(arr)\n",
    "\n",
    "arr = [2,5,1,3,0]\n",
    "print(LargestElement_1(arr))"
   ]
  },
  {
   "cell_type": "code",
   "execution_count": null,
   "metadata": {},
   "outputs": [],
   "source": [
    "def LargestElement_3(arr):\n",
    "    arr.sort()\n",
    "    return arr[-1]\n",
    "\n",
    "print(LargestElement_3(arr))"
   ]
  },
  {
   "cell_type": "code",
   "execution_count": 3,
   "metadata": {},
   "outputs": [
    {
     "name": "stdout",
     "output_type": "stream",
     "text": [
      "10\n"
     ]
    }
   ],
   "source": [
    "def LargestElement_2(arr):\n",
    "    max_ = 0\n",
    "    for i in range(len(arr)):\n",
    "        if arr[i] > max_:\n",
    "            max_ = arr[i]\n",
    "    return max_\n",
    "\n",
    "arr = [8,10,5,7,9]\n",
    "print(LargestElement_2(arr))"
   ]
  }
 ],
 "metadata": {
  "kernelspec": {
   "display_name": "Python 3",
   "language": "python",
   "name": "python3"
  },
  "language_info": {
   "codemirror_mode": {
    "name": "ipython",
    "version": 3
   },
   "file_extension": ".py",
   "mimetype": "text/x-python",
   "name": "python",
   "nbconvert_exporter": "python",
   "pygments_lexer": "ipython3",
   "version": "3.12.2"
  }
 },
 "nbformat": 4,
 "nbformat_minor": 2
}
