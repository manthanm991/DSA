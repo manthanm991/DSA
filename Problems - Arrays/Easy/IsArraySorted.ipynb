{
 "cells": [
  {
   "cell_type": "markdown",
   "metadata": {},
   "source": [
    "Check if an Array is Sorted\n",
    "\n",
    "Problem Statement: Given an array of size n, write a program to check if the given array is sorted in (ascending / Increasing / Non-decreasing) order or not. If the array is sorted then return True, Else return False.\n",
    "\n",
    "Note: Two consecutive equal values are considered to be sorted.\n",
    "\n",
    "Example 1:<br>\n",
    "Input: N = 5, array[] = {1,2,3,4,5}<br>\n",
    "Output: True.<br>\n",
    "Explanation: The given array is sorted i.e Every element in the array is smaller than or equals to its next values, So the answer is True.\n",
    "\n",
    "<figure>\n",
    "<img src = \"IMG -3\\3.1.png\" width=\"300px\" height = \"300px\">\n",
    "<figure><br>\n",
    "Example 2:<br>\n",
    "Input: N = 5, array[] = {5,4,6,7,8}<br>\n",
    "Output: False.<br>\n",
    "Explanation: The given array is Not sorted i.e Every element in the array is not smaller than or equal to its next values, So the answer is False.\n",
    "\n",
    "Here element 5 is not smaller than or equal to its future elements.\n",
    "<figure>\n",
    "<img src = \"IMG -3\\3.2.png\" width=\"300px\" height = \"300px\">\n",
    "<figure>"
   ]
  },
  {
   "cell_type": "code",
   "execution_count": 1,
   "metadata": {},
   "outputs": [
    {
     "name": "stdout",
     "output_type": "stream",
     "text": [
      "True\n",
      "False\n"
     ]
    }
   ],
   "source": [
    "def isSorted(arr):\n",
    "    arr1 = arr.copy()\n",
    "    arr1.sort()\n",
    "    if arr == arr1:\n",
    "        return True\n",
    "    else:\n",
    "        return False\n",
    "    \n",
    "arr = [1,2,3,4,5]\n",
    "arr1 = [5,4,6,7,8]\n",
    "print(isSorted(arr))\n",
    "print(isSorted(arr1))\n",
    "\n",
    "# Time Complexity: O(n log n)\n",
    "# Space Complexity: O(n)"
   ]
  }
 ],
 "metadata": {
  "kernelspec": {
   "display_name": "Python 3",
   "language": "python",
   "name": "python3"
  },
  "language_info": {
   "codemirror_mode": {
    "name": "ipython",
    "version": 3
   },
   "file_extension": ".py",
   "mimetype": "text/x-python",
   "name": "python",
   "nbconvert_exporter": "python",
   "pygments_lexer": "ipython3",
   "version": "3.12.2"
  }
 },
 "nbformat": 4,
 "nbformat_minor": 2
}
